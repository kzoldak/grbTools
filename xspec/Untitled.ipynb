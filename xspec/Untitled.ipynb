{
 "cells": [
  {
   "cell_type": "code",
   "execution_count": 59,
   "metadata": {},
   "outputs": [],
   "source": [
    "parameters = [[-1.2, -2.5, 500.0, 0.01], [52.7, 0.021], [-1.0, 0.05]]"
   ]
  },
  {
   "cell_type": "raw",
   "metadata": {},
   "source": [
    "parameters = [1,2,3]"
   ]
  },
  {
   "cell_type": "code",
   "execution_count": 42,
   "metadata": {},
   "outputs": [],
   "source": [
    "modelname = 'grbm+bbody+lpow'"
   ]
  },
  {
   "cell_type": "code",
   "execution_count": 51,
   "metadata": {},
   "outputs": [],
   "source": [
    "parameters = [[-1.2, -2.5, 500.0, 0.01], 52.7, [-1.0, 0.05]]"
   ]
  },
  {
   "cell_type": "code",
   "execution_count": 60,
   "metadata": {},
   "outputs": [],
   "source": [
    "are_nested = [isinstance(sub, list) for sub in parameters]  # all will be True if nested list."
   ]
  },
  {
   "cell_type": "code",
   "execution_count": 61,
   "metadata": {},
   "outputs": [
    {
     "data": {
      "text/plain": [
       "[True, True, True]"
      ]
     },
     "execution_count": 61,
     "metadata": {},
     "output_type": "execute_result"
    }
   ],
   "source": [
    "are_nested"
   ]
  },
  {
   "cell_type": "code",
   "execution_count": 63,
   "metadata": {},
   "outputs": [
    {
     "data": {
      "text/plain": [
       "(True, True)"
      ]
     },
     "execution_count": 63,
     "metadata": {},
     "output_type": "execute_result"
    }
   ],
   "source": [
    "all(are_nested), any(are_nested)"
   ]
  },
  {
   "cell_type": "code",
   "execution_count": null,
   "metadata": {},
   "outputs": [],
   "source": []
  },
  {
   "cell_type": "code",
   "execution_count": 64,
   "metadata": {},
   "outputs": [
    {
     "name": "stdout",
     "output_type": "stream",
     "text": [
      "a\n"
     ]
    }
   ],
   "source": [
    "are_nested = [isinstance(sub, list) for sub in parameters]  # all will be True if nested list.\n",
    "\n",
    "# any throws a False if you forget [] around a set of parameters. So use all to catch those mistakes.\n",
    "if len(modelname.split('+')) > 1 and all(are_nested):\n",
    "    # everything is fine\n",
    "    print('a')\n",
    "elif len(modelname.split('+')) > 1 and not all(are_nested):\n",
    "    msg = '''Make sure you are passing nested lists for additive models. \n",
    "    E.g., [[-1.25, -2.56, 500.0, 0.012], [51.8, 0.23]]'''\n",
    "    raise Exception(msg)\n",
    "else:\n",
    "    # you must have a single model component.\n",
    "    pass"
   ]
  },
  {
   "cell_type": "code",
   "execution_count": 38,
   "metadata": {},
   "outputs": [],
   "source": [
    "p = [1,2,3]"
   ]
  },
  {
   "cell_type": "code",
   "execution_count": 39,
   "metadata": {},
   "outputs": [
    {
     "data": {
      "text/plain": [
       "[False, False, False]"
      ]
     },
     "execution_count": 39,
     "metadata": {},
     "output_type": "execute_result"
    }
   ],
   "source": [
    "[isinstance(sub, list) for sub in p]"
   ]
  },
  {
   "cell_type": "code",
   "execution_count": null,
   "metadata": {},
   "outputs": [],
   "source": []
  },
  {
   "cell_type": "code",
   "execution_count": null,
   "metadata": {},
   "outputs": [],
   "source": []
  },
  {
   "cell_type": "code",
   "execution_count": 32,
   "metadata": {},
   "outputs": [
    {
     "data": {
      "text/plain": [
       "True"
      ]
     },
     "execution_count": 32,
     "metadata": {},
     "output_type": "execute_result"
    }
   ],
   "source": [
    "any(isinstance(sub, list) for sub in p) "
   ]
  },
  {
   "cell_type": "code",
   "execution_count": null,
   "metadata": {},
   "outputs": [],
   "source": []
  },
  {
   "cell_type": "code",
   "execution_count": 26,
   "metadata": {},
   "outputs": [
    {
     "data": {
      "text/plain": [
       "False"
      ]
     },
     "execution_count": 26,
     "metadata": {},
     "output_type": "execute_result"
    }
   ],
   "source": [
    "res"
   ]
  },
  {
   "cell_type": "code",
   "execution_count": null,
   "metadata": {},
   "outputs": [],
   "source": []
  },
  {
   "cell_type": "code",
   "execution_count": null,
   "metadata": {},
   "outputs": [],
   "source": [
    "from __future__ import division\n",
    "from collections import OrderedDict\n",
    "from scipy import integrate\n",
    "from math import pi\n",
    "import numpy as np\n",
    "\n",
    "from .models import *\n",
    "\n",
    "class XspecEnergetics(object):\n",
    "    def __init__(self, modelname=None, parameters=None, emin=None, emax=None, redshift=None, photonflux=False):\n",
    "        self.modelname = modelname\n",
    "        self.parameters = parameters\n",
    "        self.emin = emin\n",
    "        self.emax = emax\n",
    "        self.redshift = redshift\n",
    "        self.photonflux = photonflux \n",
    "        self.model_options = 'grbm sbpl cutoffpl bbody lpow powerlaw'.split()\n",
    "        \n",
    "        if modelname not in self.model_options:\n",
    "            msg = \"'modelname' must be one of following: %r\"%self.model_options\n",
    "            raise Exception(msg)\n",
    "          \n",
    "\n",
    "    def calc_flux(self, modelname=None, parameters=None, duration=None, emin=None, emax=None, redshift=None, \n",
    "        photonflux=False, program='general'):\n",
    "        XspecEnergetics.__init__(modelname, parameters, duration, emin, emax, redshift, program='general')\n",
    "        \n",
    "        keVtoerg = 1.60217657E-9\n",
    "\n",
    "        if redshift is not None:\n",
    "            emin = emin/(1.+redshift)\n",
    "            emax = emax/(1.+redshift)\n",
    "        else:\n",
    "            msg2 = ('''\n",
    "                     *** WARNING: *** \n",
    "                     You are using observer-frame fluxes. \n",
    "                     Eiso requires rest-frame fluxes. Please pass a redshift if computing Eiso.\n",
    "                     ''')\n",
    "            print(msg2)\n",
    "\n",
    "        if isinstance(parameters, dict) is False:\n",
    "            raise Exception(\"'parameters' must be of dictionary type.\")\n",
    "\n",
    "        model_parts = model.split('+')\n",
    "        totalFlux = []\n",
    "        \n",
    "        # Each model component's flux is computed separately and then summed. \n",
    "        for m in model_parts:\n",
    "            # parlst - list of parameter values in order that funciton needs them to be. \n",
    "            pars = parameters[m].values()\n",
    "            func = 'lambda x,values: x * %s(x, *values)'%(m) # x - energy\n",
    "            func = eval(func)\n",
    "            flux = integrate.quad(func, emin, emax, args=(pars), limit=100)[0]\n",
    "            if photonflux is True:\n",
    "                totalFlux.append(flux)\n",
    "            else:\n",
    "                totalFlux.append(flux*keVtoerg)  # energy flux, convert keV to erg.\n",
    "        return np.sum(totalFlux)\n",
    "\n",
    "    def calc_fluence(self, modelname=None, parameters=None, duration=None, emin=None, emax=None, redshift=None, \n",
    "        photonflux=False, program='general'):\n",
    "        flux = calc_flux(modelname, parameters, emin, emax, redshift, photonflux)\n",
    "        fluence = flux * duration\n",
    "        return fluence \n",
    "\n",
    "    def calc_eiso(self, modelname=None, parameters=None, duration=None, emin=None, emax=None, \n",
    "                  redshift=None, program='general'):\n",
    "        if modelname and parameters and duration and emin and emax and redshift:\n",
    "            # Nothing ran yet, so must pass them. \n",
    "            Energetics.__init__(modelname, parameters, duration, emin, emax, redshift, program='general')\n",
    "        \n",
    "        fluence = self.calc_fluence(modelname, parameters, duration, emin, emax, \n",
    "            redshift, photonflux=False)\n",
    "        DL = LumDist(redshift)\n",
    "        eiso = (4.0*pi*pow(DL,2)*fluence)/(1.+redshift)\n",
    "        return eiso\n",
    "\n",
    "\n",
    "        \n"
   ]
  },
  {
   "cell_type": "code",
   "execution_count": 2,
   "metadata": {},
   "outputs": [],
   "source": [
    "modelname=None\n",
    "parameters=None\n",
    "emin=None\n",
    "emax=None\n",
    "redshift=None"
   ]
  },
  {
   "cell_type": "code",
   "execution_count": 10,
   "metadata": {},
   "outputs": [
    {
     "name": "stdout",
     "output_type": "stream",
     "text": [
      "a\n"
     ]
    }
   ],
   "source": [
    "if not modelname and not parameters and not emin and not emax and not redshift:\n",
    "    print('a')"
   ]
  },
  {
   "cell_type": "code",
   "execution_count": 11,
   "metadata": {},
   "outputs": [
    {
     "data": {
      "text/plain": [
       "False"
      ]
     },
     "execution_count": 11,
     "metadata": {},
     "output_type": "execute_result"
    }
   ],
   "source": [
    "all([modelname, parameters, emin, emax, redshift])"
   ]
  },
  {
   "cell_type": "code",
   "execution_count": 12,
   "metadata": {},
   "outputs": [],
   "source": [
    "?all"
   ]
  },
  {
   "cell_type": "code",
   "execution_count": 18,
   "metadata": {},
   "outputs": [],
   "source": [
    "modelname = None"
   ]
  },
  {
   "cell_type": "code",
   "execution_count": 19,
   "metadata": {},
   "outputs": [
    {
     "data": {
      "text/plain": [
       "False"
      ]
     },
     "execution_count": 19,
     "metadata": {},
     "output_type": "execute_result"
    }
   ],
   "source": [
    "any([modelname,emin])"
   ]
  },
  {
   "cell_type": "code",
   "execution_count": null,
   "metadata": {},
   "outputs": [],
   "source": []
  }
 ],
 "metadata": {
  "kernelspec": {
   "display_name": "Python 3",
   "language": "python",
   "name": "python3"
  },
  "language_info": {
   "codemirror_mode": {
    "name": "ipython",
    "version": 3
   },
   "file_extension": ".py",
   "mimetype": "text/x-python",
   "name": "python",
   "nbconvert_exporter": "python",
   "pygments_lexer": "ipython3",
   "version": "3.7.0"
  }
 },
 "nbformat": 4,
 "nbformat_minor": 2
}
