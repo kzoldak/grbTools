{
 "cells": [
  {
   "cell_type": "raw",
   "metadata": {},
   "source": [
    "def docstring_reuse(func):\n",
    "    newdocstring = \"\"\"\n",
    "    Parameters\n",
    "    ----------\n",
    "    dpar : str, optional\n",
    "        Default is None.\n",
    "        Pass a parameter name, in string format, to take the partial derivative \n",
    "        of the funtion with respect to. \n",
    "        If left as None, \n",
    "            Partial derivatives (wrt all the parameters) are returned in an \n",
    "            OrderedDict. See Equation and Parameters for more. \n",
    "\n",
    "    Returns\n",
    "    -------\n",
    "    str, OrderedDict of str\n",
    "        If dpar is a string, then the output will be a string of the \n",
    "        partial derivative of the funtion wrt that parameter. \n",
    "        If dpar is left as None, OrderedDict of all the partials is returned. \n",
    "\n",
    "    Notes\n",
    "    ------\n",
    "    See Equation and Parameters (below) for more on the form of the function \n",
    "        and the parameters that dpar can handle. If the parameter name is \n",
    "        not one of the parameters accepted, then the derivative returned will \n",
    "        be 0.\n",
    "    DO NOT pass 'energy' to dpar. \n",
    "    \"\"\"\n",
    "    energy_note = \"\"\"\n",
    "    When passed to the 'calc_partial_derivative' function, we append \n",
    "        'energy' to the end of the parameters list. It is not within the \n",
    "        parameters list itself since we iterate over all parameters and \n",
    "        take their partial derivs. \n",
    "    Unfortunately, 'energy' must be passed to the 'calc_partial_derivative' \n",
    "        function, since it is within 'eqn', and can not be specified within the \n",
    "        'calc_partial_derivative' funciton itself. \n",
    "    This function will not return the partial derivative of any funciton wrt \n",
    "    'energy'. \"\"\"\n",
    "    func.__doc__ = newdocstring + func.__doc__ + energy_note\n",
    "    return func"
   ]
  },
  {
   "cell_type": "code",
   "execution_count": 1,
   "metadata": {
    "collapsed": true
   },
   "outputs": [],
   "source": [
    "from __future__ import division\n",
    "from collections import OrderedDict"
   ]
  },
  {
   "cell_type": "code",
   "execution_count": 45,
   "metadata": {
    "collapsed": true
   },
   "outputs": [],
   "source": [
    "modelOptions = ['powerlaw', 'lpow', 'bbody', \n",
    "                'grbm', 'sbpl', 'cutoffpl', \n",
    "                'grbm+lpow', 'sbpl+lpow', 'cutoffpl+lpow', \n",
    "                'grbm+powerlaw', 'sbpl+powerlaw', 'cutoffpl+powerlaw', \n",
    "                'grbm+bbody', 'sbpl+bbody', 'cutoffpl+bbody', \n",
    "                'grbm+bbody+lpow', 'sbpl+bbody+lpow', \n",
    "                'cutoffpl+bbody+lpow', \n",
    "                'grbm+bbody+powerlaw', 'sbpl+bbody+powerlaw', \n",
    "                'cutoffpl+bbody+powerlaw', \n",
    "                'bbody+lpow', 'bbody+powerlaw']"
   ]
  },
  {
   "cell_type": "code",
   "execution_count": 46,
   "metadata": {
    "collapsed": false
   },
   "outputs": [],
   "source": [
    "# Save all the partial derivatives to a JSON file. \n",
    "import json\n",
    "\n",
    "allPartials = OrderedDict()\n",
    "for mod in modelOptions:\n",
    "    allPartials[mod] = calc_partial_derivatives(modelname=mod)\n",
    "\n",
    "with open('xspec_functions_partial_derivatives.json', 'w') as json_file:\n",
    "    json.dump(allPartials, json_file, indent=4)"
   ]
  },
  {
   "cell_type": "code",
   "execution_count": 40,
   "metadata": {
    "collapsed": false
   },
   "outputs": [],
   "source": [
    "f = 'xspec_functions_partial_derivatives.json'\n",
    "partials = json.load(open(f, 'r'), object_pairs_hook=OrderedDict)"
   ]
  },
  {
   "cell_type": "code",
   "execution_count": 41,
   "metadata": {
    "collapsed": false,
    "scrolled": true
   },
   "outputs": [
    {
     "data": {
      "text/plain": [
       "[u'alpha__1',\n",
       " u'beta__2',\n",
       " u'tem__3',\n",
       " u'norm__4',\n",
       " u'kT__5',\n",
       " u'norm__6',\n",
       " u'plIndex__7',\n",
       " u'norm__8']"
      ]
     },
     "execution_count": 41,
     "metadata": {},
     "output_type": "execute_result"
    }
   ],
   "source": [
    "partials['grbm+bbody+lpow'].keys()"
   ]
  },
  {
   "cell_type": "code",
   "execution_count": null,
   "metadata": {
    "collapsed": true
   },
   "outputs": [],
   "source": []
  },
  {
   "cell_type": "code",
   "execution_count": null,
   "metadata": {
    "collapsed": false
   },
   "outputs": [],
   "source": [
    "calc_partial_derivatives(modelname='powerlaw')"
   ]
  },
  {
   "cell_type": "code",
   "execution_count": null,
   "metadata": {
    "collapsed": false
   },
   "outputs": [],
   "source": [
    "calc_partial_derivatives(modelname='lpow')"
   ]
  },
  {
   "cell_type": "code",
   "execution_count": null,
   "metadata": {
    "collapsed": true
   },
   "outputs": [],
   "source": []
  },
  {
   "cell_type": "code",
   "execution_count": null,
   "metadata": {
    "collapsed": false
   },
   "outputs": [],
   "source": [
    "calc_partial_derivatives(modelname='grbm')"
   ]
  },
  {
   "cell_type": "code",
   "execution_count": null,
   "metadata": {
    "collapsed": false
   },
   "outputs": [],
   "source": [
    "calc_partial_derivatives(modelname='grbm+bbody')"
   ]
  },
  {
   "cell_type": "code",
   "execution_count": null,
   "metadata": {
    "collapsed": false
   },
   "outputs": [],
   "source": [
    "calc_partial_derivatives(modelname='grbm+bbody+lpow')"
   ]
  }
 ],
 "metadata": {
  "kernelspec": {
   "display_name": "Python 2",
   "language": "python",
   "name": "python2"
  },
  "language_info": {
   "codemirror_mode": {
    "name": "ipython",
    "version": 2
   },
   "file_extension": ".py",
   "mimetype": "text/x-python",
   "name": "python",
   "nbconvert_exporter": "python",
   "pygments_lexer": "ipython2",
   "version": "2.7.11"
  }
 },
 "nbformat": 4,
 "nbformat_minor": 0
}
