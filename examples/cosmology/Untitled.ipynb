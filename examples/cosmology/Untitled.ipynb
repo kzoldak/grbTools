{
 "cells": [
  {
   "cell_type": "code",
   "execution_count": 1,
   "metadata": {
    "collapsed": true
   },
   "outputs": [],
   "source": [
    "from __future__ import division\n",
    "import os\n",
    "\n",
    "import numpy as np\n",
    "import pandas as pd\n",
    "\n",
    "\n",
    "import matplotlib.pyplot as plt\n",
    "%matplotlib inline"
   ]
  },
  {
   "cell_type": "raw",
   "metadata": {},
   "source": [
    "from Zoldak.Math.tools import root_mean_square as rms\n",
    "from Zoldak.Math.tools import sum_of_squares as sos\n",
    "from Zoldak.Math.tools import "
   ]
  },
  {
   "cell_type": "code",
   "execution_count": 2,
   "metadata": {
    "collapsed": true
   },
   "outputs": [],
   "source": [
    "def sum_of_squares(values):\n",
    "    \"\"\"\n",
    "    Parameters:\n",
    "    -----------\n",
    "    values:  list of values to square and then sum.\n",
    "\n",
    "    Equation:\n",
    "    ---------\n",
    "    sum( [i**2 for i in values] )\n",
    "\n",
    "    \"\"\"\n",
    "    return sum( [i**2 for i in values] )\n",
    "\n",
    "\n",
    "def root_mean_square(values):\n",
    "    \"\"\"\n",
    "    Parameters:\n",
    "    -----------\n",
    "    values:  list of values to compute the rms of.\n",
    "\n",
    "    Equation:\n",
    "    ---------\n",
    "    np.sqrt( sum_of_squares(values) / len(values) )\n",
    "    where \n",
    "    sum_of_squares(values) equation is:\n",
    "        sum( [i**2 for i in values] )\n",
    "    \"\"\"\n",
    "    return np.sqrt( sum_of_squares(values) / len(values) )\n",
    "\n",
    "\n",
    "def weighted_average(values, ndatas):\n",
    "    \"\"\"\n",
    "    values:  list, of values that need to be weighted by the\n",
    "                number of data points in their respective samples. \n",
    "    ndatas:  list, of the number of data points in the samples. \n",
    "    \n",
    "    Returns:\n",
    "    --------\n",
    "    Returns the individual weights in a list and then the sum of the \n",
    "    weights (which is the weighted average).\n",
    "\n",
    "    We pull the N into the calculation of each ith value since this \n",
    "    gives us the individual weights. However, this equation is \n",
    "    typically shown with N pulled outside. \n",
    "\n",
    "    WA = (1/N)*SUM(n_i * v_i)  \n",
    "    where n_i is the number of data points in each ith iteration and\n",
    "    v_i is the value associated with the ith iteration. \n",
    "    If this were weighted averages of sigma:\n",
    "    WA = (1/N) * SUM(n_i * sigma_i)\n",
    "\n",
    "    n = [13, 32, 35]\n",
    "    sigma = [0.015, 0.104, 0.096]\n",
    "    then N = 13+32+35 = 80\n",
    "     \n",
    "    \n",
    "    \"\"\"\n",
    "    N = np.sum(ndatas)\n",
    "    ##          sigma*(n/N)\n",
    "    weights = [(v*(n/N)) for n,v in zip(ndatas, values)]\n",
    "    return weights, np.sum(weights)"
   ]
  },
  {
   "cell_type": "markdown",
   "metadata": {},
   "source": [
    "${\\displaystyle{\\bar {x}}={\\frac {\\sum \\limits _{i=1}^{n}w_{i}x_{i}}{\\sum \\limits _{i=1}^{n}w_{i}}}}$\n",
    "\n",
    "For the weighted mean of a list of data for which each element $x_i$ potentially comes from a different probability distribution with known variance, $\\sigma_i^2$, one possible choice for the weights is given by the reciprocal of variance:\n",
    "\n",
    "${\\displaystyle w_i = \\frac{1}{\\sigma_i^2} = \\sigma_i^{-2}}$\n",
    "\n",
    "\n",
    "\n",
    "where \n",
    "\n",
    "${\\displaystyle \\sigma _{\\bar {x}}=\\left({\\sqrt {\\sum _{i=1}^{n}{w_{i}}}}\\right)^{-1}}$\n",
    "\n",
    "thus,\n",
    "\n",
    "${\\displaystyle{\\bar {x}}={\\frac {\\sum \\limits _{i=1}^{n}w_{i}x_{i}}{\\sum \\limits _{i=1}^{n}w_{i}}} = \\frac {\\sum \\limits _{i=1}^{n}\\sigma_i^{-2}x_{i}}{\\sum \\limits _{i=1}^{n}\\sigma_i^{-2}}}$\n",
    "\n",
    "$\\sigma_i$ are the uncertainties on the $x_i$"
   ]
  },
  {
   "cell_type": "code",
   "execution_count": 3,
   "metadata": {
    "collapsed": true
   },
   "outputs": [],
   "source": [
    "def weighted_mean(values, errors):\n",
    "    \"\"\"\n",
    "    https://en.wikipedia.org/wiki/Weighted_arithmetic_mean\n",
    "    \"\"\"\n",
    "    a = []\n",
    "    b = []\n",
    "    for val,err in zip(values,errors):\n",
    "        a.append(val * err**-2)\n",
    "        b.append(err**-2)\n",
    "    a = np.nansum(a)\n",
    "    b = np.nansum(b)\n",
    "    return a/b\n",
    "\n",
    "def weighted_mean_uncertainty(errors):\n",
    "    a = []\n",
    "    for err in errors:\n",
    "        a.append(err**-2.)\n",
    "    a = np.nansum(a)\n",
    "    a = a**-0.5\n",
    "    return a"
   ]
  },
  {
   "cell_type": "code",
   "execution_count": 4,
   "metadata": {
    "collapsed": true
   },
   "outputs": [],
   "source": [
    "def mu(values, errors):\n",
    "    a = []\n",
    "    b = []\n",
    "    for val,err in zip(values,errors):\n",
    "        a.append(val/(err**2))\n",
    "        b.append(err**-2.)\n",
    "    a = np.nansum(a)\n",
    "    b = np.nansum(b)\n",
    "    return a/b\n",
    "\n",
    "def mu_unc(errors):\n",
    "    a = []\n",
    "    for err in errors:\n",
    "        a.append(err**-2.)\n",
    "    a = np.nansum(a)\n",
    "    a = a**-0.5\n",
    "    return a"
   ]
  },
  {
   "cell_type": "raw",
   "metadata": {},
   "source": [
    "# The eiso1 in both files are identical since they are the Concordance model with my adopted \n",
    "# cosmology constants. Only keep one of them.\n",
    "df1 = pd.read_csv('eisoenergies_diff_cosmo.txt', skiprows=1)\n",
    "df2 = pd.read_csv('eisoenergies_diff_H0.txt', skiprows=1)\n",
    "\n",
    "[df2.pop(col) for col in df2.columns if 'eiso1' in col];"
   ]
  },
  {
   "cell_type": "code",
   "execution_count": 38,
   "metadata": {
    "collapsed": true
   },
   "outputs": [],
   "source": [
    "newcolnames = ['trigger', 'name', 'number', 'z', 't90', 'detector', 'LATburst', 'flux', \n",
    "               'flux_err_low', 'flux_err_up', 'fluence', 'fluence_err_low', 'fluence_err_up', \n",
    "               'DL4', 'DL5', 'DL6', \n",
    "               'eiso4', 'eiso4_err_low', 'eiso4_err_up', 'eiso4_err', \n",
    "               'eiso5', 'eiso5_err_low', 'eiso5_err_up', 'eiso5_err']"
   ]
  },
  {
   "cell_type": "code",
   "execution_count": 39,
   "metadata": {
    "collapsed": false
   },
   "outputs": [],
   "source": [
    "df2.columns = newcolnames"
   ]
  },
  {
   "cell_type": "code",
   "execution_count": 42,
   "metadata": {
    "collapsed": true
   },
   "outputs": [],
   "source": [
    "df = pd.merge(df1, df2)"
   ]
  },
  {
   "cell_type": "code",
   "execution_count": 43,
   "metadata": {
    "collapsed": false
   },
   "outputs": [
    {
     "data": {
      "text/html": [
       "<div>\n",
       "<table border=\"1\" class=\"dataframe\">\n",
       "  <thead>\n",
       "    <tr style=\"text-align: right;\">\n",
       "      <th></th>\n",
       "      <th>trigger</th>\n",
       "      <th>name</th>\n",
       "      <th>number</th>\n",
       "      <th>z</th>\n",
       "      <th>t90</th>\n",
       "      <th>detector</th>\n",
       "      <th>LATburst</th>\n",
       "      <th>flux</th>\n",
       "      <th>flux_err_low</th>\n",
       "      <th>flux_err_up</th>\n",
       "      <th>...</th>\n",
       "      <th>DL5</th>\n",
       "      <th>DL6</th>\n",
       "      <th>eiso4</th>\n",
       "      <th>eiso4_err_low</th>\n",
       "      <th>eiso4_err_up</th>\n",
       "      <th>eiso4_err</th>\n",
       "      <th>eiso5</th>\n",
       "      <th>eiso5_err_low</th>\n",
       "      <th>eiso5_err_up</th>\n",
       "      <th>eiso5_err</th>\n",
       "    </tr>\n",
       "  </thead>\n",
       "  <tbody>\n",
       "    <tr>\n",
       "      <th>0</th>\n",
       "      <td>bn080916009</td>\n",
       "      <td>080916C</td>\n",
       "      <td>5</td>\n",
       "      <td>4.350</td>\n",
       "      <td>62.977</td>\n",
       "      <td>L</td>\n",
       "      <td>Y</td>\n",
       "      <td>0.000002</td>\n",
       "      <td>0.000001</td>\n",
       "      <td>0.000002</td>\n",
       "      <td>...</td>\n",
       "      <td>1.304668e+29</td>\n",
       "      <td>1.130712e+29</td>\n",
       "      <td>3.802328e+54</td>\n",
       "      <td>3.725106e+54</td>\n",
       "      <td>3.879550e+54</td>\n",
       "      <td>7.722191e+52</td>\n",
       "      <td>2.855971e+54</td>\n",
       "      <td>2.797968e+54</td>\n",
       "      <td>2.913973e+54</td>\n",
       "      <td>5.800224e+52</td>\n",
       "    </tr>\n",
       "    <tr>\n",
       "      <th>1</th>\n",
       "      <td>bn090323002</td>\n",
       "      <td>90323</td>\n",
       "      <td>13</td>\n",
       "      <td>3.570</td>\n",
       "      <td>135.170</td>\n",
       "      <td>L</td>\n",
       "      <td>Y</td>\n",
       "      <td>0.000001</td>\n",
       "      <td>0.000001</td>\n",
       "      <td>0.000001</td>\n",
       "      <td>...</td>\n",
       "      <td>1.032153e+29</td>\n",
       "      <td>8.945330e+28</td>\n",
       "      <td>4.508223e+54</td>\n",
       "      <td>4.408417e+54</td>\n",
       "      <td>4.608028e+54</td>\n",
       "      <td>9.980578e+52</td>\n",
       "      <td>3.386176e+54</td>\n",
       "      <td>3.311211e+54</td>\n",
       "      <td>3.461141e+54</td>\n",
       "      <td>7.496523e+52</td>\n",
       "    </tr>\n",
       "    <tr>\n",
       "      <th>2</th>\n",
       "      <td>bn090328401</td>\n",
       "      <td>090328A</td>\n",
       "      <td>14</td>\n",
       "      <td>0.736</td>\n",
       "      <td>61.697</td>\n",
       "      <td>L</td>\n",
       "      <td>Y</td>\n",
       "      <td>0.000001</td>\n",
       "      <td>0.000001</td>\n",
       "      <td>0.000001</td>\n",
       "      <td>...</td>\n",
       "      <td>1.499480e+28</td>\n",
       "      <td>1.299549e+28</td>\n",
       "      <td>1.294631e+53</td>\n",
       "      <td>1.257364e+53</td>\n",
       "      <td>1.331899e+53</td>\n",
       "      <td>3.726721e+51</td>\n",
       "      <td>9.724120e+52</td>\n",
       "      <td>9.444202e+52</td>\n",
       "      <td>1.000404e+53</td>\n",
       "      <td>2.799182e+51</td>\n",
       "    </tr>\n",
       "    <tr>\n",
       "      <th>3</th>\n",
       "      <td>bn090510016</td>\n",
       "      <td>90510</td>\n",
       "      <td>17</td>\n",
       "      <td>0.903</td>\n",
       "      <td>0.960</td>\n",
       "      <td>L</td>\n",
       "      <td>Y</td>\n",
       "      <td>0.000013</td>\n",
       "      <td>0.000012</td>\n",
       "      <td>0.000014</td>\n",
       "      <td>...</td>\n",
       "      <td>1.927250e+28</td>\n",
       "      <td>1.670283e+28</td>\n",
       "      <td>3.035183e+52</td>\n",
       "      <td>2.824113e+52</td>\n",
       "      <td>3.246253e+52</td>\n",
       "      <td>2.110703e+51</td>\n",
       "      <td>2.279760e+52</td>\n",
       "      <td>2.121222e+52</td>\n",
       "      <td>2.438297e+52</td>\n",
       "      <td>1.585373e+51</td>\n",
       "    </tr>\n",
       "    <tr>\n",
       "      <th>4</th>\n",
       "      <td>bn090902462</td>\n",
       "      <td>090902B</td>\n",
       "      <td>20</td>\n",
       "      <td>1.822</td>\n",
       "      <td>19.328</td>\n",
       "      <td>L</td>\n",
       "      <td>Y</td>\n",
       "      <td>0.000020</td>\n",
       "      <td>0.000020</td>\n",
       "      <td>0.000021</td>\n",
       "      <td>...</td>\n",
       "      <td>4.576146e+28</td>\n",
       "      <td>3.965993e+28</td>\n",
       "      <td>3.688423e+54</td>\n",
       "      <td>3.659790e+54</td>\n",
       "      <td>3.717057e+54</td>\n",
       "      <td>2.863379e+52</td>\n",
       "      <td>2.770416e+54</td>\n",
       "      <td>2.748909e+54</td>\n",
       "      <td>2.791923e+54</td>\n",
       "      <td>2.150716e+52</td>\n",
       "    </tr>\n",
       "  </tbody>\n",
       "</table>\n",
       "<p>5 rows × 39 columns</p>\n",
       "</div>"
      ],
      "text/plain": [
       "       trigger     name  number      z      t90 detector LATburst      flux  \\\n",
       "0  bn080916009  080916C       5  4.350   62.977        L        Y  0.000002   \n",
       "1  bn090323002    90323      13  3.570  135.170        L        Y  0.000001   \n",
       "2  bn090328401  090328A      14  0.736   61.697        L        Y  0.000001   \n",
       "3  bn090510016    90510      17  0.903    0.960        L        Y  0.000013   \n",
       "4  bn090902462  090902B      20  1.822   19.328        L        Y  0.000020   \n",
       "\n",
       "   flux_err_low  flux_err_up      ...                DL5           DL6  \\\n",
       "0      0.000001     0.000002      ...       1.304668e+29  1.130712e+29   \n",
       "1      0.000001     0.000001      ...       1.032153e+29  8.945330e+28   \n",
       "2      0.000001     0.000001      ...       1.499480e+28  1.299549e+28   \n",
       "3      0.000012     0.000014      ...       1.927250e+28  1.670283e+28   \n",
       "4      0.000020     0.000021      ...       4.576146e+28  3.965993e+28   \n",
       "\n",
       "          eiso4  eiso4_err_low  eiso4_err_up     eiso4_err         eiso5  \\\n",
       "0  3.802328e+54   3.725106e+54  3.879550e+54  7.722191e+52  2.855971e+54   \n",
       "1  4.508223e+54   4.408417e+54  4.608028e+54  9.980578e+52  3.386176e+54   \n",
       "2  1.294631e+53   1.257364e+53  1.331899e+53  3.726721e+51  9.724120e+52   \n",
       "3  3.035183e+52   2.824113e+52  3.246253e+52  2.110703e+51  2.279760e+52   \n",
       "4  3.688423e+54   3.659790e+54  3.717057e+54  2.863379e+52  2.770416e+54   \n",
       "\n",
       "   eiso5_err_low  eiso5_err_up     eiso5_err  \n",
       "0   2.797968e+54  2.913973e+54  5.800224e+52  \n",
       "1   3.311211e+54  3.461141e+54  7.496523e+52  \n",
       "2   9.444202e+52  1.000404e+53  2.799182e+51  \n",
       "3   2.121222e+52  2.438297e+52  1.585373e+51  \n",
       "4   2.748909e+54  2.791923e+54  2.150716e+52  \n",
       "\n",
       "[5 rows x 39 columns]"
      ]
     },
     "execution_count": 43,
     "metadata": {},
     "output_type": "execute_result"
    }
   ],
   "source": [
    "df.head()"
   ]
  },
  {
   "cell_type": "code",
   "execution_count": 44,
   "metadata": {
    "collapsed": false
   },
   "outputs": [
    {
     "data": {
      "text/plain": [
       "Index([u'trigger', u'name', u'number', u'z', u't90', u'detector', u'LATburst',\n",
       "       u'flux', u'flux_err_low', u'flux_err_up', u'fluence',\n",
       "       u'fluence_err_low', u'fluence_err_up', u'DL1', u'DL2', u'DL3', u'eiso1',\n",
       "       u'eiso1_err_low', u'eiso1_err_up', u'eiso1_err', u'eiso2',\n",
       "       u'eiso2_err_low', u'eiso2_err_up', u'eiso2_err', u'eiso3',\n",
       "       u'eiso3_err_low', u'eiso3_err_up', u'eiso3_err', u'DL4', u'DL5', u'DL6',\n",
       "       u'eiso4', u'eiso4_err_low', u'eiso4_err_up', u'eiso4_err', u'eiso5',\n",
       "       u'eiso5_err_low', u'eiso5_err_up', u'eiso5_err'],\n",
       "      dtype='object')"
      ]
     },
     "execution_count": 44,
     "metadata": {},
     "output_type": "execute_result"
    }
   ],
   "source": [
    "df.columns"
   ]
  },
  {
   "cell_type": "code",
   "execution_count": 45,
   "metadata": {
    "collapsed": true
   },
   "outputs": [],
   "source": [
    "cols = ['eiso1', 'eiso2', 'eiso3', 'eiso4', 'eiso5']"
   ]
  },
  {
   "cell_type": "code",
   "execution_count": 46,
   "metadata": {
    "collapsed": false
   },
   "outputs": [],
   "source": [
    "bursts = df.trigger.tolist()"
   ]
  },
  {
   "cell_type": "code",
   "execution_count": 53,
   "metadata": {
    "collapsed": false
   },
   "outputs": [
    {
     "name": "stdout",
     "output_type": "stream",
     "text": [
      "0.124295813498\n",
      "0.124\n"
     ]
    }
   ],
   "source": [
    "col1 = 'eiso4'\n",
    "col2 = 'eiso5'\n",
    "\n",
    "deltas = df[col1].apply(np.log10) - df[col2].apply(np.log10)\n",
    "print(root_mean_square(deltas))\n",
    "print('%.3f'%root_mean_square(deltas))"
   ]
  },
  {
   "cell_type": "code",
   "execution_count": 54,
   "metadata": {
    "collapsed": true
   },
   "outputs": [],
   "source": [
    "kim = []"
   ]
  },
  {
   "cell_type": "code",
   "execution_count": 60,
   "metadata": {
    "collapsed": false
   },
   "outputs": [
    {
     "name": "stdout",
     "output_type": "stream",
     "text": [
      "0.124\n"
     ]
    }
   ],
   "source": [
    "col1 = 'eiso4'\n",
    "col2 = 'eiso5'\n",
    "\n",
    "deltas = df[col1].apply(np.log10) - df[col2].apply(np.log10)\n",
    "kim.append(root_mean_square(deltas))\n",
    "print('%.3f'%root_mean_square(deltas))"
   ]
  },
  {
   "cell_type": "code",
   "execution_count": 61,
   "metadata": {
    "collapsed": false
   },
   "outputs": [
    {
     "data": {
      "text/plain": [
       "[0.095801609043162428,\n",
       " 0.18531024751783443,\n",
       " 0.28033038551270434,\n",
       " 0.036632674448362122,\n",
       " 0.087663139049268229,\n",
       " 0.12429581349763033]"
      ]
     },
     "execution_count": 61,
     "metadata": {},
     "output_type": "execute_result"
    }
   ],
   "source": [
    "kim"
   ]
  },
  {
   "cell_type": "code",
   "execution_count": 62,
   "metadata": {
    "collapsed": false
   },
   "outputs": [
    {
     "data": {
      "text/plain": [
       "(0.036632674448362122, 0.28033038551270434, 0.13500564484482699)"
      ]
     },
     "execution_count": 62,
     "metadata": {},
     "output_type": "execute_result"
    }
   ],
   "source": [
    "min(kim), max(kim), np.mean(kim)"
   ]
  },
  {
   "cell_type": "code",
   "execution_count": 65,
   "metadata": {
    "collapsed": false
   },
   "outputs": [
    {
     "data": {
      "text/plain": [
       "(0.18714741402456705, 0.082863875665086892)"
      ]
     },
     "execution_count": 65,
     "metadata": {},
     "output_type": "execute_result"
    }
   ],
   "source": [
    "np.mean(kim[:3]), np.mean(kim[3:])"
   ]
  },
  {
   "cell_type": "code",
   "execution_count": 67,
   "metadata": {
    "collapsed": false
   },
   "outputs": [
    {
     "name": "stdout",
     "output_type": "stream",
     "text": [
      "0.096  0.280\n"
     ]
    }
   ],
   "source": [
    "print('%.3f  %.3f'%(np.min(kim[:3]) , np.max(kim[:3])))"
   ]
  },
  {
   "cell_type": "code",
   "execution_count": 68,
   "metadata": {
    "collapsed": false
   },
   "outputs": [
    {
     "name": "stdout",
     "output_type": "stream",
     "text": [
      "0.037  0.124\n"
     ]
    }
   ],
   "source": [
    "print('%.3f  %.3f'%(np.min(kim[3:]) , np.max(kim[3:])))"
   ]
  },
  {
   "cell_type": "code",
   "execution_count": null,
   "metadata": {
    "collapsed": true
   },
   "outputs": [],
   "source": [
    "np.mean(kim[3:])"
   ]
  },
  {
   "cell_type": "code",
   "execution_count": null,
   "metadata": {
    "collapsed": true
   },
   "outputs": [],
   "source": []
  },
  {
   "cell_type": "code",
   "execution_count": null,
   "metadata": {
    "collapsed": true
   },
   "outputs": [],
   "source": []
  },
  {
   "cell_type": "code",
   "execution_count": null,
   "metadata": {
    "collapsed": true
   },
   "outputs": [],
   "source": []
  },
  {
   "cell_type": "code",
   "execution_count": null,
   "metadata": {
    "collapsed": true
   },
   "outputs": [],
   "source": [
    "mean_eisos = []\n",
    "for burst in bursts:\n",
    "    mean_eisos.append(df[df['trigger'] == burst][cols].values.mean())"
   ]
  },
  {
   "cell_type": "raw",
   "metadata": {},
   "source": [
    "root_mean_square(values)"
   ]
  },
  {
   "cell_type": "code",
   "execution_count": null,
   "metadata": {
    "collapsed": false
   },
   "outputs": [],
   "source": [
    "deltas = df['eiso1'].apply(np.log10) - df['eiso2'].apply(np.log10)"
   ]
  },
  {
   "cell_type": "code",
   "execution_count": null,
   "metadata": {
    "collapsed": false
   },
   "outputs": [],
   "source": [
    "np.sqrt( np.sum(deltas**2)/len(deltas) )"
   ]
  },
  {
   "cell_type": "code",
   "execution_count": null,
   "metadata": {
    "collapsed": false
   },
   "outputs": [],
   "source": [
    "root_mean_square(deltas)"
   ]
  },
  {
   "cell_type": "code",
   "execution_count": null,
   "metadata": {
    "collapsed": true
   },
   "outputs": [],
   "source": []
  }
 ],
 "metadata": {
  "kernelspec": {
   "display_name": "Python 2",
   "language": "python",
   "name": "python2"
  },
  "language_info": {
   "codemirror_mode": {
    "name": "ipython",
    "version": 2
   },
   "file_extension": ".py",
   "mimetype": "text/x-python",
   "name": "python",
   "nbconvert_exporter": "python",
   "pygments_lexer": "ipython2",
   "version": "2.7.11"
  }
 },
 "nbformat": 4,
 "nbformat_minor": 0
}
