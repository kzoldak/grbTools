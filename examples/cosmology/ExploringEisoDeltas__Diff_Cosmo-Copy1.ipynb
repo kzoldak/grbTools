{
 "cells": [
  {
   "cell_type": "code",
   "execution_count": 1,
   "metadata": {
    "collapsed": true
   },
   "outputs": [],
   "source": [
    "from __future__ import division\n",
    "import os\n",
    "\n",
    "import numpy as np\n",
    "from numpy import pi\n",
    "\n",
    "import pandas as pd\n",
    "from numpy import sqrt\n",
    "from scipy import integrate\n",
    "\n",
    "import matplotlib.pyplot as plt\n",
    "%matplotlib inline"
   ]
  },
  {
   "cell_type": "code",
   "execution_count": 2,
   "metadata": {
    "collapsed": true
   },
   "outputs": [],
   "source": [
    "def journal():\n",
    "    '''\n",
    "    Appears nearly square. I like this best.\n",
    "    'figure.figsize': [3.1, 2.6]\n",
    "    \n",
    "    Use: plt.tight_layout(pad=0.1, w_pad=0.0, h_pad=0.0)\n",
    "    plt.xlabel('$E_{iso}$ $(erg)$',labelpad=-1)  \n",
    "    plt.ylabel('$E^*_{pk}$ $(keV)$',labelpad=-2)\n",
    "    \n",
    "    '''\n",
    "    params = {'backend': 'pdf',\n",
    "              'axes.labelsize':  10,\n",
    "              'font.size':       10,\n",
    "              'legend.fontsize': 8,\n",
    "              'xtick.labelsize': 8,\n",
    "              'ytick.labelsize': 8,\n",
    "              'xtick.direction': 'in',\n",
    "              'ytick.direction': 'in',\n",
    "              'text.usetex':     True,\n",
    "              'figure.figsize': [4,3], #[4,3], #[3.1, 2.6], # [7,6]\n",
    "              'font.family': 'serif',}\n",
    "    plt.rcParams.update(params)"
   ]
  },
  {
   "cell_type": "code",
   "execution_count": 3,
   "metadata": {
    "collapsed": true
   },
   "outputs": [],
   "source": [
    "journal()"
   ]
  },
  {
   "cell_type": "markdown",
   "metadata": {},
   "source": [
    "#### All luminosity distance functions must pass results in parsecs."
   ]
  },
  {
   "cell_type": "raw",
   "metadata": {},
   "source": [
    "    z           = redshift\n",
    "    if H_knot is None:\n",
    "        H_knot      = 71.               # Hubble Constant.  Units: km/s/Mpc\n",
    "    if omega_m is None:\n",
    "        omega_m     = 0.27             # Matter Density."
   ]
  },
  {
   "cell_type": "code",
   "execution_count": 4,
   "metadata": {
    "collapsed": true
   },
   "outputs": [],
   "source": [
    "def LumDist_concordance(redshift, H_knot, omega_m):\n",
    "    \"\"\"\n",
    "    This is the function we use in our work, but different cosmo constants \n",
    "    as well as DL units. \n",
    "    \"\"\"\n",
    "    z           = redshift\n",
    "    omega_l     = 1.0 - omega_m\n",
    "    c           = 2.99792458e5      # SPEED OF LIGHT    Units: km/s\n",
    "    def Aint(z):\n",
    "        return (1./(sqrt(((1.+z)*(1.+z)*(1. + omega_m * z))-(z*(2.+ z)*omega_l ))))\n",
    "    AA      = integrate.quad(Aint, 0.0, z)\n",
    "    DL_Mpc  = (c * (1. + z) / H_knot) * AA[0]\n",
    "    DL_pc = DL_Mpc * (1E6) # convert Mpc to pc\n",
    "    return DL_pc\n",
    "\n",
    "\n",
    "def LumDist_riess(redshift, H_knot, omega_m):\n",
    "    \"\"\"\n",
    "    Lower order expansion for dark energy term (w). Equation 14 in Riess et al. 2004. \n",
    "    w(z) = w0 + w'z\n",
    "    \"\"\"\n",
    "    z           = redshift\n",
    "    omega_l     = 1.0 - omega_m\n",
    "    c           = 2.99792458e5      # SPEED OF LIGHT    Units: km/s\n",
    "    w0 = -1.31\n",
    "    wp = 1.48   # p: prime symbol\n",
    "    def Aint(z):\n",
    "        return 1./np.sqrt( ((1.+z)**3)*omega_m + \\\n",
    "                         omega_l*((1.+z)**(3*(1+w0-wp)))*np.exp(3*wp*z) )\n",
    "    AA      = integrate.quad(Aint, 0.0, z)\n",
    "    DL_Mpc  = (c * (1. + z) / H_knot) * AA[0]\n",
    "    DL_pc = DL_Mpc * (1E6) # convert Mpc to pc\n",
    "    return DL_pc\n",
    "\n",
    "\n",
    "def LumDist_weylgravity(redshift, H_knot):\n",
    "    \"\"\"\n",
    "    Weyl Gravity.\n",
    "    Equation 237 in Mannheim 2006 paper\n",
    "    q_knot      = -0.37 or -0.2\n",
    "    \"\"\"\n",
    "    z           = redshift\n",
    "    c           = 2.99792458e5      # SPEED OF LIGHT    Units: km/s\n",
    "    q_knot      = -0.37\n",
    "    DL_Mpc  = (-c * ((1. + z)**2) / (H_knot * q_knot)) * \\\n",
    "                (1-np.sqrt(1 + q_knot - (q_knot/((1+z)**2))))\n",
    "    DL_pc = DL_Mpc * (1E6) # convert Mpc to pc\n",
    "    return DL_pc\n",
    "\n",
    "    \n",
    "def distance_modulus(lumdistance):\n",
    "    return 5*np.log10(lumdistance)-5\n",
    "\n",
    "\n",
    "def get_moduli(model, redshifts=None, H_knot=None, omega_m=None):\n",
    "    \"\"\"\n",
    "    model : str. 'concord', 'weyl', or 'riess'\n",
    "                    or 'c', 'w', and 'r'\n",
    "    \n",
    "    \"\"\"\n",
    "    H0 = H_knot\n",
    "    OM = omega_m\n",
    "    if model.startswith('c'):   \n",
    "        DLs = [LumDist_concordance(redshift=z, H_knot=H0, omega_m=OM) for z in redshifts]\n",
    "    elif model.startswith('r'):   \n",
    "        DLs = [LumDist_riess(redshift=z, H_knot=H0, omega_m=OM) for z in redshifts]\n",
    "    elif model.startswith('w'):   \n",
    "        DLs = [LumDist_weylgravity(redshift=z, H_knot=H0) for z in redshifts]\n",
    "    moduli = [distance_modulus(lumdistance=dL) for dL in DLs]\n",
    "    return moduli"
   ]
  },
  {
   "cell_type": "code",
   "execution_count": 5,
   "metadata": {
    "collapsed": true
   },
   "outputs": [],
   "source": [
    "def calc_eiso(fluence, lumdist, redshift):\n",
    "    flue = fluence\n",
    "    DL = lumdist \n",
    "    z = redshift\n",
    "    return flue*((4.0*pi*(DL**2))/(1.0+z))"
   ]
  },
  {
   "cell_type": "code",
   "execution_count": 6,
   "metadata": {
    "collapsed": true
   },
   "outputs": [],
   "source": [
    "mu = lambda values,errors: np.nansum([i/(j**2) for i,j in zip(values,errors)])/np.nansum([(j**-2.) for j in errors])\n",
    "mu_unc = lambda errors: (np.nansum([(j**-2.) for j in errors]))**-0.5"
   ]
  },
  {
   "cell_type": "markdown",
   "metadata": {},
   "source": [
    "Read Data\n",
    "---"
   ]
  },
  {
   "cell_type": "code",
   "execution_count": 7,
   "metadata": {
    "collapsed": false
   },
   "outputs": [],
   "source": [
    "filename = ('/Users/KimiZ/GRBs2/Sample/'\n",
    "            'Band_13_GBM+LAT__22_GBMconstrained.txt')\n",
    "\n",
    "df_ = pd.read_csv(filename, sep='\\t')"
   ]
  },
  {
   "cell_type": "code",
   "execution_count": 8,
   "metadata": {
    "collapsed": true
   },
   "outputs": [],
   "source": [
    "cols2keep = ['trigger', 'name', 'number', 'z', 't90', 'detector','LATburst'] \n",
    "\n",
    "# Make new dataframe with only certain columns\n",
    "df = pd.DataFrame(df_.loc[:, cols2keep])\n",
    "\n",
    "# Copy over flux and fluences from 1 keV-10 MeV. \n",
    "df['flux'] = df_['Flux3']\n",
    "df['flux_err_low'] = df_['Flux3']-df_['Flux3_err']  # value - margin of error\n",
    "df['flux_err_up'] = df_['Flux3']+df_['Flux3_err']   # value + margin of error\n",
    "\n",
    "\n",
    "df['fluence'] = df_['Flue3']\n",
    "df['fluence_err_low'] = df_['Flue3']-df_['Flue3_err']  # value - margin of error\n",
    "df['fluence_err_up'] = df_['Flue3']+df_['Flue3_err']   # value + margin of error"
   ]
  },
  {
   "cell_type": "code",
   "execution_count": 9,
   "metadata": {
    "collapsed": true
   },
   "outputs": [],
   "source": [
    "#   The luminosity distances of these functions are in parsecs. Need to use pctocm to convert to cm.\n",
    "# 1 pc = 3.0856775814914E+18 cm\n",
    "Mpctocm = 3.08567758E24\n",
    "pctocm = 3.08567758E18"
   ]
  },
  {
   "cell_type": "code",
   "execution_count": 10,
   "metadata": {
    "collapsed": true
   },
   "outputs": [],
   "source": [
    "H_knot = 71.\n",
    "omega_m = 0.27\n",
    "\n",
    "redshifts = df.z.values"
   ]
  },
  {
   "cell_type": "code",
   "execution_count": 11,
   "metadata": {
    "collapsed": false
   },
   "outputs": [],
   "source": [
    "# Concordance Cosmology (Lambda CDM)\n",
    "df['DL1'] = np.asarray([LumDist_concordance(redshift=z, H_knot=H_knot, omega_m=omega_m) for z in redshifts])*pctocm\n",
    "\n",
    "# Riess Cosmology\n",
    "df['DL2'] = np.asarray([LumDist_riess(redshift=z, H_knot=H_knot, omega_m=omega_m) for z in redshifts])*pctocm\n",
    "\n",
    "# Weyl Gravity\n",
    "df['DL3'] = np.asarray([LumDist_weylgravity(redshift=z, H_knot=H_knot) for z in redshifts])*pctocm"
   ]
  },
  {
   "cell_type": "code",
   "execution_count": 12,
   "metadata": {
    "collapsed": false
   },
   "outputs": [],
   "source": [
    "# Concordance Cosmology (Lambda CDM)\n",
    "df['eiso1']         = calc_eiso(fluence=df.fluence, lumdist=df['DL1'], redshift=df.z)\n",
    "df['eiso1_err_low'] = calc_eiso(fluence=df.fluence_err_low, lumdist=df['DL1'], redshift=df.z)\n",
    "df['eiso1_err_up']  = calc_eiso(fluence=df.fluence_err_up, lumdist=df['DL1'], redshift=df.z)\n",
    "df['eiso1_err']     = df['eiso1']-df['eiso1_err_low']  # margin of error. Eiso errs should be symmetrical when unlogged\n",
    "\n",
    "# Riess Cosmology\n",
    "df['eiso2']         = calc_eiso(fluence=df.fluence, lumdist=df['DL2'], redshift=df.z)\n",
    "df['eiso2_err_low'] = calc_eiso(fluence=df.fluence_err_low, lumdist=df['DL2'], redshift=df.z)\n",
    "df['eiso2_err_up']  = calc_eiso(fluence=df.fluence_err_up, lumdist=df['DL2'], redshift=df.z)\n",
    "df['eiso2_err']     = df['eiso2']-df['eiso2_err_low']  # margin of error. Eiso errs should be symmetrical when unlogged\n",
    "\n",
    "# Weyl Gravity\n",
    "df['eiso3']         = calc_eiso(fluence=df.fluence, lumdist=df['DL3'], redshift=df.z)\n",
    "df['eiso3_err_low'] = calc_eiso(fluence=df.fluence_err_low, lumdist=df['DL3'], redshift=df.z)\n",
    "df['eiso3_err_up']  = calc_eiso(fluence=df.fluence_err_up, lumdist=df['DL3'], redshift=df.z)\n",
    "df['eiso3_err']     = df['eiso3']-df['eiso3_err_low']  # margin of error. Eiso errs should be symmetrical when unlogged\n"
   ]
  },
  {
   "cell_type": "code",
   "execution_count": 14,
   "metadata": {
    "collapsed": false
   },
   "outputs": [
    {
     "data": {
      "text/plain": [
       "<matplotlib.figure.Figure at 0x10ed8ddd0>"
      ]
     },
     "metadata": {},
     "output_type": "display_data"
    },
    {
     "data": {
      "image/png": "[encoded data removed]",
      "text/plain": [
       "<matplotlib.figure.Figure at 0x10edfde90>"
      ]
     },
     "metadata": {},
     "output_type": "display_data"
    }
   ],
   "source": [
    "axLims = (51.51, 55.2)\n",
    "\n",
    "\n",
    "plt.clf()\n",
    "plt.figure(figsize=(8,7))\n",
    "#plt.figure()\n",
    "\n",
    "\n",
    "xaxis = 'eiso1'\n",
    "yaxis = 'eiso2'\n",
    "pltKwgs = dict(fmt='o', color='white', ecolor='blue', ms=5, lw=0.6, mec='blue', mew=0.75,\n",
    "               capsize=0, alpha=1, label='x: LCDM\\ny: Riess')\n",
    "x = df[xaxis].apply(np.log10)\n",
    "y = df[yaxis].apply(np.log10)\n",
    "xerr = np.asarray([(df[xaxis].apply(np.log10)-df[xaxis+'_err_low'].apply(np.log10)).values, # lower margin of error\n",
    "                   (df[xaxis+'_err_up'].apply(np.log10)-df[xaxis].apply(np.log10)).values]) # upper margin of error\n",
    "yerr = np.asarray([(df[yaxis].apply(np.log10)-df[yaxis+'_err_low'].apply(np.log10)).values, # lower margin of error\n",
    "                   (df[yaxis+'_err_up'].apply(np.log10)-df[yaxis].apply(np.log10)).values]) # upper margin of error\n",
    "#plt.errorbar(x=x, y=y, yerr=yerr, xerr=xerr, **pltKwgs)\n",
    "markers, caps, bars = plt.errorbar(x=x, y=y, yerr=yerr, xerr=xerr, **pltKwgs)\n",
    "[bar.set_alpha(0.25) for bar in bars]\n",
    "[cap.set_alpha(0.25) for cap in caps]\n",
    "\n",
    "\n",
    "xaxis = 'eiso1'\n",
    "yaxis = 'eiso3'\n",
    "pltKwgs = dict(fmt='o', color='white', ecolor='red', ms=5, lw=0.6, mec='red', mew=0.75,\n",
    "               capsize=0, alpha=1, label='x: LCDM\\ny: Weyl')\n",
    "x = df[xaxis].apply(np.log10)\n",
    "y = df[yaxis].apply(np.log10)\n",
    "xerr = np.asarray([(df[xaxis].apply(np.log10)-df[xaxis+'_err_low'].apply(np.log10)).values, # lower margin of error\n",
    "                   (df[xaxis+'_err_up'].apply(np.log10)-df[xaxis].apply(np.log10)).values]) # upper margin of error\n",
    "yerr = np.asarray([(df[yaxis].apply(np.log10)-df[yaxis+'_err_low'].apply(np.log10)).values, # lower margin of error\n",
    "                   (df[yaxis+'_err_up'].apply(np.log10)-df[yaxis].apply(np.log10)).values]) # upper margin of error\n",
    "#plt.errorbar(x=x, y=y, yerr=yerr, xerr=xerr, **pltKwgs)\n",
    "markers, caps, bars = plt.errorbar(x=x, y=y, yerr=yerr, xerr=xerr, **pltKwgs)\n",
    "[bar.set_alpha(0.25) for bar in bars]\n",
    "[cap.set_alpha(0.25) for cap in caps]\n",
    "    \n",
    "\n",
    "xaxis = 'eiso2'\n",
    "yaxis = 'eiso3'\n",
    "pltKwgs = dict(fmt='o', color='white', ecolor='green', ms=5, lw=0.6, mec='green', mew=0.75,\n",
    "               capsize=0, alpha=1, label='x: Riess\\ny: Weyl')\n",
    "x = df[xaxis].apply(np.log10)\n",
    "y = df[yaxis].apply(np.log10)\n",
    "xerr = np.asarray([(df[xaxis].apply(np.log10)-df[xaxis+'_err_low'].apply(np.log10)).values, # lower margin of error\n",
    "                   (df[xaxis+'_err_up'].apply(np.log10)-df[xaxis].apply(np.log10)).values]) # upper margin of error\n",
    "yerr = np.asarray([(df[yaxis].apply(np.log10)-df[yaxis+'_err_low'].apply(np.log10)).values, # lower margin of error\n",
    "                   (df[yaxis+'_err_up'].apply(np.log10)-df[yaxis].apply(np.log10)).values]) # upper margin of error\n",
    "#plt.errorbar(x=x, y=y, yerr=yerr, xerr=xerr, **pltKwgs)\n",
    "markers, caps, bars = plt.errorbar(x=x, y=y, yerr=yerr, xerr=xerr, **pltKwgs)\n",
    "[bar.set_alpha(0.25) for bar in bars]\n",
    "[cap.set_alpha(0.25) for cap in caps]\n",
    "#[marker.set_alpha(0.25) for marker in markers]\n",
    "\n",
    "\n",
    "# Plot a line at equal values of x and y \n",
    "xlinedata = np.linspace(axLims[0], axLims[1], 10)\n",
    "ylinedata = 1.0*xlinedata+0\n",
    "plt.plot(xlinedata, ylinedata, 'k-', lw=1, alpha=0.25) \n",
    "\n",
    "plt.xlim(*axLims)\n",
    "plt.ylim(*axLims)\n",
    "plt.legend(loc=0, fontsize=11, labelspacing=0.7, handletextpad=0, frameon=False)\n",
    "plt.xlabel('$E_{iso}$ (erg)', fontsize=13)\n",
    "plt.ylabel('$E_{iso}$ (erg)', fontsize=13)\n",
    "plt.show()\n"
   ]
  },
  {
   "cell_type": "code",
   "execution_count": 15,
   "metadata": {
    "collapsed": true
   },
   "outputs": [],
   "source": [
    "df['diff_1v2'] = (df['eiso1'].apply(np.log10) - df['eiso2'].apply(np.log10)).apply(abs)\n",
    "\n",
    "df['diff_1v3'] = (df['eiso1'].apply(np.log10) - df['eiso3'].apply(np.log10)).apply(abs)\n",
    "\n",
    "df['diff_2v3'] = (df['eiso2'].apply(np.log10) - df['eiso3'].apply(np.log10)).apply(abs)"
   ]
  },
  {
   "cell_type": "code",
   "execution_count": 17,
   "metadata": {
    "collapsed": false
   },
   "outputs": [
    {
     "data": {
      "text/plain": [
       "<matplotlib.figure.Figure at 0x10ecdb1d0>"
      ]
     },
     "metadata": {},
     "output_type": "display_data"
    },
    {
     "data": {
      "image/png": "[encoded data removed]",
      "text/plain": [
       "<matplotlib.figure.Figure at 0x10ed65a90>"
      ]
     },
     "metadata": {},
     "output_type": "display_data"
    }
   ],
   "source": [
    "xLims = (None, None)\n",
    "yLims = (None, None)\n",
    "\n",
    "xLims = (0.2, 1)\n",
    "yLims = (-0.001, .04)\n",
    "\n",
    "\n",
    "plt.clf()\n",
    "plt.figure(figsize=(8,7))\n",
    "#plt.figure()\n",
    "\n",
    "plt.plot(df['z'], df['diff_1v2'], marker='o', ms=8, color='white', mec='blue', mew=2, lw=0,  label='x: LCDM\\ny: Riess')\n",
    "\n",
    "plt.plot(df['z'], df['diff_1v3'], marker='o', ms=8, color='white', mec='red', mew=2, lw=0, label='x: LCDM\\ny: Weyl')\n",
    "\n",
    "plt.plot(df['z'], df['diff_2v3'], marker='o', ms=8, color='white', mec='green', mew=2, lw=0, label='x: Riess\\ny: Weyl')\n",
    "\n",
    "plt.axvline(0.46, 0, 1, color='k', lw=2, alpha=0.5)\n",
    "\n",
    "plt.xlim(*xLims)\n",
    "plt.ylim(*yLims)\n",
    "plt.legend(loc=0, fontsize=11, labelspacing=0.7, handletextpad=0, frameon=False)\n",
    "plt.ylabel('Diff $\\log_{10}$($E_{iso}$) (erg)', fontsize=13)\n",
    "plt.xlabel('$z$', fontsize=13)\n",
    "plt.show()"
   ]
  },
  {
   "cell_type": "code",
   "execution_count": null,
   "metadata": {
    "collapsed": true
   },
   "outputs": [],
   "source": [
    "sort_by = 'diff_1v2'\n",
    "\n",
    "kim = df.sort_values(by=sort_by).loc[:, ['z',sort_by]]"
   ]
  },
  {
   "cell_type": "code",
   "execution_count": null,
   "metadata": {
    "collapsed": false
   },
   "outputs": [],
   "source": [
    "plt.clf()\n",
    "(kim).plot(kind='scatter', x='z', y=sort_by, figsize=(8,5),\n",
    "                                                        marker='o', s=50, color='white', edgecolor='blue')"
   ]
  },
  {
   "cell_type": "code",
   "execution_count": null,
   "metadata": {
    "collapsed": false
   },
   "outputs": [],
   "source": [
    "kim.min()"
   ]
  },
  {
   "cell_type": "code",
   "execution_count": null,
   "metadata": {
    "collapsed": false
   },
   "outputs": [],
   "source": [
    "kim"
   ]
  },
  {
   "cell_type": "code",
   "execution_count": null,
   "metadata": {
    "collapsed": false
   },
   "outputs": [],
   "source": [
    "df.sort_values(by='z').loc[:, ['z', 'number', 'LATburst']]"
   ]
  },
  {
   "cell_type": "code",
   "execution_count": null,
   "metadata": {
    "collapsed": true
   },
   "outputs": [],
   "source": [
    "sort_by = 'diff_1v3'\n",
    "\n",
    "kim2 = df.sort_values(by=sort_by).loc[:, ['z',sort_by]]"
   ]
  },
  {
   "cell_type": "code",
   "execution_count": null,
   "metadata": {
    "collapsed": false
   },
   "outputs": [],
   "source": [
    "plt.clf()"
   ]
  },
  {
   "cell_type": "code",
   "execution_count": null,
   "metadata": {
    "collapsed": false
   },
   "outputs": [],
   "source": [
    "(kim2).plot(kind='scatter', x='z', y=sort_by, figsize=(8,5),\n",
    "                                                        marker='o', s=50, color='white', edgecolor='blue')"
   ]
  },
  {
   "cell_type": "code",
   "execution_count": null,
   "metadata": {
    "collapsed": false
   },
   "outputs": [],
   "source": [
    "kim2.min()"
   ]
  },
  {
   "cell_type": "code",
   "execution_count": null,
   "metadata": {
    "collapsed": false
   },
   "outputs": [],
   "source": [
    "kim2"
   ]
  },
  {
   "cell_type": "code",
   "execution_count": null,
   "metadata": {
    "collapsed": false
   },
   "outputs": [],
   "source": [
    "df.sort_values(by='z').loc[:, ['z', 'number', 'LATburst']]"
   ]
  },
  {
   "cell_type": "code",
   "execution_count": null,
   "metadata": {
    "collapsed": true
   },
   "outputs": [],
   "source": [
    "sort_by = 'diff_2v3'\n",
    "\n",
    "kim3 = df.sort_values(by=sort_by).loc[:, ['z',sort_by]]"
   ]
  },
  {
   "cell_type": "code",
   "execution_count": null,
   "metadata": {
    "collapsed": false
   },
   "outputs": [],
   "source": [
    "plt.clf()"
   ]
  },
  {
   "cell_type": "code",
   "execution_count": null,
   "metadata": {
    "collapsed": false
   },
   "outputs": [],
   "source": [
    "(kim3).plot(kind='scatter', x='z', y=sort_by, figsize=(8,5),\n",
    "                                                        marker='o', s=50, color='white', edgecolor='blue')"
   ]
  },
  {
   "cell_type": "code",
   "execution_count": null,
   "metadata": {
    "collapsed": false
   },
   "outputs": [],
   "source": [
    "kim3.min()"
   ]
  },
  {
   "cell_type": "code",
   "execution_count": null,
   "metadata": {
    "collapsed": false
   },
   "outputs": [],
   "source": [
    "kim3"
   ]
  },
  {
   "cell_type": "code",
   "execution_count": null,
   "metadata": {
    "collapsed": false
   },
   "outputs": [],
   "source": [
    "df.sort_values(by='z').loc[:, ['z', 'number', 'LATburst']]"
   ]
  },
  {
   "cell_type": "code",
   "execution_count": null,
   "metadata": {
    "collapsed": false
   },
   "outputs": [],
   "source": [
    "#axLims = (51.51, 55.2)\n",
    "\n",
    "\n",
    "plt.clf()\n",
    "plt.figure(figsize=(8,7))\n",
    "#plt.figure()\n",
    "\n",
    "pltKwgs = dict(fmt='o', color='white', ecolor='blue', ms=5, lw=0.6, mec='blue', mew=0.75,\n",
    "               capsize=0, alpha=1, label='x: LCDM\\ny: Riess')\n",
    "plt.errorbar(x=df['z'], y=df['diff_1v2'], **pltKwgs)\n",
    "\n",
    "\n",
    "pltKwgs = dict(fmt='o', color='white', ecolor='red', ms=5, lw=0.6, mec='red', mew=0.75,\n",
    "               capsize=0, alpha=1, label='x: LCDM\\ny: Weyl')\n",
    "plt.errorbar(x=df['z'], y=df['diff_1v3'], **pltKwgs)\n",
    "\n",
    "\n",
    "pltKwgs = dict(fmt='o', color='white', ecolor='green', ms=5, lw=0.6, mec='green', mew=0.75,\n",
    "               capsize=0, alpha=1, label='x: Riess\\ny: Weyl')\n",
    "plt.errorbar(x=df['z'], y=df['diff_2v3'], **pltKwgs)\n",
    "\n",
    "\n",
    "# plt.xlim(*axLims)\n",
    "# plt.ylim(*axLims)\n",
    "plt.legend(loc=0, fontsize=11, labelspacing=0.7, handletextpad=0, frameon=False)\n",
    "plt.ylabel('Diff $\\log_{10}$($E_{iso}$) (erg)', fontsize=13)\n",
    "plt.xlabel('$z$', fontsize=13)\n",
    "plt.yscale('log')\n",
    "plt.xscale('log')\n",
    "plt.show()"
   ]
  },
  {
   "cell_type": "code",
   "execution_count": null,
   "metadata": {
    "collapsed": false
   },
   "outputs": [],
   "source": [
    "xLims = (None, None)\n",
    "yLims = (None, None)\n",
    "\n",
    "xLims = (0.2, 1)\n",
    "yLims = (-0.001, .05)\n",
    "\n",
    "\n",
    "plt.clf()\n",
    "plt.figure(figsize=(8,7))\n",
    "#plt.figure()\n",
    "\n",
    "plt.plot(df['z'], df['diff_1v2'], marker='o', ms=8, color='white', mec='blue', mew=2, lw=0,  label='x: LCDM\\ny: Riess')\n",
    "\n",
    "plt.plot(df['z'], df['diff_1v3'], marker='o', ms=8, color='white', mec='red', mew=2, lw=0, label='x: LCDM\\ny: Weyl')\n",
    "\n",
    "plt.plot(df['z'], df['diff_2v3'], marker='o', ms=8, color='white', mec='green', mew=2, lw=0, label='x: Riess\\ny: Weyl')\n",
    "\n",
    "plt.axvline(0.46, 0, 1, color='k', lw=2, alpha=0.5)\n",
    "\n",
    "plt.xlim(*xLims)\n",
    "plt.ylim(*yLims)\n",
    "plt.legend(loc=0, fontsize=11, labelspacing=0.7, handletextpad=0, frameon=False)\n",
    "plt.ylabel('Diff $\\log_{10}$($E_{iso}$) (erg)', fontsize=13)\n",
    "plt.xlabel('$z$', fontsize=13)\n",
    "plt.show()"
   ]
  },
  {
   "cell_type": "code",
   "execution_count": null,
   "metadata": {
    "collapsed": true
   },
   "outputs": [],
   "source": []
  }
 ],
 "metadata": {
  "kernelspec": {
   "display_name": "Python 2",
   "language": "python",
   "name": "python2"
  },
  "language_info": {
   "codemirror_mode": {
    "name": "ipython",
    "version": 2
   },
   "file_extension": ".py",
   "mimetype": "text/x-python",
   "name": "python",
   "nbconvert_exporter": "python",
   "pygments_lexer": "ipython2",
   "version": "2.7.11"
  }
 },
 "nbformat": 4,
 "nbformat_minor": 0
}
