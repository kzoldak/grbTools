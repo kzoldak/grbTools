{
 "cells": [
  {
   "cell_type": "code",
   "execution_count": 1,
   "metadata": {},
   "outputs": [],
   "source": [
    "from __future__ import division\n",
    "import os\n",
    "\n",
    "import numpy as np\n",
    "import pandas as pd\n",
    "from numpy import sqrt\n",
    "from scipy import integrate\n",
    "\n",
    "import matplotlib.pyplot as plt\n",
    "%matplotlib inline"
   ]
  },
  {
   "cell_type": "code",
   "execution_count": 2,
   "metadata": {},
   "outputs": [],
   "source": [
    "def journal():\n",
    "    '''\n",
    "    Appears nearly square. I like this best.\n",
    "    'figure.figsize': [3.1, 2.6]\n",
    "    \n",
    "    Use: plt.tight_layout(pad=0.1, w_pad=0.0, h_pad=0.0)\n",
    "    plt.xlabel('$E_{iso}$ $(erg)$',labelpad=-1)  \n",
    "    plt.ylabel('$E^*_{pk}$ $(keV)$',labelpad=-2)\n",
    "    \n",
    "    '''\n",
    "    params = {'backend': 'pdf',\n",
    "              'axes.labelsize':  10,\n",
    "              'font.size':       10,\n",
    "              'legend.fontsize': 8,\n",
    "              'xtick.labelsize': 8,\n",
    "              'ytick.labelsize': 8,\n",
    "              'xtick.direction': 'in',\n",
    "              'ytick.direction': 'in',\n",
    "              'text.usetex':     True,\n",
    "              'figure.figsize': [4,3], #[4,3], #[3.1, 2.6], # [7,6]\n",
    "              'font.family': 'serif',\n",
    "              'ytick.right': True}\n",
    "    plt.rcParams.update(params)"
   ]
  },
  {
   "cell_type": "code",
   "execution_count": 3,
   "metadata": {},
   "outputs": [],
   "source": [
    "journal()"
   ]
  },
  {
   "cell_type": "markdown",
   "metadata": {},
   "source": [
    "Cosmological Models\n",
    "---\n",
    "\n",
    "#### All luminosity distance functions must pass results in parsecs."
   ]
  },
  {
   "cell_type": "code",
   "execution_count": 4,
   "metadata": {},
   "outputs": [],
   "source": [
    "def LumDist_concordance(redshift, H_knot=None, omega_m=None):\n",
    "    \"\"\"\n",
    "    This is the function we use in our work, but different cosmo constants \n",
    "    as well as DL units. \n",
    "    \"\"\"\n",
    "    z           = redshift\n",
    "    if H_knot is None:\n",
    "        H_knot      = 71.               # Hubble Constant.  Units: km/s/Mpc\n",
    "    if omega_m is None:\n",
    "        omega_m     = 0.27             # Matter Density.\n",
    "    omega_l     = 1.0 - omega_m\n",
    "    \n",
    "    c           = 2.99792458e5      # SPEED OF LIGHT    Units: km/s\n",
    "    def Aint(z):\n",
    "        return (1./(sqrt(((1.+z)*(1.+z)*(1. + omega_m * z))-(z*(2.+ z)*omega_l ))))\n",
    "    AA      = integrate.quad(Aint, 0.0, z)\n",
    "    DL_Mpc  = (c * (1. + z) / H_knot) * AA[0]\n",
    "    DL_pc = DL_Mpc * (1E6) # convert Mpc to pc\n",
    "    return DL_pc\n",
    "\n",
    "\n",
    "def LumDist_riess(redshift, H_knot=None, omega_m=None):\n",
    "    \"\"\"\n",
    "    Lower order expansion for dark energy term (w). Equation 14 in Riess et al. 2004. \n",
    "    w(z) = w0 + w'z\n",
    "    \"\"\"\n",
    "    z           = redshift\n",
    "    if H_knot is None:\n",
    "        H_knot      = 71.               # Hubble Constant.  Units: km/s/Mpc\n",
    "    if omega_m is None:\n",
    "        omega_m     = 0.27             # Matter Density.\n",
    "    omega_l     = 1.0 - omega_m\n",
    "    c           = 2.99792458e5      # SPEED OF LIGHT    Units: km/s\n",
    "    w0 = -1.31\n",
    "    wp = 1.48   # p: prime symbol\n",
    "    def Aint(z):\n",
    "        return 1./np.sqrt( ((1.+z)**3)*omega_m + \\\n",
    "                         omega_l*((1.+z)**(3*(1+w0-wp)))*np.exp(3*wp*z) )\n",
    "    AA      = integrate.quad(Aint, 0.0, z)\n",
    "    DL_Mpc  = (c * (1. + z) / H_knot) * AA[0]\n",
    "    DL_pc = DL_Mpc * (1E6) # convert Mpc to pc\n",
    "    return DL_pc\n",
    "\n",
    "\n",
    "def LumDist_weylgravity(redshift, H_knot=None):\n",
    "    \"\"\"\n",
    "    Weyl Gravity.\n",
    "    Equation 237 in Mannheim 2006 paper\n",
    "    q_knot      = -0.37 or -0.2\n",
    "    \"\"\"\n",
    "    z           = redshift\n",
    "    if H_knot is None:\n",
    "        H_knot      = 71.               # Hubble Constant.  Units: km/s/Mpc\n",
    "    c           = 2.99792458e5      # SPEED OF LIGHT    Units: km/s\n",
    "    q_knot      = -0.37\n",
    "    DL_Mpc  = (-c * ((1. + z)**2) / (H_knot * q_knot)) * \\\n",
    "                (1-np.sqrt(1 + q_knot - (q_knot/((1+z)**2))))\n",
    "    DL_pc = DL_Mpc * (1E6) # convert Mpc to pc\n",
    "    return DL_pc\n",
    "\n",
    "# def LumDist_wexpansion_2(redshift):\n",
    "#     H_knot      = 71               # Hubble Constant.  Units: km/s/Mpc\n",
    "#     omega_m     = 0.27             # Matter Density.\n",
    "#     omega_l     = 1.0 - omega_m\n",
    "#     c          = 2.99792458e5      # SPEED OF LIGHT    Units: km/s\n",
    "#     w0 = -1.31\n",
    "#     wa = \n",
    "\n",
    "#     z = redshift\n",
    "#     def Aint(z):\n",
    "#         return 1./np.sqrt( ((1.+z)**3)*omega_m + \\\n",
    "#                          omega_l*((1.+z)**(3*(1+w0+wa)))*np.exp(-3*wz*z/(1+z)) )\n",
    "#     AA      = integrate.quad(Aint, 0.0, z)\n",
    "#     DL_Mpc  = (c * (1. + z) / H_knot) * AA[0]\n",
    "#     DL_pc = DL_Mpc * (1E6)\n",
    "#     return DL_pc\n",
    "\n",
    "    \n",
    "def distance_modulus(lumdistance):\n",
    "    return 5*np.log10(lumdistance)-5\n",
    "\n",
    "\n",
    "def get_moduli(model, redshifts=None, H_knot=None, omega_m=None):\n",
    "    \"\"\"\n",
    "    model : str. 'concord', 'weyl', or 'riess'\n",
    "                    or 'c', 'w', and 'r'\n",
    "    \n",
    "    \"\"\"\n",
    "    H0 = H_knot\n",
    "    OM = omega_m\n",
    "    if model.startswith('c'):   \n",
    "        DLs = [LumDist_concordance(redshift=z, H_knot=H0, omega_m=OM) for z in redshifts]\n",
    "    elif model.startswith('r'):   \n",
    "        DLs = [LumDist_riess(redshift=z, H_knot=H0, omega_m=OM) for z in redshifts]\n",
    "    elif model.startswith('w'):   \n",
    "        DLs = [LumDist_weylgravity(redshift=z, H_knot=H0) for z in redshifts]\n",
    "    moduli = [distance_modulus(lumdistance=dL) for dL in DLs]\n",
    "    return moduli"
   ]
  },
  {
   "cell_type": "markdown",
   "metadata": {},
   "source": [
    "Redshifts\n",
    "---"
   ]
  },
  {
   "cell_type": "code",
   "execution_count": 5,
   "metadata": {},
   "outputs": [],
   "source": [
    "redshifts = np.linspace(0, 7, 100)"
   ]
  },
  {
   "cell_type": "markdown",
   "metadata": {},
   "source": [
    "```\n",
    "\n",
    "\n",
    "\n",
    "\n",
    "```"
   ]
  },
  {
   "cell_type": "markdown",
   "metadata": {},
   "source": [
    "There is negligible difference in the models when $\\Omega_M$ is varied. However there is NON-negligible difference when $H_0$ is varied.\n",
    "---\n",
    "Note that $\\Omega_M$ is not even a parameter in the Weyl Gravity model."
   ]
  },
  {
   "cell_type": "markdown",
   "metadata": {},
   "source": [
    "### Concordance Cosmology\n",
    "---"
   ]
  },
  {
   "cell_type": "code",
   "execution_count": 6,
   "metadata": {},
   "outputs": [
    {
     "name": "stderr",
     "output_type": "stream",
     "text": [
      "/Users/kimzoldak/anaconda3/lib/python3.7/site-packages/ipykernel_launcher.py:78: RuntimeWarning: divide by zero encountered in log10\n"
     ]
    },
    {
     "data": {
      "text/plain": [
       "<Figure size 288x216 with 0 Axes>"
      ]
     },
     "metadata": {},
     "output_type": "display_data"
    },
    {
     "data": {
      "image/png": "[encoded data removed]",
      "text/plain": [
       "<Figure size 432x288 with 1 Axes>"
      ]
     },
     "metadata": {
      "needs_background": "light"
     },
     "output_type": "display_data"
    }
   ],
   "source": [
    "plt.clf()\n",
    "plt.figure(figsize=(6,4))\n",
    "\n",
    "xdata = redshifts\n",
    "\n",
    "\n",
    "\n",
    "H_knot = 70.\n",
    "omega_m = 0.28\n",
    "ydata1 = get_moduli(model='c',\n",
    "                    redshifts=redshifts, \n",
    "                    H_knot=H_knot, \n",
    "                    omega_m=omega_m)\n",
    "label = 'Concorance Cosmology\\n$H_0=%.1f$ km s$^{-1}$ Mpc$^{-1}$ \\n$\\Omega_M=%.2f$ \\n$\\Omega_{\\Lambda}=%.2f$'%(H_knot, \n",
    "                                                                                                               omega_m, \n",
    "                                                                                                               1.0-omega_m)\n",
    "plt.plot(xdata, ydata1, color='k', alpha=0.25, lw=2, ls='-', label=label)\n",
    "\n",
    "\n",
    "H_knot = 70.\n",
    "omega_m = 0.32\n",
    "ydata1 = get_moduli(model='c',\n",
    "                    redshifts=redshifts, \n",
    "                    H_knot=H_knot, \n",
    "                    omega_m=omega_m)\n",
    "label = 'Concorance Cosmology\\n$H_0=%.1f$ km s$^{-1}$ Mpc$^{-1}$ \\n$\\Omega_M=%.2f$ \\n$\\Omega_{\\Lambda}=%.2f$'%(H_knot, \n",
    "                                                                                                               omega_m, \n",
    "                                                                                                               1.0-omega_m)\n",
    "plt.plot(xdata, ydata1, color='k', alpha=0.5, lw=2, ls=':', label=label)\n",
    "\n",
    "\n",
    "plt.minorticks_on()\n",
    "plt.xlim(0, 5.5)\n",
    "plt.ylim(39, 50)\n",
    "plt.legend(loc=0, fontsize=11)\n",
    "plt.xlabel('$z$', fontsize=14)\n",
    "plt.ylabel('$\\mu$', fontsize=14)\n",
    "plt.show()"
   ]
  },
  {
   "cell_type": "code",
   "execution_count": 7,
   "metadata": {},
   "outputs": [
    {
     "name": "stderr",
     "output_type": "stream",
     "text": [
      "/Users/kimzoldak/anaconda3/lib/python3.7/site-packages/ipykernel_launcher.py:78: RuntimeWarning: divide by zero encountered in log10\n"
     ]
    },
    {
     "data": {
      "text/plain": [
       "<Figure size 288x216 with 0 Axes>"
      ]
     },
     "metadata": {},
     "output_type": "display_data"
    },
    {
     "data": {
      "image/png": "[encoded data removed]",
      "text/plain": [
       "<Figure size 432x288 with 1 Axes>"
      ]
     },
     "metadata": {
      "needs_background": "light"
     },
     "output_type": "display_data"
    }
   ],
   "source": [
    "plt.clf()\n",
    "plt.figure(figsize=(6,4))\n",
    "\n",
    "xdata = redshifts\n",
    "\n",
    "\n",
    "\n",
    "H_knot = 65.\n",
    "omega_m = 0.3\n",
    "ydata1 = get_moduli(model='c',\n",
    "                    redshifts=redshifts, \n",
    "                    H_knot=H_knot, \n",
    "                    omega_m=omega_m)\n",
    "label = 'Concorance Cosmology\\n$H_0=%.1f$ km s$^{-1}$ Mpc$^{-1}$ \\n$\\Omega_M=%.2f$ \\n$\\Omega_{\\Lambda}=%.2f$'%(H_knot, \n",
    "                                                                                                               omega_m, \n",
    "                                                                                                               1.0-omega_m)\n",
    "plt.plot(xdata, ydata1, color='k', alpha=0.25, lw=2, ls='-', label=label)\n",
    "\n",
    "\n",
    "H_knot = 75.\n",
    "omega_m = 0.3\n",
    "ydata1 = get_moduli(model='c',\n",
    "                    redshifts=redshifts, \n",
    "                    H_knot=H_knot, \n",
    "                    omega_m=omega_m)\n",
    "label = 'Concorance Cosmology\\n$H_0=%.1f$ km s$^{-1}$ Mpc$^{-1}$ \\n$\\Omega_M=%.2f$ \\n$\\Omega_{\\Lambda}=%.2f$'%(H_knot, \n",
    "                                                                                                               omega_m, \n",
    "                                                                                                               1.0-omega_m)\n",
    "plt.plot(xdata, ydata1, color='k', alpha=0.5, lw=2, ls=':', label=label)\n",
    "\n",
    "\n",
    "plt.minorticks_on()\n",
    "plt.xlim(0, 5.5)\n",
    "plt.ylim(39, 50)\n",
    "plt.legend(loc=0, fontsize=11)\n",
    "plt.xlabel('$z$', fontsize=14)\n",
    "plt.ylabel('$\\mu$', fontsize=14)\n",
    "plt.show()"
   ]
  },
  {
   "cell_type": "markdown",
   "metadata": {},
   "source": [
    "### Riess Cosmology\n",
    "---"
   ]
  },
  {
   "cell_type": "code",
   "execution_count": 8,
   "metadata": {},
   "outputs": [
    {
     "name": "stderr",
     "output_type": "stream",
     "text": [
      "/Users/kimzoldak/anaconda3/lib/python3.7/site-packages/ipykernel_launcher.py:78: RuntimeWarning: divide by zero encountered in log10\n"
     ]
    },
    {
     "data": {
      "text/plain": [
       "<Figure size 288x216 with 0 Axes>"
      ]
     },
     "metadata": {},
     "output_type": "display_data"
    },
    {
     "data": {
      "image/png": "[encoded data removed]",
      "text/plain": [
       "<Figure size 432x288 with 1 Axes>"
      ]
     },
     "metadata": {
      "needs_background": "light"
     },
     "output_type": "display_data"
    }
   ],
   "source": [
    "plt.clf()\n",
    "plt.figure(figsize=(6,4))\n",
    "\n",
    "xdata = redshifts\n",
    "\n",
    "\n",
    "\n",
    "H_knot = 70.\n",
    "omega_m = 0.28\n",
    "ydata1 = get_moduli(model='r',\n",
    "                    redshifts=redshifts, \n",
    "                    H_knot=H_knot, \n",
    "                    omega_m=omega_m)\n",
    "label = \"Riess: $w(z) = w_0 + w'z$\\n$H_0=%.1f$ km s$^{-1}$ Mpc$^{-1}$ \\n$\\Omega_M=%.2f$ \\n$\\Omega_{\\Lambda}=%.2f$\"%(H_knot, \n",
    "                                                                                                               omega_m, \n",
    "                                                                                                               1.0-omega_m)\n",
    "plt.plot(xdata, ydata1, color='k', alpha=0.25, lw=2, ls='-', label=label)\n",
    "\n",
    "\n",
    "H_knot = 70.\n",
    "omega_m = 0.32\n",
    "ydata1 = get_moduli(model='r',\n",
    "                    redshifts=redshifts, \n",
    "                    H_knot=H_knot, \n",
    "                    omega_m=omega_m)\n",
    "label = \"Riess: $w(z) = w_0 + w'z$\\n$H_0=%.1f$ km s$^{-1}$ Mpc$^{-1}$ \\n$\\Omega_M=%.2f$ \\n$\\Omega_{\\Lambda}=%.2f$\"%(H_knot, \n",
    "                                                                                                               omega_m, \n",
    "                                                                                                               1.0-omega_m)\n",
    "plt.plot(xdata, ydata1, color='k', alpha=0.5, lw=2, ls=':', label=label)\n",
    "\n",
    "\n",
    "plt.minorticks_on()\n",
    "plt.xlim(0, 5.5)\n",
    "plt.ylim(39, 50)\n",
    "plt.legend(loc=0, fontsize=11)\n",
    "plt.xlabel('$z$', fontsize=14)\n",
    "plt.ylabel('$\\mu$', fontsize=14)\n",
    "plt.show()\n"
   ]
  },
  {
   "cell_type": "code",
   "execution_count": 9,
   "metadata": {},
   "outputs": [
    {
     "name": "stderr",
     "output_type": "stream",
     "text": [
      "/Users/kimzoldak/anaconda3/lib/python3.7/site-packages/ipykernel_launcher.py:78: RuntimeWarning: divide by zero encountered in log10\n"
     ]
    },
    {
     "data": {
      "text/plain": [
       "<Figure size 288x216 with 0 Axes>"
      ]
     },
     "metadata": {},
     "output_type": "display_data"
    },
    {
     "data": {
      "image/png": "[encoded data removed]",
      "text/plain": [
       "<Figure size 432x288 with 1 Axes>"
      ]
     },
     "metadata": {
      "needs_background": "light"
     },
     "output_type": "display_data"
    }
   ],
   "source": [
    "plt.clf()\n",
    "plt.figure(figsize=(6,4))\n",
    "\n",
    "xdata = redshifts\n",
    "\n",
    "\n",
    "\n",
    "H_knot = 65.\n",
    "omega_m = 0.3\n",
    "ydata1 = get_moduli(model='r',\n",
    "                    redshifts=redshifts, \n",
    "                    H_knot=H_knot, \n",
    "                    omega_m=omega_m)\n",
    "label = \"Riess: $w(z) = w_0 + w'z$\\n$H_0=%.1f$ km s$^{-1}$ Mpc$^{-1}$ \\n$\\Omega_M=%.2f$ \\n$\\Omega_{\\Lambda}=%.2f$\"%(H_knot, \n",
    "                                                                                                               omega_m, \n",
    "                                                                                                               1.0-omega_m)\n",
    "plt.plot(xdata, ydata1, color='k', alpha=0.25, lw=2, ls='-', label=label)\n",
    "\n",
    "\n",
    "H_knot = 75.\n",
    "omega_m = 0.3\n",
    "ydata1 = get_moduli(model='r',\n",
    "                    redshifts=redshifts, \n",
    "                    H_knot=H_knot, \n",
    "                    omega_m=omega_m)\n",
    "label = \"Riess: $w(z) = w_0 + w'z$\\n$H_0=%.1f$ km s$^{-1}$ Mpc$^{-1}$ \\n$\\Omega_M=%.2f$ \\n$\\Omega_{\\Lambda}=%.2f$\"%(H_knot, \n",
    "                                                                                                               omega_m, \n",
    "                                                                                                               1.0-omega_m)\n",
    "plt.plot(xdata, ydata1, color='k', alpha=0.5, lw=2, ls=':', label=label)\n",
    "\n",
    "\n",
    "plt.minorticks_on()\n",
    "plt.xlim(0, 5.5)\n",
    "plt.ylim(39, 50)\n",
    "plt.legend(loc=0, fontsize=11)\n",
    "plt.xlabel('$z$', fontsize=14)\n",
    "plt.ylabel('$\\mu$', fontsize=14)\n",
    "plt.show()\n"
   ]
  },
  {
   "cell_type": "markdown",
   "metadata": {},
   "source": [
    "### Weyl Gravity\n",
    "---\n",
    "Note that Weyl Gravity does not have an omega_M parameter, therefore we already know they will be identical. "
   ]
  },
  {
   "cell_type": "code",
   "execution_count": 10,
   "metadata": {},
   "outputs": [
    {
     "name": "stderr",
     "output_type": "stream",
     "text": [
      "/Users/kimzoldak/anaconda3/lib/python3.7/site-packages/ipykernel_launcher.py:78: RuntimeWarning: divide by zero encountered in log10\n"
     ]
    },
    {
     "data": {
      "text/plain": [
       "<Figure size 288x216 with 0 Axes>"
      ]
     },
     "metadata": {},
     "output_type": "display_data"
    },
    {
     "data": {
      "image/png": "[encoded data removed]",
      "text/plain": [
       "<Figure size 432x288 with 1 Axes>"
      ]
     },
     "metadata": {
      "needs_background": "light"
     },
     "output_type": "display_data"
    }
   ],
   "source": [
    "plt.clf()\n",
    "plt.figure(figsize=(6,4))\n",
    "\n",
    "xdata = redshifts\n",
    "\n",
    "\n",
    "H_knot = 70.\n",
    "ydata1 = get_moduli(model='w',\n",
    "                    redshifts=redshifts, \n",
    "                    H_knot=H_knot)\n",
    "label = \"Weyl Gravity\\n$H_0=%.1f$ km s$^{-1}$ Mpc$^{-1}$\"%(H_knot)\n",
    "plt.plot(xdata, ydata1, color='k', alpha=0.25, lw=2, ls='-', label=label)\n",
    "\n",
    "\n",
    "H_knot = 70.\n",
    "ydata1 = get_moduli(model='w',\n",
    "                    redshifts=redshifts, \n",
    "                    H_knot=H_knot)\n",
    "label = \"Weyl Gravity\\n$H_0=%.1f$ km s$^{-1}$ Mpc$^{-1}$\"%(H_knot)\n",
    "plt.plot(xdata, ydata1, color='k', alpha=0.5, lw=2, ls=':', label=label)\n",
    "\n",
    "\n",
    "plt.minorticks_on()\n",
    "plt.xlim(0, 5.5)\n",
    "plt.ylim(39, 50)\n",
    "plt.legend(loc=0, fontsize=11)\n",
    "plt.xlabel('$z$', fontsize=14)\n",
    "plt.ylabel('$\\mu$', fontsize=14)\n",
    "plt.show()\n"
   ]
  },
  {
   "cell_type": "code",
   "execution_count": 11,
   "metadata": {},
   "outputs": [
    {
     "name": "stderr",
     "output_type": "stream",
     "text": [
      "/Users/kimzoldak/anaconda3/lib/python3.7/site-packages/ipykernel_launcher.py:78: RuntimeWarning: divide by zero encountered in log10\n"
     ]
    },
    {
     "data": {
      "text/plain": [
       "<Figure size 288x216 with 0 Axes>"
      ]
     },
     "metadata": {},
     "output_type": "display_data"
    },
    {
     "data": {
      "image/png": "[encoded data removed]",
      "text/plain": [
       "<Figure size 432x288 with 1 Axes>"
      ]
     },
     "metadata": {
      "needs_background": "light"
     },
     "output_type": "display_data"
    }
   ],
   "source": [
    "plt.clf()\n",
    "plt.figure(figsize=(6,4))\n",
    "\n",
    "xdata = redshifts\n",
    "\n",
    "\n",
    "H_knot = 65.\n",
    "ydata1 = get_moduli(model='w',\n",
    "                    redshifts=redshifts, \n",
    "                    H_knot=H_knot)\n",
    "label = \"Weyl Gravity\\n$H_0=%.1f$ km s$^{-1}$ Mpc$^{-1}$\"%(H_knot)\n",
    "plt.plot(xdata, ydata1, color='k', alpha=0.25, lw=2, ls='-', label=label)\n",
    "\n",
    "\n",
    "H_knot = 75.\n",
    "ydata1 = get_moduli(model='w',\n",
    "                    redshifts=redshifts, \n",
    "                    H_knot=H_knot)\n",
    "label = \"Weyl Gravity\\n$H_0=%.1f$ km s$^{-1}$ Mpc$^{-1}$\"%(H_knot)\n",
    "plt.plot(xdata, ydata1, color='k', alpha=0.5, lw=2, ls=':', label=label)\n",
    "\n",
    "\n",
    "plt.minorticks_on()\n",
    "plt.xlim(0, 5.5)\n",
    "plt.ylim(39, 50)\n",
    "plt.legend(loc=0, fontsize=11)\n",
    "plt.xlabel('$z$', fontsize=14)\n",
    "plt.ylabel('$\\mu$', fontsize=14)\n",
    "plt.show()\n"
   ]
  },
  {
   "cell_type": "markdown",
   "metadata": {},
   "source": [
    "Plot For Dissertation\n",
    "---"
   ]
  },
  {
   "cell_type": "code",
   "execution_count": 43,
   "metadata": {},
   "outputs": [
    {
     "name": "stderr",
     "output_type": "stream",
     "text": [
      "/Users/kimzoldak/anaconda3/lib/python3.7/site-packages/ipykernel_launcher.py:78: RuntimeWarning: divide by zero encountered in log10\n"
     ]
    },
    {
     "data": {
      "text/plain": [
       "<Figure size 288x216 with 0 Axes>"
      ]
     },
     "metadata": {},
     "output_type": "display_data"
    },
    {
     "data": {
      "image/png": "[encoded data removed]",
      "text/plain": [
       "<Figure size 288x216 with 1 Axes>"
      ]
     },
     "metadata": {
      "needs_background": "light"
     },
     "output_type": "display_data"
    },
    {
     "data": {
      "text/plain": [
       "0"
      ]
     },
     "execution_count": 43,
     "metadata": {},
     "output_type": "execute_result"
    }
   ],
   "source": [
    "plt.clf()\n",
    "plt.figure()\n",
    "\n",
    "xdata = redshifts\n",
    "\n",
    "H_knot = 67.8\n",
    "omega_m = 0.308\n",
    "ydata0 = get_moduli(model='c',\n",
    "                    redshifts=redshifts, \n",
    "                    H_knot=H_knot, \n",
    "                    omega_m=omega_m)\n",
    "\n",
    "label = 'Flat $\\Lambda$CDM' \n",
    "#\\n$H_0=%.1f$ km s$^{-1}$ Mpc$^{-1}$ \\n$\\Omega_M=%.3f$, $\\Omega_{\\Lambda}=1-\\Omega_M$'%(H_knot, omega_m)\n",
    "plt.plot(xdata, ydata0, color='k', alpha=0.75, lw=0.75, ls='-', label=label)\n",
    "\n",
    "\n",
    "\n",
    "H_knot = 65.\n",
    "omega_m = 0.3\n",
    "ydata1 = get_moduli(model='c',\n",
    "                    redshifts=redshifts, \n",
    "                    H_knot=H_knot, \n",
    "                    omega_m=omega_m)\n",
    "\n",
    "H_knot = 75.\n",
    "omega_m = 0.3\n",
    "ydata2 = get_moduli(model='c',\n",
    "                    redshifts=redshifts, \n",
    "                    H_knot=H_knot, \n",
    "                    omega_m=omega_m)\n",
    "\n",
    "plt.fill_between(x=redshifts, y1=ydata1, y2=ydata2, color='gray', alpha=0.25, ) \n",
    "\n",
    "\n",
    "\n",
    "\n",
    "\n",
    "# #           Other cosmologies.\n",
    "# Riess Cosmo\n",
    "# H_knot = None\n",
    "# omega_m = None\n",
    "H_knot = 67.8\n",
    "omega_m = 0.308\n",
    "ydata0 = get_moduli(model='r',\n",
    "                    redshifts=redshifts, \n",
    "                    H_knot=H_knot, \n",
    "                    omega_m=omega_m)\n",
    "\n",
    "plt.plot(xdata, ydata0, color='darkturquoise', lw=0.75, alpha=0.75, label=\"Riess Cosmology\") #: $w(z) = w_0 + w'z$\")\n",
    "\n",
    "H_knot = 65.\n",
    "omega_m = 0.3\n",
    "ydata1 = get_moduli(model='r',\n",
    "                    redshifts=redshifts, \n",
    "                    H_knot=H_knot, \n",
    "                    omega_m=omega_m)\n",
    "\n",
    "H_knot = 75.\n",
    "omega_m = 0.3\n",
    "ydata2 = get_moduli(model='r',\n",
    "                    redshifts=redshifts, \n",
    "                    H_knot=H_knot, \n",
    "                    omega_m=omega_m)\n",
    "plt.fill_between(x=redshifts, y1=ydata1, y2=ydata2, color='cyan', alpha=0.25,)\n",
    "\n",
    "\n",
    "                                                                                                               \n",
    "# Weyl gravity\n",
    "# H_knot = None\n",
    "H_knot = 67.8\n",
    "ydata0 = get_moduli(model='w',\n",
    "                    redshifts=redshifts, \n",
    "                    H_knot=H_knot)\n",
    "\n",
    "plt.plot(xdata, ydata0, color='darkgoldenrod', lw=0.75, alpha=0.75, label='Weyl Gravity') \n",
    "\n",
    "# Weyl gravity\n",
    "H_knot = 65.\n",
    "ydata1 = get_moduli(model='w',\n",
    "                    redshifts=redshifts, \n",
    "                    H_knot=H_knot)\n",
    "# Weyl gravity\n",
    "H_knot = 75.\n",
    "ydata2 = get_moduli(model='w',\n",
    "                    redshifts=redshifts, \n",
    "                    H_knot=H_knot)\n",
    "\n",
    "plt.fill_between(x=redshifts, y1=ydata1, y2=ydata2, color='goldenrod', alpha=0.25,)\n",
    "\n",
    "plt.figtext(0.5, 0.2, '$H_0=67.8$ km s$^{-1}$ Mpc$^{-1}$\\n$\\Omega_M=0.308$\\n$\\Omega_{\\Lambda}=1-\\Omega_M$', \n",
    "            fontsize=10)\n",
    "\n",
    "plt.minorticks_on()\n",
    "\n",
    "# plt.xlim(0, 5.5)\n",
    "# plt.ylim(35, 50)\n",
    "\n",
    "plt.xlim(0, 5.5)\n",
    "plt.ylim(38, 49)\n",
    "plt.legend(loc=7, fontsize=11, labelspacing=0.3, frameon=False)\n",
    "plt.xlabel('$z$', fontsize=14)\n",
    "plt.ylabel('$\\mu$ (mag)', fontsize=14)\n",
    "filename = ('cosmologicalmodels_with_diff_H0.pdf')\n",
    "plt.savefig(filename)\n",
    "plt.show()\n",
    "\n",
    "os.system('cp %s %s'%('cosmologicalmodels_with_diff_H0.pdf', '/Users/kimzoldak/Documents/Thesis/Chapters/Figures/'))\n",
    "\n",
    "os.system('open %s'%'/Users/kimzoldak/Documents/Thesis/Chapters/Figures/cosmologicalmodels_with_diff_H0.pdf')\n",
    "\n",
    "\n"
   ]
  },
  {
   "cell_type": "code",
   "execution_count": null,
   "metadata": {},
   "outputs": [],
   "source": [
    "plt.figtext(0.25, 0.4, '$H_0=67.8$ km s$^{-1}$ Mpc$^{-1}$\\n$\\Omega_M=0.308$\\n$\\Omega_{\\Lambda}=1-\\Omega_M$')"
   ]
  },
  {
   "cell_type": "code",
   "execution_count": 14,
   "metadata": {},
   "outputs": [
    {
     "name": "stdout",
     "output_type": "stream",
     "text": [
      "Alternatives to Dark Matter and Dark Energy__Mannheim_2006__Weyl_gravity.pdf\r\n",
      "Chevallier_Polarski_2001.pdf\r\n",
      "Cosmological_Models__Calc_Eiso__Diff_Cosmo.ipynb\r\n",
      "Cosmological_Models__Calc_Eiso__Diff_H0.ipynb\r\n",
      "Cosmological_Models__Hubble_Diagram-Copy1.ipynb\r\n",
      "Cosmological_Models__Hubble_Diagram__Comparing_the_2ndOrderExpansion__w0wa.ipynb\r\n",
      "Cosmological_Models__Hubble_Diagram__Dissertation_Plot.ipynb\r\n",
      "Cosmological_Models__Hubble_Diagram__different_H0.ipynb\r\n",
      "Cosmological_Models__Hubble_Diagram__withData.ipynb\r\n",
      "ExploringEisoDeltas__Diff_Cosmo-Copy1.ipynb\r\n",
      "ExploringEisoDeltas__Diff_Cosmo-Copy2.ipynb\r\n",
      "ExploringEisoDeltas__Diff_Cosmo.ipynb\r\n",
      "ExploringEisoDeltas__Diff_H0.ipynb\r\n",
      "Kowalski2008_table11.txt\r\n",
      "Kowalski2008_table11_2.txt\r\n",
      "Kowalski2008_table11_orig.txt\r\n",
      "Kowalski_2008_ApJ_686_749.pdf\r\n",
      "Linder2003.pdf\r\n",
      "Riess_2004_ApJ_607_665.pdf\r\n",
      "Schaefer2007_table6.txt\r\n",
      "Schaefer2007_table6_2.txt\r\n",
      "Schaefer2007_table6_orig.txt\r\n",
      "Schaefer_2007_ApJ_660_16.pdf\r\n",
      "Schaefers_Table6__cleandata.ipynb\r\n",
      "Schaefers_Table6_explained.ipynb\r\n",
      "Schaefers_Table6_regression.ipynb\r\n",
      "Untitled.ipynb\r\n",
      "cleandata.ipynb\r\n",
      "cosmologicalmodels_with_diff_H0.pdf\r\n",
      "eisoenergies_diff_H0.txt\r\n",
      "eisoenergies_diff_cosmo.txt\r\n",
      "least_squares_curve_fit_to_Schaefers_69GRBs.ipynb\r\n",
      "w0wa_cosmology_several_different_parameters.pdf\r\n"
     ]
    }
   ],
   "source": [
    "ls"
   ]
  },
  {
   "cell_type": "code",
   "execution_count": null,
   "metadata": {},
   "outputs": [],
   "source": [
    "os.system('open %s'%filename)"
   ]
  },
  {
   "cell_type": "code",
   "execution_count": null,
   "metadata": {},
   "outputs": [],
   "source": [
    "!open ./"
   ]
  },
  {
   "cell_type": "code",
   "execution_count": null,
   "metadata": {
    "collapsed": true
   },
   "outputs": [],
   "source": []
  },
  {
   "cell_type": "code",
   "execution_count": null,
   "metadata": {
    "collapsed": true
   },
   "outputs": [],
   "source": []
  },
  {
   "cell_type": "code",
   "execution_count": null,
   "metadata": {
    "collapsed": true
   },
   "outputs": [],
   "source": []
  },
  {
   "cell_type": "code",
   "execution_count": null,
   "metadata": {
    "collapsed": true
   },
   "outputs": [],
   "source": []
  },
  {
   "cell_type": "raw",
   "metadata": {
    "collapsed": true
   },
   "source": [
    "# Supernovae data from Kowalski et al. 2008, table 11\n",
    "df1 = pd.read_csv('Kowalski2008_table11.txt', \n",
    "                  sep='\\t')\n",
    "\n",
    "# GRB data from Schaefer 2007, table 6\n",
    "df2 = pd.read_csv('Schaefer2007_table6.txt', \n",
    "                  sep='\\t')"
   ]
  },
  {
   "cell_type": "markdown",
   "metadata": {},
   "source": [
    "### Plot for dissertation:"
   ]
  },
  {
   "cell_type": "raw",
   "metadata": {},
   "source": [
    "plt.clf()\n",
    "\n",
    "# plt.plot(xdata, ydata, color='k', alpha=0.75, label='Concorance Cosmology')\n",
    "# plt.plot(xdata2, ydata2, color='red', alpha=0.75, label=\"$w(z) = w_0 + w'z$\")\n",
    "# plt.plot(xdata3, ydata3, color='blue', alpha=0.75, label='Weyl Gravity') \n",
    "# plt.axvline(1.4, 0,1, alpha=0.75, color='k', ls='--')\n",
    "\n",
    "plt.plot(xdata, ydata, color='k', alpha=0.5, lw=1,  ls='-', label='Concorance Cosmology')\n",
    "plt.plot(xdata2, ydata2, color='darkturquoise', alpha=0.5, lw=1, ls='-', label=\"$w(z) = w_0 + w'z$\")\n",
    "plt.plot(xdata3, ydata3, color='goldenrod', alpha=0.5,  lw=1, ls='-', label='Weyl Gravity') \n",
    "#plt.axvline(1.4, 0,1, alpha=0.15, color='k', ls='--')\n",
    "\n",
    "# Supernovae\n",
    "plt.errorbar(df1.z, df1.mag, yerr=df1.mag_err, xerr=None, \n",
    "             fmt='o', markersize=2, color='mediumblue', ecolor='blue',\n",
    "             lw=1, capsize=1, alpha=0.1, label='SN Ia')\n",
    "\n",
    "# GRBs\n",
    "plt.errorbar(df2.z, df2.maga, yerr=df2.maga_err, xerr=None, \n",
    "             fmt='d', markersize=3, color='red', ecolor='grey', \n",
    "             markeredgecolor='k', markeredgewidth=0.2, \n",
    "             lw=1, capsize=1, alpha=0.5, label='GRBs')\n",
    "\n",
    "plt.minorticks_on()\n",
    "plt.xlim(0, 5.5)\n",
    "plt.ylim(35, 50)\n",
    "plt.legend(loc=0, fontsize=11, labelspacing=0.2, frameon=False)\n",
    "plt.xlabel('$z$', fontsize=14)\n",
    "plt.ylabel('$\\mu$ (mag)', fontsize=14)\n",
    "filename = ('/Users/KimiZ/Documents/MY_DISSERTATION/Thesis/Chapters/Figures/'\n",
    "            'cosmologicalmodels_withData.pdf')\n",
    "plt.savefig(filename)\n",
    "#plt.show()"
   ]
  }
 ],
 "metadata": {
  "kernelspec": {
   "display_name": "Python 3",
   "language": "python",
   "name": "python3"
  },
  "language_info": {
   "codemirror_mode": {
    "name": "ipython",
    "version": 3
   },
   "file_extension": ".py",
   "mimetype": "text/x-python",
   "name": "python",
   "nbconvert_exporter": "python",
   "pygments_lexer": "ipython3",
   "version": "3.7.0"
  }
 },
 "nbformat": 4,
 "nbformat_minor": 1
}
