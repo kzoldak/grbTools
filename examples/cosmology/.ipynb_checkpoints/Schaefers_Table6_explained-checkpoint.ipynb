{
 "cells": [
  {
   "cell_type": "markdown",
   "metadata": {},
   "source": [
    "Schaefer (2007): The Hubble Diagram to Redshift >6 from 69 Gamma-ray Bursts\n",
    "---\n",
    "\n",
    "In table 6 of this paper, Schaefer presents 6 columns of $\\mu$ magnitudes (distance modulus). The first five, subscripted by numerics from 1-5, are the magnitues calculated using five different luminosity-distance relations. The column just following those, which we refer to as `maga`, is the weighted average of these (see calculations for this below). The last column, which we refer to as `magb`, is the distance modulus derived from a Riess cosmolog ($w_0=-1.31$ and $w'=1.48$). "
   ]
  },
  {
   "cell_type": "markdown",
   "metadata": {},
   "source": [
    "The distance moduli and their $1\\sigma$ uncertainties for all 5 relations: $\\mu_1 \\pm \\sigma_{\\mu_1}$, $\\mu_2 \\pm \\sigma_{\\mu_2}$, $\\mu_3 \\pm \\sigma_{\\mu_3}$, $\\mu_4 \\pm \\sigma_{\\mu_4}$, and $\\mu_5 \\pm \\sigma_{\\mu_5}$.\n",
    "\n",
    "Not every GRB has all 5 $\\mu$ from the luminosity-distance relations, hence the need for a weighted average. \n",
    "\n",
    "The best estimate $\\mu$ for each GRB will be the weighted average of all available distance moduli. Thus, the derived distance modulus for each burst will be:\n",
    "\n",
    "\\begin{equation}\n",
    "\\mu = \\frac{\\sum_{i} \\mu_i /\\sigma_{\\mu_i}^2}{\\sum_{i} \\sigma_{\\mu_i}^{-2}}\n",
    "\\end{equation}\n",
    "\n",
    "and its uncertainty will be:\n",
    "\n",
    "\\begin{equation}\n",
    "\\sigma_{\\mu} = \\left( \\sum_i \\sigma_{\\mu_i}^{-2} \\right)^{-1/2}\n",
    "\\end{equation}\n",
    "\n",
    "These are Equation 28-29.\n",
    "\n",
    "These are weighted averages for each single GRB, not sample statistics. \n",
    "\n"
   ]
  },
  {
   "cell_type": "code",
   "execution_count": 118,
   "metadata": {
    "collapsed": true
   },
   "outputs": [],
   "source": [
    "from __future__ import division\n",
    "import os\n",
    "\n",
    "import numpy as np\n",
    "import pandas as pd\n",
    "\n",
    "from numpy import pi, sqrt\n",
    "from scipy import integrate\n",
    "from scipy.optimize import curve_fit\n",
    "\n",
    "import matplotlib.pyplot as plt\n",
    "%matplotlib inline"
   ]
  },
  {
   "cell_type": "markdown",
   "metadata": {},
   "source": [
    "$D_L$ for Cosmology Models\n",
    "---"
   ]
  },
  {
   "cell_type": "code",
   "execution_count": 111,
   "metadata": {
    "collapsed": true
   },
   "outputs": [],
   "source": [
    "def LumDist_concordance(redshift, H_knot=None, omega_m=None):\n",
    "    \"\"\"\n",
    "    This is the function we use in our work, but different cosmo constants \n",
    "    as well as DL units. \n",
    "    \"\"\"\n",
    "    z           = redshift\n",
    "    if H_knot is None:\n",
    "        H_knot      = 71.               # Hubble Constant.  Units: km/s/Mpc\n",
    "    if omega_m is None:\n",
    "        omega_m     = 0.27             # Matter Density.\n",
    "    omega_l     = 1.0 - omega_m\n",
    "    \n",
    "    c           = 2.99792458e5      # SPEED OF LIGHT    Units: km/s\n",
    "    def Aint(z):\n",
    "        return (1./(sqrt(((1.+z)*(1.+z)*(1. + omega_m * z))-(z*(2.+ z)*omega_l ))))\n",
    "    AA      = integrate.quad(Aint, 0.0, z)\n",
    "    DL_Mpc  = (c * (1. + z) / H_knot) * AA[0]\n",
    "    DL_pc = DL_Mpc * (1E6) # convert Mpc to pc\n",
    "    return DL_pc\n",
    "\n",
    "\n",
    "def LumDist_riess(redshift, H_knot=None, omega_m=None):\n",
    "    \"\"\"\n",
    "    Lower order expansion for dark energy term (w). Equation 14 in Riess et al. 2004. \n",
    "    w(z) = w0 + w'z\n",
    "    \"\"\"\n",
    "    z           = redshift\n",
    "    if H_knot is None:\n",
    "        H_knot      = 71.               # Hubble Constant.  Units: km/s/Mpc\n",
    "    if omega_m is None:\n",
    "        omega_m     = 0.27             # Matter Density.\n",
    "    omega_l     = 1.0 - omega_m\n",
    "    c           = 2.99792458e5      # SPEED OF LIGHT    Units: km/s\n",
    "    w0 = -1.31\n",
    "    wp = 1.48   # p: prime symbol\n",
    "    def Aint(z):\n",
    "        return 1./np.sqrt( ((1.+z)**3)*omega_m + \\\n",
    "                         omega_l*((1.+z)**(3*(1+w0-wp)))*np.exp(3*wp*z) )\n",
    "    AA      = integrate.quad(Aint, 0.0, z)\n",
    "    DL_Mpc  = (c * (1. + z) / H_knot) * AA[0]\n",
    "    DL_pc = DL_Mpc * (1E6) # convert Mpc to pc\n",
    "    return DL_pc\n",
    "\n",
    "\n",
    "def LumDist_weylgravity(redshift, H_knot=None):\n",
    "    \"\"\"\n",
    "    Weyl Gravity.\n",
    "    Equation 237 in Mannheim 2006 paper\n",
    "    q_knot      = -0.37 or -0.2\n",
    "    \"\"\"\n",
    "    z           = redshift\n",
    "    if H_knot is None:\n",
    "        H_knot      = 71.               # Hubble Constant.  Units: km/s/Mpc\n",
    "    c           = 2.99792458e5      # SPEED OF LIGHT    Units: km/s\n",
    "    q_knot      = -0.37\n",
    "    DL_Mpc  = (-c * ((1. + z)**2) / (H_knot * q_knot)) * \\\n",
    "                (1-np.sqrt(1 + q_knot - (q_knot/((1+z)**2))))\n",
    "    DL_pc = DL_Mpc * (1E6) # convert Mpc to pc\n",
    "    return DL_pc\n",
    "\n",
    "# def LumDist_wexpansion_2(redshift):\n",
    "#     H_knot      = 71               # Hubble Constant.  Units: km/s/Mpc\n",
    "#     omega_m     = 0.27             # Matter Density.\n",
    "#     omega_l     = 1.0 - omega_m\n",
    "#     c          = 2.99792458e5      # SPEED OF LIGHT    Units: km/s\n",
    "#     w0 = -1.31\n",
    "#     wa = \n",
    "\n",
    "#     z = redshift\n",
    "#     def Aint(z):\n",
    "#         return 1./np.sqrt( ((1.+z)**3)*omega_m + \\\n",
    "#                          omega_l*((1.+z)**(3*(1+w0+wa)))*np.exp(-3*wz*z/(1+z)) )\n",
    "#     AA      = integrate.quad(Aint, 0.0, z)\n",
    "#     DL_Mpc  = (c * (1. + z) / H_knot) * AA[0]\n",
    "#     DL_pc = DL_Mpc * (1E6)\n",
    "#     return DL_pc\n",
    "\n",
    "    \n",
    "def distance_modulus(lumdistance):\n",
    "    return 5*np.log10(lumdistance)-5\n",
    "\n",
    "\n",
    "def get_moduli(model, redshifts=None, H_knot=None, omega_m=None):\n",
    "    \"\"\"\n",
    "    model : str. 'concord', 'weyl', or 'riess'\n",
    "                    or 'c', 'w', and 'r'\n",
    "    \n",
    "    \"\"\"\n",
    "    H0 = H_knot\n",
    "    OM = omega_m\n",
    "    if model.startswith('c'):   \n",
    "        DLs = [LumDist_concordance(redshift=z, H_knot=H0, omega_m=OM) for z in redshifts]\n",
    "    elif model.startswith('r'):   \n",
    "        DLs = [LumDist_riess(redshift=z, H_knot=H0, omega_m=OM) for z in redshifts]\n",
    "    elif model.startswith('w'):   \n",
    "        DLs = [LumDist_weylgravity(redshift=z, H_knot=H0) for z in redshifts]\n",
    "    moduli = [distance_modulus(lumdistance=dL) for dL in DLs]\n",
    "    return moduli"
   ]
  },
  {
   "cell_type": "code",
   "execution_count": null,
   "metadata": {
    "collapsed": true
   },
   "outputs": [],
   "source": []
  },
  {
   "cell_type": "code",
   "execution_count": 121,
   "metadata": {
    "collapsed": true
   },
   "outputs": [],
   "source": [
    "def plot_format(xdata, ydata, xerr, yerr, xLims, yLims, ax=None, **pltKwargs):\n",
    "    if not pltKwargs:\n",
    "        pltKwargs = dict(fmt='.', color='blue', lw=1, capsize=1)\n",
    "    plt.clf()\n",
    "    if ax:\n",
    "        print('clearning axes')\n",
    "        ax.clear()\n",
    "        ax.cla()\n",
    "    plt.figure(figsize=(5, 3.5))\n",
    "    if ax is None:\n",
    "        ax = plt.gca()\n",
    "    \n",
    "    #  ***** Plot cosmological models:\n",
    "    redshifts = np.linspace(0, 7, 100)\n",
    "    PLT = ax.plot(redshifts, get_moduli(model='c', redshifts=redshifts, H_knot=None, omega_m=None), \n",
    "            color='k', alpha=0.35, label='Concorance Cosmology')\n",
    "    ax.plot(redshifts, get_moduli(model='r', redshifts=redshifts, H_knot=None, omega_m=None), \n",
    "            color='red', alpha=0.35, label=\"Riess: $w(z) = w_0 + w'z$\")\n",
    "    ax.plot(redshifts, get_moduli(model='w', redshifts=redshifts, H_knot=None, omega_m=None), \n",
    "            color='blue', alpha=0.35, label='Weyl Gravity') \n",
    "        \n",
    "    # z, mag\n",
    "    ax.errorbar(xdata, ydata, yerr=yerr, xerr=xerr, **pltKwargs)\n",
    "    ax.axvline(1.4, 0, 1, alpha=0.75, color='k', ls='--')\n",
    "    \n",
    "    ax.minorticks_on()\n",
    "    ax.set_xlim(*xLims)\n",
    "    ax.set_ylim(*yLims)\n",
    "    ax.legend(loc=4, fontsize=11, labelspacing=0.1)\n",
    "    ax.set_xlabel('$z$', fontsize=14)\n",
    "    ax.set_ylabel('$\\mu$', fontsize=14)\n",
    "    #plt.show()\n",
    "    return PLT"
   ]
  },
  {
   "cell_type": "markdown",
   "metadata": {},
   "source": [
    "### $\\mu$ and the uncertainty in $\\mu$ ($\\sigma_{\\mu}$) as given by equations 28 and 29 in Schaefer et al (2007)"
   ]
  },
  {
   "cell_type": "code",
   "execution_count": 122,
   "metadata": {
    "collapsed": true
   },
   "outputs": [],
   "source": [
    "# mu = lambda values,errors: np.nansum([i/(j**2) for i,j in zip(values,errors)])/np.nansum([(j**-2.) for j in errors])\n",
    "# mu_unc = lambda errors: (np.nansum([(j**-2.) for j in errors]))**-0.5\n",
    "\n",
    "def mu(values, errors):\n",
    "    a = []\n",
    "    b = []\n",
    "    for val,err in zip(values,errors):\n",
    "        a.append(val/(err**2))\n",
    "        b.append(err**-2.)\n",
    "    a = np.nansum(a)\n",
    "    b = np.nansum(b)\n",
    "    return a/b\n",
    "\n",
    "def mu_unc(errors):\n",
    "    a = []\n",
    "    for err in errors:\n",
    "        a.append(err**-2.)\n",
    "    a = np.nansum(a)\n",
    "    a = a**-0.5\n",
    "    return a"
   ]
  },
  {
   "cell_type": "markdown",
   "metadata": {},
   "source": [
    "Begin Program\n",
    "---"
   ]
  },
  {
   "cell_type": "markdown",
   "metadata": {},
   "source": [
    "### Read In Data"
   ]
  },
  {
   "cell_type": "code",
   "execution_count": 123,
   "metadata": {
    "collapsed": false
   },
   "outputs": [],
   "source": [
    "# # Supernovae data from Kowalski et al. 2008, table 11\n",
    "# df1 = pd.read_csv('Kowalski2008_table11.txt', \n",
    "#                   sep='\\t')\n",
    "\n",
    "# GRB data from Schaefer 2007, table 6\n",
    "df = pd.read_csv('Schaefer2007_table6.txt', \n",
    "                  sep='\\t')\n",
    "cols = ['mag1', 'mag2', 'mag3', 'mag4', 'mag5'] #, 'maga', 'magb']\n",
    "\n",
    "cols_vals = ['mag1', 'mag2', 'mag3', 'mag4', 'mag5']\n",
    "cols_errs = ['mag1_err', 'mag2_err', 'mag3_err', 'mag4_err', 'mag5_err']\n",
    "\n",
    "\n",
    "bursts = df.GRB.tolist()"
   ]
  },
  {
   "cell_type": "code",
   "execution_count": 124,
   "metadata": {
    "collapsed": false
   },
   "outputs": [
    {
     "data": {
      "text/html": [
       "<div>\n",
       "<table border=\"1\" class=\"dataframe\">\n",
       "  <thead>\n",
       "    <tr style=\"text-align: right;\">\n",
       "      <th></th>\n",
       "      <th>GRB</th>\n",
       "      <th>z</th>\n",
       "      <th>mag1</th>\n",
       "      <th>mag1_err</th>\n",
       "      <th>mag2</th>\n",
       "      <th>mag2_err</th>\n",
       "      <th>mag3</th>\n",
       "      <th>mag3_err</th>\n",
       "      <th>mag4</th>\n",
       "      <th>mag4_err</th>\n",
       "      <th>mag5</th>\n",
       "      <th>mag5_err</th>\n",
       "      <th>maga</th>\n",
       "      <th>maga_err</th>\n",
       "      <th>magb</th>\n",
       "      <th>magb_err</th>\n",
       "    </tr>\n",
       "  </thead>\n",
       "  <tbody>\n",
       "    <tr>\n",
       "      <th>0</th>\n",
       "      <td>970228</td>\n",
       "      <td>0.70</td>\n",
       "      <td>NaN</td>\n",
       "      <td>NaN</td>\n",
       "      <td>42.53</td>\n",
       "      <td>1.31</td>\n",
       "      <td>42.41</td>\n",
       "      <td>1.16</td>\n",
       "      <td>NaN</td>\n",
       "      <td>NaN</td>\n",
       "      <td>43.42</td>\n",
       "      <td>1.21</td>\n",
       "      <td>42.79</td>\n",
       "      <td>0.71</td>\n",
       "      <td>42.56</td>\n",
       "      <td>0.70</td>\n",
       "    </tr>\n",
       "    <tr>\n",
       "      <th>1</th>\n",
       "      <td>970508</td>\n",
       "      <td>0.84</td>\n",
       "      <td>43.09</td>\n",
       "      <td>1.19</td>\n",
       "      <td>43.13</td>\n",
       "      <td>1.34</td>\n",
       "      <td>45.66</td>\n",
       "      <td>1.04</td>\n",
       "      <td>43.92</td>\n",
       "      <td>0.63</td>\n",
       "      <td>43.09</td>\n",
       "      <td>1.20</td>\n",
       "      <td>43.92</td>\n",
       "      <td>0.43</td>\n",
       "      <td>43.68</td>\n",
       "      <td>0.44</td>\n",
       "    </tr>\n",
       "    <tr>\n",
       "      <th>2</th>\n",
       "      <td>970828</td>\n",
       "      <td>0.96</td>\n",
       "      <td>NaN</td>\n",
       "      <td>NaN</td>\n",
       "      <td>42.99</td>\n",
       "      <td>1.28</td>\n",
       "      <td>44.07</td>\n",
       "      <td>1.03</td>\n",
       "      <td>43.61</td>\n",
       "      <td>0.63</td>\n",
       "      <td>43.27</td>\n",
       "      <td>1.25</td>\n",
       "      <td>43.58</td>\n",
       "      <td>0.46</td>\n",
       "      <td>43.32</td>\n",
       "      <td>0.48</td>\n",
       "    </tr>\n",
       "    <tr>\n",
       "      <th>3</th>\n",
       "      <td>971214</td>\n",
       "      <td>3.42</td>\n",
       "      <td>48.76</td>\n",
       "      <td>1.50</td>\n",
       "      <td>48.69</td>\n",
       "      <td>1.19</td>\n",
       "      <td>47.55</td>\n",
       "      <td>1.04</td>\n",
       "      <td>NaN</td>\n",
       "      <td>NaN</td>\n",
       "      <td>49.33</td>\n",
       "      <td>1.33</td>\n",
       "      <td>48.44</td>\n",
       "      <td>0.62</td>\n",
       "      <td>48.06</td>\n",
       "      <td>0.61</td>\n",
       "    </tr>\n",
       "    <tr>\n",
       "      <th>4</th>\n",
       "      <td>980613</td>\n",
       "      <td>1.10</td>\n",
       "      <td>NaN</td>\n",
       "      <td>NaN</td>\n",
       "      <td>NaN</td>\n",
       "      <td>NaN</td>\n",
       "      <td>45.85</td>\n",
       "      <td>1.33</td>\n",
       "      <td>NaN</td>\n",
       "      <td>NaN</td>\n",
       "      <td>NaN</td>\n",
       "      <td>NaN</td>\n",
       "      <td>45.85</td>\n",
       "      <td>1.33</td>\n",
       "      <td>45.63</td>\n",
       "      <td>1.30</td>\n",
       "    </tr>\n",
       "  </tbody>\n",
       "</table>\n",
       "</div>"
      ],
      "text/plain": [
       "      GRB     z   mag1  mag1_err   mag2  mag2_err   mag3  mag3_err   mag4  \\\n",
       "0  970228  0.70    NaN       NaN  42.53      1.31  42.41      1.16    NaN   \n",
       "1  970508  0.84  43.09      1.19  43.13      1.34  45.66      1.04  43.92   \n",
       "2  970828  0.96    NaN       NaN  42.99      1.28  44.07      1.03  43.61   \n",
       "3  971214  3.42  48.76      1.50  48.69      1.19  47.55      1.04    NaN   \n",
       "4  980613  1.10    NaN       NaN    NaN       NaN  45.85      1.33    NaN   \n",
       "\n",
       "   mag4_err   mag5  mag5_err   maga  maga_err   magb  magb_err  \n",
       "0       NaN  43.42      1.21  42.79      0.71  42.56      0.70  \n",
       "1      0.63  43.09      1.20  43.92      0.43  43.68      0.44  \n",
       "2      0.63  43.27      1.25  43.58      0.46  43.32      0.48  \n",
       "3       NaN  49.33      1.33  48.44      0.62  48.06      0.61  \n",
       "4       NaN    NaN       NaN  45.85      1.33  45.63      1.30  "
      ]
     },
     "execution_count": 124,
     "metadata": {},
     "output_type": "execute_result"
    }
   ],
   "source": [
    "df.head()"
   ]
  },
  {
   "cell_type": "markdown",
   "metadata": {},
   "source": [
    "### Check that `maga` is the weighted average"
   ]
  },
  {
   "cell_type": "code",
   "execution_count": 125,
   "metadata": {
    "collapsed": false
   },
   "outputs": [
    {
     "name": "stdout",
     "output_type": "stream",
     "text": [
      "         burst   | our calcs    | real values\n",
      "------------------------------------------------------------\n",
      "         970228: |  42.79  0.71 |   42.79  0.71\n",
      "         970508: |  43.92  0.43 |   43.92  0.43\n",
      "         970828: |  43.58  0.46 |   43.58  0.46\n",
      "         971214: |  48.44  0.62 |   48.44  0.62\n",
      "         980613: |  45.85  1.33 |   45.85  1.33\n",
      "         980703: |  44.07  0.40 |   44.07  0.40\n",
      "         990123: |  44.99  0.45 |   44.99  0.45\n",
      "         990506: |  44.31  0.57 |   44.31  0.57\n",
      "         990510: |  45.46  0.40 |   45.46  0.40\n",
      "         990705: |  43.76  0.46 |   43.77  0.46\n",
      "         990712: |  41.63  0.53 |   41.63  0.53\n",
      "         991208: |  41.69  0.67 |   41.69  0.67\n",
      "         991216: |  43.32  0.42 |   43.32  0.43\n",
      "            131: |  47.71  0.69 |   47.72  0.69\n",
      "            210: |  42.45  0.67 |   42.45  0.67\n",
      "            911: |  45.09  0.68 |   45.10  0.68\n",
      "            926: |  45.62  0.69 |   45.62  0.69\n",
      "          10222: |  44.48  0.41 |   44.48  0.42\n",
      "          10921: |  42.35  0.60 |   42.35  0.60\n",
      "          11211: |  45.64  0.54 |   45.64  0.53\n",
      "          20124: |  46.98  0.43 |   46.98  0.44\n",
      "          20405: |  43.67  0.51 |   43.68  0.51\n",
      "          20813: |  44.11  0.41 |   44.11  0.41\n",
      "          20903: |  40.79  1.14 |   40.79  1.14\n",
      "          21004: |  46.46  0.52 |   46.45  0.52\n",
      "          21211: |  43.58  0.61 |   43.57  0.61\n",
      "          30115: |  46.44  0.63 |   46.44  0.63\n",
      "          30226: |  46.51  0.47 |   46.51  0.47\n",
      "          30323: |  47.13  1.07 |   47.13  1.07\n",
      "          30328: |  44.78  0.46 |   44.78  0.46\n",
      "          30329: |  39.88  0.38 |   39.88  0.38\n",
      "          30429: |  46.46  0.56 |   46.46  0.56\n",
      "          30528: |  44.30  0.59 |   44.30  0.59\n",
      "          40924: |  43.85  0.62 |   43.84  0.61\n",
      "          41006: |  43.91  0.45 |   43.91  0.45\n",
      "          50126: |  45.71  0.57 |   45.71  0.57\n",
      "          50318: |  45.71  0.47 |   45.71  0.47\n",
      "          50319: |  48.06  1.01 |   48.06  1.01\n",
      "          50401: |  46.67  0.59 |   46.67  0.59\n",
      "          50406: |  47.92  0.78 |   47.92  0.78\n",
      "          50408: |  45.51  0.83 |   45.51  0.84\n",
      "          50416: |  42.84  0.84 |   42.84  0.84\n",
      "          50502: |  48.06  0.67 |   48.06  0.67\n",
      "          50505: |  47.77  0.60 |   47.76  0.60\n",
      "          50525: |  43.34  0.42 |   43.34  0.42\n",
      "          50603: |  45.45  0.61 |   45.45  0.61\n",
      "          50802: |  45.58  1.05 |   45.59  1.05\n",
      "          50820: |  46.70  0.65 |   46.70  0.66\n",
      "          50824: |  43.35  1.29 |   43.35  1.29\n",
      "          50904: |  49.34  0.53 |   49.34  0.53\n",
      "          50908: |  46.97  0.79 |   46.97  0.79\n",
      "          50922: |  45.92  0.57 |   45.92  0.57\n",
      "          51022: |  43.96  0.42 |   43.95  0.42\n",
      "          51109: |  45.82  0.82 |   45.82  0.83\n",
      "          51111: |  44.58  0.69 |   44.58  0.69\n",
      "          60108: |  47.43  1.04 |   47.43  1.04\n",
      "          60115: |  47.80  0.82 |   47.80  0.82\n",
      "          60116: |  48.42  0.95 |   48.42  0.95\n",
      "          60124: |  47.03  0.44 |   47.02  0.44\n",
      "          60206: |  46.63  0.64 |   46.63  0.64\n",
      "          60210: |  48.08  0.46 |   48.08  0.46\n",
      "          60223: |  47.93  0.61 |   47.93  0.61\n",
      "          60418: |  45.45  0.56 |   45.45  0.56\n",
      "          60502: |  44.71  0.65 |   44.71  0.66\n",
      "          60510: |  48.71  0.95 |   48.71  0.95\n",
      "          60526: |  47.35  0.46 |   47.35  0.46\n",
      "          60604: |  46.48  0.63 |   46.48  0.63\n",
      "          60605: |  47.21  0.72 |   47.21  0.72\n",
      "          60607: |  46.49  0.59 |   46.48  0.59\n"
     ]
    }
   ],
   "source": [
    "cols_vals = ['mag1', 'mag2', 'mag3', 'mag4', 'mag5']\n",
    "cols_errs = ['mag1_err', 'mag2_err', 'mag3_err', 'mag4_err', 'mag5_err']\n",
    "\n",
    "print('         burst   | our calcs    | real values')\n",
    "print('--'*30)\n",
    "for burst in df.GRB.tolist():\n",
    "    values = df.loc[df['GRB'] == burst][cols_vals].values\n",
    "    errors = df.loc[df['GRB'] == burst][cols_errs].values\n",
    "    print('%15s: |  %5.2f %5.2f |   %5.2f %5.2f'%(burst, mu(values, errors), mu_unc(errors), \n",
    "                                              df.loc[df['GRB'] == burst]['maga'].values, \n",
    "                                              df.loc[df['GRB'] == burst]['maga_err'].values))"
   ]
  },
  {
   "cell_type": "code",
   "execution_count": 131,
   "metadata": {
    "collapsed": false
   },
   "outputs": [
    {
     "name": "stdout",
     "output_type": "stream",
     "text": [
      "         970228:            42.79 +-  0.71\n",
      "         970508:            43.92 +-  0.43\n",
      "         970828:            43.58 +-  0.46\n",
      "         971214:            48.44 +-  0.62\n",
      "         980613:            45.85 +-  1.33\n",
      "         980703:            44.07 +-  0.40\n",
      "         990123:            44.99 +-  0.45\n",
      "         990506:            44.31 +-  0.57\n",
      "         990510:            45.46 +-  0.40\n",
      "         990705:            43.76 +-  0.46\n",
      "         990712:            41.63 +-  0.53\n",
      "         991208:            41.69 +-  0.67\n",
      "         991216:            43.32 +-  0.42\n",
      "            131:            47.71 +-  0.69\n",
      "            210:            42.45 +-  0.67\n",
      "            911:            45.09 +-  0.68\n",
      "            926:            45.62 +-  0.69\n",
      "          10222:            44.48 +-  0.41\n",
      "          10921:            42.35 +-  0.60\n",
      "          11211:            45.64 +-  0.54\n",
      "          20124:            46.98 +-  0.43\n",
      "          20405:            43.67 +-  0.51\n",
      "          20813:            44.11 +-  0.41\n",
      "          20903:            40.79 +-  1.14\n",
      "          21004:            46.46 +-  0.52\n",
      "          21211:            43.58 +-  0.61\n",
      "          30115:            46.44 +-  0.63\n",
      "          30226:            46.51 +-  0.47\n",
      "          30323:            47.13 +-  1.07\n",
      "          30328:            44.78 +-  0.46\n",
      "          30329:            39.88 +-  0.38\n",
      "          30429:            46.46 +-  0.56\n",
      "          30528:            44.30 +-  0.59\n",
      "          40924:            43.85 +-  0.62\n",
      "          41006:            43.91 +-  0.45\n",
      "          50126:            45.71 +-  0.57\n",
      "          50318:            45.71 +-  0.47\n",
      "          50319:            48.06 +-  1.01\n",
      "          50401:            46.67 +-  0.59\n",
      "          50406:            47.92 +-  0.78\n",
      "          50408:            45.51 +-  0.83\n",
      "          50416:            42.84 +-  0.84\n",
      "          50502:            48.06 +-  0.67\n",
      "          50505:            47.77 +-  0.60\n",
      "          50525:            43.34 +-  0.42\n",
      "          50603:            45.45 +-  0.61\n",
      "          50802:            45.58 +-  1.05\n",
      "          50820:            46.70 +-  0.65\n",
      "          50824:            43.35 +-  1.29\n",
      "          50904:            49.34 +-  0.53\n",
      "          50908:            46.97 +-  0.79\n",
      "          50922:            45.92 +-  0.57\n",
      "          51022:            43.96 +-  0.42\n",
      "          51109:            45.82 +-  0.82\n",
      "          51111:            44.58 +-  0.69\n",
      "          60108:            47.43 +-  1.04\n",
      "          60115:            47.80 +-  0.82\n",
      "          60116:            48.42 +-  0.95\n",
      "          60124:            47.03 +-  0.44\n",
      "          60206:            46.63 +-  0.64\n",
      "          60210:            48.08 +-  0.46\n",
      "          60223:            47.93 +-  0.61\n",
      "          60418:            45.45 +-  0.56\n",
      "          60502:            44.71 +-  0.65\n",
      "          60510:            48.71 +-  0.95\n",
      "          60526:            47.35 +-  0.46\n",
      "          60604:            46.48 +-  0.63\n",
      "          60605:            47.21 +-  0.72\n",
      "          60607:            46.49 +-  0.59\n"
     ]
    }
   ],
   "source": [
    "for burst in bursts:\n",
    "    values = df.loc[df['GRB'] == burst][cols_vals].values\n",
    "    errors = df.loc[df['GRB'] == burst][cols_errs].values\n",
    "    print(r'%15s:  %15.2f +- %5.2f'%(burst, mu(values, errors), mu_unc(errors)))"
   ]
  },
  {
   "cell_type": "markdown",
   "metadata": {},
   "source": [
    "Plots\n",
    "---"
   ]
  },
  {
   "cell_type": "code",
   "execution_count": 126,
   "metadata": {
    "collapsed": false
   },
   "outputs": [
    {
     "name": "stderr",
     "output_type": "stream",
     "text": [
      "/Users/KimiZ/anaconda/lib/python2.7/site-packages/ipykernel_launcher.py:78: RuntimeWarning: divide by zero encountered in log10\n"
     ]
    },
    {
     "data": {
      "text/plain": [
       "<matplotlib.figure.Figure at 0x112ac54d0>"
      ]
     },
     "metadata": {},
     "output_type": "display_data"
    },
    {
     "data": {
      "image/png": "[encoded data removed]",
      "text/plain": [
       "<matplotlib.figure.Figure at 0x1126656d0>"
      ]
     },
     "metadata": {},
     "output_type": "display_data"
    },
    {
     "data": {
      "text/plain": [
       "<matplotlib.figure.Figure at 0x1134b5e50>"
      ]
     },
     "metadata": {},
     "output_type": "display_data"
    },
    {
     "data": {
      "image/png": "[encoded data removed]",
      "text/plain": [
       "<matplotlib.figure.Figure at 0x1134b5050>"
      ]
     },
     "metadata": {},
     "output_type": "display_data"
    },
    {
     "data": {
      "text/plain": [
       "<matplotlib.figure.Figure at 0x1134a0210>"
      ]
     },
     "metadata": {},
     "output_type": "display_data"
    },
    {
     "data": {
      "image/png": "[encoded data removed]",
      "text/plain": [
       "<matplotlib.figure.Figure at 0x113461590>"
      ]
     },
     "metadata": {},
     "output_type": "display_data"
    },
    {
     "data": {
      "text/plain": [
       "<matplotlib.figure.Figure at 0x1135b6750>"
      ]
     },
     "metadata": {},
     "output_type": "display_data"
    },
    {
     "data": {
      "image/png": "[encoded data removed]",
      "text/plain": [
       "<matplotlib.figure.Figure at 0x11369a490>"
      ]
     },
     "metadata": {},
     "output_type": "display_data"
    },
    {
     "data": {
      "text/plain": [
       "<matplotlib.figure.Figure at 0x11277c050>"
      ]
     },
     "metadata": {},
     "output_type": "display_data"
    },
    {
     "data": {
      "image/png": "[encoded data removed]",
      "text/plain": [
       "<matplotlib.figure.Figure at 0x112f81d90>"
      ]
     },
     "metadata": {},
     "output_type": "display_data"
    },
    {
     "data": {
      "text/plain": [
       "<matplotlib.figure.Figure at 0x1128477d0>"
      ]
     },
     "metadata": {},
     "output_type": "display_data"
    },
    {
     "data": {
      "image/png": "[encoded data removed]",
      "text/plain": [
       "<matplotlib.figure.Figure at 0x1127a64d0>"
      ]
     },
     "metadata": {},
     "output_type": "display_data"
    },
    {
     "data": {
      "text/plain": [
       "<matplotlib.figure.Figure at 0x113010dd0>"
      ]
     },
     "metadata": {},
     "output_type": "display_data"
    },
    {
     "data": {
      "image/png": "[encoded data removed]",
      "text/plain": [
       "<matplotlib.figure.Figure at 0x1130063d0>"
      ]
     },
     "metadata": {},
     "output_type": "display_data"
    }
   ],
   "source": [
    "colnames = ['mag1', 'mag2', 'mag3', 'mag4', 'mag5', 'maga', 'magb']\n",
    "\n",
    "for col in colnames:\n",
    "    xdata = df.z\n",
    "    ydata = df[col]\n",
    "    yerr = df[col+'_err']\n",
    "    plot_format(xdata=xdata, ydata=ydata, \n",
    "                xerr=None, yerr=yerr, \n",
    "                xLims=(0, 5.5), \n",
    "                yLims=(35, 52.5), ax=None,)# **pltKwargs)\n",
    "    plt.show()"
   ]
  },
  {
   "cell_type": "code",
   "execution_count": null,
   "metadata": {
    "collapsed": true
   },
   "outputs": [],
   "source": []
  },
  {
   "cell_type": "markdown",
   "metadata": {},
   "source": [
    "Check Reiss Cosmology calculation\n",
    "---"
   ]
  },
  {
   "cell_type": "markdown",
   "metadata": {},
   "source": [
    "We can't replicate their results exactly since computing $D_L$ with the redshifts of the GRBs and using Riess cosmology will simply plot the curve of the model. Not sure what he did. "
   ]
  },
  {
   "cell_type": "code",
   "execution_count": 127,
   "metadata": {
    "collapsed": false
   },
   "outputs": [
    {
     "name": "stdout",
     "output_type": "stream",
     "text": [
      " our calcs    | real values\n",
      "------------------------------------------------------------\n",
      "       43.16  |   42.56 \n",
      "       43.63  |   43.68 \n",
      "       43.97  |   43.32 \n",
      "       46.88  |   48.06 \n",
      "       44.32  |   45.63 \n",
      "       44.00  |   43.91 \n",
      "       45.26  |   44.63 \n",
      "       44.76  |   43.99 \n",
      "       45.28  |   45.20 \n",
      "       43.63  |   43.59 \n",
      "       41.90  |   41.50 \n",
      "       43.19  |   41.46 \n",
      "       44.13  |   43.00 \n",
      "       47.38  |   47.37 \n",
      "       43.66  |   42.18 \n",
      "       44.22  |   44.70 \n",
      "       45.85  |   45.32 \n",
      "       45.06  |   44.10 \n",
      "       42.02  |   42.22 \n",
      "       45.92  |   45.52 \n",
      "       46.75  |   46.75 \n",
      "       43.16  |   43.43 \n",
      "       44.64  |   43.89 \n",
      "       40.53  |   40.93 \n",
      "       46.10  |   46.26 \n",
      "       44.10  |   43.37 \n",
      "       46.26  |   46.21 \n",
      "       45.75  |   46.32 \n",
      "       46.85  |   46.90 \n",
      "       45.12  |   44.58 \n",
      "       39.58  |   39.83 \n",
      "       46.39  |   46.27 \n",
      "       43.44  |   44.22 \n",
      "       43.69  |   43.62 \n",
      "       43.19  |   43.72 \n",
      "       44.72  |   45.58 \n",
      "       44.99  |   45.51 \n",
      "       46.77  |   47.73 \n",
      "       46.56  |   46.32 \n",
      "       46.21  |   47.71 \n",
      "       44.62  |   45.25 \n",
      "       42.97  |   42.76 \n",
      "       47.07  |   47.72 \n",
      "       47.28  |   47.48 \n",
      "       42.80  |   43.14 \n",
      "       46.51  |   45.08 \n",
      "       45.41  |   45.38 \n",
      "       46.35  |   46.45 \n",
      "       43.60  |   43.35 \n",
      "       47.99  |   49.00 \n",
      "       46.84  |   46.76 \n",
      "       45.99  |   45.60 \n",
      "       43.50  |   43.69 \n",
      "       46.13  |   45.56 \n",
      "       45.17  |   44.44 \n",
      "       45.81  |   47.19 \n",
      "       46.93  |   47.54 \n",
      "       48.09  |   48.10 \n",
      "       46.08  |   46.73 \n",
      "       47.19  |   46.37 \n",
      "       47.12  |   47.70 \n",
      "       47.34  |   47.65 \n",
      "       45.08  |   45.18 \n",
      "       45.11  |   44.55 \n",
      "       47.53  |   48.42 \n",
      "       46.76  |   47.13 \n",
      "       46.40  |   46.31 \n",
      "       47.07  |   46.97 \n",
      "       46.68  |   46.26 \n"
     ]
    }
   ],
   "source": [
    "H_knot = 71.\n",
    "omega_m = 0.27 \n",
    "\n",
    "ourvalues = np.asarray(get_moduli(model='r', redshifts=df.z, H_knot=H_knot, omega_m=omega_m))\n",
    "\n",
    "realvalues = df['magb'].values\n",
    "realerrors = df['magb_err'].values\n",
    "\n",
    "print(' our calcs    | real values')\n",
    "print('--'*30)\n",
    "for i,j in zip(ourvalues, realvalues):\n",
    "    print('       %5.2f  |   %5.2f '%( i, j))"
   ]
  },
  {
   "cell_type": "code",
   "execution_count": 128,
   "metadata": {
    "collapsed": false
   },
   "outputs": [
    {
     "data": {
      "image/png": "[encoded data removed]",
      "text/plain": [
       "<matplotlib.figure.Figure at 0x112fd6650>"
      ]
     },
     "metadata": {},
     "output_type": "display_data"
    }
   ],
   "source": [
    "plt.clf()\n",
    "plt.plot(df.z,ourvalues, '.', color='k')\n",
    "plt.plot(df.z, realvalues, '.', color='r')\n",
    "plt.show()"
   ]
  },
  {
   "cell_type": "code",
   "execution_count": null,
   "metadata": {
    "collapsed": true
   },
   "outputs": [],
   "source": []
  },
  {
   "cell_type": "code",
   "execution_count": null,
   "metadata": {
    "collapsed": true
   },
   "outputs": [],
   "source": []
  },
  {
   "cell_type": "code",
   "execution_count": null,
   "metadata": {
    "collapsed": true
   },
   "outputs": [],
   "source": []
  },
  {
   "cell_type": "code",
   "execution_count": null,
   "metadata": {
    "collapsed": true
   },
   "outputs": [],
   "source": []
  },
  {
   "cell_type": "code",
   "execution_count": 29,
   "metadata": {
    "collapsed": true
   },
   "outputs": [],
   "source": [
    "Y = df2.maga.values\n",
    "X = df2.z.values"
   ]
  },
  {
   "cell_type": "code",
   "execution_count": 30,
   "metadata": {
    "collapsed": false
   },
   "outputs": [
    {
     "ename": "ValueError",
     "evalue": "Unable to determine number of fit parameters.",
     "output_type": "error",
     "traceback": [
      "\u001b[0;31m---------------------------------------------------------------------------\u001b[0m",
      "\u001b[0;31mValueError\u001b[0m                                Traceback (most recent call last)",
      "\u001b[0;32m<ipython-input-30-26c849253abf>\u001b[0m in \u001b[0;36m<module>\u001b[0;34m()\u001b[0m\n\u001b[0;32m----> 1\u001b[0;31m \u001b[0mpopt\u001b[0m\u001b[0;34m,\u001b[0m\u001b[0mpcov\u001b[0m \u001b[0;34m=\u001b[0m \u001b[0mcurve_fit\u001b[0m\u001b[0;34m(\u001b[0m\u001b[0mdistance_modulus\u001b[0m\u001b[0;34m,\u001b[0m \u001b[0mX\u001b[0m\u001b[0;34m,\u001b[0m \u001b[0mY\u001b[0m\u001b[0;34m)\u001b[0m\u001b[0;34m\u001b[0m\u001b[0m\n\u001b[0m",
      "\u001b[0;32m/Users/KimiZ/anaconda/lib/python2.7/site-packages/scipy/optimize/minpack.pyc\u001b[0m in \u001b[0;36mcurve_fit\u001b[0;34m(f, xdata, ydata, p0, sigma, absolute_sigma, check_finite, bounds, method, jac, **kwargs)\u001b[0m\n\u001b[1;32m    629\u001b[0m         \u001b[0margs\u001b[0m\u001b[0;34m,\u001b[0m \u001b[0mvarargs\u001b[0m\u001b[0;34m,\u001b[0m \u001b[0mvarkw\u001b[0m\u001b[0;34m,\u001b[0m \u001b[0mdefaults\u001b[0m \u001b[0;34m=\u001b[0m \u001b[0m_getargspec\u001b[0m\u001b[0;34m(\u001b[0m\u001b[0mf\u001b[0m\u001b[0;34m)\u001b[0m\u001b[0;34m\u001b[0m\u001b[0m\n\u001b[1;32m    630\u001b[0m         \u001b[0;32mif\u001b[0m \u001b[0mlen\u001b[0m\u001b[0;34m(\u001b[0m\u001b[0margs\u001b[0m\u001b[0;34m)\u001b[0m \u001b[0;34m<\u001b[0m \u001b[0;36m2\u001b[0m\u001b[0;34m:\u001b[0m\u001b[0;34m\u001b[0m\u001b[0m\n\u001b[0;32m--> 631\u001b[0;31m             \u001b[0;32mraise\u001b[0m \u001b[0mValueError\u001b[0m\u001b[0;34m(\u001b[0m\u001b[0;34m\"Unable to determine number of fit parameters.\"\u001b[0m\u001b[0;34m)\u001b[0m\u001b[0;34m\u001b[0m\u001b[0m\n\u001b[0m\u001b[1;32m    632\u001b[0m         \u001b[0mn\u001b[0m \u001b[0;34m=\u001b[0m \u001b[0mlen\u001b[0m\u001b[0;34m(\u001b[0m\u001b[0margs\u001b[0m\u001b[0;34m)\u001b[0m \u001b[0;34m-\u001b[0m \u001b[0;36m1\u001b[0m\u001b[0;34m\u001b[0m\u001b[0m\n\u001b[1;32m    633\u001b[0m     \u001b[0;32melse\u001b[0m\u001b[0;34m:\u001b[0m\u001b[0;34m\u001b[0m\u001b[0m\n",
      "\u001b[0;31mValueError\u001b[0m: Unable to determine number of fit parameters."
     ]
    }
   ],
   "source": [
    "popt,pcov = curve_fit(distance_modulus, X, Y)"
   ]
  },
  {
   "cell_type": "code",
   "execution_count": null,
   "metadata": {
    "collapsed": true
   },
   "outputs": [],
   "source": []
  },
  {
   "cell_type": "markdown",
   "metadata": {
    "collapsed": true
   },
   "source": [
    "# Add data from Schaefer 2007 (69 GRBs) and Kowalski et al 2008 (414 SN Ia)"
   ]
  },
  {
   "cell_type": "markdown",
   "metadata": {},
   "source": [
    "The data we will use for the GRBs is the 2nd to last column in Schaefer's Table 6 (column 8). We call it maga because it has a superscript of a and the last column has a superscript of b. All the other columns are assigned numbers 1-5 for subscripts, but not the last two columns. "
   ]
  },
  {
   "cell_type": "code",
   "execution_count": 3,
   "metadata": {
    "collapsed": true
   },
   "outputs": [],
   "source": [
    "# Supernovae data from Kowalski et al. 2008, table 11\n",
    "df1 = pd.read_csv('Kowalski2008_table11.txt', \n",
    "                  sep='\\t')\n",
    "\n",
    "# GRB data from Schaefer 2007, table 6\n",
    "df2 = pd.read_csv('Schaefer2007_table6.txt', \n",
    "                  sep='\\t')"
   ]
  },
  {
   "cell_type": "code",
   "execution_count": 4,
   "metadata": {
    "collapsed": true
   },
   "outputs": [],
   "source": [
    "import statsmodels.api as sm"
   ]
  },
  {
   "cell_type": "raw",
   "metadata": {},
   "source": [
    ">>> Y = [1,3,4,5,2,3,4]\n",
    ">>> X = range(1,8)\n",
    ">>> X = sm.add_constant(X)\n",
    ">>>\n",
    ">>> model = sm.OLS(Y,X)\n",
    ">>> results = model.fit()\n",
    ">>> results.params\n",
    "array([ 2.14285714,  0.25      ])\n",
    ">>> results.tvalues\n",
    "array([ 1.87867287,  0.98019606])\n",
    ">>> print(results.t_test([1, 0]))\n",
    "<T test: effect=array([ 2.14285714]), sd=array([[ 1.14062282]]), t=array([[ 1.87867287]]), p=array([[ 0.05953974]]), df_denom=5>\n",
    ">>> print(results.f_test(np.identity(2)))"
   ]
  },
  {
   "cell_type": "code",
   "execution_count": null,
   "metadata": {
    "collapsed": true
   },
   "outputs": [],
   "source": [
    "Y = [1,3,4,5,2,3,4]\n",
    "X = range(1,8)\n",
    "X = sm.add_constant(X)"
   ]
  },
  {
   "cell_type": "code",
   "execution_count": 10,
   "metadata": {
    "collapsed": false
   },
   "outputs": [
    {
     "data": {
      "text/plain": [
       "[1, 2, 3, 4, 5, 6, 7]"
      ]
     },
     "execution_count": 10,
     "metadata": {},
     "output_type": "execute_result"
    }
   ],
   "source": [
    "range(1,8)"
   ]
  },
  {
   "cell_type": "code",
   "execution_count": 14,
   "metadata": {
    "collapsed": false
   },
   "outputs": [],
   "source": [
    "Y = df2.maga.values\n",
    "X = df2.z.values \n",
    "X = sm.add_constant(X)"
   ]
  },
  {
   "cell_type": "raw",
   "metadata": {},
   "source": [
    "df2.z, df2.maga, yerr=df2.maga_err,"
   ]
  },
  {
   "cell_type": "code",
   "execution_count": 16,
   "metadata": {
    "collapsed": true
   },
   "outputs": [],
   "source": [
    "model = sm.OLS(Y, X)"
   ]
  },
  {
   "cell_type": "code",
   "execution_count": 17,
   "metadata": {
    "collapsed": true
   },
   "outputs": [],
   "source": [
    "results = model.fit()"
   ]
  },
  {
   "cell_type": "code",
   "execution_count": 18,
   "metadata": {
    "collapsed": false
   },
   "outputs": [
    {
     "data": {
      "text/plain": [
       "array([ 42.79419573,   1.25420335])"
      ]
     },
     "execution_count": 18,
     "metadata": {},
     "output_type": "execute_result"
    }
   ],
   "source": [
    "results.params"
   ]
  },
  {
   "cell_type": "code",
   "execution_count": 19,
   "metadata": {
    "collapsed": false
   },
   "outputs": [
    {
     "data": {
      "text/plain": [
       "array([ 196.50135026,   14.58954394])"
      ]
     },
     "execution_count": 19,
     "metadata": {},
     "output_type": "execute_result"
    }
   ],
   "source": [
    "results.tvalues"
   ]
  },
  {
   "cell_type": "code",
   "execution_count": 20,
   "metadata": {
    "collapsed": false
   },
   "outputs": [
    {
     "name": "stdout",
     "output_type": "stream",
     "text": [
      "                             Test for Constraints                             \n",
      "==============================================================================\n",
      "                 coef    std err          t      P>|t|      [0.025      0.975]\n",
      "------------------------------------------------------------------------------\n",
      "c0            42.7942      0.218    196.501      0.000      42.360      43.229\n",
      "==============================================================================\n"
     ]
    }
   ],
   "source": [
    "print(results.t_test([1, 0]))"
   ]
  },
  {
   "cell_type": "code",
   "execution_count": 22,
   "metadata": {
    "collapsed": false
   },
   "outputs": [
    {
     "data": {
      "text/html": [
       "<table class=\"simpletable\">\n",
       "<caption>OLS Regression Results</caption>\n",
       "<tr>\n",
       "  <th>Dep. Variable:</th>            <td>y</td>        <th>  R-squared:         </th> <td>   0.761</td>\n",
       "</tr>\n",
       "<tr>\n",
       "  <th>Model:</th>                   <td>OLS</td>       <th>  Adj. R-squared:    </th> <td>   0.757</td>\n",
       "</tr>\n",
       "<tr>\n",
       "  <th>Method:</th>             <td>Least Squares</td>  <th>  F-statistic:       </th> <td>   212.9</td>\n",
       "</tr>\n",
       "<tr>\n",
       "  <th>Date:</th>             <td>Sat, 14 Dec 2019</td> <th>  Prob (F-statistic):</th> <td>1.76e-22</td>\n",
       "</tr>\n",
       "<tr>\n",
       "  <th>Time:</th>                 <td>23:03:55</td>     <th>  Log-Likelihood:    </th> <td> -97.346</td>\n",
       "</tr>\n",
       "<tr>\n",
       "  <th>No. Observations:</th>      <td>    69</td>      <th>  AIC:               </th> <td>   198.7</td>\n",
       "</tr>\n",
       "<tr>\n",
       "  <th>Df Residuals:</th>          <td>    67</td>      <th>  BIC:               </th> <td>   203.2</td>\n",
       "</tr>\n",
       "<tr>\n",
       "  <th>Df Model:</th>              <td>     1</td>      <th>                     </th>     <td> </td>   \n",
       "</tr>\n",
       "<tr>\n",
       "  <th>Covariance Type:</th>      <td>nonrobust</td>    <th>                     </th>     <td> </td>   \n",
       "</tr>\n",
       "</table>\n",
       "<table class=\"simpletable\">\n",
       "<tr>\n",
       "    <td></td>       <th>coef</th>     <th>std err</th>      <th>t</th>      <th>P>|t|</th>  <th>[0.025</th>    <th>0.975]</th>  \n",
       "</tr>\n",
       "<tr>\n",
       "  <th>const</th> <td>   42.7942</td> <td>    0.218</td> <td>  196.501</td> <td> 0.000</td> <td>   42.360</td> <td>   43.229</td>\n",
       "</tr>\n",
       "<tr>\n",
       "  <th>x1</th>    <td>    1.2542</td> <td>    0.086</td> <td>   14.590</td> <td> 0.000</td> <td>    1.083</td> <td>    1.426</td>\n",
       "</tr>\n",
       "</table>\n",
       "<table class=\"simpletable\">\n",
       "<tr>\n",
       "  <th>Omnibus:</th>       <td> 9.027</td> <th>  Durbin-Watson:     </th> <td>   1.889</td>\n",
       "</tr>\n",
       "<tr>\n",
       "  <th>Prob(Omnibus):</th> <td> 0.011</td> <th>  Jarque-Bera (JB):  </th> <td>   9.070</td>\n",
       "</tr>\n",
       "<tr>\n",
       "  <th>Skew:</th>          <td>-0.683</td> <th>  Prob(JB):          </th> <td>  0.0107</td>\n",
       "</tr>\n",
       "<tr>\n",
       "  <th>Kurtosis:</th>      <td> 4.135</td> <th>  Cond. No.          </th> <td>    5.06</td>\n",
       "</tr>\n",
       "</table><br/><br/>Warnings:<br/>[1] Standard Errors assume that the covariance matrix of the errors is correctly specified."
      ],
      "text/plain": [
       "<class 'statsmodels.iolib.summary.Summary'>\n",
       "\"\"\"\n",
       "                            OLS Regression Results                            \n",
       "==============================================================================\n",
       "Dep. Variable:                      y   R-squared:                       0.761\n",
       "Model:                            OLS   Adj. R-squared:                  0.757\n",
       "Method:                 Least Squares   F-statistic:                     212.9\n",
       "Date:                Sat, 14 Dec 2019   Prob (F-statistic):           1.76e-22\n",
       "Time:                        23:03:55   Log-Likelihood:                -97.346\n",
       "No. Observations:                  69   AIC:                             198.7\n",
       "Df Residuals:                      67   BIC:                             203.2\n",
       "Df Model:                           1                                         \n",
       "Covariance Type:            nonrobust                                         \n",
       "==============================================================================\n",
       "                 coef    std err          t      P>|t|      [0.025      0.975]\n",
       "------------------------------------------------------------------------------\n",
       "const         42.7942      0.218    196.501      0.000      42.360      43.229\n",
       "x1             1.2542      0.086     14.590      0.000       1.083       1.426\n",
       "==============================================================================\n",
       "Omnibus:                        9.027   Durbin-Watson:                   1.889\n",
       "Prob(Omnibus):                  0.011   Jarque-Bera (JB):                9.070\n",
       "Skew:                          -0.683   Prob(JB):                       0.0107\n",
       "Kurtosis:                       4.135   Cond. No.                         5.06\n",
       "==============================================================================\n",
       "\n",
       "Warnings:\n",
       "[1] Standard Errors assume that the covariance matrix of the errors is correctly specified.\n",
       "\"\"\""
      ]
     },
     "execution_count": 22,
     "metadata": {},
     "output_type": "execute_result"
    }
   ],
   "source": [
    "results.summary()"
   ]
  },
  {
   "cell_type": "code",
   "execution_count": 25,
   "metadata": {
    "collapsed": false
   },
   "outputs": [
    {
     "data": {
      "text/html": [
       "<table class=\"simpletable\">\n",
       "<tr>\n",
       "        <td>Model:</td>               <td>OLS</td>         <td>Adj. R-squared:</td>     <td>0.757</td> \n",
       "</tr>\n",
       "<tr>\n",
       "  <td>Dependent Variable:</td>         <td>y</td>               <td>AIC:</td>         <td>198.6923</td>\n",
       "</tr>\n",
       "<tr>\n",
       "         <td>Date:</td>        <td>2019-12-14 23:04</td>        <td>BIC:</td>         <td>203.1605</td>\n",
       "</tr>\n",
       "<tr>\n",
       "   <td>No. Observations:</td>         <td>69</td>          <td>Log-Likelihood:</td>    <td>-97.346</td>\n",
       "</tr>\n",
       "<tr>\n",
       "       <td>Df Model:</td>              <td>1</td>           <td>F-statistic:</td>       <td>212.9</td> \n",
       "</tr>\n",
       "<tr>\n",
       "     <td>Df Residuals:</td>           <td>67</td>        <td>Prob (F-statistic):</td> <td>1.76e-22</td>\n",
       "</tr>\n",
       "<tr>\n",
       "      <td>R-squared:</td>            <td>0.761</td>            <td>Scale:</td>         <td>1.0133</td> \n",
       "</tr>\n",
       "</table>\n",
       "<table class=\"simpletable\">\n",
       "<tr>\n",
       "    <td></td>     <th>Coef.</th>  <th>Std.Err.</th>     <th>t</th>     <th>P>|t|</th> <th>[0.025</th>  <th>0.975]</th> \n",
       "</tr>\n",
       "<tr>\n",
       "  <th>const</th> <td>42.7942</td>  <td>0.2178</td>  <td>196.5014</td> <td>0.0000</td> <td>42.3595</td> <td>43.2289</td>\n",
       "</tr>\n",
       "<tr>\n",
       "  <th>x1</th>    <td>1.2542</td>   <td>0.0860</td>   <td>14.5895</td> <td>0.0000</td> <td>1.0826</td>  <td>1.4258</td> \n",
       "</tr>\n",
       "</table>\n",
       "<table class=\"simpletable\">\n",
       "<tr>\n",
       "     <td>Omnibus:</td>     <td>9.027</td>  <td>Durbin-Watson:</td>   <td>1.889</td>\n",
       "</tr>\n",
       "<tr>\n",
       "  <td>Prob(Omnibus):</td>  <td>0.011</td> <td>Jarque-Bera (JB):</td> <td>9.070</td>\n",
       "</tr>\n",
       "<tr>\n",
       "       <td>Skew:</td>     <td>-0.683</td>     <td>Prob(JB):</td>     <td>0.011</td>\n",
       "</tr>\n",
       "<tr>\n",
       "     <td>Kurtosis:</td>    <td>4.135</td>  <td>Condition No.:</td>     <td>5</td>  \n",
       "</tr>\n",
       "</table>"
      ],
      "text/plain": [
       "<class 'statsmodels.iolib.summary2.Summary'>\n",
       "\"\"\"\n",
       "                 Results: Ordinary least squares\n",
       "=================================================================\n",
       "Model:              OLS              Adj. R-squared:     0.757   \n",
       "Dependent Variable: y                AIC:                198.6923\n",
       "Date:               2019-12-14 23:04 BIC:                203.1605\n",
       "No. Observations:   69               Log-Likelihood:     -97.346 \n",
       "Df Model:           1                F-statistic:        212.9   \n",
       "Df Residuals:       67               Prob (F-statistic): 1.76e-22\n",
       "R-squared:          0.761            Scale:              1.0133  \n",
       "-------------------------------------------------------------------\n",
       "          Coef.    Std.Err.      t       P>|t|     [0.025    0.975]\n",
       "-------------------------------------------------------------------\n",
       "const    42.7942     0.2178   196.5014   0.0000   42.3595   43.2289\n",
       "x1        1.2542     0.0860    14.5895   0.0000    1.0826    1.4258\n",
       "-----------------------------------------------------------------\n",
       "Omnibus:               9.027        Durbin-Watson:          1.889\n",
       "Prob(Omnibus):         0.011        Jarque-Bera (JB):       9.070\n",
       "Skew:                  -0.683       Prob(JB):               0.011\n",
       "Kurtosis:              4.135        Condition No.:          5    \n",
       "=================================================================\n",
       "\n",
       "\"\"\""
      ]
     },
     "execution_count": 25,
     "metadata": {},
     "output_type": "execute_result"
    }
   ],
   "source": [
    "results.summary2()"
   ]
  },
  {
   "cell_type": "code",
   "execution_count": null,
   "metadata": {
    "collapsed": true
   },
   "outputs": [],
   "source": []
  },
  {
   "cell_type": "code",
   "execution_count": 8,
   "metadata": {
    "collapsed": false
   },
   "outputs": [
    {
     "data": {
      "text/plain": [
       "<matplotlib.figure.Figure at 0x111e9d510>"
      ]
     },
     "metadata": {},
     "output_type": "display_data"
    },
    {
     "data": {
      "image/png": "[encoded data removed]",
      "text/plain": [
       "<matplotlib.figure.Figure at 0x10f59fe10>"
      ]
     },
     "metadata": {},
     "output_type": "display_data"
    }
   ],
   "source": [
    "plt.clf()\n",
    "\n",
    "plt.figure(figsize=(11,8))\n",
    "plt.plot(xdata, ydata, color='k', alpha=0.75, label='Concorance Cosmology')\n",
    "plt.plot(xdata2, ydata2, color='red', alpha=0.75, label=\"$w(z) = w_0 + w'z$\")\n",
    "plt.plot(xdata3, ydata3, color='blue', alpha=0.75, label='Weyl Gravity') \n",
    "plt.axvline(1.4, 0,1, alpha=0.75, color='k', ls='--')\n",
    "\n",
    "# Supernovae\n",
    "plt.errorbar(df1.z, df1.mag, yerr=df1.mag_err, xerr=None, \n",
    "             fmt='o', markersize=5, color='mediumblue', ecolor='blue',\n",
    "             lw=1, capsize=1, alpha=0.25, label='SN Ia')\n",
    "\n",
    "# GRBs\n",
    "plt.errorbar(df2.z, df2.maga, yerr=df2.maga_err, xerr=None, \n",
    "             fmt='d', color='red', ecolor='grey',\n",
    "             lw=1, capsize=1, alpha=0.5, label='GRBs')\n",
    "\n",
    "plt.minorticks_on()\n",
    "plt.xlim(0, 5.5)\n",
    "plt.ylim(35, 50)\n",
    "plt.legend(loc=0, fontsize=11)\n",
    "plt.xlabel('$z$', fontsize=14)\n",
    "plt.ylabel('$\\mu$', fontsize=14)\n",
    "plt.show()"
   ]
  },
  {
   "cell_type": "code",
   "execution_count": null,
   "metadata": {
    "collapsed": true
   },
   "outputs": [],
   "source": [
    "imp"
   ]
  },
  {
   "cell_type": "code",
   "execution_count": null,
   "metadata": {
    "collapsed": true
   },
   "outputs": [],
   "source": []
  },
  {
   "cell_type": "code",
   "execution_count": null,
   "metadata": {
    "collapsed": true
   },
   "outputs": [],
   "source": []
  },
  {
   "cell_type": "markdown",
   "metadata": {},
   "source": [
    "### Plot for dissertation:"
   ]
  },
  {
   "cell_type": "code",
   "execution_count": 28,
   "metadata": {
    "collapsed": false
   },
   "outputs": [
    {
     "data": {
      "image/png": "[encoded data removed]",
      "text/plain": [
       "<matplotlib.figure.Figure at 0x113351710>"
      ]
     },
     "metadata": {},
     "output_type": "display_data"
    }
   ],
   "source": [
    "plt.clf()\n",
    "\n",
    "# plt.plot(xdata, ydata, color='k', alpha=0.75, label='Concorance Cosmology')\n",
    "# plt.plot(xdata2, ydata2, color='red', alpha=0.75, label=\"$w(z) = w_0 + w'z$\")\n",
    "# plt.plot(xdata3, ydata3, color='blue', alpha=0.75, label='Weyl Gravity') \n",
    "# plt.axvline(1.4, 0,1, alpha=0.75, color='k', ls='--')\n",
    "\n",
    "plt.plot(xdata, ydata, color='k', alpha=0.5, lw=1,  ls='-', label='Concorance Cosmology')\n",
    "plt.plot(xdata2, ydata2, color='darkturquoise', alpha=0.5, lw=1, ls='-', label=\"$w(z) = w_0 + w'z$\")\n",
    "plt.plot(xdata3, ydata3, color='goldenrod', alpha=0.5,  lw=1, ls='-', label='Weyl Gravity') \n",
    "#plt.axvline(1.4, 0,1, alpha=0.15, color='k', ls='--')\n",
    "\n",
    "# Supernovae\n",
    "plt.errorbar(df1.z, df1.mag, yerr=df1.mag_err, xerr=None, \n",
    "             fmt='o', markersize=2, color='mediumblue', ecolor='blue',\n",
    "             lw=1, capsize=1, alpha=0.1, label='SN Ia')\n",
    "\n",
    "# GRBs\n",
    "plt.errorbar(df2.z, df2.maga, yerr=df2.maga_err, xerr=None, \n",
    "             fmt='d', markersize=3, color='red', ecolor='grey', \n",
    "             markeredgecolor='k', markeredgewidth=0.2, \n",
    "             lw=1, capsize=1, alpha=0.5, label='GRBs')\n",
    "\n",
    "plt.minorticks_on()\n",
    "plt.xlim(0, 5.5)\n",
    "plt.ylim(35, 50)\n",
    "plt.legend(loc=0, fontsize=11, labelspacing=0.2, frameon=False)\n",
    "plt.xlabel('$z$', fontsize=14)\n",
    "plt.ylabel('$\\mu$ (mag)', fontsize=14)\n",
    "filename = ('/Users/KimiZ/Documents/MY_DISSERTATION/Thesis/Chapters/Figures/'\n",
    "            'cosmologicalmodels_withData.pdf')\n",
    "plt.savefig(filename)\n",
    "#plt.show()"
   ]
  },
  {
   "cell_type": "code",
   "execution_count": 27,
   "metadata": {
    "collapsed": true
   },
   "outputs": [],
   "source": [
    "?plt.legend"
   ]
  },
  {
   "cell_type": "code",
   "execution_count": 29,
   "metadata": {
    "collapsed": false
   },
   "outputs": [
    {
     "data": {
      "text/plain": [
       "0"
      ]
     },
     "execution_count": 29,
     "metadata": {},
     "output_type": "execute_result"
    }
   ],
   "source": [
    "os.system('open %s'%filename)"
   ]
  },
  {
   "cell_type": "code",
   "execution_count": 30,
   "metadata": {
    "collapsed": false
   },
   "outputs": [
    {
     "data": {
      "text/plain": [
       "(414, 12)"
      ]
     },
     "execution_count": 30,
     "metadata": {},
     "output_type": "execute_result"
    }
   ],
   "source": [
    "df1.shape"
   ]
  },
  {
   "cell_type": "code",
   "execution_count": 31,
   "metadata": {
    "collapsed": false
   },
   "outputs": [
    {
     "data": {
      "text/plain": [
       "(69, 16)"
      ]
     },
     "execution_count": 31,
     "metadata": {},
     "output_type": "execute_result"
    }
   ],
   "source": [
    "df2.shape"
   ]
  },
  {
   "cell_type": "code",
   "execution_count": null,
   "metadata": {
    "collapsed": true
   },
   "outputs": [],
   "source": []
  }
 ],
 "metadata": {
  "kernelspec": {
   "display_name": "Python 2",
   "language": "python",
   "name": "python2"
  },
  "language_info": {
   "codemirror_mode": {
    "name": "ipython",
    "version": 2
   },
   "file_extension": ".py",
   "mimetype": "text/x-python",
   "name": "python",
   "nbconvert_exporter": "python",
   "pygments_lexer": "ipython2",
   "version": "2.7.11"
  }
 },
 "nbformat": 4,
 "nbformat_minor": 0
}
