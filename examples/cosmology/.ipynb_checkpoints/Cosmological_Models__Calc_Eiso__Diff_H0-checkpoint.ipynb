{
 "cells": [
  {
   "cell_type": "code",
   "execution_count": 1,
   "metadata": {},
   "outputs": [],
   "source": [
    "from __future__ import division\n",
    "import os\n",
    "\n",
    "import numpy as np\n",
    "from numpy import pi\n",
    "\n",
    "import pandas as pd\n",
    "from numpy import sqrt\n",
    "from scipy import integrate\n",
    "\n",
    "import matplotlib.pyplot as plt\n",
    "%matplotlib inline"
   ]
  },
  {
   "cell_type": "code",
   "execution_count": 2,
   "metadata": {},
   "outputs": [],
   "source": [
    "def journal():\n",
    "    '''\n",
    "    Appears nearly square. I like this best.\n",
    "    'figure.figsize': [3.1, 2.6]\n",
    "    \n",
    "    Use: plt.tight_layout(pad=0.1, w_pad=0.0, h_pad=0.0)\n",
    "    plt.xlabel('$E_{iso}$ $(erg)$',labelpad=-1)  \n",
    "    plt.ylabel('$E^*_{pk}$ $(keV)$',labelpad=-2)\n",
    "    \n",
    "    '''\n",
    "    params = {'backend': 'pdf',\n",
    "              'axes.labelsize':  10,\n",
    "              'font.size':       10,\n",
    "              'legend.fontsize': 8,\n",
    "              'xtick.labelsize': 8,\n",
    "              'ytick.labelsize': 8,\n",
    "              'xtick.direction': 'in',\n",
    "              'ytick.direction': 'in',\n",
    "              'text.usetex':     True,\n",
    "              'figure.figsize': [4,3], #[4,3], #[3.1, 2.6], # [7,6]\n",
    "              'font.family': 'serif',}\n",
    "    plt.rcParams.update(params)"
   ]
  },
  {
   "cell_type": "code",
   "execution_count": 3,
   "metadata": {},
   "outputs": [],
   "source": [
    "journal()"
   ]
  },
  {
   "cell_type": "markdown",
   "metadata": {},
   "source": [
    "#### All luminosity distance functions must pass results in parsecs."
   ]
  },
  {
   "cell_type": "code",
   "execution_count": 4,
   "metadata": {},
   "outputs": [],
   "source": [
    "def LumDist_concordance(redshift, H_knot=None, omega_m=None):\n",
    "    \"\"\"\n",
    "    This is the function we use in our work, but different cosmo constants \n",
    "    as well as DL units. \n",
    "    \"\"\"\n",
    "    z           = redshift\n",
    "    if H_knot is None:\n",
    "        H_knot      = 71.               # Hubble Constant.  Units: km/s/Mpc\n",
    "    if omega_m is None:\n",
    "        omega_m     = 0.27             # Matter Density.\n",
    "    omega_l     = 1.0 - omega_m\n",
    "    \n",
    "    c           = 2.99792458e5      # SPEED OF LIGHT    Units: km/s\n",
    "    def Aint(z):\n",
    "        return (1./(sqrt(((1.+z)*(1.+z)*(1. + omega_m * z))-(z*(2.+ z)*omega_l ))))\n",
    "    AA      = integrate.quad(Aint, 0.0, z)\n",
    "    DL_Mpc  = (c * (1. + z) / H_knot) * AA[0]\n",
    "    DL_pc = DL_Mpc * (1E6) # convert Mpc to pc\n",
    "    return DL_pc\n",
    "\n",
    "\n",
    "def LumDist_riess(redshift, H_knot=None, omega_m=None):\n",
    "    \"\"\"\n",
    "    Lower order expansion for dark energy term (w). Equation 14 in Riess et al. 2004. \n",
    "    w(z) = w0 + w'z\n",
    "    \"\"\"\n",
    "    z           = redshift\n",
    "    if H_knot is None:\n",
    "        H_knot      = 71.               # Hubble Constant.  Units: km/s/Mpc\n",
    "    if omega_m is None:\n",
    "        omega_m     = 0.27             # Matter Density.\n",
    "    omega_l     = 1.0 - omega_m\n",
    "    c           = 2.99792458e5      # SPEED OF LIGHT    Units: km/s\n",
    "    w0 = -1.31\n",
    "    wp = 1.48   # p: prime symbol\n",
    "    def Aint(z):\n",
    "        return 1./np.sqrt( ((1.+z)**3)*omega_m + \\\n",
    "                         omega_l*((1.+z)**(3*(1+w0-wp)))*np.exp(3*wp*z) )\n",
    "    AA      = integrate.quad(Aint, 0.0, z)\n",
    "    DL_Mpc  = (c * (1. + z) / H_knot) * AA[0]\n",
    "    DL_pc = DL_Mpc * (1E6) # convert Mpc to pc\n",
    "    return DL_pc\n",
    "\n",
    "\n",
    "def LumDist_weylgravity(redshift, H_knot=None):\n",
    "    \"\"\"\n",
    "    Weyl Gravity.\n",
    "    Equation 237 in Mannheim 2006 paper\n",
    "    q_knot      = -0.37 or -0.2\n",
    "    \"\"\"\n",
    "    z           = redshift\n",
    "    if H_knot is None:\n",
    "        H_knot      = 71.               # Hubble Constant.  Units: km/s/Mpc\n",
    "    c           = 2.99792458e5      # SPEED OF LIGHT    Units: km/s\n",
    "    q_knot      = -0.37\n",
    "    DL_Mpc  = (-c * ((1. + z)**2) / (H_knot * q_knot)) * \\\n",
    "                (1-np.sqrt(1 + q_knot - (q_knot/((1+z)**2))))\n",
    "    DL_pc = DL_Mpc * (1E6) # convert Mpc to pc\n",
    "    return DL_pc\n",
    "\n",
    "# def LumDist_wexpansion_2(redshift):\n",
    "#     H_knot      = 71               # Hubble Constant.  Units: km/s/Mpc\n",
    "#     omega_m     = 0.27             # Matter Density.\n",
    "#     omega_l     = 1.0 - omega_m\n",
    "#     c          = 2.99792458e5      # SPEED OF LIGHT    Units: km/s\n",
    "#     w0 = -1.31\n",
    "#     wa = \n",
    "\n",
    "#     z = redshift\n",
    "#     def Aint(z):\n",
    "#         return 1./np.sqrt( ((1.+z)**3)*omega_m + \\\n",
    "#                          omega_l*((1.+z)**(3*(1+w0+wa)))*np.exp(-3*wz*z/(1+z)) )\n",
    "#     AA      = integrate.quad(Aint, 0.0, z)\n",
    "#     DL_Mpc  = (c * (1. + z) / H_knot) * AA[0]\n",
    "#     DL_pc = DL_Mpc * (1E6)\n",
    "#     return DL_pc\n",
    "\n",
    "    \n",
    "def distance_modulus(lumdistance):\n",
    "    return 5*np.log10(lumdistance)-5\n",
    "\n",
    "\n",
    "def get_moduli(model, redshifts=None, H_knot=None, omega_m=None):\n",
    "    \"\"\"\n",
    "    model : str. 'concord', 'weyl', or 'riess'\n",
    "                    or 'c', 'w', and 'r'\n",
    "    \n",
    "    \"\"\"\n",
    "    H0 = H_knot\n",
    "    OM = omega_m\n",
    "    if model.startswith('c'):   \n",
    "        DLs = [LumDist_concordance(redshift=z, H_knot=H0, omega_m=OM) for z in redshifts]\n",
    "    elif model.startswith('r'):   \n",
    "        DLs = [LumDist_riess(redshift=z, H_knot=H0, omega_m=OM) for z in redshifts]\n",
    "    elif model.startswith('w'):   \n",
    "        DLs = [LumDist_weylgravity(redshift=z, H_knot=H0) for z in redshifts]\n",
    "    moduli = [distance_modulus(lumdistance=dL) for dL in DLs]\n",
    "    return moduli"
   ]
  },
  {
   "cell_type": "code",
   "execution_count": 5,
   "metadata": {},
   "outputs": [],
   "source": [
    "def calc_eiso(fluence, lumdist, redshift):\n",
    "    flue = fluence\n",
    "    DL = lumdist \n",
    "    z = redshift\n",
    "    return flue*((4.0*pi*(DL**2))/(1.0+z))"
   ]
  },
  {
   "cell_type": "markdown",
   "metadata": {},
   "source": [
    "Read Data\n",
    "---"
   ]
  },
  {
   "cell_type": "markdown",
   "metadata": {},
   "source": [
    "### 1 keV-10 keV Fluxes, Fluences, and Eisos:  Flux3, Flue3, Eiso3\n",
    "---\n",
    "The Eisos in this file were computed with our concordance cosmology."
   ]
  },
  {
   "cell_type": "markdown",
   "metadata": {},
   "source": [
    "The errors on flux and fluence in this file are **Margins of Error**\n",
    "\n",
    "Margins of error can no be logged. Must find the Confidence Interval bounds first and then log those. \n",
    "\n",
    "Since we plant to calculate Eiso energies for these errors, we might as well convert them to confidence intervals immediately so that they are easier to work with. "
   ]
  },
  {
   "cell_type": "raw",
   "metadata": {
    "collapsed": true
   },
   "source": [
    "filename = ('/Users/KimiZ/GRBs2/Sample/'\n",
    "            'Band_13_GBM+LAT__22_GBMconstrained.txt')\n",
    "\n",
    "df_ = pd.read_csv(filename, sep='\\t')"
   ]
  },
  {
   "cell_type": "code",
   "execution_count": 6,
   "metadata": {},
   "outputs": [],
   "source": [
    "filename = ('/Users/kimzoldak/GRBs/sample/'\n",
    "            'Band_13_GBM+LAT__19_GBMconstrained.txt')\n",
    "\n",
    "df_ = pd.read_csv(filename)"
   ]
  },
  {
   "cell_type": "code",
   "execution_count": 7,
   "metadata": {},
   "outputs": [],
   "source": [
    "cols2keep = ['trigger', 'name', 'number', 'z', 't90', 'detector','LATburst'] \n",
    "\n",
    "# Make new dataframe with only certain columns\n",
    "df = pd.DataFrame(df_.loc[:, cols2keep])\n",
    "\n",
    "# Copy over flux and fluences from 1 keV-10 MeV. \n",
    "\n",
    "# Flux\n",
    "df['flux'] = df_['flux_1k10M']\n",
    "# confidence Intervals.\n",
    "df['flux_ci_lo'] = df_['flux_1k10M_ci_lo'] \n",
    "df['flux_ci_up'] = df_['flux_1k10M_ci_up']\n",
    "\n",
    "# Fluence\n",
    "df['fluence'] = df_['fluence_1k10M']\n",
    "# confidence Intervals.\n",
    "df['fluence_ci_lo'] = df_['fluence_1k10M_ci_lo'] \n",
    "df['fluence_ci_up'] = df_['fluence_1k10M_ci_up']"
   ]
  },
  {
   "cell_type": "code",
   "execution_count": 8,
   "metadata": {},
   "outputs": [
    {
     "data": {
      "text/html": [
       "<div>\n",
       "<style scoped>\n",
       "    .dataframe tbody tr th:only-of-type {\n",
       "        vertical-align: middle;\n",
       "    }\n",
       "\n",
       "    .dataframe tbody tr th {\n",
       "        vertical-align: top;\n",
       "    }\n",
       "\n",
       "    .dataframe thead th {\n",
       "        text-align: right;\n",
       "    }\n",
       "</style>\n",
       "<table border=\"1\" class=\"dataframe\">\n",
       "  <thead>\n",
       "    <tr style=\"text-align: right;\">\n",
       "      <th></th>\n",
       "      <th>flux</th>\n",
       "      <th>flux_ci_lo</th>\n",
       "      <th>flux_ci_up</th>\n",
       "      <th>fluence</th>\n",
       "      <th>fluence_ci_lo</th>\n",
       "      <th>fluence_ci_up</th>\n",
       "    </tr>\n",
       "  </thead>\n",
       "  <tbody>\n",
       "    <tr>\n",
       "      <th>0</th>\n",
       "      <td>0.000002</td>\n",
       "      <td>0.000001</td>\n",
       "      <td>0.000002</td>\n",
       "      <td>0.000095</td>\n",
       "      <td>0.000093</td>\n",
       "      <td>0.000097</td>\n",
       "    </tr>\n",
       "    <tr>\n",
       "      <th>1</th>\n",
       "      <td>0.000001</td>\n",
       "      <td>0.000001</td>\n",
       "      <td>0.000001</td>\n",
       "      <td>0.000154</td>\n",
       "      <td>0.000150</td>\n",
       "      <td>0.000157</td>\n",
       "    </tr>\n",
       "    <tr>\n",
       "      <th>2</th>\n",
       "      <td>0.000001</td>\n",
       "      <td>0.000001</td>\n",
       "      <td>0.000001</td>\n",
       "      <td>0.000080</td>\n",
       "      <td>0.000077</td>\n",
       "      <td>0.000082</td>\n",
       "    </tr>\n",
       "    <tr>\n",
       "      <th>3</th>\n",
       "      <td>0.000013</td>\n",
       "      <td>0.000012</td>\n",
       "      <td>0.000014</td>\n",
       "      <td>0.000012</td>\n",
       "      <td>0.000012</td>\n",
       "      <td>0.000013</td>\n",
       "    </tr>\n",
       "    <tr>\n",
       "      <th>4</th>\n",
       "      <td>0.000020</td>\n",
       "      <td>0.000020</td>\n",
       "      <td>0.000021</td>\n",
       "      <td>0.000396</td>\n",
       "      <td>0.000392</td>\n",
       "      <td>0.000399</td>\n",
       "    </tr>\n",
       "  </tbody>\n",
       "</table>\n",
       "</div>"
      ],
      "text/plain": [
       "       flux  flux_ci_lo  flux_ci_up   fluence  fluence_ci_lo  fluence_ci_up\n",
       "0  0.000002    0.000001    0.000002  0.000095       0.000093       0.000097\n",
       "1  0.000001    0.000001    0.000001  0.000154       0.000150       0.000157\n",
       "2  0.000001    0.000001    0.000001  0.000080       0.000077       0.000082\n",
       "3  0.000013    0.000012    0.000014  0.000012       0.000012       0.000013\n",
       "4  0.000020    0.000020    0.000021  0.000396       0.000392       0.000399"
      ]
     },
     "execution_count": 8,
     "metadata": {},
     "output_type": "execute_result"
    }
   ],
   "source": [
    "df.loc[:, 'flux':'fluence_ci_up'].head()"
   ]
  },
  {
   "cell_type": "markdown",
   "metadata": {},
   "source": [
    "Now our errors on flux and fluence are **Confidence Intervals.**\n",
    "\n",
    "These can now be logged and can be used for computing confidence intervals on Eiso."
   ]
  },
  {
   "cell_type": "code",
   "execution_count": 9,
   "metadata": {},
   "outputs": [],
   "source": [
    "#   The luminosity distances of these functions are in parsecs. Need to use pctocm to convert to cm.\n",
    "# 1 pc = 3.0856775814914E+18 cm\n",
    "\n",
    "Mpctocm = 3.08567758E24\n",
    "pctocm = 3.08567758E18"
   ]
  },
  {
   "cell_type": "code",
   "execution_count": 10,
   "metadata": {},
   "outputs": [],
   "source": [
    "redshifts = df.z.values"
   ]
  },
  {
   "cell_type": "code",
   "execution_count": 11,
   "metadata": {},
   "outputs": [],
   "source": [
    "# Concordance Cosmology (Lambda CDM)\n",
    "\n",
    "H_knot = 67.8\n",
    "omega_m = 0.308\n",
    "df['DL1'] = np.asarray([LumDist_concordance(redshift=z, \n",
    "                                            H_knot=H_knot, \n",
    "                                            omega_m=omega_m) for z in redshifts])*pctocm\n",
    "\n",
    "H_knot = 65.0\n",
    "omega_m = 0.308\n",
    "df['DL2'] = np.asarray([LumDist_concordance(redshift=z, \n",
    "                                            H_knot=H_knot, \n",
    "                                            omega_m=omega_m) for z in redshifts])*pctocm\n",
    "\n",
    "H_knot = 75.0\n",
    "omega_m = 0.308\n",
    "df['DL3'] = np.asarray([LumDist_concordance(redshift=z, \n",
    "                                            H_knot=H_knot, \n",
    "                                            omega_m=omega_m) for z in redshifts])*pctocm\n",
    "\n"
   ]
  },
  {
   "cell_type": "code",
   "execution_count": 12,
   "metadata": {},
   "outputs": [],
   "source": [
    "# H_knot = 67.8\n",
    "df['eiso1']         = calc_eiso(fluence=df.fluence, lumdist=df['DL1'], redshift=df.z)\n",
    "df['eiso1_ci_lo']   = calc_eiso(fluence=df.fluence_ci_lo, lumdist=df['DL1'], redshift=df.z)\n",
    "df['eiso1_ci_up']   = calc_eiso(fluence=df.fluence_ci_up, lumdist=df['DL1'], redshift=df.z)\n",
    "df['eiso1_err']     = df['eiso1']-df['eiso1_ci_lo']  # MOE. Eiso errs should be symmetrical when unlogged\n",
    "\n",
    "# H_knot = 65.0\n",
    "df['eiso2']         = calc_eiso(fluence=df.fluence, lumdist=df['DL2'], redshift=df.z)\n",
    "df['eiso2_ci_lo']   = calc_eiso(fluence=df.fluence_ci_lo, lumdist=df['DL2'], redshift=df.z)\n",
    "df['eiso2_ci_up']   = calc_eiso(fluence=df.fluence_ci_up, lumdist=df['DL2'], redshift=df.z)\n",
    "df['eiso2_err']     = df['eiso2']-df['eiso2_ci_lo']  # MOE. Eiso errs should be symmetrical when unlogged\n",
    "\n",
    "\n",
    "# H_knot = 75.0\n",
    "df['eiso3']         = calc_eiso(fluence=df.fluence, lumdist=df['DL3'], redshift=df.z)\n",
    "df['eiso3_ci_lo']   = calc_eiso(fluence=df.fluence_ci_lo, lumdist=df['DL3'], redshift=df.z)\n",
    "df['eiso3_ci_up']   = calc_eiso(fluence=df.fluence_ci_up, lumdist=df['DL3'], redshift=df.z)\n",
    "df['eiso3_err']     = df['eiso3']-df['eiso3_ci_lo']  # margin of error. Eiso errs should be symmetrical when unlogged\n",
    "\n"
   ]
  },
  {
   "cell_type": "code",
   "execution_count": 21,
   "metadata": {},
   "outputs": [],
   "source": [
    "df.to_csv('eisoenergies_diff_H0.txt', sep=',', index=False)"
   ]
  },
  {
   "cell_type": "markdown",
   "metadata": {},
   "source": [
    "Matplotlib's plt.errorbar command only takes margins of error. We must convert our confidence intervals to margins of error. We have lower and upper errors, so we make them a (2,N) array, where N is the number of GRBs. "
   ]
  },
  {
   "cell_type": "code",
   "execution_count": 23,
   "metadata": {},
   "outputs": [
    {
     "data": {
      "text/plain": [
       "<Figure size 288x216 with 0 Axes>"
      ]
     },
     "metadata": {},
     "output_type": "display_data"
    },
    {
     "data": {
      "image/png": "[encoded data removed]",
      "text/plain": [
       "<Figure size 288x216 with 1 Axes>"
      ]
     },
     "metadata": {
      "needs_background": "light"
     },
     "output_type": "display_data"
    }
   ],
   "source": [
    "axLims = (51.51, 55.2)\n",
    "\n",
    "plt.clf()\n",
    "#plt.figure(figsize=(8,7))\n",
    "plt.figure()\n",
    "\n",
    "\n",
    "xaxis = 'eiso1'\n",
    "yaxis = 'eiso2'\n",
    "#pltKwgs = dict(fmt='o', color='blue', ecolor='blue', ms=3, capsize=0, alpha=0.25, label='x: $H_0=67.8$\\ny: $H_0=65.0$')\n",
    "pltKwgs = dict(fmt='o', color='white', ecolor='blue', ms=5, lw=0.6, mec='blue', mew=0.75,\n",
    "               capsize=0, alpha=1, label='x: $H_0=67.8$\\ny: $H_0=65.0$')\n",
    "x = df[xaxis].apply(np.log10)\n",
    "y = df[yaxis].apply(np.log10)\n",
    "xerr = np.asarray([(df[xaxis].apply(np.log10)-df[xaxis+'_ci_lo'].apply(np.log10)).values, # lower margin of error\n",
    "                   (df[xaxis+'_ci_up'].apply(np.log10)-df[xaxis].apply(np.log10)).values]) # upper margin of error\n",
    "yerr = np.asarray([(df[yaxis].apply(np.log10)-df[yaxis+'_ci_lo'].apply(np.log10)).values, # lower margin of error\n",
    "                   (df[yaxis+'_ci_up'].apply(np.log10)-df[yaxis].apply(np.log10)).values]) # upper margin of error\n",
    "#plt.errorbar(x=x, y=y, yerr=yerr, xerr=xerr, **pltKwgs)\n",
    "markers, caps, bars = plt.errorbar(x=x, y=y, yerr=yerr, xerr=xerr, **pltKwgs)\n",
    "[bar.set_alpha(0.25) for bar in bars]\n",
    "[cap.set_alpha(0.25) for cap in caps]\n",
    "\n",
    "\n",
    "\n",
    "xaxis = 'eiso1'\n",
    "yaxis = 'eiso3'\n",
    "#pltKwgs = dict(fmt='d', color='red', ecolor='red', ms=3, capsize=0, alpha=0.25, label='x: $H_0=67.8$\\ny: $H_0=75.0$')\n",
    "pltKwgs = dict(fmt='o', color='white', ecolor='red', ms=5, lw=0.6, mec='red', mew=0.75,\n",
    "               capsize=0, alpha=1, label='x: $H_0=67.8$\\ny: $H_0=75.0$')\n",
    "x = df[xaxis].apply(np.log10)\n",
    "y = df[yaxis].apply(np.log10)\n",
    "xerr = np.asarray([(df[xaxis].apply(np.log10)-df[xaxis+'_ci_lo'].apply(np.log10)).values, # lower margin of error\n",
    "                   (df[xaxis+'_ci_up'].apply(np.log10)-df[xaxis].apply(np.log10)).values]) # upper margin of error\n",
    "yerr = np.asarray([(df[yaxis].apply(np.log10)-df[yaxis+'_ci_lo'].apply(np.log10)).values, # lower margin of error\n",
    "                   (df[yaxis+'_ci_up'].apply(np.log10)-df[yaxis].apply(np.log10)).values]) # upper margin of error\n",
    "#plt.errorbar(x=x, y=y, yerr=yerr, xerr=xerr, **pltKwgs)\n",
    "markers, caps, bars = plt.errorbar(x=x, y=y, yerr=yerr, xerr=xerr, **pltKwgs)\n",
    "[bar.set_alpha(0.25) for bar in bars]\n",
    "[cap.set_alpha(0.25) for cap in caps]\n",
    "\n",
    "\n",
    "xaxis = 'eiso2'\n",
    "yaxis = 'eiso3'\n",
    "#pltKwgs = dict(fmt='s', color='green', ecolor='green', ms=3, capsize=0, alpha=0.25, label='x: $H_0=65.0$\\ny: $H_0=75.0$')\n",
    "pltKwgs = dict(fmt='o', color='white', ecolor='green', ms=5, lw=0.6, mec='green', mew=0.75,\n",
    "               capsize=0, alpha=1, label='x: $H_0=65.0$\\ny: $H_0=75.0$')\n",
    "x = df[xaxis].apply(np.log10)\n",
    "y = df[yaxis].apply(np.log10)\n",
    "xerr = np.asarray([(df[xaxis].apply(np.log10)-df[xaxis+'_ci_lo'].apply(np.log10)).values, # lower margin of error\n",
    "                   (df[xaxis+'_ci_up'].apply(np.log10)-df[xaxis].apply(np.log10)).values]) # upper margin of error\n",
    "yerr = np.asarray([(df[yaxis].apply(np.log10)-df[yaxis+'_ci_lo'].apply(np.log10)).values, # lower margin of error\n",
    "                   (df[yaxis+'_ci_up'].apply(np.log10)-df[yaxis].apply(np.log10)).values]) # upper margin of error\n",
    "#plt.errorbar(x=x, y=y, yerr=yerr, xerr=xerr, **pltKwgs)\n",
    "markers, caps, bars = plt.errorbar(x=x, y=y, yerr=yerr, xerr=xerr, **pltKwgs)\n",
    "[bar.set_alpha(0.25) for bar in bars]\n",
    "[cap.set_alpha(0.25) for cap in caps]\n",
    "\n",
    "\n",
    "# Plot a line at equal values of x and y \n",
    "xlinedata = np.linspace(axLims[0], axLims[1], 10)\n",
    "ylinedata = 1.0*xlinedata+0\n",
    "plt.plot(xlinedata, ylinedata, 'k-', lw=1, alpha=0.25) \n",
    "\n",
    "plt.xlim(*axLims)\n",
    "plt.ylim(*axLims)\n",
    "plt.legend(loc=0, fontsize=11, labelspacing=0.7, handletextpad=0, frameon=False)\n",
    "plt.xlabel('$E_{iso}$ (erg)', fontsize=13)\n",
    "plt.ylabel('$E_{iso}$ (erg)', fontsize=13)\n",
    "#plt.show()\n",
    "filename = ('compareEiso__diff_Cosmo_H0.pdf')\n",
    "plt.savefig(filename)"
   ]
  },
  {
   "cell_type": "code",
   "execution_count": 24,
   "metadata": {},
   "outputs": [
    {
     "data": {
      "text/plain": [
       "0"
      ]
     },
     "execution_count": 24,
     "metadata": {},
     "output_type": "execute_result"
    }
   ],
   "source": [
    "os.system('open %s'%filename)"
   ]
  },
  {
   "cell_type": "markdown",
   "metadata": {},
   "source": [
    "Eiso are larger for a lower hubble constant value. "
   ]
  },
  {
   "cell_type": "markdown",
   "metadata": {},
   "source": [
    "Latex Table\n",
    "---"
   ]
  },
  {
   "cell_type": "raw",
   "metadata": {
    "collapsed": true
   },
   "source": [
    "colnames = ['trigger', 'number', 'z', 'DL1', 'DL2', 'DL3'] \n",
    "\n",
    "# create new dataframe for printing to latex table.\n",
    "df2 = pd.DataFrame(df.loc[:, colnames])"
   ]
  },
  {
   "cell_type": "code",
   "execution_count": 25,
   "metadata": {},
   "outputs": [],
   "source": [
    "colnames = ['trigger', 'number', 'z', 'DL1', 'DL2', 'DL3'] \n",
    "\n",
    "# create new dataframe for printing to latex table.\n",
    "df2 = pd.DataFrame(df.loc[:, colnames])\n",
    "\n",
    "\n",
    "# Luminosity Distances\n",
    "df2['DL1'] = df.loc[:, 'DL1']/1.E28\n",
    "df2['DL2'] = df.loc[:, 'DL2']/1.E28\n",
    "df2['DL3'] = df.loc[:, 'DL3']/1.E28\n",
    "\n",
    "# Eiso\n",
    "for p in ['eiso1', 'eiso2', 'eiso3']:\n",
    "    value    = df[p]\n",
    "    MOE_low  = df[p] - df[p+'_ci_lo']    # lower margin of error\n",
    "    MOE_up   = df[p+'_ci_up'] - df[p]    # upper margin of error\n",
    "    MOE      = np.asarray([np.mean([i,j]) for i,j in zip(MOE_low, MOE_up)]) # average the two.\n",
    "    df2[p]  = value/1.E53\n",
    "    df2[p+'_err'] = MOE/1.E53\n",
    "    del p, value, MOE_low, MOE_up, MOE"
   ]
  },
  {
   "cell_type": "code",
   "execution_count": 26,
   "metadata": {},
   "outputs": [
    {
     "name": "stdout",
     "output_type": "stream",
     "text": [
      "bn080916009 & 5 & 4.35 & 12.51 & 13.05 & 11.31 & 34.95$\\pm$0.71 & 38.02$\\pm$0.77 & 28.56$\\pm$0.58 \\\\\n",
      "bn090323002 & 13 & 3.57 & 9.90 & 10.32 & 8.95 & 41.44$\\pm$0.92 & 45.08$\\pm$1.00 & 33.86$\\pm$0.75 \\\\\n",
      "bn090328401 & 14 & 0.74 & 1.44 & 1.50 & 1.30 & 1.19$\\pm$0.03 & 1.29$\\pm$0.04 & 0.97$\\pm$0.03 \\\\\n",
      "bn090510016 & 17 & 0.90 & 1.85 & 1.93 & 1.67 & 0.28$\\pm$0.02 & 0.30$\\pm$0.02 & 0.23$\\pm$0.02 \\\\\n",
      "bn090902462 & 20 & 1.82 & 4.39 & 4.58 & 3.97 & 33.90$\\pm$0.26 & 36.88$\\pm$0.29 & 27.70$\\pm$0.22 \\\\\n",
      "bn090926181 & 21 & 2.11 & 5.24 & 5.46 & 4.73 & 19.81$\\pm$0.11 & 21.56$\\pm$0.12 & 16.19$\\pm$0.09 \\\\\n",
      "bn091003191 & 24 & 0.90 & 1.83 & 1.91 & 1.66 & 0.91$\\pm$0.03 & 0.99$\\pm$0.03 & 0.74$\\pm$0.02 \\\\\n",
      "bn091208410 & 28 & 1.06 & 2.26 & 2.36 & 2.04 & 0.25$\\pm$0.02 & 0.27$\\pm$0.03 & 0.21$\\pm$0.02 \\\\\n",
      "bn100728095 & 33 & 1.57 & 3.65 & 3.80 & 3.30 & 9.06$\\pm$0.30 & 9.86$\\pm$0.33 & 7.41$\\pm$0.25 \\\\\n",
      "bn110731465 & 42 & 2.83 & 7.49 & 7.81 & 6.77 & 6.08$\\pm$0.10 & 6.61$\\pm$0.11 & 4.97$\\pm$0.08 \\\\\n",
      "bn130518580 & 58 & 2.49 & 6.42 & 6.70 & 5.80 & 16.97$\\pm$0.27 & 18.46$\\pm$0.30 & 13.86$\\pm$0.22 \\\\\n",
      "bn131108862 & 65 & 2.40 & 6.14 & 6.40 & 5.55 & 6.04$\\pm$0.10 & 6.57$\\pm$0.11 & 4.94$\\pm$0.08 \\\\\n",
      "bn131231198 & 66 & 0.64 & 1.22 & 1.27 & 1.10 & 1.96$\\pm$0.02 & 2.14$\\pm$0.02 & 1.60$\\pm$0.01 \\\\\n",
      "bn081221681 & 9 & 2.26 & 5.71 & 5.95 & 5.16 & 3.64$\\pm$0.06 & 3.96$\\pm$0.07 & 2.97$\\pm$0.05 \\\\\n",
      "bn081222204 & 10 & 2.77 & 7.30 & 7.62 & 6.60 & 2.41$\\pm$0.14 & 2.62$\\pm$0.16 & 1.97$\\pm$0.12 \\\\\n",
      "bn090424592 & 16 & 0.54 & 1.00 & 1.04 & 0.90 & 0.43$\\pm$0.01 & 0.46$\\pm$0.01 & 0.35$\\pm$0.01 \\\\\n",
      "bn090618353 & 19 & 0.54 & 0.99 & 1.03 & 0.89 & 2.56$\\pm$0.04 & 2.78$\\pm$0.04 & 2.09$\\pm$0.03 \\\\\n",
      "bn090926914 & 22 & 1.24 & 2.73 & 2.85 & 2.47 & 0.39$\\pm$0.02 & 0.43$\\pm$0.03 & 0.32$\\pm$0.02 \\\\\n",
      "bn091127976 & 27 & 0.49 & 0.88 & 0.92 & 0.79 & 0.16$\\pm$0.00 & 0.18$\\pm$0.00 & 0.13$\\pm$0.00 \\\\\n",
      "bn100615083 & 31 & 1.40 & 3.17 & 3.30 & 2.86 & 0.67$\\pm$0.05 & 0.73$\\pm$0.05 & 0.55$\\pm$0.04 \\\\\n",
      "bn100814160 & 35 & 1.44 & 3.29 & 3.43 & 2.97 & 1.28$\\pm$0.15 & 1.40$\\pm$0.16 & 1.05$\\pm$0.12 \\\\\n",
      "bn100816026 & 36 & 0.80 & 1.60 & 1.67 & 1.45 & 0.08$\\pm$0.01 & 0.08$\\pm$0.01 & 0.06$\\pm$0.00 \\\\\n",
      "bn100906576 & 37 & 1.73 & 4.11 & 4.29 & 3.71 & 2.65$\\pm$0.20 & 2.88$\\pm$0.22 & 2.16$\\pm$0.16 \\\\\n",
      "bn110213220 & 41 & 1.46 & 3.34 & 3.49 & 3.02 & 0.91$\\pm$0.05 & 1.00$\\pm$0.05 & 0.75$\\pm$0.04 \\\\\n",
      "bn111228657 & 45 & 0.72 & 1.39 & 1.45 & 1.26 & 0.35$\\pm$0.02 & 0.38$\\pm$0.02 & 0.28$\\pm$0.02 \\\\\n",
      "bn120119170 & 46 & 1.73 & 4.11 & 4.29 & 3.72 & 3.62$\\pm$0.15 & 3.94$\\pm$0.16 & 2.96$\\pm$0.12 \\\\\n",
      "bn120711115 & 48 & 1.41 & 3.19 & 3.32 & 2.88 & 18.34$\\pm$0.24 & 19.96$\\pm$0.26 & 14.99$\\pm$0.20 \\\\\n",
      "bn120712571 & 49 & 4.17 & 11.91 & 12.43 & 10.77 & 1.95$\\pm$0.20 & 2.12$\\pm$0.22 & 1.59$\\pm$0.17 \\\\\n",
      "bn121128212 & 54 & 2.20 & 5.52 & 5.76 & 4.99 & 1.27$\\pm$0.06 & 1.38$\\pm$0.07 & 1.03$\\pm$0.05 \\\\\n",
      "bn130925173 & 62 & 0.35 & 0.58 & 0.61 & 0.53 & 0.32$\\pm$0.01 & 0.35$\\pm$0.01 & 0.26$\\pm$0.01 \\\\\n",
      "bn140206304 & 67 & 2.74 & 7.21 & 7.52 & 6.51 & 3.12$\\pm$0.14 & 3.40$\\pm$0.16 & 2.55$\\pm$0.12 \\\\\n",
      "bn140213807 & 68 & 1.21 & 2.64 & 2.76 & 2.39 & 1.01$\\pm$0.03 & 1.10$\\pm$0.03 & 0.82$\\pm$0.02 \\\\\n"
     ]
    }
   ],
   "source": [
    "for d in df2.values:\n",
    "    print('%s & %i & %.2f & %.2f & %.2f & %.2f & %.2f$\\pm$%.2f & %.2f$\\pm$%.2f & %.2f$\\pm$%.2f \\\\\\\\'%(\n",
    "            d[0], d[1], d[2], d[3], d[4], d[5], d[6], d[7], d[8], d[9], d[10], d[11]))"
   ]
  },
  {
   "cell_type": "code",
   "execution_count": 27,
   "metadata": {},
   "outputs": [],
   "source": [
    "df1 = df.loc[:, ['eiso1', 'eiso2', 'eiso3']].copy()"
   ]
  },
  {
   "cell_type": "code",
   "execution_count": null,
   "metadata": {},
   "outputs": [],
   "source": []
  },
  {
   "cell_type": "markdown",
   "metadata": {},
   "source": [
    "# 1:   $H_0 = 67.8$\n",
    "# 2:   $H_0 = 65$ \n",
    "# 3:   $H_0 = 75$ \n",
    "\n",
    "\n",
    "### Always do: $ ∆ = y_{axis} - x_{axis}$\n",
    "### When the data points trend below the diagonal, the values on the x-axis are larger than those on the y-axis, and a strong negative ∆ value results."
   ]
  },
  {
   "cell_type": "code",
   "execution_count": 15,
   "metadata": {},
   "outputs": [],
   "source": [
    "from Zoldak.math.tools import root_mean_square as rms"
   ]
  },
  {
   "cell_type": "code",
   "execution_count": 17,
   "metadata": {},
   "outputs": [
    {
     "name": "stdout",
     "output_type": "stream",
     "text": [
      "0.037\n",
      "0.037\n",
      "\n",
      "-0.088\n",
      "0.088\n",
      "\n",
      "-0.124\n",
      "0.124\n",
      "\n",
      "['0.037', '0.088', '0.124']\n",
      "\n",
      "mean: 0.083\n"
     ]
    }
   ],
   "source": [
    "sigmas = []\n",
    "\n",
    "a = 'eiso1'  # H_0 = 67.8   x-axis\n",
    "b = 'eiso2'  # H_0 = 65.0   y-axis\n",
    "deltas = df[b].apply(np.log10) - df[a].apply(np.log10)  #   y-axis - x-axis\n",
    "print('%.3f'%deltas.mean())\n",
    "sigmas.append(rms(deltas))\n",
    "print('%.3f'%rms(deltas))\n",
    "print('')\n",
    "\n",
    "a = 'eiso1'  # H_0 = 67.8   x-axis\n",
    "b = 'eiso3'  # H_0 = 75.0   y-axis\n",
    "deltas = df[b].apply(np.log10) - df[a].apply(np.log10)\n",
    "print('%.3f'%deltas.mean())\n",
    "sigmas.append(rms(deltas))\n",
    "print('%.3f'%rms(deltas))\n",
    "print('')\n",
    "\n",
    "a = 'eiso2'  # H_0 = 65.0   x-axis\n",
    "b = 'eiso3'  # H_0 = 75.0   y-axis\n",
    "deltas = df[b].apply(np.log10) - df[a].apply(np.log10)\n",
    "print('%.3f'%deltas.mean())\n",
    "sigmas.append(rms(deltas))\n",
    "print('%.3f'%rms(deltas))\n",
    "print('')\n",
    "\n",
    "\n",
    "\n",
    "print(['%.3f'%i for i in sigmas])\n",
    "print('')\n",
    "print('mean: %.3f'%np.mean(sigmas))"
   ]
  },
  {
   "cell_type": "code",
   "execution_count": 18,
   "metadata": {},
   "outputs": [
    {
     "data": {
      "text/plain": [
       "[0.036632674448415996, 0.08766313904927282, 0.12429581349768884]"
      ]
     },
     "execution_count": 18,
     "metadata": {},
     "output_type": "execute_result"
    }
   ],
   "source": [
    "sigmas"
   ]
  },
  {
   "cell_type": "markdown",
   "metadata": {},
   "source": [
    "$\\Delta_{avg}$:  0.037, -0.088, and -0.124\n",
    "\n",
    "$\\sigma_{rms}$: 0.037, 0.088, and 0.124  with a mean of 0.083\n"
   ]
  },
  {
   "cell_type": "code",
   "execution_count": 19,
   "metadata": {},
   "outputs": [],
   "source": [
    "def statistical_uncertainty(dataframe, parameter, suffix='', logit=False):\n",
    "    \"\"\"\n",
    "    dataframe : pandas dataframe. Finds the values and confidence intervals \n",
    "                    within the dataframe. \n",
    "\n",
    "    parameter : str, string name of the parameter. \n",
    "                e.g., 'alpha', 'eiso', ...\n",
    "\n",
    "    suffix : str, default is ''. If the parameter name and its errors has a \n",
    "                suffix of '_x' or '_y' from joining dataframes, place that \n",
    "                in the suffix. When we merge dataframes, our '_x' and '_y' \n",
    "                are after the '_moe_lo', so adding '_x' at the end of the \n",
    "                parameter string wont work.\n",
    "\n",
    "    logit : True or False, default is False. \n",
    "            logit = True will apply log10 to the data and confidence intervals.\n",
    "    \n",
    "    Prints:\n",
    "    -------\n",
    "    Float. The sample's statistical uncertainty, rounded to 3 decimal places.\n",
    "    \n",
    "    Returns:\n",
    "    -------\n",
    "    Float. Same as prints, but does not round.\n",
    "    \n",
    "    Math:\n",
    "    -----\n",
    "    Averages the upper and lower confidence intervals (in their margin of \n",
    "    error form) for each GRB in the sample and then takes the average of the \n",
    "    all of those to give the *sample* average. \n",
    "    \n",
    "    \n",
    "    Example:\n",
    "    --------\n",
    "    for par,logit in zip(['eiso', 'alpha', 'beta', 'epeak', 'norm'],\n",
    "                         [True, False, False, True, True]):\n",
    "        statistical_uncertainty(dataframe=df1, parameter=par, logit=logit)\n",
    "    \n",
    "    \"\"\"\n",
    "    # only a single dataframe\n",
    "    d = dataframe\n",
    "    \n",
    "    if logit == True:\n",
    "        values = d[parameter+'%s'%suffix].apply(np.log10)\n",
    "        ci_lo = d[parameter+'_ci_lo'+'%s'%suffix].apply(np.log10)\n",
    "        ci_up = d[parameter+'_ci_up'+'%s'%suffix].apply(np.log10)\n",
    "    else:\n",
    "        values = d[parameter+'%s'%suffix]\n",
    "        ci_lo = d[parameter+'_ci_lo'+'%s'%suffix]\n",
    "        ci_up = d[parameter+'_ci_up'+'%s'%suffix] \n",
    "    # Three ways to do this. \n",
    "    #a = np.mean([np.mean([i,j]) for i,j in zip(values-ci_lo, ci_up-values)])\n",
    "    #b = np.mean([values-ci_lo, ci_up-values])\n",
    "    #c = (pd.DataFrame([values-ci_lo, ci_up-values]).mean()).mean()\n",
    "    #[print('%.3f'%i) for i in [a,b,c]];\n",
    "    a = np.mean([np.mean([i,j]) for i,j in zip(values-ci_lo, ci_up-values)])\n",
    "    print('%.3f'%a)\n",
    "    return a\n"
   ]
  },
  {
   "cell_type": "code",
   "execution_count": 20,
   "metadata": {},
   "outputs": [
    {
     "name": "stdout",
     "output_type": "stream",
     "text": [
      "0.018\n",
      "0.018\n",
      "0.018\n"
     ]
    },
    {
     "data": {
      "text/plain": [
       "0.018007474739379692"
      ]
     },
     "execution_count": 20,
     "metadata": {},
     "output_type": "execute_result"
    }
   ],
   "source": [
    "statistical_uncertainty(dataframe=df, parameter='eiso1', suffix='', logit=True)\n",
    "statistical_uncertainty(dataframe=df, parameter='eiso2', suffix='', logit=True)\n",
    "statistical_uncertainty(dataframe=df, parameter='eiso3', suffix='', logit=True)"
   ]
  },
  {
   "cell_type": "code",
   "execution_count": null,
   "metadata": {},
   "outputs": [],
   "source": []
  },
  {
   "cell_type": "markdown",
   "metadata": {
    "collapsed": true
   },
   "source": [
    "As expected, the H0 with the lowest value always returns the larger set of Eiso energies. This is the concordance model only, but we will see the same thing for the other two models. The mu magnitudes were also brighter along the model curves for the lower H0 values on the Hubble Diagram plot."
   ]
  },
  {
   "cell_type": "code",
   "execution_count": null,
   "metadata": {},
   "outputs": [],
   "source": []
  },
  {
   "cell_type": "code",
   "execution_count": null,
   "metadata": {},
   "outputs": [],
   "source": []
  },
  {
   "cell_type": "code",
   "execution_count": null,
   "metadata": {},
   "outputs": [],
   "source": []
  },
  {
   "cell_type": "code",
   "execution_count": null,
   "metadata": {},
   "outputs": [],
   "source": []
  },
  {
   "cell_type": "markdown",
   "metadata": {},
   "source": [
    "The `eiso_err_low` and `eiso_err_up` we have here are confidence intervals of `eiso`. They are symmetric in linear space. If we want to present the data as value +- err, then the errors must be margins of error. On top of that, if we wish to present the data in logged space, then we have a few steps to take and considerations to make. \n",
    "\n",
    "- `[MOE_low, MOE_up] = [value - CI_low, CI_up - value]`  should be identical because they are symmetrix in linear space. \n",
    "\n",
    "- Symmetry is not preserved under a linear to log transformation, therefore our lower and upper margin on error will be asymmetrical in log space. If we want to present them as a single value, we will have to average the two, after we properly handle them. \n",
    "\n",
    "- What we mean by properly handle them:  Margins of error can NOT simply be logged. You can only log values and their confidence interval bounds. `[logged_MOE_low, logged_MOE_up] = [log10(value)-log10(CI_low), log10(CI_up)-log10(value)]`.  Then take `np.mean([logged_MOE_low, logged_MOE_up])`\n",
    "\n",
    "When using pandas dataframes you will have an array of data that must match. So taking `np.mean([logged_MOE_low, logged_MOE_up])` will be incorrect if `logged_MOE_low` and `logged_MOE_up` are arrays of data. Must do `err = [np.mean([i,j]) for i,j in zip(logged_MOE_low, logged_MOE_up)]`."
   ]
  },
  {
   "cell_type": "code",
   "execution_count": null,
   "metadata": {
    "collapsed": true
   },
   "outputs": [],
   "source": []
  }
 ],
 "metadata": {
  "kernelspec": {
   "display_name": "Python 3",
   "language": "python",
   "name": "python3"
  },
  "language_info": {
   "codemirror_mode": {
    "name": "ipython",
    "version": 3
   },
   "file_extension": ".py",
   "mimetype": "text/x-python",
   "name": "python",
   "nbconvert_exporter": "python",
   "pygments_lexer": "ipython3",
   "version": "3.7.0"
  }
 },
 "nbformat": 4,
 "nbformat_minor": 1
}
