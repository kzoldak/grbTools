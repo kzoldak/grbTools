{
 "cells": [
  {
   "cell_type": "code",
   "execution_count": 1,
   "metadata": {
    "collapsed": true
   },
   "outputs": [],
   "source": [
    "from __future__ import division\n",
    "\n",
    "import numpy as np\n",
    "import pandas as pd"
   ]
  },
  {
   "cell_type": "markdown",
   "metadata": {},
   "source": [
    "# Schaefer 2007 GRB data"
   ]
  },
  {
   "cell_type": "code",
   "execution_count": 2,
   "metadata": {
    "collapsed": false
   },
   "outputs": [],
   "source": [
    "data = pd.read_csv('Schaefer2007_table6_orig.txt', sep='\\t', header=None)"
   ]
  },
  {
   "cell_type": "code",
   "execution_count": 3,
   "metadata": {
    "collapsed": true
   },
   "outputs": [],
   "source": [
    "colnames = 'GRB z mag1 mag2 mag3 mag4 mag5 maga magb'.split(' ')"
   ]
  },
  {
   "cell_type": "code",
   "execution_count": 4,
   "metadata": {
    "collapsed": false,
    "scrolled": false
   },
   "outputs": [],
   "source": [
    "data.columns = colnames"
   ]
  },
  {
   "cell_type": "code",
   "execution_count": 5,
   "metadata": {
    "collapsed": false
   },
   "outputs": [
    {
     "data": {
      "text/html": [
       "<div>\n",
       "<table border=\"1\" class=\"dataframe\">\n",
       "  <thead>\n",
       "    <tr style=\"text-align: right;\">\n",
       "      <th></th>\n",
       "      <th>GRB</th>\n",
       "      <th>z</th>\n",
       "      <th>mag1</th>\n",
       "      <th>mag2</th>\n",
       "      <th>mag3</th>\n",
       "      <th>mag4</th>\n",
       "      <th>mag5</th>\n",
       "      <th>maga</th>\n",
       "      <th>magb</th>\n",
       "    </tr>\n",
       "  </thead>\n",
       "  <tbody>\n",
       "    <tr>\n",
       "      <th>0</th>\n",
       "      <td>970228</td>\n",
       "      <td>0.70</td>\n",
       "      <td>\\ldots</td>\n",
       "      <td>42.53 \\pm 1.31</td>\n",
       "      <td>42.41 \\pm 1.16</td>\n",
       "      <td>\\ldots</td>\n",
       "      <td>43.42 \\pm 1.21</td>\n",
       "      <td>42.79 \\pm 0.71</td>\n",
       "      <td>42.56 \\pm 0.70</td>\n",
       "    </tr>\n",
       "    <tr>\n",
       "      <th>1</th>\n",
       "      <td>970508</td>\n",
       "      <td>0.84</td>\n",
       "      <td>43.09 \\pm 1.19</td>\n",
       "      <td>43.13 \\pm 1.34</td>\n",
       "      <td>45.66 \\pm 1.04</td>\n",
       "      <td>43.92 \\pm 0.63</td>\n",
       "      <td>43.09 \\pm 1.20</td>\n",
       "      <td>43.92 \\pm 0.43</td>\n",
       "      <td>43.68 \\pm 0.44</td>\n",
       "    </tr>\n",
       "    <tr>\n",
       "      <th>2</th>\n",
       "      <td>970828</td>\n",
       "      <td>0.96</td>\n",
       "      <td>\\ldots</td>\n",
       "      <td>42.99 \\pm 1.28</td>\n",
       "      <td>44.07 \\pm 1.03</td>\n",
       "      <td>43.61 \\pm 0.63</td>\n",
       "      <td>43.27 \\pm 1.25</td>\n",
       "      <td>43.58 \\pm 0.46</td>\n",
       "      <td>43.32 \\pm 0.48</td>\n",
       "    </tr>\n",
       "    <tr>\n",
       "      <th>3</th>\n",
       "      <td>971214</td>\n",
       "      <td>3.42</td>\n",
       "      <td>48.76 \\pm 1.50</td>\n",
       "      <td>48.69 \\pm 1.19</td>\n",
       "      <td>47.55 \\pm 1.04</td>\n",
       "      <td>\\ldots</td>\n",
       "      <td>49.33 \\pm 1.33</td>\n",
       "      <td>48.44 \\pm 0.62</td>\n",
       "      <td>48.06 \\pm 0.61</td>\n",
       "    </tr>\n",
       "    <tr>\n",
       "      <th>4</th>\n",
       "      <td>980613</td>\n",
       "      <td>1.10</td>\n",
       "      <td>\\ldots</td>\n",
       "      <td>\\ldots</td>\n",
       "      <td>45.85 \\pm 1.33</td>\n",
       "      <td>\\ldots</td>\n",
       "      <td>\\ldots</td>\n",
       "      <td>45.85 \\pm 1.33</td>\n",
       "      <td>45.63 \\pm 1.30</td>\n",
       "    </tr>\n",
       "  </tbody>\n",
       "</table>\n",
       "</div>"
      ],
      "text/plain": [
       "      GRB     z            mag1            mag2            mag3  \\\n",
       "0  970228  0.70          \\ldots  42.53 \\pm 1.31  42.41 \\pm 1.16   \n",
       "1  970508  0.84  43.09 \\pm 1.19  43.13 \\pm 1.34  45.66 \\pm 1.04   \n",
       "2  970828  0.96          \\ldots  42.99 \\pm 1.28  44.07 \\pm 1.03   \n",
       "3  971214  3.42  48.76 \\pm 1.50  48.69 \\pm 1.19  47.55 \\pm 1.04   \n",
       "4  980613  1.10          \\ldots          \\ldots  45.85 \\pm 1.33   \n",
       "\n",
       "             mag4            mag5            maga            magb  \n",
       "0          \\ldots  43.42 \\pm 1.21  42.79 \\pm 0.71  42.56 \\pm 0.70  \n",
       "1  43.92 \\pm 0.63  43.09 \\pm 1.20  43.92 \\pm 0.43  43.68 \\pm 0.44  \n",
       "2  43.61 \\pm 0.63  43.27 \\pm 1.25  43.58 \\pm 0.46  43.32 \\pm 0.48  \n",
       "3          \\ldots  49.33 \\pm 1.33  48.44 \\pm 0.62  48.06 \\pm 0.61  \n",
       "4          \\ldots          \\ldots  45.85 \\pm 1.33  45.63 \\pm 1.30  "
      ]
     },
     "execution_count": 5,
     "metadata": {},
     "output_type": "execute_result"
    }
   ],
   "source": [
    "data.head()"
   ]
  },
  {
   "cell_type": "code",
   "execution_count": 6,
   "metadata": {
    "collapsed": true
   },
   "outputs": [],
   "source": [
    "# replace dots with NaN\n",
    "# replace all spaces\n",
    "for col in colnames[2:]:\n",
    "    data[col] = data[col].replace('\\ldots', 'NaN')\n",
    "    data[col] = data[col].replace(' ', '')"
   ]
  },
  {
   "cell_type": "code",
   "execution_count": 7,
   "metadata": {
    "collapsed": true
   },
   "outputs": [],
   "source": [
    "# make a copy of the data to compare against\n",
    "data2 = data.copy()"
   ]
  },
  {
   "cell_type": "code",
   "execution_count": 8,
   "metadata": {
    "collapsed": true
   },
   "outputs": [],
   "source": [
    "# separate data values and their \\pm errors. Give each own column. \n",
    "for col in colnames[2:]:\n",
    "    data[col+'_err'] = data[col].str.split(r' \\\\pm ').str.get(1)\n",
    "    data[col] = data[col].str.split(r' \\\\pm ').str.get(0)\n",
    "    "
   ]
  },
  {
   "cell_type": "code",
   "execution_count": 9,
   "metadata": {
    "collapsed": false
   },
   "outputs": [
    {
     "data": {
      "text/html": [
       "<div>\n",
       "<table border=\"1\" class=\"dataframe\">\n",
       "  <thead>\n",
       "    <tr style=\"text-align: right;\">\n",
       "      <th></th>\n",
       "      <th>GRB</th>\n",
       "      <th>z</th>\n",
       "      <th>mag1</th>\n",
       "      <th>mag2</th>\n",
       "      <th>mag3</th>\n",
       "      <th>mag4</th>\n",
       "      <th>mag5</th>\n",
       "      <th>maga</th>\n",
       "      <th>magb</th>\n",
       "      <th>mag1_err</th>\n",
       "      <th>mag2_err</th>\n",
       "      <th>mag3_err</th>\n",
       "      <th>mag4_err</th>\n",
       "      <th>mag5_err</th>\n",
       "      <th>maga_err</th>\n",
       "      <th>magb_err</th>\n",
       "    </tr>\n",
       "  </thead>\n",
       "  <tbody>\n",
       "    <tr>\n",
       "      <th>0</th>\n",
       "      <td>970228</td>\n",
       "      <td>0.70</td>\n",
       "      <td>NaN</td>\n",
       "      <td>42.53</td>\n",
       "      <td>42.41</td>\n",
       "      <td>NaN</td>\n",
       "      <td>43.42</td>\n",
       "      <td>42.79</td>\n",
       "      <td>42.56</td>\n",
       "      <td>NaN</td>\n",
       "      <td>1.31</td>\n",
       "      <td>1.16</td>\n",
       "      <td>NaN</td>\n",
       "      <td>1.21</td>\n",
       "      <td>0.71</td>\n",
       "      <td>0.70</td>\n",
       "    </tr>\n",
       "    <tr>\n",
       "      <th>1</th>\n",
       "      <td>970508</td>\n",
       "      <td>0.84</td>\n",
       "      <td>43.09</td>\n",
       "      <td>43.13</td>\n",
       "      <td>45.66</td>\n",
       "      <td>43.92</td>\n",
       "      <td>43.09</td>\n",
       "      <td>43.92</td>\n",
       "      <td>43.68</td>\n",
       "      <td>1.19</td>\n",
       "      <td>1.34</td>\n",
       "      <td>1.04</td>\n",
       "      <td>0.63</td>\n",
       "      <td>1.20</td>\n",
       "      <td>0.43</td>\n",
       "      <td>0.44</td>\n",
       "    </tr>\n",
       "    <tr>\n",
       "      <th>2</th>\n",
       "      <td>970828</td>\n",
       "      <td>0.96</td>\n",
       "      <td>NaN</td>\n",
       "      <td>42.99</td>\n",
       "      <td>44.07</td>\n",
       "      <td>43.61</td>\n",
       "      <td>43.27</td>\n",
       "      <td>43.58</td>\n",
       "      <td>43.32</td>\n",
       "      <td>NaN</td>\n",
       "      <td>1.28</td>\n",
       "      <td>1.03</td>\n",
       "      <td>0.63</td>\n",
       "      <td>1.25</td>\n",
       "      <td>0.46</td>\n",
       "      <td>0.48</td>\n",
       "    </tr>\n",
       "    <tr>\n",
       "      <th>3</th>\n",
       "      <td>971214</td>\n",
       "      <td>3.42</td>\n",
       "      <td>48.76</td>\n",
       "      <td>48.69</td>\n",
       "      <td>47.55</td>\n",
       "      <td>NaN</td>\n",
       "      <td>49.33</td>\n",
       "      <td>48.44</td>\n",
       "      <td>48.06</td>\n",
       "      <td>1.50</td>\n",
       "      <td>1.19</td>\n",
       "      <td>1.04</td>\n",
       "      <td>NaN</td>\n",
       "      <td>1.33</td>\n",
       "      <td>0.62</td>\n",
       "      <td>0.61</td>\n",
       "    </tr>\n",
       "    <tr>\n",
       "      <th>4</th>\n",
       "      <td>980613</td>\n",
       "      <td>1.10</td>\n",
       "      <td>NaN</td>\n",
       "      <td>NaN</td>\n",
       "      <td>45.85</td>\n",
       "      <td>NaN</td>\n",
       "      <td>NaN</td>\n",
       "      <td>45.85</td>\n",
       "      <td>45.63</td>\n",
       "      <td>NaN</td>\n",
       "      <td>NaN</td>\n",
       "      <td>1.33</td>\n",
       "      <td>NaN</td>\n",
       "      <td>NaN</td>\n",
       "      <td>1.33</td>\n",
       "      <td>1.30</td>\n",
       "    </tr>\n",
       "  </tbody>\n",
       "</table>\n",
       "</div>"
      ],
      "text/plain": [
       "      GRB     z   mag1   mag2   mag3   mag4   mag5   maga   magb mag1_err  \\\n",
       "0  970228  0.70    NaN  42.53  42.41    NaN  43.42  42.79  42.56      NaN   \n",
       "1  970508  0.84  43.09  43.13  45.66  43.92  43.09  43.92  43.68     1.19   \n",
       "2  970828  0.96    NaN  42.99  44.07  43.61  43.27  43.58  43.32      NaN   \n",
       "3  971214  3.42  48.76  48.69  47.55    NaN  49.33  48.44  48.06     1.50   \n",
       "4  980613  1.10    NaN    NaN  45.85    NaN    NaN  45.85  45.63      NaN   \n",
       "\n",
       "  mag2_err mag3_err mag4_err mag5_err maga_err magb_err  \n",
       "0     1.31     1.16      NaN     1.21     0.71     0.70  \n",
       "1     1.34     1.04     0.63     1.20     0.43     0.44  \n",
       "2     1.28     1.03     0.63     1.25     0.46     0.48  \n",
       "3     1.19     1.04      NaN     1.33     0.62     0.61  \n",
       "4      NaN     1.33      NaN      NaN     1.33     1.30  "
      ]
     },
     "execution_count": 9,
     "metadata": {},
     "output_type": "execute_result"
    }
   ],
   "source": [
    "data.head()"
   ]
  },
  {
   "cell_type": "code",
   "execution_count": 10,
   "metadata": {
    "collapsed": false
   },
   "outputs": [
    {
     "data": {
      "text/plain": [
       "Index([u'GRB', u'z', u'mag1', u'mag2', u'mag3', u'mag4', u'mag5', u'maga',\n",
       "       u'magb', u'mag1_err', u'mag2_err', u'mag3_err', u'mag4_err',\n",
       "       u'mag5_err', u'maga_err', u'magb_err'],\n",
       "      dtype='object')"
      ]
     },
     "execution_count": 10,
     "metadata": {},
     "output_type": "execute_result"
    }
   ],
   "source": [
    "data.columns"
   ]
  },
  {
   "cell_type": "code",
   "execution_count": 11,
   "metadata": {
    "collapsed": false
   },
   "outputs": [],
   "source": [
    "# Change format of all magnitude columns to float64\n",
    "for col in data.columns[2:]:\n",
    "    data[col] = data[col].astype('float64')"
   ]
  },
  {
   "cell_type": "code",
   "execution_count": 12,
   "metadata": {
    "collapsed": false,
    "scrolled": true
   },
   "outputs": [
    {
     "data": {
      "text/plain": [
       "GRB           int64\n",
       "z           float64\n",
       "mag1        float64\n",
       "mag2        float64\n",
       "mag3        float64\n",
       "mag4        float64\n",
       "mag5        float64\n",
       "maga        float64\n",
       "magb        float64\n",
       "mag1_err    float64\n",
       "mag2_err    float64\n",
       "mag3_err    float64\n",
       "mag4_err    float64\n",
       "mag5_err    float64\n",
       "maga_err    float64\n",
       "magb_err    float64\n",
       "dtype: object"
      ]
     },
     "execution_count": 12,
     "metadata": {},
     "output_type": "execute_result"
    }
   ],
   "source": [
    "data.dtypes"
   ]
  },
  {
   "cell_type": "code",
   "execution_count": 13,
   "metadata": {
    "collapsed": false
   },
   "outputs": [
    {
     "data": {
      "text/html": [
       "<div>\n",
       "<table border=\"1\" class=\"dataframe\">\n",
       "  <thead>\n",
       "    <tr style=\"text-align: right;\">\n",
       "      <th></th>\n",
       "      <th>GRB</th>\n",
       "      <th>z</th>\n",
       "      <th>mag1</th>\n",
       "      <th>mag2</th>\n",
       "      <th>mag3</th>\n",
       "      <th>mag4</th>\n",
       "      <th>mag5</th>\n",
       "      <th>maga</th>\n",
       "      <th>magb</th>\n",
       "      <th>mag1_err</th>\n",
       "      <th>mag2_err</th>\n",
       "      <th>mag3_err</th>\n",
       "      <th>mag4_err</th>\n",
       "      <th>mag5_err</th>\n",
       "      <th>maga_err</th>\n",
       "      <th>magb_err</th>\n",
       "    </tr>\n",
       "  </thead>\n",
       "  <tbody>\n",
       "    <tr>\n",
       "      <th>0</th>\n",
       "      <td>970228</td>\n",
       "      <td>0.70</td>\n",
       "      <td>NaN</td>\n",
       "      <td>42.53</td>\n",
       "      <td>42.41</td>\n",
       "      <td>NaN</td>\n",
       "      <td>43.42</td>\n",
       "      <td>42.79</td>\n",
       "      <td>42.56</td>\n",
       "      <td>NaN</td>\n",
       "      <td>1.31</td>\n",
       "      <td>1.16</td>\n",
       "      <td>NaN</td>\n",
       "      <td>1.21</td>\n",
       "      <td>0.71</td>\n",
       "      <td>0.70</td>\n",
       "    </tr>\n",
       "    <tr>\n",
       "      <th>1</th>\n",
       "      <td>970508</td>\n",
       "      <td>0.84</td>\n",
       "      <td>43.09</td>\n",
       "      <td>43.13</td>\n",
       "      <td>45.66</td>\n",
       "      <td>43.92</td>\n",
       "      <td>43.09</td>\n",
       "      <td>43.92</td>\n",
       "      <td>43.68</td>\n",
       "      <td>1.19</td>\n",
       "      <td>1.34</td>\n",
       "      <td>1.04</td>\n",
       "      <td>0.63</td>\n",
       "      <td>1.20</td>\n",
       "      <td>0.43</td>\n",
       "      <td>0.44</td>\n",
       "    </tr>\n",
       "    <tr>\n",
       "      <th>2</th>\n",
       "      <td>970828</td>\n",
       "      <td>0.96</td>\n",
       "      <td>NaN</td>\n",
       "      <td>42.99</td>\n",
       "      <td>44.07</td>\n",
       "      <td>43.61</td>\n",
       "      <td>43.27</td>\n",
       "      <td>43.58</td>\n",
       "      <td>43.32</td>\n",
       "      <td>NaN</td>\n",
       "      <td>1.28</td>\n",
       "      <td>1.03</td>\n",
       "      <td>0.63</td>\n",
       "      <td>1.25</td>\n",
       "      <td>0.46</td>\n",
       "      <td>0.48</td>\n",
       "    </tr>\n",
       "    <tr>\n",
       "      <th>3</th>\n",
       "      <td>971214</td>\n",
       "      <td>3.42</td>\n",
       "      <td>48.76</td>\n",
       "      <td>48.69</td>\n",
       "      <td>47.55</td>\n",
       "      <td>NaN</td>\n",
       "      <td>49.33</td>\n",
       "      <td>48.44</td>\n",
       "      <td>48.06</td>\n",
       "      <td>1.50</td>\n",
       "      <td>1.19</td>\n",
       "      <td>1.04</td>\n",
       "      <td>NaN</td>\n",
       "      <td>1.33</td>\n",
       "      <td>0.62</td>\n",
       "      <td>0.61</td>\n",
       "    </tr>\n",
       "    <tr>\n",
       "      <th>4</th>\n",
       "      <td>980613</td>\n",
       "      <td>1.10</td>\n",
       "      <td>NaN</td>\n",
       "      <td>NaN</td>\n",
       "      <td>45.85</td>\n",
       "      <td>NaN</td>\n",
       "      <td>NaN</td>\n",
       "      <td>45.85</td>\n",
       "      <td>45.63</td>\n",
       "      <td>NaN</td>\n",
       "      <td>NaN</td>\n",
       "      <td>1.33</td>\n",
       "      <td>NaN</td>\n",
       "      <td>NaN</td>\n",
       "      <td>1.33</td>\n",
       "      <td>1.30</td>\n",
       "    </tr>\n",
       "  </tbody>\n",
       "</table>\n",
       "</div>"
      ],
      "text/plain": [
       "      GRB     z   mag1   mag2   mag3   mag4   mag5   maga   magb  mag1_err  \\\n",
       "0  970228  0.70    NaN  42.53  42.41    NaN  43.42  42.79  42.56       NaN   \n",
       "1  970508  0.84  43.09  43.13  45.66  43.92  43.09  43.92  43.68      1.19   \n",
       "2  970828  0.96    NaN  42.99  44.07  43.61  43.27  43.58  43.32       NaN   \n",
       "3  971214  3.42  48.76  48.69  47.55    NaN  49.33  48.44  48.06      1.50   \n",
       "4  980613  1.10    NaN    NaN  45.85    NaN    NaN  45.85  45.63       NaN   \n",
       "\n",
       "   mag2_err  mag3_err  mag4_err  mag5_err  maga_err  magb_err  \n",
       "0      1.31      1.16       NaN      1.21      0.71      0.70  \n",
       "1      1.34      1.04      0.63      1.20      0.43      0.44  \n",
       "2      1.28      1.03      0.63      1.25      0.46      0.48  \n",
       "3      1.19      1.04       NaN      1.33      0.62      0.61  \n",
       "4       NaN      1.33       NaN       NaN      1.33      1.30  "
      ]
     },
     "execution_count": 13,
     "metadata": {},
     "output_type": "execute_result"
    }
   ],
   "source": [
    "data.head()"
   ]
  },
  {
   "cell_type": "code",
   "execution_count": 14,
   "metadata": {
    "collapsed": true
   },
   "outputs": [],
   "source": [
    "# Change order of columns\n",
    "newcolnames = ['GRB', 'z', 'mag1', 'mag1_err', 'mag2', 'mag2_err', \n",
    " 'mag3', 'mag3_err', 'mag4', 'mag4_err', 'mag5', 'mag5_err', \n",
    " 'maga', 'maga_err', 'magb', 'magb_err']\n",
    "\n",
    "data = data.reindex(columns=newcolnames)"
   ]
  },
  {
   "cell_type": "code",
   "execution_count": 16,
   "metadata": {
    "collapsed": false
   },
   "outputs": [
    {
     "data": {
      "text/plain": [
       "Index([u'GRB', u'z', u'mag1', u'mag1_err', u'mag2', u'mag2_err', u'mag3',\n",
       "       u'mag3_err', u'mag4', u'mag4_err', u'mag5', u'mag5_err', u'maga',\n",
       "       u'maga_err', u'magb', u'magb_err'],\n",
       "      dtype='object')"
      ]
     },
     "execution_count": 16,
     "metadata": {},
     "output_type": "execute_result"
    }
   ],
   "source": [
    "data.columns"
   ]
  },
  {
   "cell_type": "code",
   "execution_count": 18,
   "metadata": {
    "collapsed": true
   },
   "outputs": [],
   "source": [
    "import matplotlib.pyplot as plt\n",
    "%matplotlib inline"
   ]
  },
  {
   "cell_type": "code",
   "execution_count": 20,
   "metadata": {
    "collapsed": false
   },
   "outputs": [
    {
     "data": {
      "text/plain": [
       "<matplotlib.axes._subplots.AxesSubplot at 0x1103c5a10>"
      ]
     },
     "execution_count": 20,
     "metadata": {},
     "output_type": "execute_result"
    },
    {
     "data": {
      "image/png": "[encoded data removed]",
      "text/plain": [
       "<matplotlib.figure.Figure at 0x1101bef50>"
      ]
     },
     "metadata": {},
     "output_type": "display_data"
    }
   ],
   "source": [
    "# check to see if plot matches the paper.\n",
    "data.plot.scatter('z', 'maga', yerr='maga_err', lw=1)"
   ]
  },
  {
   "cell_type": "code",
   "execution_count": 21,
   "metadata": {
    "collapsed": false
   },
   "outputs": [
    {
     "data": {
      "image/png": "[encoded data removed]",
      "text/plain": [
       "<matplotlib.figure.Figure at 0x1104a9810>"
      ]
     },
     "metadata": {},
     "output_type": "display_data"
    }
   ],
   "source": [
    "#plt.clf()\n",
    "\n",
    "plt.figure(figsize=(5,3))\n",
    "plt.errorbar(data.z, data.maga, yerr=data.maga_err, xerr=None, \n",
    "             fmt='.', color='blue', \n",
    "             lw=1, capsize=1)\n",
    "plt.axvline(1.4, 0, 1, alpha=0.75, color='k', ls='--')\n",
    "plt.minorticks_on()\n",
    "plt.xlim(0, 5.5)\n",
    "plt.ylim(35, 50)\n",
    "plt.legend(loc=0, fontsize=11)\n",
    "plt.xlabel('$z$', fontsize=14)\n",
    "plt.ylabel('$\\mu$', fontsize=14)\n",
    "plt.show()"
   ]
  },
  {
   "cell_type": "code",
   "execution_count": 23,
   "metadata": {
    "collapsed": false
   },
   "outputs": [],
   "source": [
    "# Save cleaned data to a file.\n",
    "data.to_csv('Schaefer2007_table6.txt', sep='\\t', index=False)"
   ]
  },
  {
   "cell_type": "code",
   "execution_count": 24,
   "metadata": {
    "collapsed": true
   },
   "outputs": [],
   "source": [
    "del data"
   ]
  },
  {
   "cell_type": "markdown",
   "metadata": {},
   "source": [
    "# Kowalski et al. 2008 SN Ia data"
   ]
  },
  {
   "cell_type": "code",
   "execution_count": 25,
   "metadata": {
    "collapsed": true
   },
   "outputs": [],
   "source": [
    "data = pd.read_fwf('Kowalski2008_table11_orig.txt', header=None)"
   ]
  },
  {
   "cell_type": "code",
   "execution_count": 27,
   "metadata": {
    "collapsed": false
   },
   "outputs": [
    {
     "data": {
      "text/html": [
       "<div>\n",
       "<table border=\"1\" class=\"dataframe\">\n",
       "  <thead>\n",
       "    <tr style=\"text-align: right;\">\n",
       "      <th></th>\n",
       "      <th>0</th>\n",
       "      <th>1</th>\n",
       "      <th>2</th>\n",
       "      <th>3</th>\n",
       "      <th>4</th>\n",
       "      <th>5</th>\n",
       "      <th>6</th>\n",
       "      <th>7</th>\n",
       "      <th>8</th>\n",
       "      <th>9</th>\n",
       "      <th>10</th>\n",
       "      <th>11</th>\n",
       "    </tr>\n",
       "  </thead>\n",
       "  <tbody>\n",
       "    <tr>\n",
       "      <th>0</th>\n",
       "      <td>1993ag</td>\n",
       "      <td>0.0500</td>\n",
       "      <td>17.79</td>\n",
       "      <td>0.05</td>\n",
       "      <td>0.91</td>\n",
       "      <td>0.02</td>\n",
       "      <td>0.09</td>\n",
       "      <td>0.02</td>\n",
       "      <td>36.77</td>\n",
       "      <td>0.15</td>\n",
       "      <td>1</td>\n",
       "      <td>NaN</td>\n",
       "    </tr>\n",
       "    <tr>\n",
       "      <th>1</th>\n",
       "      <td>1993o</td>\n",
       "      <td>0.0529</td>\n",
       "      <td>17.61</td>\n",
       "      <td>0.05</td>\n",
       "      <td>0.90</td>\n",
       "      <td>0.01</td>\n",
       "      <td>-0.01</td>\n",
       "      <td>0.02</td>\n",
       "      <td>36.82</td>\n",
       "      <td>0.15</td>\n",
       "      <td>1</td>\n",
       "      <td>NaN</td>\n",
       "    </tr>\n",
       "    <tr>\n",
       "      <th>2</th>\n",
       "      <td>1993h</td>\n",
       "      <td>0.0251</td>\n",
       "      <td>16.74</td>\n",
       "      <td>0.09</td>\n",
       "      <td>0.68</td>\n",
       "      <td>0.01</td>\n",
       "      <td>0.21</td>\n",
       "      <td>0.01</td>\n",
       "      <td>35.17</td>\n",
       "      <td>0.17</td>\n",
       "      <td>1</td>\n",
       "      <td>NaN</td>\n",
       "    </tr>\n",
       "    <tr>\n",
       "      <th>3</th>\n",
       "      <td>1993b</td>\n",
       "      <td>0.0701</td>\n",
       "      <td>18.38</td>\n",
       "      <td>0.09</td>\n",
       "      <td>0.99</td>\n",
       "      <td>0.03</td>\n",
       "      <td>0.04</td>\n",
       "      <td>0.04</td>\n",
       "      <td>37.57</td>\n",
       "      <td>0.15</td>\n",
       "      <td>1</td>\n",
       "      <td>NaN</td>\n",
       "    </tr>\n",
       "    <tr>\n",
       "      <th>4</th>\n",
       "      <td>1992bs</td>\n",
       "      <td>0.0627</td>\n",
       "      <td>18.18</td>\n",
       "      <td>0.05</td>\n",
       "      <td>1.00</td>\n",
       "      <td>0.02</td>\n",
       "      <td>-0.03</td>\n",
       "      <td>0.02</td>\n",
       "      <td>37.55</td>\n",
       "      <td>0.15</td>\n",
       "      <td>1</td>\n",
       "      <td>NaN</td>\n",
       "    </tr>\n",
       "  </tbody>\n",
       "</table>\n",
       "</div>"
      ],
      "text/plain": [
       "       0       1      2     3     4     5     6     7      8     9   10   11\n",
       "0  1993ag  0.0500  17.79  0.05  0.91  0.02  0.09  0.02  36.77  0.15   1  NaN\n",
       "1   1993o  0.0529  17.61  0.05  0.90  0.01 -0.01  0.02  36.82  0.15   1  NaN\n",
       "2   1993h  0.0251  16.74  0.09  0.68  0.01  0.21  0.01  35.17  0.17   1  NaN\n",
       "3   1993b  0.0701  18.38  0.09  0.99  0.03  0.04  0.04  37.57  0.15   1  NaN\n",
       "4  1992bs  0.0627  18.18  0.05  1.00  0.02 -0.03  0.02  37.55  0.15   1  NaN"
      ]
     },
     "execution_count": 27,
     "metadata": {},
     "output_type": "execute_result"
    }
   ],
   "source": [
    "data.head()"
   ]
  },
  {
   "cell_type": "code",
   "execution_count": 28,
   "metadata": {
    "collapsed": true
   },
   "outputs": [],
   "source": [
    "colnames = 'name z m m_err s s_err c c_err mag mag_err ref cut'.split(' ')"
   ]
  },
  {
   "cell_type": "code",
   "execution_count": 29,
   "metadata": {
    "collapsed": false
   },
   "outputs": [],
   "source": [
    "data.columns = colnames"
   ]
  },
  {
   "cell_type": "code",
   "execution_count": 30,
   "metadata": {
    "collapsed": false
   },
   "outputs": [
    {
     "data": {
      "text/plain": [
       "<matplotlib.axes._subplots.AxesSubplot at 0x110e00210>"
      ]
     },
     "execution_count": 30,
     "metadata": {},
     "output_type": "execute_result"
    },
    {
     "data": {
      "image/png": "[encoded data removed]",
      "text/plain": [
       "<matplotlib.figure.Figure at 0x11041b5d0>"
      ]
     },
     "metadata": {},
     "output_type": "display_data"
    }
   ],
   "source": [
    "data.plot.scatter('z', 'mag', yerr='mag_err', lw=1)"
   ]
  },
  {
   "cell_type": "code",
   "execution_count": 31,
   "metadata": {
    "collapsed": true
   },
   "outputs": [],
   "source": [
    "data.to_csv('Kowalski2008_table11.txt', sep='\\t', index=False)"
   ]
  }
 ],
 "metadata": {
  "kernelspec": {
   "display_name": "Python 2",
   "language": "python",
   "name": "python2"
  },
  "language_info": {
   "codemirror_mode": {
    "name": "ipython",
    "version": 2
   },
   "file_extension": ".py",
   "mimetype": "text/x-python",
   "name": "python",
   "nbconvert_exporter": "python",
   "pygments_lexer": "ipython2",
   "version": "2.7.11"
  }
 },
 "nbformat": 4,
 "nbformat_minor": 0
}
