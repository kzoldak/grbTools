{
 "cells": [
  {
   "cell_type": "markdown",
   "metadata": {},
   "source": [
    "### Propagation of Uncertainty Equation:\n",
    "\n",
    "\\begin{equation}\n",
    "Var(f) = \\sum^N_{i=1} \\left[ \\left(\\frac{\\partial f}{\\partial x_i} \\right)^2 Var(x_i) \\right] + 2 \\frac{\\partial f}{\\partial x_1}\\frac{\\partial f}{\\partial x_2} Cov(x_1, x_2) + 2 \\frac{\\partial f}{\\partial x_2}\\frac{\\partial f}{\\partial x_3} Cov(x_2, x_3) + ...,\n",
    "\\end{equation}\n",
    "\n",
    "$Uncertainty(f) = \\sqrt{Var(f)}$\n",
    "\n",
    "\n",
    "\n",
    "where $f$ is some function. In this case, $f$ is the equation for $E_{pk}$. From the Band function, \n",
    "\\begin{equation}\n",
    "E_{pk} = (\\alpha + 2) E_{0} ,\n",
    "\\end{equation}\n",
    "where $E_0$ is the e-folding energy with a parameter name of 'tem'. \n",
    "\n",
    "$E_{pk}$ - epeak\n",
    "\n",
    "$E_{0}$ - tem\n",
    "\n",
    "$\\alpha$ - alpha, or low-energy index.\n",
    "\n",
    "$\\beta$ - beta, or high-energy index.\n",
    "\n",
    "$Amp$ - model amplitude (the 'norm' parameter). \n",
    "\n",
    "The partial derivatives of $E_{pk}$ are:\n",
    "\\begin{equation}\n",
    "\\begin{split}\n",
    "\\frac{\\partial E_{pk}}{\\partial \\alpha} &= E_0 \\\\\n",
    "\\frac{\\partial E_{pk}}{\\partial \\beta} &= 0 \\\\\n",
    "\\frac{\\partial E_{pk}}{\\partial E_0} &= \\alpha + 2\\\\\n",
    "\\frac{\\partial E_{pk}}{\\partial Amp} &= 0\n",
    "\\end{split}\n",
    "\\end{equation}\n",
    "\n",
    "Since the model amplitude and $\\beta$ are not even in the $E_{pk}$ equation, there really is no reason to take the partial derivatives of the equation with respect to them. However, if we do so, we can keep all the terms in the variance-covariance matrix as is. This is advantageous for using the matrix form of the propagation equation. Otherwise, the partial derivative matrix and the variance-covariance matrix will have different shapes. \n",
    "\n",
    "The partial derivative matrix:\n",
    "\\begin{bmatrix}\n",
    "\\frac{\\partial E_{pk}}{\\partial \\alpha} & \\frac{\\partial E_{pk}}{\\partial \\beta} & \\frac{\\partial E_{pk}}{\\partial E_0} & \\frac{\\partial E_{pk}}{\\partial Amp}\n",
    "\\end{bmatrix}\n",
    "\n",
    "\n",
    "The variance-covariance matrix:\n",
    "\n",
    "\\begin{bmatrix}\n",
    "Var(x_1,x_1) & Cov(x_1,x_2) & Cov(x_1,x_3) & Cov(x_1,x_4) \\\\\n",
    "Cov(x_2,x_1) & Var(x_2,x_2) & Cov(x_2,x_3) & Cov(x_2,x_4) \\\\\n",
    "Cov(x_3,x_1) & Cov(x_3,x_2) & Var(x_3,x_3) & Cov(x_3,x_4) \\\\\n",
    "Cov(x_4,x_1) & Cov(x_4,x_2) & Cov(x_4,x_3) & Var(x_4,x_4) \\\\  \n",
    "\\end{bmatrix}\n",
    "\n",
    "\n",
    "and with the proper terms:\n",
    "\n",
    "\n",
    "\\begin{bmatrix}\n",
    "Var(\\alpha,\\alpha) & Cov(\\alpha,\\beta) & Cov(\\alpha,E_0) & Cov(\\alpha,Amp) \\\\\n",
    "Cov(\\beta,\\alpha) & Var(\\beta,\\beta) & Cov(\\beta,E_0) & Cov(\\beta,Amp) \\\\\n",
    "Cov(E_0,\\alpha) & Cov(E_0,\\beta) & Var(E_0,E_0) & Cov(E_0,Amp) \\\\\n",
    "Cov(Amp,\\alpha) & Cov(Amp,\\beta) & Cov(Amp,E_0) & Var(Amp,Amp) \\\\\n",
    "\\end{bmatrix}\n",
    "\n",
    "The above propagation of uncertainty equation can be computed by matrix algebra:\n",
    "\n",
    "$Uncertainty = \\sqrt{PD * COV * PD^T}$\n",
    "where PD is the partial derivatives matrix and COV is the variance-covariance matrix from the model fit. "
   ]
  },
  {
   "cell_type": "code",
   "execution_count": 1,
   "metadata": {
    "collapsed": true
   },
   "outputs": [],
   "source": [
    "from __future__ import division\n",
    "from collections import OrderedDict\n",
    "import os\n",
    "import json\n",
    "\n",
    "from math import atanh, log\n",
    "import numpy as np\n",
    "import pandas as pd\n",
    "from astropy.io import fits as pyfits"
   ]
  },
  {
   "cell_type": "code",
   "execution_count": 2,
   "metadata": {
    "collapsed": true
   },
   "outputs": [],
   "source": [
    "def epeak_partials(model):\n",
    "    \"\"\"\n",
    "\n",
    "    Parameters:\n",
    "    -----------\n",
    "    model: str, model name. \n",
    "            Options are: 'grbm', 'cutoffpl', 'sbpl'\n",
    "            THESE ARE XSPEC ONLY!\n",
    "    dpar: str or None, default is None.\n",
    "            Pass None and get a dictionary of all the partial derivatives.\n",
    "            Pass a single string and get only the partial derivative\n",
    "              wrt that parameter. \n",
    "\n",
    "    Notes:\n",
    "    ------\n",
    "    The 'sbpl' model uses brkscale = 0.3. If you don't want to fix it \n",
    "    at this value, update this function and add brkscale to the parameters.\n",
    "    We currently don't allow the function to use this parameter, so for \n",
    "    now it doesn't matter. \n",
    "    \n",
    "    *********\n",
    "    Propagating ebreak and tem errors to find epeak's error uses the same \n",
    "    propragation of error equation as any function.\n",
    "    The matrix version of the equation is: \n",
    "    variance = PDMAT * COVARMAT * PDMAT.T\n",
    "    uncertainty = np.sqrt(variance)\n",
    "    Where PDMAT is the partial derivative matrix and COVARMAT is the \n",
    "    covariance matrix from the fit. \n",
    "    The function for computing epeak from ebreak or tem does not include \n",
    "    the amplitude term (i.e., norm__4 parameter), therefore there is no \n",
    "    apparent reason for including its partial derivative (which is 0). \n",
    "    However, we include it here so that the covariance matrix from the \n",
    "    model fit does not need to be changed. If we do edit the covariance \n",
    "    matrix and remove the norm__4 terms (which is row 3 and col 3 for \n",
    "    sbpl and grbm fits) we would get the same exact result as if we left \n",
    "    it in and had the partial deriv wrt norm as 0.\n",
    "\n",
    "    \"\"\"\n",
    "    pars = OrderedDict([\n",
    "                ('alpha__1', \n",
    "                    'tem__3'), \n",
    "                ('beta__2', \n",
    "                    '0'), \n",
    "                ('tem__3', \n",
    "                    'alpha__1 + 2.0'),\n",
    "                ('norm__4', \n",
    "                    '0')\n",
    "                ])\n",
    "    return pars\n"
   ]
  },
  {
   "cell_type": "code",
   "execution_count": 3,
   "metadata": {
    "collapsed": true
   },
   "outputs": [],
   "source": [
    "def delete_pars(parameters):\n",
    "    \"\"\"\n",
    "    Parameters:\n",
    "    ------------\n",
    "    parameters: dict of parameters and values. \n",
    "                parameters.keys() are the parameter names;\n",
    "                'alpha__1', 'beta__2', etc.\n",
    "\n",
    "    Clears all global parameter assignments.\n",
    "    del alpha__1\n",
    "    del beta__2\n",
    "    del tem__3 \n",
    "    etc ...\n",
    "\n",
    "    \"\"\"\n",
    "    for key in parameters.keys():\n",
    "        del globals()[key]\n",
    "\n",
    "\n",
    "def Calc_Epeak_Uncertainty(model, parameters, covarmat):\n",
    "    \"\"\"\n",
    "    Calculates Epeak Uncertainty.\n",
    "\n",
    "    Parameters:\n",
    "    -----------\n",
    "    model: str, model. If you have 'grbm' with 'tem', this gives you\n",
    "                uncertainty in epeak. Need to compute epeak elsewhere. \n",
    "\n",
    "    parameters: ordered dict, holds parameter names associated with \n",
    "                the respective model. See bottom for examples. \n",
    "    covarmat: np.ndarray or np.matrix, \n",
    "                square covariance matrix from XSPEC model fit. \n",
    "                Needs to be read from a FITS file. \n",
    "\n",
    "    Notes:\n",
    "    ------\n",
    "    The function for calculating epeak from ebreak or tem does not \n",
    "    include the model amplitude term (i.e., norm__4 parameter). \n",
    "    Therefore it doesn't make sense to include a partial derivative of \n",
    "    the fn wrt this parameter. HOWEVER, we did this, which is 0, so that \n",
    "    we can leave the covariance matrix from the fit in its present form. \n",
    "    If we removed the pd wrt norm__4, then we'd have to remove all the \n",
    "    norm__4 terms in the covariance matrix (which is all of row 3 \n",
    "    and col 3 for sbpl and grbm fits - starting at 0). Without the \n",
    "    norm__4 in the partial derivative matrix, the shapes between the \n",
    "    pd matrix and covariance matrix will be different.  \n",
    "    We tested it, and if we remove the norm__4 terms from both the \n",
    "    pd matrix and the covariance matrix, we will get the same thing if \n",
    "    we just leave the terms in both. \n",
    "\n",
    "\n",
    "    \"\"\"\n",
    "\n",
    "    if isinstance(parameters, dict) is False:\n",
    "        raise Exception, \"parameters must be a dictionary.\"\n",
    "    # Dictionary holding str eqns for the partial derivatives of the fn wrt each param. \n",
    "    Partials = eval(\"epeak_partials('%s')\"%model) # call to epeak_partials fn\n",
    "\n",
    "    # Instantiate only appropriate parameters. \n",
    "    #  replaced parameteres.keys() with Partials.keys()\n",
    "    for key in Partials.keys():\n",
    "        globals()[key] = parameters[key]\n",
    "    \n",
    "    # Calculate Epeak\n",
    "    epeak = (alpha__1 + 2.0) * tem__3\n",
    "    \n",
    "    # Evaluate partial derivs with real numbers and store in matrix. \n",
    "    pdmatrix = np.asmatrix([eval(i) for i in Partials.values()]) \n",
    "    \n",
    "    # Propagation of Uncertainty Calculation.\n",
    "    variance = pdmatrix * covarmat * pdmatrix.T\n",
    "    uncertainty = float(np.sqrt(variance))\n",
    "\n",
    "    delete_pars(parameters) # clears global def of alpha__1, beta__2, ...\n",
    "    \n",
    "    return epeak, uncertainty"
   ]
  },
  {
   "cell_type": "markdown",
   "metadata": {},
   "source": [
    "## Begin Program"
   ]
  },
  {
   "cell_type": "code",
   "execution_count": 4,
   "metadata": {
    "collapsed": false
   },
   "outputs": [
    {
     "data": {
      "text/html": [
       "<div>\n",
       "<table border=\"1\" class=\"dataframe\">\n",
       "  <thead>\n",
       "    <tr style=\"text-align: right;\">\n",
       "      <th></th>\n",
       "      <th>number</th>\n",
       "      <th>name</th>\n",
       "      <th>trigger</th>\n",
       "      <th>z</th>\n",
       "      <th>t90_start</th>\n",
       "      <th>t90_stop</th>\n",
       "      <th>duration</th>\n",
       "    </tr>\n",
       "  </thead>\n",
       "  <tbody>\n",
       "    <tr>\n",
       "      <th>0</th>\n",
       "      <td>1</td>\n",
       "      <td>GRB080804</td>\n",
       "      <td>bn080804972</td>\n",
       "      <td>2.2045</td>\n",
       "      <td>0.256</td>\n",
       "      <td>24.960</td>\n",
       "      <td>24.704</td>\n",
       "    </tr>\n",
       "    <tr>\n",
       "      <th>1</th>\n",
       "      <td>2</td>\n",
       "      <td>GRB080810</td>\n",
       "      <td>bn080810549</td>\n",
       "      <td>3.3604</td>\n",
       "      <td>-20.096</td>\n",
       "      <td>87.361</td>\n",
       "      <td>107.457</td>\n",
       "    </tr>\n",
       "    <tr>\n",
       "      <th>2</th>\n",
       "      <td>3</td>\n",
       "      <td>GRB080905A</td>\n",
       "      <td>bn080905499</td>\n",
       "      <td>0.1218</td>\n",
       "      <td>-0.064</td>\n",
       "      <td>0.896</td>\n",
       "      <td>0.960</td>\n",
       "    </tr>\n",
       "    <tr>\n",
       "      <th>3</th>\n",
       "      <td>4</td>\n",
       "      <td>GRB080905B</td>\n",
       "      <td>bn080905705</td>\n",
       "      <td>2.3739</td>\n",
       "      <td>-5.120</td>\n",
       "      <td>100.864</td>\n",
       "      <td>105.984</td>\n",
       "    </tr>\n",
       "    <tr>\n",
       "      <th>4</th>\n",
       "      <td>5</td>\n",
       "      <td>GRB080916A</td>\n",
       "      <td>bn080916406</td>\n",
       "      <td>0.6887</td>\n",
       "      <td>0.512</td>\n",
       "      <td>46.849</td>\n",
       "      <td>46.337</td>\n",
       "    </tr>\n",
       "  </tbody>\n",
       "</table>\n",
       "</div>"
      ],
      "text/plain": [
       "   number        name      trigger       z  t90_start  t90_stop  duration\n",
       "0       1   GRB080804  bn080804972  2.2045      0.256    24.960    24.704\n",
       "1       2   GRB080810  bn080810549  3.3604    -20.096    87.361   107.457\n",
       "2       3  GRB080905A  bn080905499  0.1218     -0.064     0.896     0.960\n",
       "3       4  GRB080905B  bn080905705  2.3739     -5.120   100.864   105.984\n",
       "4       5  GRB080916A  bn080916406  0.6887      0.512    46.849    46.337"
      ]
     },
     "execution_count": 4,
     "metadata": {},
     "output_type": "execute_result"
    }
   ],
   "source": [
    "burst_data = pd.read_csv('/Users/KimiZ/GRBs2/Sample/bursts.txt', \n",
    "                         sep=' ', header=0)\n",
    "burst_data['duration'] = burst_data.t90_stop-burst_data.t90_start\n",
    "burst_data.head()"
   ]
  },
  {
   "cell_type": "code",
   "execution_count": 5,
   "metadata": {
    "collapsed": false
   },
   "outputs": [
    {
     "data": {
      "text/plain": [
       "OrderedDict([('alpha__1', 'tem__3'),\n",
       "             ('beta__2', '0'),\n",
       "             ('tem__3', 'alpha__1 + 2.0'),\n",
       "             ('norm__4', '0')])"
      ]
     },
     "execution_count": 5,
     "metadata": {},
     "output_type": "execute_result"
    }
   ],
   "source": [
    "model      = 'grbm'\n",
    "det        = 'L'             # detector fit:  'L' stands for GBM+LLE+LAT\n",
    "version    = '-01-'          # version of fit: first version. \n",
    "\n",
    "\n",
    "# Partial Derivatives of the epeak function wrt each parameter. \n",
    "#   There is no norm__4 in the epeak calculation, but we leave it as 0 \n",
    "#   so that we can multiply the partial derivative matrix by the \n",
    "#   covariance matrix. They need to have the same shape. \n",
    "Partials = epeak_partials(model=model)\n",
    "Partials"
   ]
  },
  {
   "cell_type": "code",
   "execution_count": 6,
   "metadata": {
    "collapsed": false
   },
   "outputs": [],
   "source": [
    "filename   = 'AmatiOverlap_38_bothdatasets.txt'\n",
    "\n",
    "filename = '/Users/KimiZ/GRBs2/Sample/'+filename\n",
    "#df = pd.read_csv(filename, sep='\\t')\n",
    "df = pd.read_csv(filename, sep=',')"
   ]
  },
  {
   "cell_type": "raw",
   "metadata": {},
   "source": [
    "df.columns"
   ]
  },
  {
   "cell_type": "raw",
   "metadata": {},
   "source": [
    "df.loc[df.LATburst=='Y', :]"
   ]
  },
  {
   "cell_type": "code",
   "execution_count": 7,
   "metadata": {
    "collapsed": false
   },
   "outputs": [
    {
     "data": {
      "text/plain": [
       "'/Users/KimiZ/GRBs2/Sample/AmatiOverlap_38_bothdatasets.txt'"
      ]
     },
     "execution_count": 7,
     "metadata": {},
     "output_type": "execute_result"
    }
   ],
   "source": [
    "filename"
   ]
  },
  {
   "cell_type": "raw",
   "metadata": {},
   "source": [
    "df.number.tolist()"
   ]
  },
  {
   "cell_type": "code",
   "execution_count": 9,
   "metadata": {
    "collapsed": false
   },
   "outputs": [
    {
     "data": {
      "text/html": [
       "<div>\n",
       "<table border=\"1\" class=\"dataframe\">\n",
       "  <thead>\n",
       "    <tr style=\"text-align: right;\">\n",
       "      <th></th>\n",
       "      <th>trigger</th>\n",
       "      <th>name</th>\n",
       "      <th>number</th>\n",
       "      <th>z</th>\n",
       "      <th>LumDist</th>\n",
       "      <th>trigtime</th>\n",
       "      <th>t90</th>\n",
       "      <th>t90Rest</th>\n",
       "      <th>t90start</th>\n",
       "      <th>t90stop</th>\n",
       "      <th>...</th>\n",
       "      <th>Flue2</th>\n",
       "      <th>Flue2_err</th>\n",
       "      <th>Flue3</th>\n",
       "      <th>Flue3_err</th>\n",
       "      <th>Eiso1</th>\n",
       "      <th>Eiso1_err</th>\n",
       "      <th>Eiso2</th>\n",
       "      <th>Eiso2_err</th>\n",
       "      <th>Eiso3</th>\n",
       "      <th>Eiso3_err</th>\n",
       "    </tr>\n",
       "  </thead>\n",
       "  <tbody>\n",
       "    <tr>\n",
       "      <th>0</th>\n",
       "      <td>bn080804972</td>\n",
       "      <td>80804</td>\n",
       "      <td>0</td>\n",
       "      <td>2.2045</td>\n",
       "      <td>5.536738e+28</td>\n",
       "      <td>54682.97239</td>\n",
       "      <td>24.704</td>\n",
       "      <td>7.709159</td>\n",
       "      <td>0.256</td>\n",
       "      <td>24.960</td>\n",
       "      <td>...</td>\n",
       "      <td>0.000010</td>\n",
       "      <td>0.000002</td>\n",
       "      <td>0.000010</td>\n",
       "      <td>1.743566e-06</td>\n",
       "      <td>1.159516e+53</td>\n",
       "      <td>2.096977e+52</td>\n",
       "      <td>1.165993e+53</td>\n",
       "      <td>2.687305e+52</td>\n",
       "      <td>1.163744e+53</td>\n",
       "      <td>2.096022e+52</td>\n",
       "    </tr>\n",
       "    <tr>\n",
       "      <th>1</th>\n",
       "      <td>bn080810549</td>\n",
       "      <td>80810</td>\n",
       "      <td>1</td>\n",
       "      <td>3.3604</td>\n",
       "      <td>9.206175e+28</td>\n",
       "      <td>54688.54876</td>\n",
       "      <td>107.456</td>\n",
       "      <td>24.643611</td>\n",
       "      <td>-20.096</td>\n",
       "      <td>87.360</td>\n",
       "      <td>...</td>\n",
       "      <td>0.000031</td>\n",
       "      <td>0.000010</td>\n",
       "      <td>0.000027</td>\n",
       "      <td>1.885465e-06</td>\n",
       "      <td>6.407256e+53</td>\n",
       "      <td>4.536912e+52</td>\n",
       "      <td>7.456679e+53</td>\n",
       "      <td>2.533761e+53</td>\n",
       "      <td>6.508130e+53</td>\n",
       "      <td>4.605327e+52</td>\n",
       "    </tr>\n",
       "    <tr>\n",
       "      <th>2</th>\n",
       "      <td>bn080916009</td>\n",
       "      <td>080916C</td>\n",
       "      <td>5</td>\n",
       "      <td>4.3500</td>\n",
       "      <td>1.250788e+29</td>\n",
       "      <td>54725.00886</td>\n",
       "      <td>62.977</td>\n",
       "      <td>11.771402</td>\n",
       "      <td>1.280</td>\n",
       "      <td>64.257</td>\n",
       "      <td>...</td>\n",
       "      <td>0.000191</td>\n",
       "      <td>0.000004</td>\n",
       "      <td>0.000095</td>\n",
       "      <td>1.931454e-06</td>\n",
       "      <td>3.482210e+54</td>\n",
       "      <td>7.055090e+52</td>\n",
       "      <td>7.033527e+54</td>\n",
       "      <td>1.472875e+53</td>\n",
       "      <td>3.494756e+54</td>\n",
       "      <td>7.098348e+52</td>\n",
       "    </tr>\n",
       "    <tr>\n",
       "      <th>3</th>\n",
       "      <td>bn080928628</td>\n",
       "      <td>80928</td>\n",
       "      <td>6</td>\n",
       "      <td>1.6919</td>\n",
       "      <td>4.006108e+28</td>\n",
       "      <td>54737.62843</td>\n",
       "      <td>14.336</td>\n",
       "      <td>5.325606</td>\n",
       "      <td>-1.792</td>\n",
       "      <td>12.544</td>\n",
       "      <td>...</td>\n",
       "      <td>0.000002</td>\n",
       "      <td>0.000001</td>\n",
       "      <td>0.000002</td>\n",
       "      <td>5.836189e-07</td>\n",
       "      <td>1.377612e+52</td>\n",
       "      <td>4.425007e+51</td>\n",
       "      <td>1.480658e+52</td>\n",
       "      <td>1.018460e+52</td>\n",
       "      <td>1.609213e+52</td>\n",
       "      <td>4.372458e+51</td>\n",
       "    </tr>\n",
       "    <tr>\n",
       "      <th>4</th>\n",
       "      <td>bn081008832</td>\n",
       "      <td>81008</td>\n",
       "      <td>7</td>\n",
       "      <td>1.9670</td>\n",
       "      <td>4.818115e+28</td>\n",
       "      <td>54747.83197</td>\n",
       "      <td>150.016</td>\n",
       "      <td>50.561510</td>\n",
       "      <td>0.000</td>\n",
       "      <td>150.016</td>\n",
       "      <td>...</td>\n",
       "      <td>0.000113</td>\n",
       "      <td>0.000037</td>\n",
       "      <td>0.000017</td>\n",
       "      <td>1.517899e-06</td>\n",
       "      <td>1.698696e+53</td>\n",
       "      <td>1.470818e+52</td>\n",
       "      <td>1.109155e+54</td>\n",
       "      <td>3.655387e+53</td>\n",
       "      <td>1.707400e+53</td>\n",
       "      <td>1.492415e+52</td>\n",
       "    </tr>\n",
       "  </tbody>\n",
       "</table>\n",
       "<p>5 rows × 70 columns</p>\n",
       "</div>"
      ],
      "text/plain": [
       "       trigger     name  number       z       LumDist     trigtime      t90  \\\n",
       "0  bn080804972    80804       0  2.2045  5.536738e+28  54682.97239   24.704   \n",
       "1  bn080810549    80810       1  3.3604  9.206175e+28  54688.54876  107.456   \n",
       "2  bn080916009  080916C       5  4.3500  1.250788e+29  54725.00886   62.977   \n",
       "3  bn080928628    80928       6  1.6919  4.006108e+28  54737.62843   14.336   \n",
       "4  bn081008832    81008       7  1.9670  4.818115e+28  54747.83197  150.016   \n",
       "\n",
       "     t90Rest  t90start  t90stop      ...          Flue2 Flue2_err     Flue3  \\\n",
       "0   7.709159     0.256   24.960      ...       0.000010  0.000002  0.000010   \n",
       "1  24.643611   -20.096   87.360      ...       0.000031  0.000010  0.000027   \n",
       "2  11.771402     1.280   64.257      ...       0.000191  0.000004  0.000095   \n",
       "3   5.325606    -1.792   12.544      ...       0.000002  0.000001  0.000002   \n",
       "4  50.561510     0.000  150.016      ...       0.000113  0.000037  0.000017   \n",
       "\n",
       "      Flue3_err         Eiso1     Eiso1_err         Eiso2     Eiso2_err  \\\n",
       "0  1.743566e-06  1.159516e+53  2.096977e+52  1.165993e+53  2.687305e+52   \n",
       "1  1.885465e-06  6.407256e+53  4.536912e+52  7.456679e+53  2.533761e+53   \n",
       "2  1.931454e-06  3.482210e+54  7.055090e+52  7.033527e+54  1.472875e+53   \n",
       "3  5.836189e-07  1.377612e+52  4.425007e+51  1.480658e+52  1.018460e+52   \n",
       "4  1.517899e-06  1.698696e+53  1.470818e+52  1.109155e+54  3.655387e+53   \n",
       "\n",
       "          Eiso3     Eiso3_err  \n",
       "0  1.163744e+53  2.096022e+52  \n",
       "1  6.508130e+53  4.605327e+52  \n",
       "2  3.494756e+54  7.098348e+52  \n",
       "3  1.609213e+52  4.372458e+51  \n",
       "4  1.707400e+53  1.492415e+52  \n",
       "\n",
       "[5 rows x 70 columns]"
      ]
     },
     "execution_count": 9,
     "metadata": {},
     "output_type": "execute_result"
    }
   ],
   "source": [
    "df.head()"
   ]
  },
  {
   "cell_type": "code",
   "execution_count": null,
   "metadata": {
    "collapsed": false
   },
   "outputs": [],
   "source": [
    "df"
   ]
  },
  {
   "cell_type": "code",
   "execution_count": 10,
   "metadata": {
    "collapsed": true
   },
   "outputs": [],
   "source": [
    "bursts = '''bn080916009\n",
    "bn090323002\n",
    "bn090328401\n",
    "bn090510016\n",
    "bn090902462\n",
    "bn090926181\n",
    "bn091003191\n",
    "bn091208410\n",
    "bn100728095\n",
    "bn110731465\n",
    "bn130518580\n",
    "bn131108862\n",
    "bn131231198'''\n",
    "bursts = bursts.split('\\n')"
   ]
  },
  {
   "cell_type": "code",
   "execution_count": 11,
   "metadata": {
    "collapsed": false
   },
   "outputs": [],
   "source": [
    "kim = df.copy()"
   ]
  },
  {
   "cell_type": "raw",
   "metadata": {
    "collapsed": false
   },
   "source": [
    "for burst in bursts:\n",
    "    z = float(burst_data.loc[burst_data['trigger'] == burst].z)\n",
    "    dur = float(burst_data.loc[burst_data['trigger'] == burst].duration)    \n",
    "    \n",
    "    # *~*~*~ Find appropriate files.\n",
    "    detDir = ('GBMwLAT' if 'L' in det else 'GBM')\n",
    "    paramfile = ('/Users/KimiZ/GRBs2/analysis/LAT/%s/PYXSPEC/'\n",
    "                 '%s/%s/xspec_fitresults_%s_%s_%s_.json'%(burst, detDir, model, model, \n",
    "                                                          version, det))\n",
    "    covarfile = ('/Users/KimiZ/GRBs2/analysis/LAT/%s/PYXSPEC/'\n",
    "                 '%s/%s/xspec_fitresults_%s_%s_%s_.fit'%(burst, detDir, model, model, \n",
    "                                                         version, det))\n",
    "    \n",
    "    # *~*~*~ Covaraince Matrix\n",
    "    f1 = pyfits.open(covarfile)\n",
    "    COVARMAT = np.asarray(f1[2].data['COVARMAT'][0])\n",
    "    nPars = int(np.sqrt(len(COVARMAT)))\n",
    "    COVARMAT = COVARMAT.reshape((nPars, nPars))\n",
    "    f1.close()\n",
    "    del f1\n",
    "    \n",
    "    # *~*~*~ parameters dict -- object_pairs_hook=OrderedDict keeps it in order. \n",
    "    Parameters = json.load(open(paramfile, 'r'), \n",
    "                           object_pairs_hook=OrderedDict)[0] \n",
    "    \n",
    "    # Keep only the param value, not the errors. \n",
    "    for key in Parameters.keys():\n",
    "        Parameters[key] = Parameters[key][0]\n",
    "        \n",
    "    epeak, epeakUnc = Calc_Epeak_Uncertainty(model=model, \n",
    "                                             parameters=Parameters, \n",
    "                                             covarmat=COVARMAT)\n",
    "    print('%s:  %10.5f    +-%10.5f'%(burst, epeak, epeakUnc))\n",
    "    df.loc[df.trigger == burst, 'epeak_err_low'] = epeakUnc\n",
    "    df.loc[df.trigger == burst, 'epeak_err_up'] = epeakUnc\n",
    "    df.loc[df.trigger == burst, 'epeakRest_err_low'] = epeakUnc * (1+z)\n",
    "    df.loc[df.trigger == burst, 'epeakRest_err_up'] = epeakUnc * (1+z)\n",
    "    \n",
    "    "
   ]
  },
  {
   "cell_type": "code",
   "execution_count": 12,
   "metadata": {
    "collapsed": false
   },
   "outputs": [
    {
     "name": "stdout",
     "output_type": "stream",
     "text": [
      "bn080916009:   510.64139    +-  34.34517\n",
      "bn090323002:   702.28847    +-  53.21646\n",
      "bn090328401:   635.22789    +-  51.79216\n",
      "bn090510016:  2052.27913    +- 331.06326\n",
      "bn090902462:  1020.81855    +-  18.39910\n",
      "bn090926181:   302.71071    +-   3.96333\n",
      "bn091003191:   387.65164    +-  23.44402\n",
      "bn091208410:   104.26595    +-  17.67836\n",
      "bn100728095:   298.07698    +-   9.75014\n",
      "bn110731465:   256.50378    +-  14.05121\n",
      "bn130518580:   422.06720    +-  14.74287\n",
      "bn131108862:   330.41515    +-  17.01770\n",
      "bn131231198:   220.39260    +-   3.39933\n"
     ]
    }
   ],
   "source": [
    "for burst in bursts:\n",
    "    z = float(burst_data.loc[burst_data['trigger'] == burst].z)\n",
    "    dur = float(burst_data.loc[burst_data['trigger'] == burst].duration)    \n",
    "    \n",
    "    # *~*~*~ Find appropriate files.\n",
    "    detDir = ('GBMwLAT' if 'L' in det else 'GBM')\n",
    "    paramfile = ('/Users/KimiZ/GRBs2/analysis/LAT/%s/PYXSPEC/'\n",
    "                 '%s/%s/xspec_fitresults_%s_%s_%s_.json'%(burst, detDir, model, model, \n",
    "                                                          version, det))\n",
    "    covarfile = ('/Users/KimiZ/GRBs2/analysis/LAT/%s/PYXSPEC/'\n",
    "                 '%s/%s/xspec_fitresults_%s_%s_%s_.fit'%(burst, detDir, model, model, \n",
    "                                                         version, det))\n",
    "    \n",
    "    # *~*~*~ Covaraince Matrix\n",
    "    f1 = pyfits.open(covarfile)\n",
    "    COVARMAT = np.asarray(f1[2].data['COVARMAT'][0])\n",
    "    nPars = int(np.sqrt(len(COVARMAT)))\n",
    "    COVARMAT = COVARMAT.reshape((nPars, nPars))\n",
    "    f1.close()\n",
    "    del f1\n",
    "    \n",
    "    # *~*~*~ parameters dict -- object_pairs_hook=OrderedDict keeps it in order. \n",
    "    Parameters = json.load(open(paramfile, 'r'), \n",
    "                           object_pairs_hook=OrderedDict)[0] \n",
    "    \n",
    "    # Keep only the param value, not the errors. \n",
    "    for key in Parameters.keys():\n",
    "        Parameters[key] = Parameters[key][0]\n",
    "        \n",
    "    epeak, epeakUnc = Calc_Epeak_Uncertainty(model=model, \n",
    "                                             parameters=Parameters, \n",
    "                                             covarmat=COVARMAT)\n",
    "    print('%s:  %10.5f    +-%10.5f'%(burst, epeak, epeakUnc))\n",
    "    df.loc[df.trigger == burst, 'epeak_err_low_mine'] = epeakUnc\n",
    "    df.loc[df.trigger == burst, 'epeak_err_up_mine'] = epeakUnc\n",
    "    df.loc[df.trigger == burst, 'epeakRest_err_low_mine'] = epeakUnc * (1+z)\n",
    "    df.loc[df.trigger == burst, 'epeakRest_err_up_mine'] = epeakUnc * (1+z)"
   ]
  },
  {
   "cell_type": "code",
   "execution_count": 20,
   "metadata": {
    "collapsed": false
   },
   "outputs": [
    {
     "data": {
      "text/plain": [
       "2     183.746653\n",
       "9     243.199227\n",
       "10     89.911198\n",
       "14     51.922253\n",
       "15     12.310902\n",
       "17     44.470956\n",
       "21     36.475764\n",
       "30     53.816136\n",
       "Name: epeakRest_err_low_mine, dtype: float64"
      ]
     },
     "execution_count": 20,
     "metadata": {},
     "output_type": "execute_result"
    }
   ],
   "source": [
    "df.loc[df.LATburst == 'Y'].epeakRest_err_low_mine"
   ]
  },
  {
   "cell_type": "code",
   "execution_count": 21,
   "metadata": {
    "collapsed": false
   },
   "outputs": [
    {
     "data": {
      "text/plain": [
       "2     183.746653\n",
       "9     243.199227\n",
       "10     89.911198\n",
       "14     51.922253\n",
       "15     12.310902\n",
       "17     44.470956\n",
       "21     36.475764\n",
       "30     53.816136\n",
       "Name: epeakRest_err_up_mine, dtype: float64"
      ]
     },
     "execution_count": 21,
     "metadata": {},
     "output_type": "execute_result"
    }
   ],
   "source": [
    "df.loc[df.LATburst == 'Y'].epeakRest_err_up_mine"
   ]
  },
  {
   "cell_type": "code",
   "execution_count": null,
   "metadata": {
    "collapsed": true
   },
   "outputs": [],
   "source": []
  },
  {
   "cell_type": "code",
   "execution_count": 23,
   "metadata": {
    "collapsed": false
   },
   "outputs": [],
   "source": [
    "df.to_csv(filename, sep='\\t', index=False)"
   ]
  },
  {
   "cell_type": "code",
   "execution_count": null,
   "metadata": {
    "collapsed": false
   },
   "outputs": [],
   "source": [
    "filename"
   ]
  },
  {
   "cell_type": "code",
   "execution_count": null,
   "metadata": {
    "collapsed": true
   },
   "outputs": [],
   "source": [
    "df1 = pd.read_csv(filename, sep='\\t')"
   ]
  },
  {
   "cell_type": "code",
   "execution_count": null,
   "metadata": {
    "collapsed": false
   },
   "outputs": [],
   "source": [
    "df1.head()"
   ]
  },
  {
   "cell_type": "markdown",
   "metadata": {},
   "source": [
    "### epeak_err_low, epeak_err_up, epeakRest_err_low, epeakRest_err_up"
   ]
  },
  {
   "cell_type": "code",
   "execution_count": null,
   "metadata": {
    "collapsed": false
   },
   "outputs": [],
   "source": [
    "df.number.tolist()"
   ]
  },
  {
   "cell_type": "raw",
   "metadata": {},
   "source": [
    "df.epeak_err_low.to_clipboard(index=False) # epeak_err_low"
   ]
  },
  {
   "cell_type": "raw",
   "metadata": {},
   "source": [
    "df.epeak_err_up.to_clipboard(index=False) # epeak_err_up"
   ]
  },
  {
   "cell_type": "raw",
   "metadata": {},
   "source": [
    "df.epeakRest_err_low.to_clipboard(index=False) # epeakRest_err_low"
   ]
  },
  {
   "cell_type": "raw",
   "metadata": {},
   "source": [
    "df.epeakRest_err_up.to_clipboard(index=False) # epeakRest_err_up"
   ]
  },
  {
   "cell_type": "code",
   "execution_count": null,
   "metadata": {
    "collapsed": true
   },
   "outputs": [],
   "source": []
  },
  {
   "cell_type": "code",
   "execution_count": 24,
   "metadata": {
    "collapsed": true
   },
   "outputs": [],
   "source": [
    "df.epeak_err_low_mine.to_clipboard(index=False) # epeak_err_low"
   ]
  },
  {
   "cell_type": "code",
   "execution_count": 25,
   "metadata": {
    "collapsed": true
   },
   "outputs": [],
   "source": [
    "df.epeak_err_up_mine.to_clipboard(index=False) # epeak_err_up"
   ]
  },
  {
   "cell_type": "code",
   "execution_count": 26,
   "metadata": {
    "collapsed": true
   },
   "outputs": [],
   "source": [
    "df.epeakRest_err_low_mine.to_clipboard(index=False) # epeakRest_err_low"
   ]
  },
  {
   "cell_type": "code",
   "execution_count": 27,
   "metadata": {
    "collapsed": true
   },
   "outputs": [],
   "source": [
    "df.epeakRest_err_up_mine.to_clipboard(index=False) # epeakRest_err_up"
   ]
  },
  {
   "cell_type": "code",
   "execution_count": null,
   "metadata": {
    "collapsed": true
   },
   "outputs": [],
   "source": []
  },
  {
   "cell_type": "code",
   "execution_count": null,
   "metadata": {
    "collapsed": true
   },
   "outputs": [],
   "source": []
  },
  {
   "cell_type": "raw",
   "metadata": {},
   "source": [
    "for burst in bursts:\n",
    "    print(float(df.loc[df.trigger == burst, 'epeak']))\n",
    "    print(float(df.loc[df.trigger == burst, 'epeak_err_low']))\n",
    "    print(float(df.loc[df.trigger == burst, 'epeak_err_up']))\n",
    "    print('')\n",
    "\n",
    "for burst in bursts:\n",
    "    print(float(df.loc[df.trigger == burst, 'epeakRest']))\n",
    "    print(float(df.loc[df.trigger == burst, 'epeakRest_err_low']))\n",
    "    print(float(df.loc[df.trigger == burst, 'epeakRest_err_up']))\n",
    "    print('')"
   ]
  },
  {
   "cell_type": "markdown",
   "metadata": {},
   "source": [
    "### files that have already been updated:\n",
    "\n",
    "- Band_13_GBM+LAT__22_GBMconstrained.txt\n"
   ]
  }
 ],
 "metadata": {
  "kernelspec": {
   "display_name": "Python 2",
   "language": "python",
   "name": "python2"
  },
  "language_info": {
   "codemirror_mode": {
    "name": "ipython",
    "version": 2
   },
   "file_extension": ".py",
   "mimetype": "text/x-python",
   "name": "python",
   "nbconvert_exporter": "python",
   "pygments_lexer": "ipython2",
   "version": "2.7.11"
  }
 },
 "nbformat": 4,
 "nbformat_minor": 0
}
