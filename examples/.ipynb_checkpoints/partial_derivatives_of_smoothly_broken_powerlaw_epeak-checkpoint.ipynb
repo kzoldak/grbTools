{
 "cells": [
  {
   "cell_type": "code",
   "execution_count": 1,
   "metadata": {
    "collapsed": false
   },
   "outputs": [],
   "source": [
    "from __future__ import division\n",
    "from collections import OrderedDict\n",
    "\n",
    "\n",
    "import sympy\n",
    "from sympy import mpmath, integrate, diff, exp, log, ln, sqrt, lambdify\n",
    "from sympy import atanh\n",
    "\n",
    "from sympy import Function, Symbol\n",
    "\n",
    "from sympy import init_printing        # pretty printing\n",
    "from sympy.parsing.sympy_parser import parse_expr\n",
    "\n",
    "def PartialDerivatives(func, dpar, pretty=0, *params):\n",
    "    '''\n",
    "    PartialDerivatives(func, dpar, *params) # or **params for dictionary notation.\n",
    "\n",
    "    func:   str, the function equation.  Not name, but the math of the function.  \n",
    "            Make sure the parameters within the function match all of those parameters \n",
    "            within the parameter list.\n",
    "\n",
    "            *** WARNING ***: sympy requires input of\n",
    "            ln for natural log and \n",
    "            log for log base 10\n",
    "            However, it outputs log and log10.\n",
    "\n",
    "    dpar:\tstr, parameter you want to take the derivative with respect to. 'alpha'\n",
    "    \n",
    "    pretty: 0 is default.  pretty printing is off.  use 1 to turn pretty printing on.\n",
    "\n",
    "    params:\tlist of str, pass a list of strings containing the parameter names.  \n",
    "            Make sure they match all of those included in the function.\n",
    "\n",
    "\n",
    "\n",
    "    EXAMPLE:  \n",
    "\n",
    "    lower = 'energy * norm_band *((energy/enorm)**alpha)*(exp(-((energy*(2.+alpha))/epeak)))'\n",
    "\n",
    "    pars = 'alpha beta epeak norm_band enorm energy'.split(' ')\n",
    "\n",
    "    PartialDerivatives(func=lower, dpar='epeak', 0, *pars)\n",
    "\n",
    "    '''\n",
    "    print 'func:   ', func\n",
    "    print 'dpar:   ', dpar\n",
    "    print 'pretty: ', pretty\n",
    "    print 'params: ', params\n",
    "\n",
    "    if pretty:\n",
    "        init_printing(pretty_print=True)\n",
    "    else:\n",
    "        init_printing(pretty_print=False)\n",
    "\n",
    "    for par in params:\n",
    "        locals()[par] = Symbol('%s'%par, real=True)\n",
    "\n",
    "    return diff(eval(func), eval(dpar), method='quad')\n"
   ]
  },
  {
   "cell_type": "code",
   "execution_count": 2,
   "metadata": {
    "collapsed": false
   },
   "outputs": [
    {
     "name": "stdout",
     "output_type": "stream",
     "text": [
      "Partial Derivative of SBPL WRT:   alpha\n",
      "------------------------------------------------------------\n",
      "func:    ebreak*(10**(delta*(atanh((alpha+beta+4.0)/(alpha-beta)))))\n",
      "dpar:    alpha\n",
      "pretty:  0\n",
      "params:  ('alpha', 'beta', 'ebreak', 'norm', 'delta', 'energy')\n",
      "10**(delta*atanh((alpha + beta + 4.0)/(alpha - beta)))*delta*ebreak*(1/(alpha - beta) - (alpha + beta + 4.0)/(alpha - beta)**2)*log(10)/(1 - (alpha + beta + 4.0)**2/(alpha - beta)**2)\n",
      "\n",
      "\n",
      "Partial Derivative of SBPL WRT:   beta\n",
      "------------------------------------------------------------\n",
      "func:    ebreak*(10**(delta*(atanh((alpha+beta+4.0)/(alpha-beta)))))\n",
      "dpar:    beta\n",
      "pretty:  0\n",
      "params:  ('alpha', 'beta', 'ebreak', 'norm', 'delta', 'energy')\n",
      "10**(delta*atanh((alpha + beta + 4.0)/(alpha - beta)))*delta*ebreak*(1/(alpha - beta) + (alpha + beta + 4.0)/(alpha - beta)**2)*log(10)/(1 - (alpha + beta + 4.0)**2/(alpha - beta)**2)\n",
      "\n",
      "\n",
      "Partial Derivative of SBPL WRT:   ebreak\n",
      "------------------------------------------------------------\n",
      "func:    ebreak*(10**(delta*(atanh((alpha+beta+4.0)/(alpha-beta)))))\n",
      "dpar:    ebreak\n",
      "pretty:  0\n",
      "params:  ('alpha', 'beta', 'ebreak', 'norm', 'delta', 'energy')\n",
      "10**(delta*atanh((alpha + beta + 4.0)/(alpha - beta)))\n",
      "\n",
      "\n",
      "Partial Derivative of SBPL WRT:   norm\n",
      "------------------------------------------------------------\n",
      "func:    ebreak*(10**(delta*(atanh((alpha+beta+4.0)/(alpha-beta)))))\n",
      "dpar:    norm\n",
      "pretty:  0\n",
      "params:  ('alpha', 'beta', 'ebreak', 'norm', 'delta', 'energy')\n",
      "0\n",
      "\n",
      "\n",
      "Partial Derivative of SBPL WRT:   delta\n",
      "------------------------------------------------------------\n",
      "func:    ebreak*(10**(delta*(atanh((alpha+beta+4.0)/(alpha-beta)))))\n",
      "dpar:    delta\n",
      "pretty:  0\n",
      "params:  ('alpha', 'beta', 'ebreak', 'norm', 'delta', 'energy')\n",
      "10**(delta*atanh((alpha + beta + 4.0)/(alpha - beta)))*ebreak*log(10)*atanh((alpha + beta + 4.0)/(alpha - beta))\n",
      "\n",
      "\n",
      "Partial Derivative of SBPL WRT:   energy\n",
      "------------------------------------------------------------\n",
      "func:    ebreak*(10**(delta*(atanh((alpha+beta+4.0)/(alpha-beta)))))\n",
      "dpar:    energy\n",
      "pretty:  0\n",
      "params:  ('alpha', 'beta', 'ebreak', 'norm', 'delta', 'energy')\n",
      "0\n",
      "\n",
      "\n"
     ]
    }
   ],
   "source": [
    "pars = ['alpha', 'beta', 'ebreak', 'norm', 'delta', 'energy']\n",
    "\n",
    "eqn = 'ebreak*(10**(delta*(atanh((alpha+beta+4.0)/(alpha-beta)))))'\n",
    "\n",
    "\n",
    "for dpar in pars:\n",
    "    print('Partial Derivative of SBPL WRT:   %s'%dpar)\n",
    "    print('--'*30)\n",
    "    print( str(PartialDerivatives(eqn, str(dpar), 0, *pars)) )\n",
    "    print('\\n')\n",
    "    \n"
   ]
  },
  {
   "cell_type": "markdown",
   "metadata": {},
   "source": [
    "# Latex Equation form"
   ]
  },
  {
   "cell_type": "code",
   "execution_count": 3,
   "metadata": {
    "collapsed": true
   },
   "outputs": [],
   "source": [
    "init_printing(pretty_print=True)"
   ]
  },
  {
   "cell_type": "markdown",
   "metadata": {},
   "source": [
    "# Partial Derivative WRT $\\alpha$"
   ]
  },
  {
   "cell_type": "code",
   "execution_count": 4,
   "metadata": {
    "collapsed": false,
    "scrolled": true
   },
   "outputs": [
    {
     "name": "stdout",
     "output_type": "stream",
     "text": [
      "func:    ebreak*(10**(delta*(atanh((alpha+beta+4.0)/(alpha-beta)))))\n",
      "dpar:    alpha\n",
      "pretty:  1\n",
      "params:  ('alpha', 'beta', 'ebreak', 'norm', 'delta', 'energy')\n"
     ]
    }
   ],
   "source": [
    "wrt_alpha = PartialDerivatives(eqn, 'alpha', 1, *pars)"
   ]
  },
  {
   "cell_type": "code",
   "execution_count": 5,
   "metadata": {
    "collapsed": false
   },
   "outputs": [
    {
     "data": {
      "image/png": "[encoded data removed]",
      "text/latex": [
       "$$\\frac{10^{\\delta \\operatorname{atanh}{\\left (\\frac{\\alpha + \\beta + 4.0}{\\alpha - \\beta} \\right )}} \\delta ebreak \\log{\\left (10 \\right )}}{1 - \\frac{\\left(\\alpha + \\beta + 4.0\\right)^{2}}{\\left(\\alpha - \\beta\\right)^{2}}} \\left(\\frac{1}{\\alpha - \\beta} - \\frac{\\alpha + \\beta + 4.0}{\\left(\\alpha - \\beta\\right)^{2}}\\right)$$"
      ],
      "text/plain": [
       "         ⎛α + β + 4.0⎞                                       \n",
       "  δ⋅atanh⎜───────────⎟                                       \n",
       "         ⎝   α - β   ⎠          ⎛  1     α + β + 4.0⎞        \n",
       "10                    ⋅δ⋅ebreak⋅⎜───── - ───────────⎟⋅log(10)\n",
       "                                ⎜α - β            2 ⎟        \n",
       "                                ⎝          (α - β)  ⎠        \n",
       "─────────────────────────────────────────────────────────────\n",
       "                                       2                     \n",
       "                          (α + β + 4.0)                      \n",
       "                      1 - ──────────────                     \n",
       "                                    2                        \n",
       "                             (α - β)                         "
      ]
     },
     "execution_count": 5,
     "metadata": {},
     "output_type": "execute_result"
    }
   ],
   "source": [
    "wrt_alpha"
   ]
  },
  {
   "cell_type": "markdown",
   "metadata": {},
   "source": [
    "## Steps:"
   ]
  },
  {
   "cell_type": "markdown",
   "metadata": {
    "collapsed": false
   },
   "source": [
    "$s = \\delta \\tanh^{-1}(u)$ where $u=\\frac{\\alpha + \\beta + 4}{\\alpha-\\beta}$\n",
    "\n",
    "\\begin{equation}\n",
    "\\frac{\\partial f}{\\partial \\alpha} = \\frac{10^s \\delta E_{bk} \\ln(10)}{1-u^2}\\left( \\frac{1}{\\alpha - \\beta} - \\frac{u}{\\alpha-\\beta} \\right)\n",
    "\\end{equation}\n",
    "\n",
    "\\begin{equation}\n",
    "\\frac{\\partial f}{\\partial \\alpha} = \\frac{10^s \\delta E_{bk} \\ln(10)}{(1-u)(1+u)}\\left( \\frac{1}{\\alpha - \\beta} - \\frac{u}{\\alpha-\\beta} \\right)\n",
    "\\end{equation}\n",
    "\n",
    "$x = 10^s \\delta E_{bk} \\ln(10)$\n",
    "\n",
    "\\begin{equation}\n",
    "\\frac{\\partial f}{\\partial \\alpha} = \\frac{x}{(1-u)(1+u)}\\left( \\frac{1}{\\alpha - \\beta} - \\frac{u}{\\alpha-\\beta} \\right)\n",
    "\\end{equation}\n",
    "\n",
    "\\begin{equation}\n",
    "\\frac{\\partial f}{\\partial \\alpha} = \n",
    "\\frac{x}{(1-u)(1+u)(\\alpha - \\beta)}\\left( \\frac{1}{1} - \\frac{u}{1} \\right)\n",
    "\\end{equation}\n",
    "\n",
    "\\begin{equation}\n",
    "\\frac{\\partial f}{\\partial \\alpha} = \n",
    "\\frac{x}{(1-u)(1+u)(\\alpha - \\beta)}\\left( 1-u \\right)\n",
    "\\end{equation}\n",
    "\n",
    "Put the variables of $x$ back in and cancel out the $(1-u)/(1-u)$:\n",
    "\\begin{equation}\n",
    "\\frac{\\partial f}{\\partial \\alpha} = E_{bk}10^s \\ln(10) \\frac{\\delta}{(1+u)(\\alpha-\\beta)}\n",
    "\\end{equation}"
   ]
  },
  {
   "cell_type": "markdown",
   "metadata": {},
   "source": [
    "# Partial Derivative WRT $\\beta$"
   ]
  },
  {
   "cell_type": "code",
   "execution_count": 6,
   "metadata": {
    "collapsed": false
   },
   "outputs": [
    {
     "name": "stdout",
     "output_type": "stream",
     "text": [
      "func:    ebreak*(10**(delta*(atanh((alpha+beta+4.0)/(alpha-beta)))))\n",
      "dpar:    beta\n",
      "pretty:  1\n",
      "params:  ('alpha', 'beta', 'ebreak', 'norm', 'delta', 'energy')\n"
     ]
    }
   ],
   "source": [
    "wrt_beta = PartialDerivatives(eqn, 'beta', 1, *pars)"
   ]
  },
  {
   "cell_type": "code",
   "execution_count": 7,
   "metadata": {
    "collapsed": false
   },
   "outputs": [
    {
     "data": {
      "image/png": "[encoded data removed]",
      "text/latex": [
       "$$\\frac{10^{\\delta \\operatorname{atanh}{\\left (\\frac{\\alpha + \\beta + 4.0}{\\alpha - \\beta} \\right )}} \\delta ebreak \\log{\\left (10 \\right )}}{1 - \\frac{\\left(\\alpha + \\beta + 4.0\\right)^{2}}{\\left(\\alpha - \\beta\\right)^{2}}} \\left(\\frac{1}{\\alpha - \\beta} + \\frac{\\alpha + \\beta + 4.0}{\\left(\\alpha - \\beta\\right)^{2}}\\right)$$"
      ],
      "text/plain": [
       "         ⎛α + β + 4.0⎞                                       \n",
       "  δ⋅atanh⎜───────────⎟                                       \n",
       "         ⎝   α - β   ⎠          ⎛  1     α + β + 4.0⎞        \n",
       "10                    ⋅δ⋅ebreak⋅⎜───── + ───────────⎟⋅log(10)\n",
       "                                ⎜α - β            2 ⎟        \n",
       "                                ⎝          (α - β)  ⎠        \n",
       "─────────────────────────────────────────────────────────────\n",
       "                                       2                     \n",
       "                          (α + β + 4.0)                      \n",
       "                      1 - ──────────────                     \n",
       "                                    2                        \n",
       "                             (α - β)                         "
      ]
     },
     "execution_count": 7,
     "metadata": {},
     "output_type": "execute_result"
    }
   ],
   "source": [
    "wrt_beta"
   ]
  },
  {
   "cell_type": "markdown",
   "metadata": {},
   "source": [
    "## Steps:"
   ]
  },
  {
   "cell_type": "markdown",
   "metadata": {
    "collapsed": false
   },
   "source": [
    "$s = \\delta \\tanh^{-1}(u)$ where $u=\\frac{\\alpha + \\beta + 4}{\\alpha-\\beta}$\n",
    "\n",
    "\\begin{equation}\n",
    "\\frac{\\partial f}{\\partial \\beta} = \\frac{10^s \\delta E_{bk} \\ln(10)}{1-u^2}\\left( \\frac{1}{\\alpha - \\beta} + \\frac{u}{\\alpha-\\beta} \\right)\n",
    "\\end{equation}\n",
    "\n",
    "\\begin{equation}\n",
    "\\frac{\\partial f}{\\partial \\beta} = \\frac{10^s \\delta E_{bk} \\ln(10)}{(1-u)(1+u)}\\left( \\frac{1}{\\alpha - \\beta} + \\frac{u}{\\alpha-\\beta} \\right)\n",
    "\\end{equation}\n",
    "\n",
    "$x = 10^s \\delta E_{bk} \\ln(10)$\n",
    "\n",
    "\\begin{equation}\n",
    "\\frac{\\partial f}{\\partial \\beta} = \\frac{x}{(1-u)(1+u)}\\left( \\frac{1}{\\alpha - \\beta} + \\frac{u}{\\alpha-\\beta} \\right)\n",
    "\\end{equation}\n",
    "\n",
    "\\begin{equation}\n",
    "\\frac{\\partial f}{\\partial \\beta} = \n",
    "\\frac{x}{(1-u)(1+u)(\\alpha - \\beta)}\\left( \\frac{1}{1} + \\frac{u}{1} \\right)\n",
    "\\end{equation}\n",
    "\n",
    "\\begin{equation}\n",
    "\\frac{\\partial f}{\\partial \\beta} = \n",
    "\\frac{x}{(1-u)(1+u)(\\alpha - \\beta)}\\left( 1+u \\right)\n",
    "\\end{equation}\n",
    "\n",
    "Put the variables of $x$ back in and cancel out the $(1+u)/(1+u)$:\n",
    "\\begin{equation}\n",
    "\\frac{\\partial f}{\\partial \\beta} = E_{bk}10^s \\ln(10) \\frac{\\delta}{(1-u)(\\alpha-\\beta)}\n",
    "\\end{equation}"
   ]
  },
  {
   "cell_type": "markdown",
   "metadata": {},
   "source": [
    "# Partial Derivative WRT $E_{bk}$"
   ]
  },
  {
   "cell_type": "code",
   "execution_count": 8,
   "metadata": {
    "collapsed": false
   },
   "outputs": [
    {
     "name": "stdout",
     "output_type": "stream",
     "text": [
      "func:    ebreak*(10**(delta*(atanh((alpha+beta+4.0)/(alpha-beta)))))\n",
      "dpar:    ebreak\n",
      "pretty:  1\n",
      "params:  ('alpha', 'beta', 'ebreak', 'norm', 'delta', 'energy')\n"
     ]
    }
   ],
   "source": [
    "wrt_ebreak = PartialDerivatives(eqn, 'ebreak', 1, *pars)"
   ]
  },
  {
   "cell_type": "code",
   "execution_count": 9,
   "metadata": {
    "collapsed": false
   },
   "outputs": [
    {
     "data": {
      "image/png": "[encoded data removed]",
      "text/latex": [
       "$$10^{\\delta \\operatorname{atanh}{\\left (\\frac{\\alpha + \\beta + 4.0}{\\alpha - \\beta} \\right )}}$$"
      ],
      "text/plain": [
       "         ⎛α + β + 4.0⎞\n",
       "  δ⋅atanh⎜───────────⎟\n",
       "         ⎝   α - β   ⎠\n",
       "10                    "
      ]
     },
     "execution_count": 9,
     "metadata": {},
     "output_type": "execute_result"
    }
   ],
   "source": [
    "wrt_ebreak"
   ]
  },
  {
   "cell_type": "markdown",
   "metadata": {},
   "source": [
    "## Steps:\n",
    "$s = \\delta \\tanh^{-1}(u)$ where $u=\\frac{\\alpha + \\beta + 4}{\\alpha-\\beta}$\n",
    "\n",
    "\\begin{equation}\n",
    "\\frac{\\partial f}{\\partial  E_{bk}} = 10^s \n",
    "\\end{equation}"
   ]
  },
  {
   "cell_type": "markdown",
   "metadata": {},
   "source": [
    "# Partial Derivative WRT Amplitude"
   ]
  },
  {
   "cell_type": "code",
   "execution_count": 10,
   "metadata": {
    "collapsed": false
   },
   "outputs": [
    {
     "name": "stdout",
     "output_type": "stream",
     "text": [
      "func:    ebreak*(10**(delta*(atanh((alpha+beta+4.0)/(alpha-beta)))))\n",
      "dpar:    norm\n",
      "pretty:  1\n",
      "params:  ('alpha', 'beta', 'ebreak', 'norm', 'delta', 'energy')\n"
     ]
    }
   ],
   "source": [
    "wrt_norm = PartialDerivatives(eqn, 'norm', 1, *pars)"
   ]
  },
  {
   "cell_type": "code",
   "execution_count": 11,
   "metadata": {
    "collapsed": false
   },
   "outputs": [
    {
     "data": {
      "image/png": "[encoded data removed]",
      "text/latex": [
       "$$0$$"
      ],
      "text/plain": [
       "0"
      ]
     },
     "execution_count": 11,
     "metadata": {},
     "output_type": "execute_result"
    }
   ],
   "source": [
    "wrt_norm"
   ]
  }
 ],
 "metadata": {
  "kernelspec": {
   "display_name": "Python 2",
   "language": "python",
   "name": "python2"
  },
  "language_info": {
   "codemirror_mode": {
    "name": "ipython",
    "version": 2
   },
   "file_extension": ".py",
   "mimetype": "text/x-python",
   "name": "python",
   "nbconvert_exporter": "python",
   "pygments_lexer": "ipython2",
   "version": "2.7.11"
  }
 },
 "nbformat": 4,
 "nbformat_minor": 0
}
