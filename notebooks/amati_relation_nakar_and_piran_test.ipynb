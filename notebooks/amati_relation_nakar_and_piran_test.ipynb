{
 "cells": [
  {
   "cell_type": "markdown",
   "metadata": {},
   "source": [
    "# Nakar and Piran Test\n",
    "\n",
    "Equate the Amati relation to the inverse square law to eliminate $E_{iso}$. \n",
    "\n",
    "### Amati Equation:\n",
    "\\begin{equation}\n",
    "E_{iso} = 8.511\\times10^{47} [E_{pk}(1+z)]^{2.04} = 8.511\\times10^{47} E_{pk}^{2.04} (1+z)^{2.04} \n",
    "\\end{equation}\n",
    "\n",
    "\n",
    "### The Inverse Square Law is given by:\n",
    "\n",
    "\\begin{equation}\n",
    "E_{iso} = 4 \\pi D_L^2 \\frac{S_{bolo}}{1+z} \n",
    "\\end{equation}"
   ]
  },
  {
   "cell_type": "markdown",
   "metadata": {},
   "source": [
    "#### Solve it for $S_{bolo}$\n",
    "\\begin{equation}\n",
    "S_{bolo} = \\frac{E_{iso} (1+z)}{4 \\pi D_L^2}\n",
    "\\end{equation}"
   ]
  },
  {
   "cell_type": "markdown",
   "metadata": {},
   "source": [
    "### Plug in the Amati Relation for $E_{iso}$ (in power form)"
   ]
  },
  {
   "cell_type": "markdown",
   "metadata": {},
   "source": [
    "\\begin{equation}\n",
    "S_{bolo} = \\frac{A E_{pk}^{2.04} (1+z)^{2.04} (1+z)}{4 \\pi D_L^2}\n",
    "\\end{equation}\n",
    "where $A= 10^{47.93} = 8.511\\times10^{47}$.\n",
    "\n",
    "$(1+z)^{2.04} (1+z) = (1+z)^{3.04}$\n",
    "\n",
    "\\begin{equation}\n",
    "S_{bolo} = \\frac{A E_{pk}^{2.04} (1+z)^{3.04}}{4 \\pi D_L^2}\n",
    "\\end{equation}\n",
    "\n",
    "### Solve for $\\frac{E_{pk}^{2.04}}{S_{bolo}}$\n"
   ]
  },
  {
   "cell_type": "markdown",
   "metadata": {},
   "source": [
    "\\begin{equation}\n",
    "\\frac{E_{pk}^{2.04}}{S_{bolo}} = \\frac{4 \\pi D_L^2}{A (1+z)^{3.04}}\n",
    "\\end{equation}\n",
    "\n",
    "where $A= 10^{47.93} = 8.511\\times10^{47}$."
   ]
  },
  {
   "cell_type": "markdown",
   "metadata": {},
   "source": [
    "```\n",
    "\n",
    "```\n",
    "## Ghirlanda Relation\n",
    "\n",
    "$\\displaystyle{{ \\log_{10}(E_{\\gamma}) = 46.53 + 1.63 \\log_{10}(E_{pk}(1+z)) \\ \\ }}$ \n",
    "**or**\n",
    "$\\displaystyle{{ \\ \\ E_{\\gamma} = 10^{46.53} [E_{pk}(1+z)]^{1.63} }}$ "
   ]
  },
  {
   "cell_type": "markdown",
   "metadata": {},
   "source": [
    "${\\displaystyle{ \\log_{10} E_{\\gamma} = 47.13 + 1.43 \\log_{10} (E_{pk}(1+z) ) \\ \\ }}$\n",
    "**or**\n",
    "${ \\ \\ \\displaystyle{ E_{\\gamma} = 10^{47.13} (E_{pk}(1+z))^{1.43} }}$\n",
    "\n",
    "### AND\n",
    "${\\displaystyle{ E_{\\gamma} \\ \\ = \\ \\ 10^{47.13} (E_{pk}(1+z))^{1.43} \\ \\ = \\ \\ (1-\\cos\\theta) E_{iso} \\ \\ = \\ \\ F_{beam}E_{iso}}}$"
   ]
  },
  {
   "cell_type": "markdown",
   "metadata": {},
   "source": [
    "### Sub in Ghirlanda relation:\n",
    "\\begin{equation}\n",
    "S_{bolo} = \\frac{E_{iso} (1+z)}{4 \\pi D_L^2}\n",
    "\\end{equation}\n",
    "\n",
    "becomes \n",
    "\n",
    "\\begin{equation}\n",
    "S_{bolo} = \\frac{E_{\\gamma} (1+z)}{4 \\pi D_L^2 F_{beam}}\n",
    "\\end{equation}\n",
    "\n",
    "becomes \n",
    "\n",
    "\\begin{equation}\n",
    "S_{bolo} = \\frac{10^{47.13} E_{pk}^{1.43} (1+z)^{1.43} (1+z)}{4 \\pi D_L^2 F_{beam}}\n",
    "\\end{equation}\n",
    "\n",
    "\\begin{equation}\n",
    "S_{bolo} = \\frac{10^{47.13} E_{pk}^{1.43} (1+z)^{2.43}}{4 \\pi D_L^2 F_{beam}}\n",
    "\\end{equation}\n",
    "\n",
    "### Solve for $\\frac{E_{pk}^{1.43}}{S_{bolo}}$\n",
    "\n",
    "\\begin{equation}\n",
    "\\frac{E_{pk}^{1.43}}{S_{bolo}} = \\frac{4 \\pi D_L^2 F_{beam}}{A (1+z)^{2.43}}\n",
    "\\end{equation}\n",
    "\n",
    "where $A = 10^{47.13} = 1.349\\times10^{47}$"
   ]
  },
  {
   "cell_type": "markdown",
   "metadata": {},
   "source": [
    "# Amati:\n",
    "\\begin{equation}\n",
    "\\frac{E_{pk}^{2.04}}{S_{bolo}} = \\frac{4 \\pi D_L^2}{A (1+z)^{3.04}}\n",
    "\\end{equation}\n",
    "\n",
    "where $A=8.511\\times10^{47}$.\n",
    "\n",
    "# Ghirlanda:\n",
    "\\begin{equation}\n",
    "\\frac{E_{pk}^{1.43}}{S_{bolo}} = \\frac{4 \\pi D_L^2 F_{beam}}{A (1+z)^{2.43}}\n",
    "\\end{equation}\n",
    "\n",
    "where $A = 10^{47.13} = 1.349\\times10^{47}$."
   ]
  },
  {
   "cell_type": "markdown",
   "metadata": {},
   "source": [
    "#### The Nakar and Piran test:\n",
    "The ratio is to place the terms on the left hand side that are observables and the terms on the right hand side that are redshift (i.e., distance) dependent. As distance to the object increases, $D_L$ rises and $(1+z)^{-3.04}$ (or $(1+z)^{-2.34}$) decreases, thus revealing a maximum redshift. "
   ]
  },
  {
   "cell_type": "code",
   "execution_count": 34,
   "metadata": {},
   "outputs": [],
   "source": [
    "import sys\n",
    "sys.path.insert(1, '/Users/kimzoldak/Github/')  # import at runtime\n",
    "\n",
    "\n",
    "import numpy as np\n",
    "from numpy import pi\n",
    "import pandas as pd\n",
    "\n",
    "import matplotlib.pyplot as plt\n",
    "%matplotlib inline\n",
    "\n",
    "from grbTools.cosmo.lumdist import LumDist\n",
    "\n",
    "# Vectorize the LumDist function so that we can pass many redshifts to it at once. \n",
    "Lum_Dist = np.vectorize(LumDist)"
   ]
  },
  {
   "cell_type": "code",
   "execution_count": 35,
   "metadata": {},
   "outputs": [],
   "source": [
    "def epeak_sbolo_ratio(redshift, lumdistance, exponent, amplitude, fbeam=1):\n",
    "    z = redshift\n",
    "    DL = lumdistance\n",
    "    c = exponent\n",
    "    A = amplitude\n",
    "    fb = fbeam\n",
    "    ratio = (4.*pi*(DL**2)*fb)/(A*(1.+z)**(c+1.))\n",
    "    return ratio"
   ]
  },
  {
   "cell_type": "code",
   "execution_count": 36,
   "metadata": {},
   "outputs": [],
   "source": [
    "def epeak_sbolo_ratio_left(sbolometric, epeak, exponent):\n",
    "    c = exponent\n",
    "    k = epeak\n",
    "    sb = sbolometric\n",
    "    return (k**c)/sb"
   ]
  },
  {
   "cell_type": "code",
   "execution_count": 65,
   "metadata": {},
   "outputs": [],
   "source": [
    "def find_relation_max(redshifts, data):\n",
    "    df = pd.DataFrame(list(zip(redshifts, data)), columns=['x', 'y'])\n",
    "    #ymax = df.y.max()\n",
    "    redshiftMax = float(df[df['y'] == df.y.max()]['x'])\n",
    "    print('Max redshift and max Epk/Sbolo ratio')\n",
    "    print('%.3f  %.4E'%(redshiftMax, df.y.max()))\n",
    "    return redshiftMax, df.y.max()"
   ]
  },
  {
   "cell_type": "code",
   "execution_count": 37,
   "metadata": {},
   "outputs": [],
   "source": [
    "# dummy redshifts\n",
    "redshifts = np.linspace(0.01, 20, 400)"
   ]
  },
  {
   "cell_type": "code",
   "execution_count": 156,
   "metadata": {},
   "outputs": [],
   "source": [
    "\n",
    "cosmo_constants = {'hubble_constant': 67.8,\n",
    "                     'matter_density': 0.308} \n",
    "lumdistances = Lum_Dist(redshift=redshifts, cosmoconstants=cosmo_constants)"
   ]
  },
  {
   "cell_type": "code",
   "execution_count": 157,
   "metadata": {},
   "outputs": [],
   "source": [
    "cosmo_constants2 = {'hubble_constant': 74.0,\n",
    "                     'matter_density': 0.3}\n",
    "lumdistances2 = Lum_Dist(redshift=redshifts, cosmoconstants=cosmo_constants2)"
   ]
  },
  {
   "cell_type": "markdown",
   "metadata": {},
   "source": [
    "## Lets consider only the Amati relation for now."
   ]
  },
  {
   "cell_type": "code",
   "execution_count": 158,
   "metadata": {},
   "outputs": [],
   "source": [
    "# Amati \n",
    "AR_1 = epeak_sbolo_ratio(redshift=redshifts, \n",
    "                  lumdistance=lumdistances, \n",
    "                  exponent=2.04, \n",
    "                  amplitude=8.511E47, \n",
    "                  fbeam=1)\n",
    "\n",
    "# Amati \n",
    "AR_2 = epeak_sbolo_ratio(redshift=redshifts, \n",
    "                  lumdistance=lumdistances2, \n",
    "                  exponent=2.04, \n",
    "                  amplitude=8.511E47, \n",
    "                  fbeam=1)"
   ]
  },
  {
   "cell_type": "code",
   "execution_count": 159,
   "metadata": {},
   "outputs": [
    {
     "name": "stdout",
     "output_type": "stream",
     "text": [
      "Max redshift and max Epk/Sbolo ratio\n",
      "3.617  1.4255E+09\n"
     ]
    },
    {
     "data": {
      "text/plain": [
       "(3.6172180451127813, 1425478248.1453638)"
      ]
     },
     "execution_count": 159,
     "metadata": {},
     "output_type": "execute_result"
    }
   ],
   "source": [
    "find_relation_max(redshifts=redshifts, data=AR_1)"
   ]
  },
  {
   "cell_type": "code",
   "execution_count": 160,
   "metadata": {},
   "outputs": [
    {
     "name": "stdout",
     "output_type": "stream",
     "text": [
      "Max redshift and max Epk/Sbolo ratio\n",
      "3.617  1.2163E+09\n"
     ]
    },
    {
     "data": {
      "text/plain": [
       "(3.6172180451127813, 1216308133.9124455)"
      ]
     },
     "execution_count": 160,
     "metadata": {},
     "output_type": "execute_result"
    }
   ],
   "source": [
    "find_relation_max(redshifts=redshifts, data=AR_2)"
   ]
  },
  {
   "cell_type": "code",
   "execution_count": 161,
   "metadata": {},
   "outputs": [
    {
     "name": "stdout",
     "output_type": "stream",
     "text": [
      "Max redshift and max Epk/Sbolo ratio\n",
      "3.617  1.4255E+09\n",
      "Max redshift and max Epk/Sbolo ratio\n",
      "3.617  1.2163E+09\n"
     ]
    },
    {
     "data": {
      "text/plain": [
       "(array([0.]), array([-2.09170114e+08]))"
      ]
     },
     "execution_count": 161,
     "metadata": {},
     "output_type": "execute_result"
    }
   ],
   "source": [
    "out1 = find_relation_max(redshifts=redshifts, data=AR_1)\n",
    "\n",
    "out2 = find_relation_max(redshifts=redshifts, data=AR_2)\n",
    "\n",
    "np.diff([out1[0], out2[0]]), np.diff([out1[1], out2[1]])"
   ]
  },
  {
   "cell_type": "raw",
   "metadata": {},
   "source": [
    "np.diff([1.4255E+09,1.2163E+09])"
   ]
  },
  {
   "cell_type": "markdown",
   "metadata": {},
   "source": [
    "The function peaks at z=3.617, regardless of $H_0$ used in the concordance cosmology. The corresponding epk/sbolo ratio, however, highly depends on $H_0$ and at the max redshift the ratio is 1.4489E+09 ($H_0=67.8$, $\\Omega_M=0.3$) and 1.2163E+09 ($H_0=74$, $\\Omega_M=0.3$), which is a difference of 2.32622728e+08 in the ratio for just the difference in the Hubble Constant. \n",
    "\n",
    "If we use the cosmology constants we adopt ($H_0=67.8$, $\\Omega_M=0.308$), then the ratio is 1.4255E+09 at z=3.617, the max redshift. The maximum redshift (peak in the curve) that the Amati relation's Epk/Sbolo returns does not vary when we vary the value of $H_0$. Significantly changing $\\Omega_M$ however will change zmax.  \n",
    "\n",
    "The Amati relation used in the above analysis was $A=10^{47.93}$ and $c=2.04$. \n",
    "\n"
   ]
  },
  {
   "cell_type": "markdown",
   "metadata": {},
   "source": [
    "### Plot of the Amati's only"
   ]
  },
  {
   "cell_type": "code",
   "execution_count": 119,
   "metadata": {},
   "outputs": [
    {
     "name": "stdout",
     "output_type": "stream",
     "text": [
      "Max redshift and max Epk/Sbolo ratio\n",
      "3.617  1.4255E+09\n",
      "Max redshift and max Epk/Sbolo ratio\n",
      "3.617  1.2163E+09\n"
     ]
    },
    {
     "data": {
      "text/plain": [
       "<Figure size 432x288 with 0 Axes>"
      ]
     },
     "metadata": {},
     "output_type": "display_data"
    },
    {
     "data": {
      "image/png": "[encoded data removed]",
      "text/plain": [
       "<Figure size 432x288 with 1 Axes>"
      ]
     },
     "metadata": {
      "needs_background": "light"
     },
     "output_type": "display_data"
    }
   ],
   "source": [
    "plt.clf()\n",
    "\n",
    "plt.figure(figsize=(6,4))\n",
    "plt.grid(alpha=0.3)\n",
    "\n",
    "plt.plot(redshifts, AR_1, color='red')\n",
    "AR_1_max = find_relation_max(redshifts=redshifts, data=AR_1)\n",
    "plt.axvline(AR_1_max[0], 0, 1, ls='-.', color='red', alpha=0.4)  # max redshift\n",
    "plt.axhline(AR_1_max[1], 0, 1, ls='-.', color='red', alpha=0.4)  # max ratio\n",
    "\n",
    "plt.plot(redshifts, AR_2, color='blue')\n",
    "AR_2_max = find_relation_max(redshifts=redshifts, data=AR_2)\n",
    "plt.axvline(AR_2_max[0], 0, 1, ls='-.', color='blue', alpha=0.4)  # max redshift\n",
    "plt.axhline(AR_2_max[1], 0, 1, ls='-.', color='blue', alpha=0.4)  # max ratio\n",
    "\n",
    "plt.xlim(0, 20)\n",
    "plt.minorticks_on()\n",
    "plt.xlabel(r'$z$')\n",
    "plt.ylabel(r'$E_{pk}/S_{bolo}$ ratio')\n",
    "plt.show()"
   ]
  },
  {
   "cell_type": "markdown",
   "metadata": {},
   "source": [
    "## Trying Different Amati Relations"
   ]
  },
  {
   "cell_type": "raw",
   "metadata": {},
   "source": [
    "# from: A SIGNIFICANT PROBLEM WITH USING THE AMATI RELATION FOR COSMOLOGICAL PURPOSES\n",
    "#       Collazzi et al. (2012), Eqn 1.\n",
    "#  Eiso = (9.2E47 erg keV^-2.04) * (Epk (1+z))^2.04\n",
    "yint=47.96, slope=2.04\n",
    "\n",
    "# From:  GENERALIZED TESTS FOR EIGHT GRB LUMINOSITY RELATIONS\n",
    "#  Schaefer and Collazzi (2007), Table 1 \n",
    "# 10**47.93 = 8.511E+47\n",
    "yint=47.93, slope=2.04\n",
    "\n",
    "# 2009 equation:  log10(Epk*) = 2 + 0.54 log10(Eiso/1E52)\n",
    "yint=48.296, slope=1.852 \n",
    "\n",
    "# Amati's 2013 Figure, we inferred the fit line from their image\n",
    "yint=48.434, slope=1.821\n",
    "\n",
    "# Our fit to their (Amati's) 153 events\n",
    "yint=48.063, slope=1.919 \n",
    "\n",
    "# Our fit to the 34 Fermi (22 GBM and 12 GBM/LAT) LGRBs in our sample with known z\n",
    "yint=48.517, slope=1.802\n",
    "\n",
    "# Amati's 2013 relation rounded. \n",
    "yint=48.0, slope=2.0\n"
   ]
  },
  {
   "cell_type": "code",
   "execution_count": 163,
   "metadata": {},
   "outputs": [],
   "source": [
    "yints = [47.96, 47.93, 48.296, 48.434, 48.063, 48.517, 48.0]\n",
    "slopes = [2.04, 2.04, 1.852, 1.821, 1.919, 1.802, 2.0]"
   ]
  },
  {
   "cell_type": "code",
   "execution_count": 164,
   "metadata": {},
   "outputs": [
    {
     "name": "stdout",
     "output_type": "stream",
     "text": [
      "Max redshift and max Epk/Sbolo ratio\n",
      "3.617  1.3303E+09\n",
      "Max redshift and max Epk/Sbolo ratio\n",
      "3.617  1.4254E+09\n",
      "Max redshift and max Epk/Sbolo ratio\n",
      "4.719  8.3367E+08\n",
      "Max redshift and max Epk/Sbolo ratio\n",
      "4.920  6.4076E+08\n",
      "Max redshift and max Epk/Sbolo ratio\n",
      "4.269  1.2723E+09\n",
      "Max redshift and max Epk/Sbolo ratio\n",
      "5.070  5.4764E+08\n",
      "Max redshift and max Epk/Sbolo ratio\n",
      "3.818  1.2908E+09\n"
     ]
    }
   ],
   "source": [
    "cosmo_constants = {'hubble_constant': 67.8,\n",
    "                     'matter_density': 0.308} \n",
    "lumdistances = Lum_Dist(redshift=redshifts, cosmoconstants=cosmo_constants)\n",
    "\n",
    "for yint,slope in zip(yints,slopes):\n",
    "    AR = epeak_sbolo_ratio(redshift=redshifts, \n",
    "                      lumdistance=lumdistances, \n",
    "                      exponent=slope, \n",
    "                      amplitude=10**yint, \n",
    "                      fbeam=1)\n",
    "\n",
    "    AR_max = find_relation_max(redshifts=redshifts, data=AR)\n"
   ]
  },
  {
   "cell_type": "code",
   "execution_count": null,
   "metadata": {},
   "outputs": [],
   "source": []
  },
  {
   "cell_type": "code",
   "execution_count": 165,
   "metadata": {},
   "outputs": [
    {
     "name": "stdout",
     "output_type": "stream",
     "text": [
      "Max redshift and max Epk/Sbolo ratio\n",
      "3.617  1.3303E+09\n",
      "Max redshift and max Epk/Sbolo ratio\n",
      "3.617  1.4254E+09\n",
      "Max redshift and max Epk/Sbolo ratio\n",
      "4.719  8.3367E+08\n",
      "Max redshift and max Epk/Sbolo ratio\n",
      "4.920  6.4076E+08\n",
      "Max redshift and max Epk/Sbolo ratio\n",
      "4.269  1.2723E+09\n",
      "Max redshift and max Epk/Sbolo ratio\n",
      "5.070  5.4764E+08\n",
      "Max redshift and max Epk/Sbolo ratio\n",
      "3.818  1.2908E+09\n"
     ]
    },
    {
     "data": {
      "text/plain": [
       "<Figure size 432x288 with 0 Axes>"
      ]
     },
     "metadata": {},
     "output_type": "display_data"
    },
    {
     "data": {
      "image/png": "[encoded data removed]",
      "text/plain": [
       "<Figure size 432x288 with 1 Axes>"
      ]
     },
     "metadata": {
      "needs_background": "light"
     },
     "output_type": "display_data"
    }
   ],
   "source": [
    "\n",
    "cosmo_constants = {'hubble_constant': 67.8,\n",
    "                     'matter_density': 0.308} \n",
    "lumdistances = Lum_Dist(redshift=redshifts, cosmoconstants=cosmo_constants)\n",
    "\n",
    "\n",
    "plt.clf()\n",
    "\n",
    "plt.figure(figsize=(6,4))\n",
    "plt.grid(alpha=0.3)\n",
    "\n",
    "for yint,slope in zip(yints,slopes):\n",
    "    AR = epeak_sbolo_ratio(redshift=redshifts, \n",
    "                      lumdistance=lumdistances, \n",
    "                      exponent=slope, \n",
    "                      amplitude=10**yint, \n",
    "                      fbeam=1)\n",
    "    \n",
    "    plt.plot(redshifts, AR, color='red')\n",
    "    AR_max = find_relation_max(redshifts=redshifts, data=AR)\n",
    "    plt.axvline(AR_max[0], 0, 1, ls='-.', color='red', alpha=0.4)  # max redshift\n",
    "    plt.axhline(AR_max[1], 0, 1, ls='-.', color='red', alpha=0.4)  # max ratio\n",
    "plt.xlim(0, 20)\n",
    "plt.minorticks_on()\n",
    "plt.xlabel(r'$z$')\n",
    "plt.ylabel(r'$E_{pk}/S_{bolo}$ ratio')\n",
    "plt.show()"
   ]
  },
  {
   "cell_type": "code",
   "execution_count": null,
   "metadata": {},
   "outputs": [],
   "source": [
    "plt.clf()\n",
    "\n",
    "plt.figure(figsize=(6,4))\n",
    "plt.grid(alpha=0.3)\n",
    "\n",
    "plt.plot(redshifts, AR_1, color='red')\n",
    "AR_1_max = find_relation_max(redshifts=redshifts, data=AR_1)\n",
    "plt.axvline(AR_1_max[0], 0, 1, ls='-.', color='red', alpha=0.4)  # max redshift\n",
    "plt.axhline(AR_1_max[1], 0, 1, ls='-.', color='red', alpha=0.4)  # max ratio\n",
    "\n",
    "plt.plot(redshifts, AR_2, color='blue')\n",
    "AR_2_max = find_relation_max(redshifts=redshifts, data=AR_2)\n",
    "plt.axvline(AR_2_max[0], 0, 1, ls='-.', color='blue', alpha=0.4)  # max redshift\n",
    "plt.axhline(AR_2_max[1], 0, 1, ls='-.', color='blue', alpha=0.4)  # max ratio\n",
    "\n",
    "plt.xlim(0, 20)\n",
    "plt.minorticks_on()\n",
    "plt.xlabel(r'$z$')\n",
    "plt.ylabel(r'$E_{pk}/S_{bolo}$ ratio')\n",
    "plt.show()"
   ]
  },
  {
   "cell_type": "code",
   "execution_count": null,
   "metadata": {},
   "outputs": [],
   "source": []
  },
  {
   "cell_type": "code",
   "execution_count": null,
   "metadata": {},
   "outputs": [],
   "source": []
  },
  {
   "cell_type": "code",
   "execution_count": null,
   "metadata": {},
   "outputs": [],
   "source": []
  },
  {
   "cell_type": "markdown",
   "metadata": {},
   "source": [
    "## Considering the Ghirlanda Relation"
   ]
  },
  {
   "cell_type": "code",
   "execution_count": null,
   "metadata": {},
   "outputs": [],
   "source": [
    "# Ghirlanda\n",
    "GR_1 = epeak_sbolo_ratio(redshift=redshifts, \n",
    "                  lumdistance=lumdistances, \n",
    "                  exponent=1.43, \n",
    "                  amplitude=1.349E47, \n",
    "                  fbeam=1)\n",
    "\n",
    "\n",
    "# Ghirlanda\n",
    "GR_2 = epeak_sbolo_ratio(redshift=redshifts, \n",
    "                  lumdistance=lumdistances2, \n",
    "                  exponent=1.43, \n",
    "                  amplitude=1.349E47, \n",
    "                  fbeam=1)\n",
    "\n",
    "\n",
    "find_relation_max(redshifts=redshifts, data=GR_1)\n",
    "\n",
    "find_relation_max(redshifts=redshifts, data=GR_2)\n",
    "\n",
    "out1 = find_relation_max(redshifts=redshifts, data=GR_1)\n",
    "\n",
    "out2 = find_relation_max(redshifts=redshifts, data=GR_2)\n",
    "\n",
    "np.diff([out1[0], out2[0]]), np.diff([out1[1], out2[1]])"
   ]
  },
  {
   "cell_type": "markdown",
   "metadata": {},
   "source": [
    "### Plot of the Ghirlandas only"
   ]
  },
  {
   "cell_type": "code",
   "execution_count": 83,
   "metadata": {},
   "outputs": [
    {
     "name": "stdout",
     "output_type": "stream",
     "text": [
      "Max redshift and max Epk/Sbolo ratio\n",
      "12.435  2.9676E+10\n",
      "Max redshift and max Epk/Sbolo ratio\n",
      "12.786  2.9788E+10\n"
     ]
    },
    {
     "data": {
      "text/plain": [
       "<Figure size 432x288 with 0 Axes>"
      ]
     },
     "metadata": {},
     "output_type": "display_data"
    },
    {
     "data": {
      "image/png": "[encoded data removed]",
      "text/plain": [
       "<Figure size 432x288 with 1 Axes>"
      ]
     },
     "metadata": {
      "needs_background": "light"
     },
     "output_type": "display_data"
    }
   ],
   "source": [
    "plt.clf()\n",
    "\n",
    "plt.figure(figsize=(6,4))\n",
    "plt.grid(alpha=0.3)\n",
    "\n",
    "plt.plot(redshifts, GR_1, color='red')\n",
    "GR_1_max = find_relation_max(redshifts=redshifts, data=GR_1)\n",
    "plt.axvline(GR_1_max[0], 0, 1, ls='-.', color='red', alpha=0.4)  # max redshift\n",
    "plt.axhline(GR_1_max[1], 0, 1, ls='-.', color='red', alpha=0.4)  # max ratio\n",
    "\n",
    "plt.plot(redshifts, GR_2, color='blue')\n",
    "GR_2_max = find_relation_max(redshifts=redshifts, data=GR_2)\n",
    "plt.axvline(GR_2_max[0], 0, 1, ls='-.', color='blue', alpha=0.4)  # max redshift\n",
    "plt.axhline(GR_2_max[1], 0, 1, ls='-.', color='blue', alpha=0.4)  # max ratio\n",
    "\n",
    "plt.xlim(0, 20)\n",
    "plt.minorticks_on()\n",
    "plt.xlabel(r'$z$')\n",
    "plt.ylabel(r'$E_{pk}/S_{bolo}$ ratio')\n",
    "plt.show()"
   ]
  },
  {
   "cell_type": "raw",
   "metadata": {},
   "source": [
    "plt.clf()\n",
    "\n",
    "plt.figure(figsize=(6,4))\n",
    "plt.grid(alpha=0.3)\n",
    "plt.plot(redshifts, GR_1)\n",
    "plt.plot(redshifts, GR_2)\n",
    "plt.xlim(0, 20)\n",
    "plt.minorticks_on()\n",
    "plt.xlabel(r'$z$')\n",
    "plt.ylabel(r'$E_{pk}/S_{bolo}$ ratio')\n",
    "plt.show()"
   ]
  },
  {
   "cell_type": "code",
   "execution_count": null,
   "metadata": {},
   "outputs": [],
   "source": [
    "# data = pd.DataFrame(list(zip(redshifts, out)), columns=['x', 'y'])\n",
    "# ymax = data.y.max()\n",
    "# redshiftMax = float(data[data['y'] == ymax]['x'])\n",
    "# print('Max redshift and max Epk/Sbolo ratio')\n",
    "# print('%.3f  %.3E'%(redshiftMax, data.y.max()))\n",
    "\n",
    "plt.clf()\n",
    "\n",
    "plt.figure(figsize=(6,4))\n",
    "plt.grid(alpha=0.3)\n",
    "plt.plot(redshifts, out)\n",
    "plt.xlim(0, 20)\n",
    "plt.minorticks_on()\n",
    "plt.axvline(redshiftMax, 0, 1, color='red', alpha=0.4)\n",
    "plt.show()"
   ]
  },
  {
   "cell_type": "code",
   "execution_count": null,
   "metadata": {},
   "outputs": [],
   "source": []
  },
  {
   "cell_type": "code",
   "execution_count": 22,
   "metadata": {},
   "outputs": [
    {
     "name": "stdout",
     "output_type": "stream",
     "text": [
      "Max redshift and max Epk/Sbolo ratio\n",
      "3.609  1.124E+09\n"
     ]
    }
   ],
   "source": [
    "redshifts = np.linspace(0, 20, 400)\n",
    "\n",
    "out = [NPtest(red) for red in redshifts]\n",
    "\n",
    "#data = pd.DataFrame(list(zip(redshifts, out/max(out))), columns=['x', 'y'])\n",
    "data = pd.DataFrame(list(zip(redshifts, out)), columns=['x', 'y'])\n",
    "\n",
    "ymax = data.y.max()\n",
    "\n",
    "redshiftMax = float(data[data['y'] == ymax]['x'])\n",
    "\n",
    "print('Max redshift and max Epk/Sbolo ratio')\n",
    "print('%.3f  %.3E'%(redshiftMax, data.y.max()))\n",
    "\n",
    "plt.clf()\n",
    "\n",
    "plt.figure(figsize=(6,4))\n",
    "plt.grid(alpha=0.3)\n",
    "plt.plot(redshifts, out)\n",
    "plt.xlim(0, 20)\n",
    "plt.minorticks_on()\n",
    "plt.axvline(redshiftMax, 0, 1, color='red', alpha=0.4)\n",
    "plt.show()"
   ]
  },
  {
   "cell_type": "raw",
   "metadata": {},
   "source": [
    "def NPtest(z):\n",
    "    #DL = LumDist(z)\n",
    "    DL = LumDist(redshift=z, cosmoconstants=[74.0, 0.3])\n",
    "    m = 0.49\n",
    "    p = -1-(1/m)\n",
    "    A = 9.2E47 #8.5E47\n",
    "    return (4.*np.pi*(DL**2)*((1.+z)**p))/A"
   ]
  },
  {
   "cell_type": "code",
   "execution_count": null,
   "metadata": {},
   "outputs": [],
   "source": []
  },
  {
   "cell_type": "raw",
   "metadata": {},
   "source": [
    "z = 4.35\n",
    "\n",
    "epeakRest = 511*(1.+z)\n",
    "eiso = 34.822E+53\n",
    "\n",
    "intercept = 2.0\n",
    "slope = 0.5"
   ]
  },
  {
   "cell_type": "raw",
   "metadata": {},
   "source": [
    "NPtest(3.61)"
   ]
  },
  {
   "cell_type": "markdown",
   "metadata": {},
   "source": [
    "#### Normalized"
   ]
  },
  {
   "cell_type": "code",
   "execution_count": 10,
   "metadata": {},
   "outputs": [
    {
     "data": {
      "text/plain": [
       "<Figure size 432x288 with 0 Axes>"
      ]
     },
     "metadata": {},
     "output_type": "display_data"
    },
    {
     "data": {
      "image/png": "[encoded data removed]",
      "text/plain": [
       "<Figure size 432x288 with 1 Axes>"
      ]
     },
     "metadata": {
      "needs_background": "light"
     },
     "output_type": "display_data"
    }
   ],
   "source": [
    "plt.clf()\n",
    "\n",
    "plt.figure(figsize=(6,4))\n",
    "plt.grid(alpha=0.3)\n",
    "plt.plot(redshifts, out/max(out))\n",
    "plt.xlim(0, 20)\n",
    "plt.ylim(0, 1.1)\n",
    "plt.minorticks_on()\n",
    "plt.axvline(redshiftMax, 0, 1, color='red', alpha=0.4)\n",
    "plt.show()"
   ]
  },
  {
   "cell_type": "code",
   "execution_count": null,
   "metadata": {},
   "outputs": [],
   "source": [
    "redshiftMax = float(data[data['y'] == ymax]['x'])"
   ]
  },
  {
   "cell_type": "code",
   "execution_count": 12,
   "metadata": {},
   "outputs": [
    {
     "data": {
      "text/html": [
       "<div>\n",
       "<style scoped>\n",
       "    .dataframe tbody tr th:only-of-type {\n",
       "        vertical-align: middle;\n",
       "    }\n",
       "\n",
       "    .dataframe tbody tr th {\n",
       "        vertical-align: top;\n",
       "    }\n",
       "\n",
       "    .dataframe thead th {\n",
       "        text-align: right;\n",
       "    }\n",
       "</style>\n",
       "<table border=\"1\" class=\"dataframe\">\n",
       "  <thead>\n",
       "    <tr style=\"text-align: right;\">\n",
       "      <th></th>\n",
       "      <th>x</th>\n",
       "      <th>y</th>\n",
       "    </tr>\n",
       "  </thead>\n",
       "  <tbody>\n",
       "    <tr>\n",
       "      <th>0</th>\n",
       "      <td>0.000000</td>\n",
       "      <td>0.000000e+00</td>\n",
       "    </tr>\n",
       "    <tr>\n",
       "      <th>1</th>\n",
       "      <td>0.050125</td>\n",
       "      <td>6.418985e+06</td>\n",
       "    </tr>\n",
       "    <tr>\n",
       "      <th>2</th>\n",
       "      <td>0.100251</td>\n",
       "      <td>2.387496e+07</td>\n",
       "    </tr>\n",
       "    <tr>\n",
       "      <th>3</th>\n",
       "      <td>0.150376</td>\n",
       "      <td>5.002857e+07</td>\n",
       "    </tr>\n",
       "    <tr>\n",
       "      <th>4</th>\n",
       "      <td>0.200501</td>\n",
       "      <td>8.294980e+07</td>\n",
       "    </tr>\n",
       "    <tr>\n",
       "      <th>5</th>\n",
       "      <td>0.250627</td>\n",
       "      <td>1.210435e+08</td>\n",
       "    </tr>\n",
       "    <tr>\n",
       "      <th>6</th>\n",
       "      <td>0.300752</td>\n",
       "      <td>1.629908e+08</td>\n",
       "    </tr>\n",
       "    <tr>\n",
       "      <th>7</th>\n",
       "      <td>0.350877</td>\n",
       "      <td>2.077024e+08</td>\n",
       "    </tr>\n",
       "    <tr>\n",
       "      <th>8</th>\n",
       "      <td>0.401003</td>\n",
       "      <td>2.542807e+08</td>\n",
       "    </tr>\n",
       "    <tr>\n",
       "      <th>9</th>\n",
       "      <td>0.451128</td>\n",
       "      <td>3.019883e+08</td>\n",
       "    </tr>\n",
       "    <tr>\n",
       "      <th>10</th>\n",
       "      <td>0.501253</td>\n",
       "      <td>3.502223e+08</td>\n",
       "    </tr>\n",
       "    <tr>\n",
       "      <th>11</th>\n",
       "      <td>0.551378</td>\n",
       "      <td>3.984931e+08</td>\n",
       "    </tr>\n",
       "    <tr>\n",
       "      <th>12</th>\n",
       "      <td>0.601504</td>\n",
       "      <td>4.464055e+08</td>\n",
       "    </tr>\n",
       "    <tr>\n",
       "      <th>13</th>\n",
       "      <td>0.651629</td>\n",
       "      <td>4.936438e+08</td>\n",
       "    </tr>\n",
       "    <tr>\n",
       "      <th>14</th>\n",
       "      <td>0.701754</td>\n",
       "      <td>5.399591e+08</td>\n",
       "    </tr>\n",
       "    <tr>\n",
       "      <th>15</th>\n",
       "      <td>0.751880</td>\n",
       "      <td>5.851577e+08</td>\n",
       "    </tr>\n",
       "    <tr>\n",
       "      <th>16</th>\n",
       "      <td>0.802005</td>\n",
       "      <td>6.290925e+08</td>\n",
       "    </tr>\n",
       "    <tr>\n",
       "      <th>17</th>\n",
       "      <td>0.852130</td>\n",
       "      <td>6.716544e+08</td>\n",
       "    </tr>\n",
       "    <tr>\n",
       "      <th>18</th>\n",
       "      <td>0.902256</td>\n",
       "      <td>7.127666e+08</td>\n",
       "    </tr>\n",
       "    <tr>\n",
       "      <th>19</th>\n",
       "      <td>0.952381</td>\n",
       "      <td>7.523782e+08</td>\n",
       "    </tr>\n",
       "    <tr>\n",
       "      <th>20</th>\n",
       "      <td>1.002506</td>\n",
       "      <td>7.904597e+08</td>\n",
       "    </tr>\n",
       "    <tr>\n",
       "      <th>21</th>\n",
       "      <td>1.052632</td>\n",
       "      <td>8.269993e+08</td>\n",
       "    </tr>\n",
       "    <tr>\n",
       "      <th>22</th>\n",
       "      <td>1.102757</td>\n",
       "      <td>8.619992e+08</td>\n",
       "    </tr>\n",
       "    <tr>\n",
       "      <th>23</th>\n",
       "      <td>1.152882</td>\n",
       "      <td>8.954731e+08</td>\n",
       "    </tr>\n",
       "    <tr>\n",
       "      <th>24</th>\n",
       "      <td>1.203008</td>\n",
       "      <td>9.274434e+08</td>\n",
       "    </tr>\n",
       "    <tr>\n",
       "      <th>25</th>\n",
       "      <td>1.253133</td>\n",
       "      <td>9.579399e+08</td>\n",
       "    </tr>\n",
       "    <tr>\n",
       "      <th>26</th>\n",
       "      <td>1.303258</td>\n",
       "      <td>9.869976e+08</td>\n",
       "    </tr>\n",
       "    <tr>\n",
       "      <th>27</th>\n",
       "      <td>1.353383</td>\n",
       "      <td>1.014656e+09</td>\n",
       "    </tr>\n",
       "    <tr>\n",
       "      <th>28</th>\n",
       "      <td>1.403509</td>\n",
       "      <td>1.040956e+09</td>\n",
       "    </tr>\n",
       "    <tr>\n",
       "      <th>29</th>\n",
       "      <td>1.453634</td>\n",
       "      <td>1.065944e+09</td>\n",
       "    </tr>\n",
       "    <tr>\n",
       "      <th>...</th>\n",
       "      <td>...</td>\n",
       "      <td>...</td>\n",
       "    </tr>\n",
       "    <tr>\n",
       "      <th>370</th>\n",
       "      <td>18.546366</td>\n",
       "      <td>7.515425e+08</td>\n",
       "    </tr>\n",
       "    <tr>\n",
       "      <th>371</th>\n",
       "      <td>18.596491</td>\n",
       "      <td>7.501788e+08</td>\n",
       "    </tr>\n",
       "    <tr>\n",
       "      <th>372</th>\n",
       "      <td>18.646617</td>\n",
       "      <td>7.488200e+08</td>\n",
       "    </tr>\n",
       "    <tr>\n",
       "      <th>373</th>\n",
       "      <td>18.696742</td>\n",
       "      <td>7.474661e+08</td>\n",
       "    </tr>\n",
       "    <tr>\n",
       "      <th>374</th>\n",
       "      <td>18.746867</td>\n",
       "      <td>7.461170e+08</td>\n",
       "    </tr>\n",
       "    <tr>\n",
       "      <th>375</th>\n",
       "      <td>18.796992</td>\n",
       "      <td>7.447727e+08</td>\n",
       "    </tr>\n",
       "    <tr>\n",
       "      <th>376</th>\n",
       "      <td>18.847118</td>\n",
       "      <td>7.434331e+08</td>\n",
       "    </tr>\n",
       "    <tr>\n",
       "      <th>377</th>\n",
       "      <td>18.897243</td>\n",
       "      <td>7.420983e+08</td>\n",
       "    </tr>\n",
       "    <tr>\n",
       "      <th>378</th>\n",
       "      <td>18.947368</td>\n",
       "      <td>7.407683e+08</td>\n",
       "    </tr>\n",
       "    <tr>\n",
       "      <th>379</th>\n",
       "      <td>18.997494</td>\n",
       "      <td>7.394429e+08</td>\n",
       "    </tr>\n",
       "    <tr>\n",
       "      <th>380</th>\n",
       "      <td>19.047619</td>\n",
       "      <td>7.381222e+08</td>\n",
       "    </tr>\n",
       "    <tr>\n",
       "      <th>381</th>\n",
       "      <td>19.097744</td>\n",
       "      <td>7.368061e+08</td>\n",
       "    </tr>\n",
       "    <tr>\n",
       "      <th>382</th>\n",
       "      <td>19.147870</td>\n",
       "      <td>7.354947e+08</td>\n",
       "    </tr>\n",
       "    <tr>\n",
       "      <th>383</th>\n",
       "      <td>19.197995</td>\n",
       "      <td>7.341879e+08</td>\n",
       "    </tr>\n",
       "    <tr>\n",
       "      <th>384</th>\n",
       "      <td>19.248120</td>\n",
       "      <td>7.328857e+08</td>\n",
       "    </tr>\n",
       "    <tr>\n",
       "      <th>385</th>\n",
       "      <td>19.298246</td>\n",
       "      <td>7.315880e+08</td>\n",
       "    </tr>\n",
       "    <tr>\n",
       "      <th>386</th>\n",
       "      <td>19.348371</td>\n",
       "      <td>7.302949e+08</td>\n",
       "    </tr>\n",
       "    <tr>\n",
       "      <th>387</th>\n",
       "      <td>19.398496</td>\n",
       "      <td>7.290063e+08</td>\n",
       "    </tr>\n",
       "    <tr>\n",
       "      <th>388</th>\n",
       "      <td>19.448622</td>\n",
       "      <td>7.277221e+08</td>\n",
       "    </tr>\n",
       "    <tr>\n",
       "      <th>389</th>\n",
       "      <td>19.498747</td>\n",
       "      <td>7.264425e+08</td>\n",
       "    </tr>\n",
       "    <tr>\n",
       "      <th>390</th>\n",
       "      <td>19.548872</td>\n",
       "      <td>7.251673e+08</td>\n",
       "    </tr>\n",
       "    <tr>\n",
       "      <th>391</th>\n",
       "      <td>19.598997</td>\n",
       "      <td>7.238965e+08</td>\n",
       "    </tr>\n",
       "    <tr>\n",
       "      <th>392</th>\n",
       "      <td>19.649123</td>\n",
       "      <td>7.226301e+08</td>\n",
       "    </tr>\n",
       "    <tr>\n",
       "      <th>393</th>\n",
       "      <td>19.699248</td>\n",
       "      <td>7.213681e+08</td>\n",
       "    </tr>\n",
       "    <tr>\n",
       "      <th>394</th>\n",
       "      <td>19.749373</td>\n",
       "      <td>7.201105e+08</td>\n",
       "    </tr>\n",
       "    <tr>\n",
       "      <th>395</th>\n",
       "      <td>19.799499</td>\n",
       "      <td>7.188572e+08</td>\n",
       "    </tr>\n",
       "    <tr>\n",
       "      <th>396</th>\n",
       "      <td>19.849624</td>\n",
       "      <td>7.176082e+08</td>\n",
       "    </tr>\n",
       "    <tr>\n",
       "      <th>397</th>\n",
       "      <td>19.899749</td>\n",
       "      <td>7.163635e+08</td>\n",
       "    </tr>\n",
       "    <tr>\n",
       "      <th>398</th>\n",
       "      <td>19.949875</td>\n",
       "      <td>7.151231e+08</td>\n",
       "    </tr>\n",
       "    <tr>\n",
       "      <th>399</th>\n",
       "      <td>20.000000</td>\n",
       "      <td>7.138869e+08</td>\n",
       "    </tr>\n",
       "  </tbody>\n",
       "</table>\n",
       "<p>400 rows × 2 columns</p>\n",
       "</div>"
      ],
      "text/plain": [
       "             x             y\n",
       "0     0.000000  0.000000e+00\n",
       "1     0.050125  6.418985e+06\n",
       "2     0.100251  2.387496e+07\n",
       "3     0.150376  5.002857e+07\n",
       "4     0.200501  8.294980e+07\n",
       "5     0.250627  1.210435e+08\n",
       "6     0.300752  1.629908e+08\n",
       "7     0.350877  2.077024e+08\n",
       "8     0.401003  2.542807e+08\n",
       "9     0.451128  3.019883e+08\n",
       "10    0.501253  3.502223e+08\n",
       "11    0.551378  3.984931e+08\n",
       "12    0.601504  4.464055e+08\n",
       "13    0.651629  4.936438e+08\n",
       "14    0.701754  5.399591e+08\n",
       "15    0.751880  5.851577e+08\n",
       "16    0.802005  6.290925e+08\n",
       "17    0.852130  6.716544e+08\n",
       "18    0.902256  7.127666e+08\n",
       "19    0.952381  7.523782e+08\n",
       "20    1.002506  7.904597e+08\n",
       "21    1.052632  8.269993e+08\n",
       "22    1.102757  8.619992e+08\n",
       "23    1.152882  8.954731e+08\n",
       "24    1.203008  9.274434e+08\n",
       "25    1.253133  9.579399e+08\n",
       "26    1.303258  9.869976e+08\n",
       "27    1.353383  1.014656e+09\n",
       "28    1.403509  1.040956e+09\n",
       "29    1.453634  1.065944e+09\n",
       "..         ...           ...\n",
       "370  18.546366  7.515425e+08\n",
       "371  18.596491  7.501788e+08\n",
       "372  18.646617  7.488200e+08\n",
       "373  18.696742  7.474661e+08\n",
       "374  18.746867  7.461170e+08\n",
       "375  18.796992  7.447727e+08\n",
       "376  18.847118  7.434331e+08\n",
       "377  18.897243  7.420983e+08\n",
       "378  18.947368  7.407683e+08\n",
       "379  18.997494  7.394429e+08\n",
       "380  19.047619  7.381222e+08\n",
       "381  19.097744  7.368061e+08\n",
       "382  19.147870  7.354947e+08\n",
       "383  19.197995  7.341879e+08\n",
       "384  19.248120  7.328857e+08\n",
       "385  19.298246  7.315880e+08\n",
       "386  19.348371  7.302949e+08\n",
       "387  19.398496  7.290063e+08\n",
       "388  19.448622  7.277221e+08\n",
       "389  19.498747  7.264425e+08\n",
       "390  19.548872  7.251673e+08\n",
       "391  19.598997  7.238965e+08\n",
       "392  19.649123  7.226301e+08\n",
       "393  19.699248  7.213681e+08\n",
       "394  19.749373  7.201105e+08\n",
       "395  19.799499  7.188572e+08\n",
       "396  19.849624  7.176082e+08\n",
       "397  19.899749  7.163635e+08\n",
       "398  19.949875  7.151231e+08\n",
       "399  20.000000  7.138869e+08\n",
       "\n",
       "[400 rows x 2 columns]"
      ]
     },
     "execution_count": 12,
     "metadata": {},
     "output_type": "execute_result"
    }
   ],
   "source": [
    "data[data]"
   ]
  },
  {
   "cell_type": "raw",
   "metadata": {},
   "source": [
    "redshifts = np.linspace(0, 20, 400)\n",
    "\n",
    "out = [NPtest(red) for red in redshifts]\n",
    "\n",
    "data = pd.DataFrame(list(zip(redshifts, out/max(out))), columns=['x', 'y'])\n",
    "\n",
    "ymax = data.y.max()\n",
    "\n",
    "redshiftMax = float(data[data['y'] == ymax]['x'])\n",
    "\n",
    "redshiftMax "
   ]
  },
  {
   "cell_type": "markdown",
   "metadata": {},
   "source": [
    "If we use $m=0.48$, then you get the max redshift of $z_{max}=3.41$. \n",
    "\n",
    "If we use $m=0.49$, then you get the max redshift of $z_{max}=3.61$. \n",
    "\n",
    "If we use $m=0.50$, then you get the max redshift of $z_{max}=3.81$. "
   ]
  },
  {
   "cell_type": "code",
   "execution_count": null,
   "metadata": {},
   "outputs": [],
   "source": []
  },
  {
   "cell_type": "markdown",
   "metadata": {},
   "source": [
    "\\begin{equation}\n",
    "\\frac{E^{(1/m)}_{pk}}{S_{bolo}}\n",
    "\\end{equation}\n",
    "\n",
    "\\begin{equation}\n",
    "S_{bolo, max} = (1/y)*E^{(1/m)}_{pk}\n",
    "\\end{equation}\n",
    "\n",
    "where \n",
    "\\begin{equation}\n",
    "S_{bolo, max} = (1/y)*E^{(1/m)}_{pk}\n",
    "\\end{equation}"
   ]
  },
  {
   "cell_type": "code",
   "execution_count": 55,
   "metadata": {},
   "outputs": [
    {
     "data": {
      "text/plain": [
       "52.0"
      ]
     },
     "execution_count": 55,
     "metadata": {},
     "output_type": "execute_result"
    }
   ],
   "source": [
    "np.log10(1E52)"
   ]
  },
  {
   "cell_type": "code",
   "execution_count": null,
   "metadata": {},
   "outputs": [],
   "source": []
  },
  {
   "cell_type": "code",
   "execution_count": 59,
   "metadata": {},
   "outputs": [
    {
     "data": {
      "text/plain": [
       "array([24.03      , 24.08444444, 24.13888889, 24.19333333, 24.24777778,\n",
       "       24.30222222, 24.35666667, 24.41111111, 24.46555556, 24.52      ,\n",
       "       24.57444444, 24.62888889, 24.68333333, 24.73777778, 24.79222222,\n",
       "       24.84666667, 24.90111111, 24.95555556, 25.01      , 25.06444444,\n",
       "       25.11888889, 25.17333333, 25.22777778, 25.28222222, 25.33666667,\n",
       "       25.39111111, 25.44555556, 25.5       , 25.55444444, 25.60888889,\n",
       "       25.66333333, 25.71777778, 25.77222222, 25.82666667, 25.88111111,\n",
       "       25.93555556, 25.99      , 26.04444444, 26.09888889, 26.15333333,\n",
       "       26.20777778, 26.26222222, 26.31666667, 26.37111111, 26.42555556,\n",
       "       26.48      , 26.53444444, 26.58888889, 26.64333333, 26.69777778,\n",
       "       26.75222222, 26.80666667, 26.86111111, 26.91555556, 26.97      ,\n",
       "       27.02444444, 27.07888889, 27.13333333, 27.18777778, 27.24222222,\n",
       "       27.29666667, 27.35111111, 27.40555556, 27.46      , 27.51444444,\n",
       "       27.56888889, 27.62333333, 27.67777778, 27.73222222, 27.78666667,\n",
       "       27.84111111, 27.89555556, 27.95      , 28.00444444, 28.05888889,\n",
       "       28.11333333, 28.16777778, 28.22222222, 28.27666667, 28.33111111,\n",
       "       28.38555556, 28.44      , 28.49444444, 28.54888889, 28.60333333,\n",
       "       28.65777778, 28.71222222, 28.76666667, 28.82111111, 28.87555556,\n",
       "       28.93      , 28.98444444, 29.03888889, 29.09333333, 29.14777778,\n",
       "       29.20222222, 29.25666667, 29.31111111, 29.36555556, 29.42      ])"
      ]
     },
     "execution_count": 59,
     "metadata": {},
     "output_type": "execute_result"
    }
   ],
   "source": [
    "ydata"
   ]
  },
  {
   "cell_type": "code",
   "execution_count": 125,
   "metadata": {},
   "outputs": [
    {
     "data": {
      "text/plain": [
       "<Figure size 432x288 with 0 Axes>"
      ]
     },
     "metadata": {},
     "output_type": "display_data"
    },
    {
     "data": {
      "image/png": "[encoded data removed]",
      "text/plain": [
       "<Figure size 432x288 with 1 Axes>"
      ]
     },
     "metadata": {
      "needs_background": "light"
     },
     "output_type": "display_data"
    }
   ],
   "source": [
    "xdata = np.logspace(52, 56, 100)\n",
    "amati = lambda x: -26.62 + 0.551*np.log10(x)\n",
    "ydata = amati(xdata)\n",
    "\n",
    "plt.clf()\n",
    "\n",
    "plt.figure(figsize=(6,4))\n",
    "plt.grid(alpha=0.3)\n",
    "plt.plot(xdata, ydata)\n",
    "plt.xscale('log')\n",
    "plt.xlim(1E52, 1E56)\n",
    "plt.show()"
   ]
  },
  {
   "cell_type": "code",
   "execution_count": null,
   "metadata": {},
   "outputs": [],
   "source": [
    "xdata = np.logspace(52, 56, 100)\n",
    "amati = lambda x: -26.62 + 0.551*np.log10(x)\n",
    "ydata = amati(xdata)\n",
    "\n",
    "plt.clf()\n",
    "\n",
    "plt.figure(figsize=(6,4))\n",
    "plt.grid(alpha=0.3)\n",
    "plt.plot(xdata, ydata)\n",
    "plt.xscale('log')\n",
    "plt.xlim(1E52, 1E56)\n",
    "plt.show()"
   ]
  },
  {
   "cell_type": "code",
   "execution_count": null,
   "metadata": {},
   "outputs": [],
   "source": []
  },
  {
   "cell_type": "code",
   "execution_count": 56,
   "metadata": {},
   "outputs": [
    {
     "data": {
      "text/plain": [
       "<Figure size 432x288 with 0 Axes>"
      ]
     },
     "metadata": {},
     "output_type": "display_data"
    },
    {
     "data": {
      "image/png": "[encoded data removed]",
      "text/plain": [
       "<Figure size 432x288 with 1 Axes>"
      ]
     },
     "metadata": {
      "needs_background": "light"
     },
     "output_type": "display_data"
    }
   ],
   "source": [
    "xdata = np.linspace(45, 56, 100)\n",
    "amati = lambda x: 1.98 + 0.49*x\n",
    "ydata = amati(xdata)\n",
    "\n",
    "plt.clf()\n",
    "\n",
    "plt.figure(figsize=(6,4))\n",
    "plt.grid(alpha=0.3)\n",
    "plt.plot(xdata, ydata)\n",
    "#plt.xlim(50, 55)\n",
    "plt.show()"
   ]
  },
  {
   "cell_type": "code",
   "execution_count": null,
   "metadata": {},
   "outputs": [],
   "source": []
  }
 ],
 "metadata": {
  "kernelspec": {
   "display_name": "Python 3",
   "language": "python",
   "name": "python3"
  },
  "language_info": {
   "codemirror_mode": {
    "name": "ipython",
    "version": 3
   },
   "file_extension": ".py",
   "mimetype": "text/x-python",
   "name": "python",
   "nbconvert_exporter": "python",
   "pygments_lexer": "ipython3",
   "version": "3.7.0"
  }
 },
 "nbformat": 4,
 "nbformat_minor": 2
}
