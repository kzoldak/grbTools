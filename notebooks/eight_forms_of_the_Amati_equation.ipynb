{
 "cells": [
  {
   "cell_type": "markdown",
   "metadata": {},
   "source": [
    "```\n",
    "\n",
    "\n",
    "```\n",
    "# Eight forms of the Amati relation that are most often published."
   ]
  },
  {
   "cell_type": "markdown",
   "metadata": {},
   "source": [
    "$\n",
    "\\begin{align}\n",
    "(1) \\ \\ \\ \\ \\ \\log_{10}(E_{iso}) = \\xi + \\gamma \\log_{10}(E^*_{pk})\n",
    "\\end{align}\n",
    "$\n",
    "\n",
    "$\n",
    "\\begin{align}\n",
    "(2) \\ \\ \\ \\ \\ E_{iso} = 10^{\\xi} \\ E^{* \\ \\gamma}_{pk}  \n",
    "\\end{align}\n",
    "$\n",
    "\n",
    "$\n",
    "\\begin{align}\n",
    "(3) \\ \\ \\ \\ \\ \\log_{10}\\left(\\frac{E_{iso}}{N}\\right) = \\xi_N + \\gamma \\log_{10}(E^*_{pk})\n",
    "\\end{align}\n",
    "$\n",
    "\n",
    "$\n",
    "\\begin{align}\n",
    "(4) \\ \\ \\ \\ \\ \\frac{E_{iso}}{N} = 10^{\\xi_N} \\ E^{* \\ \\gamma}_{pk}  \n",
    "\\end{align}\n",
    "$\n",
    "\n",
    "$\n",
    "\\begin{align}\n",
    "(5) \\ \\ \\ \\ \\ \\log_{10}(E^*_{pk}) = -\\frac{\\xi}{\\gamma} + \\gamma^{-1} \\log_{10}(E_{iso})\n",
    "\\end{align}\n",
    "$\n",
    "\n",
    "$\n",
    "\\begin{align}\n",
    "(6) \\ \\ \\ \\ \\ E^*_{pk} = 10^{-\\frac{\\xi}{\\gamma}} \\ E_{iso}^{\\gamma^{-1}} \n",
    "\\end{align}\n",
    "$\n",
    "\n",
    "\n",
    "$\n",
    "\\begin{align}\n",
    "(7) \\ \\ \\ \\ \\ \\log_{10}(E^*_{pk}) = -\\frac{\\xi_N}{\\gamma} + \\gamma^{-1} \\log_{10}\\left(\\frac{E_{iso}}{N}\\right)\n",
    "\\end{align}\n",
    "$\n",
    "\n",
    "$\n",
    "\\begin{align}\n",
    "(8) \\ \\ \\ \\ \\ E^*_{pk} = 10^{-\\frac{\\xi_N}{\\gamma}} \\ \\left( \\frac{E_{iso}}{N}\\right)^{\\gamma^{-1}} \n",
    "\\end{align}\n",
    "$\n",
    "\n",
    "\n",
    "$\n",
    "\\begin{align}\n",
    "\\xi = \\xi_N + \\log_{10}(N)\n",
    "\\end{align}\n",
    "$\n",
    "\n",
    "\n",
    "$\n",
    "\\begin{align}\n",
    "\\xi_N = \\xi - \\log_{10}(N)\n",
    "\\end{align}\n",
    "$"
   ]
  },
  {
   "cell_type": "markdown",
   "metadata": {},
   "source": [
    "## Important note(s):\n",
    "- In all equations, $E^*_{pk} = E_{pk}(1+z)$. If $E^*_{pk}$ is raised to a power, then it applies to both $E_{pk}$ and $(1+z)$ individually. \n",
    "I.e., $E^{* \\ \\gamma}_{pk} = E^{\\gamma}_{pk}(1+z)^{\\gamma}$\n",
    "\n",
    "\n",
    "\n",
    "\n",
    "## Notes to explain the differences.\n",
    "- We provide linearized forms and power forms. Equation (1) is a linearized form and equation (2) is a power form of the same equation. A shortcut to go between the two is to use:\n",
    "$\\log(y) = c \\log(x) + \\log(a) \\ \\ \\  \\Leftrightarrow \\ \\ \\ y=aX^c$\n",
    "\n",
    "- We provide forms for when both Epeak and Eiso are the dependent variables (i.e., left side of = sign) and also the y-axis variable on a plot. \n",
    "- We provide forms where Eiso is normalized (or scalled) to a certain energy value and when it is not. Equation (1) is a non-scalled form and equation (3) is its scalled version. This is why you will see $\\xi_N$ instead of $\\xi$ (they are NOT the same value but can be derived from one another). More on this in a moment. You can see $\\frac{E_{iso}}{N}$ in the scalled equations, and $N$ should be the energy the equation is normalized to. For example, $N$ would be $1E52$ if the equation was normalized to $E_{iso} \\sim 1\\times10^{52}$ erg. However, most authors neglect this in their equation. For example:\n",
    "\n",
    "$\n",
    "\\begin{align}\n",
    "\\log_{10}(E^*_{pk}) = 2 + 0.5 \\log_{10}(E_{iso})\n",
    "\\end{align}\n",
    "$\n",
    "\n",
    "should more appropriately be written as:\n",
    "\n",
    "$\n",
    "\\begin{align}\n",
    "\\log_{10}\\left(\\frac{E^*_{pk}}{\\text{keV}}\\right) = 2 + 0.5 \\log_{10}\\left(\\frac{E_{iso}}{1\\times10^{52}\\text{erg}}\\right)\n",
    "\\end{align}\n",
    "$\n",
    "\n",
    "where that $N$ variable is the $1\\times10^{52}$ erg. \n",
    "\n",
    "\n"
   ]
  },
  {
   "cell_type": "markdown",
   "metadata": {},
   "source": [
    "### Notes on $\\xi$ verses $\\xi_N$\n",
    "\n",
    "$\\xi_N$ depends only on the $E_{iso}$ normalization and the value of $\\xi$. \n",
    "More often than not, the equation will be scalled and you will have $\\xi_N$ and need to derive $\\xi$ from it.\n",
    "Below are those conversion equations:\n",
    "\n",
    "$\n",
    "\\begin{align}\n",
    "\\xi = \\xi_N + \\log_{10}(N)\n",
    "\\end{align}\n",
    "$\n",
    "\n",
    "\n",
    "$\n",
    "\\begin{align}\n",
    "\\xi_N = \\xi - \\log_{10}(N)\n",
    "\\end{align}\n",
    "$\n",
    "\n",
    "where $N$ is the energy that $E_{iso}$ is normalized to. \n"
   ]
  },
  {
   "cell_type": "markdown",
   "metadata": {},
   "source": [
    "#### Converting between Linearized and Power forms of the equation. \n",
    "These are the steps that we skipped by using the shortcut, see above.\n",
    "\n",
    "\n",
    "Start with the power version:  $y = aX^c$\n",
    "1. Log both sides. \n",
    " $\\log(y) = \\log(aX^c)$\n",
    "2. Use rule #1 from https://mathbench.umd.edu/modules/misc_scaling/page11.htm \n",
    "$\\log(y) = \\log(aX^c) = \\log(a) + \\log(X^c)$\n",
    "3. Use rule #2 from https://mathbench.umd.edu/modules/misc_scaling/page11.htm \n",
    "$\\log(y) = \\log(a) + \\log(X^c) = \\log(a) + c\\log(X) $\n",
    "4. Rearrange and compare this to the equation of a line.\n",
    "$\\log(y) = c\\log(X) + \\log(a) \\ \\ $ or $ \\ \\ y=mx+b$. \n",
    "\n",
    "Where $c$ would be the slope and $\\log(a)$ the y-intercept. "
   ]
  },
  {
   "cell_type": "code",
   "execution_count": 70,
   "metadata": {},
   "outputs": [],
   "source": [
    "import numpy as np\n",
    "\n",
    "\n",
    "def get_xi_N(xi, N):\n",
    "    return xi - np.log10(N)\n",
    "\n",
    "\n",
    "def get_xi(xi_N, N):\n",
    "    \"\"\"\n",
    "    When your function is normalized to some Eiso energy, you can \n",
    "    find out what xi should be based on the xi_N given in the \n",
    "    Amati equation and the normalization energy. \n",
    "    \"\"\"\n",
    "    return xi_N + np.log10(N)"
   ]
  },
  {
   "cell_type": "markdown",
   "metadata": {},
   "source": [
    "```\n",
    "\n",
    "\n",
    "\n",
    "\n",
    "```\n",
    "# Examples on deciding which form you have based on your equation.\n",
    "\n",
    "```\n",
    "\n",
    "\n",
    "```\n",
    "$\n",
    "\\begin{align}\n",
    "\\log_{10}(E_{iso}) = 47.93 + 2.04 \\log_{10}(E^*_{pk}) \n",
    "\\end{align}\n",
    "$\n",
    "\n",
    "#### This is equation (1) above and you have $\\xi=47.93$. This equation is not scalled. "
   ]
  },
  {
   "cell_type": "markdown",
   "metadata": {},
   "source": [
    "```\n",
    "\n",
    "\n",
    "```\n",
    "$\n",
    "\\begin{align}\n",
    "\\log_{10}(E_{iso}) = -4.07 + 2.04 \\log_{10}(E^*_{pk}) \n",
    "\\end{align}\n",
    "$\n",
    "\n",
    "#### This is equation (3) above and you have $\\xi_N=-4.07$. This equation is scalled. "
   ]
  },
  {
   "cell_type": "code",
   "execution_count": 28,
   "metadata": {},
   "outputs": [
    {
     "data": {
      "text/plain": [
       "47.93"
      ]
     },
     "execution_count": 28,
     "metadata": {},
     "output_type": "execute_result"
    }
   ],
   "source": [
    "get_xi(xi_N=-4.07, N=1E52)"
   ]
  },
  {
   "cell_type": "markdown",
   "metadata": {},
   "source": [
    "```\n",
    "\n",
    "\n",
    "```\n",
    "$\n",
    "\\begin{align}\n",
    "\\log_{10}(E^*_{pk}) = -26.62 + 0.551 \\log_{10}(E_{iso}) \n",
    "\\end{align}\n",
    "$\n",
    "\n",
    "#### This is equation (5) above and you have $-\\frac{\\xi}{\\gamma}=-26.62$. This equation is NOT scalled. \n",
    "To find the scalled version of it, use $\\gamma^{-1}=0.551$ and $-\\frac{\\xi}{\\gamma}=-26.62$ to get $\\gamma=(1/0.551)$ and $\\xi=48.312159709618875$. Solve for $\\xi_N$, which is $\\xi_N=-3.687840290381125$, which gives $-\\frac{\\xi_N}{\\gamma}=2.032$."
   ]
  },
  {
   "cell_type": "code",
   "execution_count": 50,
   "metadata": {},
   "outputs": [
    {
     "data": {
      "text/plain": [
       "48.312159709618875"
      ]
     },
     "execution_count": 50,
     "metadata": {},
     "output_type": "execute_result"
    }
   ],
   "source": [
    "26.62/(0.551)"
   ]
  },
  {
   "cell_type": "code",
   "execution_count": 51,
   "metadata": {},
   "outputs": [
    {
     "data": {
      "text/plain": [
       "-3.687840290381125"
      ]
     },
     "execution_count": 51,
     "metadata": {},
     "output_type": "execute_result"
    }
   ],
   "source": [
    "get_xi_N(xi=48.312159709618875, N=1E52) #, 0.09393346379648193/(1./.551)"
   ]
  },
  {
   "cell_type": "code",
   "execution_count": 52,
   "metadata": {},
   "outputs": [
    {
     "data": {
      "text/plain": [
       "2.032"
      ]
     },
     "execution_count": 52,
     "metadata": {},
     "output_type": "execute_result"
    }
   ],
   "source": [
    "-(-3.687840290381125/(1./0.551))"
   ]
  },
  {
   "cell_type": "markdown",
   "metadata": {},
   "source": [
    "```\n",
    "\n",
    "\n",
    "```\n",
    "$\n",
    "\\begin{align}\n",
    "\\log_{10}(E^*_{pk}) = 2.032 + 0.551 \\log_{10}(E_{iso}) \n",
    "\\end{align}\n",
    "$\n",
    "\n",
    "#### This is equation (7) above and we actually derived this version from the last example. This equation is the scalled version of the last. \n",
    "To find the unscalled version of it (make sure our work is consistent), use $\\gamma^{-1}=0.551$ and $-\\frac{\\xi_N}{\\gamma}=2.032$ to get $\\gamma=(1/0.551)$ and $\\xi_N=-3.687840290381125$. Solve for $\\xi$, which is $\\xi=48.312159709618875$, which gives $-\\frac{\\xi}{\\gamma}=-26.62$."
   ]
  },
  {
   "cell_type": "code",
   "execution_count": 53,
   "metadata": {},
   "outputs": [
    {
     "data": {
      "text/plain": [
       "-3.687840290381125"
      ]
     },
     "execution_count": 53,
     "metadata": {},
     "output_type": "execute_result"
    }
   ],
   "source": [
    "-(2.032*(1./0.551))"
   ]
  },
  {
   "cell_type": "code",
   "execution_count": 54,
   "metadata": {},
   "outputs": [
    {
     "data": {
      "text/plain": [
       "48.312159709618875"
      ]
     },
     "execution_count": 54,
     "metadata": {},
     "output_type": "execute_result"
    }
   ],
   "source": [
    "get_xi(xi_N=-3.687840290381125, N=1E52)"
   ]
  },
  {
   "cell_type": "code",
   "execution_count": 55,
   "metadata": {},
   "outputs": [
    {
     "data": {
      "text/plain": [
       "-26.62"
      ]
     },
     "execution_count": 55,
     "metadata": {},
     "output_type": "execute_result"
    }
   ],
   "source": [
    "-(48.312159709618875/(1./0.551))"
   ]
  },
  {
   "cell_type": "markdown",
   "metadata": {},
   "source": [
    "```\n",
    "\n",
    "\n",
    "```\n",
    "$\n",
    "\\begin{align}\n",
    "\\log_{10}(E^*_{pk}) = 2 + 0.5 \\log_{10}(E_{iso}) \n",
    "\\end{align}\n",
    "$\n",
    "\n",
    "$\n",
    "\\begin{align}\n",
    "\\log_{10}(E^*_{pk}) = 1.933 + 0.555 \\log_{10}(E_{iso}) \n",
    "\\end{align}\n",
    "$\n",
    "\n",
    "#### These are both examples of equation (7) above, which is the most popular form published for Amati's relation. The top one here is what Amati et al. (2013) considers their relation in the text. The bottom one is our version of the equation for when we fit a power-law to the 34 LGRBs in our data sample. "
   ]
  },
  {
   "cell_type": "markdown",
   "metadata": {},
   "source": [
    "## By now it should be clear how we get from a non-scalled equation to a scalled version of it. And vice versa. "
   ]
  },
  {
   "cell_type": "markdown",
   "metadata": {},
   "source": [
    "```\n",
    "\n",
    "\n",
    "```\n",
    "\n",
    "# Solve the Amati Equation"
   ]
  },
  {
   "cell_type": "code",
   "execution_count": 75,
   "metadata": {},
   "outputs": [],
   "source": [
    "def solve_amati_for_eiso(epeakRest, xi, gamma, N=None):\n",
    "    \"\"\"\n",
    "    The value of xi_N depends on the normalization of Eiso.\n",
    "    We calculate it within the function and have it printed to \n",
    "    the screen when a normalization is used. \n",
    "    \n",
    "    Most often, if you have a normalization, you also have \n",
    "    the proper value of xi_N. If you have it, use it in the place \n",
    "    of xi. \n",
    "    \"\"\"\n",
    "    if N is not None:\n",
    "        xi_N = get_xi_N(xi, N)\n",
    "        print(xi_N)\n",
    "        return ((10**xi_N) * (epeakRest**gamma)) * N\n",
    "    else:\n",
    "        return (10**xi) * (epeakRest**gamma)\n",
    "    \n",
    "def solve_amati_for_epeakRest(eiso, xi, gamma, N=None):\n",
    "    \"\"\"\n",
    "    The value of xi_N depends on the normalization of Eiso.\n",
    "    We calculate it within the function and have it printed to \n",
    "    the screen when a normalization is used. \n",
    "    \n",
    "    Most often, if you have a normalization, you also have \n",
    "    the proper value of xi_N. If you have it, use it in the place \n",
    "    of xi. \n",
    "    \"\"\"\n",
    "    if N is not None:\n",
    "        xi_N = get_xi_N(xi, N)\n",
    "        #print(xi_N)\n",
    "        # Use xi_N in place of xi\n",
    "        return (10**(-xi_N/gamma)) * ((eiso/N)**(gamma**-1))\n",
    "    else:\n",
    "        return (10**(-xi/gamma)) * (eiso**(gamma**-1))\n"
   ]
  },
  {
   "cell_type": "code",
   "execution_count": 76,
   "metadata": {},
   "outputs": [
    {
     "data": {
      "text/plain": [
       "1614.6909636021576"
      ]
     },
     "execution_count": 76,
     "metadata": {},
     "output_type": "execute_result"
    }
   ],
   "source": [
    "solve_amati_for_epeakRest(eiso=3.E54, xi=47.93, gamma=(1./0.49))"
   ]
  },
  {
   "cell_type": "code",
   "execution_count": 77,
   "metadata": {},
   "outputs": [
    {
     "data": {
      "text/plain": [
       "1614.690963602152"
      ]
     },
     "execution_count": 77,
     "metadata": {},
     "output_type": "execute_result"
    }
   ],
   "source": [
    "solve_amati_for_epeakRest(eiso=3.E54, xi=47.93, gamma=(1./0.49), N=1E51)"
   ]
  },
  {
   "cell_type": "code",
   "execution_count": null,
   "metadata": {},
   "outputs": [],
   "source": []
  },
  {
   "cell_type": "code",
   "execution_count": 65,
   "metadata": {},
   "outputs": [
    {
     "data": {
      "text/plain": [
       "1.3000000000000102e+53"
      ]
     },
     "execution_count": 65,
     "metadata": {},
     "output_type": "execute_result"
    }
   ],
   "source": [
    "solve_amati_for_eiso(epeakRest=346.84244786843345, xi=47.93, gamma=(1./0.49))"
   ]
  },
  {
   "cell_type": "code",
   "execution_count": 66,
   "metadata": {},
   "outputs": [
    {
     "name": "stdout",
     "output_type": "stream",
     "text": [
      "-3.0700000000000003\n"
     ]
    },
    {
     "data": {
      "text/plain": [
       "1.3000000000000102e+53"
      ]
     },
     "execution_count": 66,
     "metadata": {},
     "output_type": "execute_result"
    }
   ],
   "source": [
    "solve_amati_for_eiso(epeakRest=346.84244786843345, xi=47.93, gamma=(1./0.49), N=1E51)"
   ]
  },
  {
   "cell_type": "code",
   "execution_count": null,
   "metadata": {},
   "outputs": [],
   "source": []
  },
  {
   "cell_type": "markdown",
   "metadata": {},
   "source": [
    "# Most of the time we know $\\xi_N$, since the equation is presented in that form. \n",
    "\n",
    "\\begin{equation}\n",
    "\\log_{10}(E^*_{pk}) = -\\frac{\\xi_N}{\\gamma} + \\gamma^{-1} \\log_{10}\\left(\\frac{E_{iso}}{N}\\right)\n",
    "\\end{equation}\n",
    "\n",
    "\\begin{equation}\n",
    "\\log_{10}(E^*_{pk}) = 1.933 + 0.555 \\log_{10}(E_{iso})\n",
    "\\end{equation}\n",
    "\n",
    "$-\\frac{\\xi_N}{\\gamma} = 1.933$\n",
    "\n",
    "$\\gamma^{-1}=0.555$\n",
    "\n",
    "thus,\n",
    "\n",
    "$\\gamma= \\frac{1}{0.555}$\n",
    "\n",
    "$-\\frac{\\xi_N}{\\frac{1}{0.555}} = -\\xi_N \\cdot 0.555 = 1.933 \\ \\ \\ $\n",
    "thus,\n",
    "$ \\ \\ \\ \\xi_N=-\\left(1.933 \\cdot \\frac{1}{0.555}\\right) = -3.4828828828828824$\n",
    "\n",
    "To get $\\xi$ we use $\\xi = \\xi_N + \\log_{10}(N)$ where $N=1\\times10^{52}$ erg. \n",
    "\n",
    "$\\xi=48.51711711711712$\n"
   ]
  },
  {
   "cell_type": "code",
   "execution_count": 67,
   "metadata": {},
   "outputs": [
    {
     "data": {
      "text/plain": [
       "-3.4828828828828824"
      ]
     },
     "execution_count": 67,
     "metadata": {},
     "output_type": "execute_result"
    }
   ],
   "source": [
    "-(1.933*(1.0/0.555))"
   ]
  },
  {
   "cell_type": "code",
   "execution_count": 68,
   "metadata": {},
   "outputs": [
    {
     "data": {
      "text/plain": [
       "48.51711711711712"
      ]
     },
     "execution_count": 68,
     "metadata": {},
     "output_type": "execute_result"
    }
   ],
   "source": [
    "-(1.933*(1.0/0.555)) + np.log10(1E52)"
   ]
  },
  {
   "cell_type": "code",
   "execution_count": 69,
   "metadata": {},
   "outputs": [
    {
     "data": {
      "text/plain": [
       "48.51711711711712"
      ]
     },
     "execution_count": 69,
     "metadata": {},
     "output_type": "execute_result"
    }
   ],
   "source": [
    "get_xi(xi_N=-3.4828828828828824, N=1E52)"
   ]
  },
  {
   "cell_type": "markdown",
   "metadata": {},
   "source": [
    "\\begin{equation}\n",
    "\\log_{10}(E^*_{pk}) = 48.517 + 0.555 \\log_{10}(E_{iso})\n",
    "\\end{equation}"
   ]
  }
 ],
 "metadata": {
  "kernelspec": {
   "display_name": "Python 3",
   "language": "python",
   "name": "python3"
  },
  "language_info": {
   "codemirror_mode": {
    "name": "ipython",
    "version": 3
   },
   "file_extension": ".py",
   "mimetype": "text/x-python",
   "name": "python",
   "nbconvert_exporter": "python",
   "pygments_lexer": "ipython3",
   "version": "3.7.0"
  }
 },
 "nbformat": 4,
 "nbformat_minor": 2
}
