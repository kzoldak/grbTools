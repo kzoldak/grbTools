{
 "cells": [
  {
   "cell_type": "markdown",
   "metadata": {},
   "source": [
    "The LumDist function calculates the luminosity distance of an object at a given redshift. The user can supply cosmology constants in the form of a list or a dictionary if they choose not to use the defaults. \n",
    "\n",
    "Defaults are:\n",
    "```\n",
    "hubble_constant: 67.8\n",
    "matter_density: 0.308\n",
    "energy_density: 1 - matter_density\n",
    "\n",
    "```\n",
    "If using a list format, only pass the hubble_constant followed by the matter_dentisy (**order matters**); `[67.8, 0.308]`.\n",
    "\n",
    "If using a dictionary format, pass the same two constants in one of the following formats:\n",
    "\n",
    "    {hubble_constant': 70.0, 'matter_density': 0.27}\n",
    "or \n",
    "\n",
    "    {'H_knot': 70.0, 'omega_M': 0.27}\n",
    "\n",
    "These are the only keywords recognized by the function.\n",
    "\n",
    "See `LumDist`'s documentation for more details. \n",
    "\n",
    "**Distances are returned in cm, so it is up to the user to convert to any other desired distance unit.**"
   ]
  },
  {
   "cell_type": "code",
   "execution_count": 1,
   "metadata": {},
   "outputs": [],
   "source": [
    "# Only want to temporarily add this directory to my Python path.\n",
    "import sys\n",
    "sys.path.append('/Users/kimzoldak/Github/grbTools/')"
   ]
  },
  {
   "cell_type": "code",
   "execution_count": 2,
   "metadata": {},
   "outputs": [],
   "source": [
    "# Luminosity Distance Calculator.\n",
    "from cosmo.lumdist import LumDist"
   ]
  },
  {
   "cell_type": "markdown",
   "metadata": {},
   "source": [
    "`LumDist(redshift=4.35, cosmoconstants=None)`"
   ]
  },
  {
   "cell_type": "code",
   "execution_count": 3,
   "metadata": {},
   "outputs": [
    {
     "data": {
      "text/plain": [
       "1.2507879819795935e+29"
      ]
     },
     "execution_count": 3,
     "metadata": {},
     "output_type": "execute_result"
    }
   ],
   "source": [
    "LumDist(redshift=4.35)"
   ]
  },
  {
   "cell_type": "code",
   "execution_count": 4,
   "metadata": {},
   "outputs": [
    {
     "data": {
      "text/plain": [
       "1.2507879819795935e+29"
      ]
     },
     "execution_count": 4,
     "metadata": {},
     "output_type": "execute_result"
    }
   ],
   "source": [
    "# Proof these are the defaults.\n",
    "LumDist(redshift=4.35, cosmoconstants={'hubble_constant': 67.8, \n",
    "                                       'matter_density': 0.308})"
   ]
  },
  {
   "cell_type": "code",
   "execution_count": 5,
   "metadata": {},
   "outputs": [
    {
     "data": {
      "text/plain": [
       "1.2635613271561837e+29"
      ]
     },
     "execution_count": 5,
     "metadata": {},
     "output_type": "execute_result"
    }
   ],
   "source": [
    "# Other Cosmology Constants\n",
    "LumDist(redshift=4.35, cosmoconstants={'hubble_constant': 70.0, \n",
    "                                       'matter_density': 0.27})"
   ]
  },
  {
   "cell_type": "code",
   "execution_count": 6,
   "metadata": {},
   "outputs": [
    {
     "data": {
      "text/plain": [
       "1.2507879819795935e+29"
      ]
     },
     "execution_count": 6,
     "metadata": {},
     "output_type": "execute_result"
    }
   ],
   "source": [
    "# Passing them in list format, order matters.\n",
    "LumDist(redshift=4.35, cosmoconstants=[67.8, 0.308])"
   ]
  },
  {
   "cell_type": "code",
   "execution_count": 7,
   "metadata": {},
   "outputs": [
    {
     "data": {
      "text/plain": [
       "1.2635613271561837e+29"
      ]
     },
     "execution_count": 7,
     "metadata": {},
     "output_type": "execute_result"
    }
   ],
   "source": [
    "# Passing them in list format, order matters.\n",
    "LumDist(redshift=4.35, cosmoconstants=[70., 0.27])"
   ]
  },
  {
   "cell_type": "code",
   "execution_count": 8,
   "metadata": {},
   "outputs": [],
   "source": [
    "# Look at documentation\n",
    "?LumDist"
   ]
  },
  {
   "cell_type": "raw",
   "metadata": {},
   "source": [
    "    ONLINE COSMOLOGY CALCULATORS:\n",
    "    http://www.astro.ucla.edu/~wright/CosmoCalc.html \n",
    "    https://ned.ipac.caltech.edu/help/cosmology_calc.html"
   ]
  },
  {
   "cell_type": "markdown",
   "metadata": {},
   "source": [
    "```\n",
    "\n",
    "```\n",
    "# Cosmology with Astropy Package\n",
    "```\n",
    "\n",
    "```\n",
    "\n",
    "```\n",
    "\n",
    "```\n",
    "[Astropy Documentation on Cosmology](http://docs.astropy.org/en/stable/cosmology/)\n",
    "```\n",
    "\n",
    "```"
   ]
  },
  {
   "cell_type": "markdown",
   "metadata": {},
   "source": [
    "### Units"
   ]
  },
  {
   "cell_type": "code",
   "execution_count": 9,
   "metadata": {},
   "outputs": [],
   "source": [
    "from astropy import units as u"
   ]
  },
  {
   "cell_type": "code",
   "execution_count": 10,
   "metadata": {},
   "outputs": [],
   "source": [
    "DL_cm = LumDist(redshift=4.35)"
   ]
  },
  {
   "cell_type": "code",
   "execution_count": 11,
   "metadata": {},
   "outputs": [
    {
     "data": {
      "text/plain": [
       "1.2507879819795935e+29"
      ]
     },
     "execution_count": 11,
     "metadata": {},
     "output_type": "execute_result"
    }
   ],
   "source": [
    "DL_cm"
   ]
  },
  {
   "cell_type": "code",
   "execution_count": 12,
   "metadata": {},
   "outputs": [
    {
     "data": {
      "text/latex": [
       "$1.250788 \\times 10^{29} \\; \\mathrm{cm}$"
      ],
      "text/plain": [
       "<Quantity 1.25078798e+29 cm>"
      ]
     },
     "execution_count": 12,
     "metadata": {},
     "output_type": "execute_result"
    }
   ],
   "source": [
    "DL_cm = DL_cm * u.cm\n",
    "DL_cm"
   ]
  },
  {
   "cell_type": "code",
   "execution_count": 13,
   "metadata": {},
   "outputs": [
    {
     "data": {
      "text/latex": [
       "$40535.278 \\; \\mathrm{Mpc}$"
      ],
      "text/plain": [
       "<Quantity 40535.27787517 Mpc>"
      ]
     },
     "execution_count": 13,
     "metadata": {},
     "output_type": "execute_result"
    }
   ],
   "source": [
    "DL_Mpc = DL_cm.to(u.Mpc)\n",
    "DL_Mpc"
   ]
  },
  {
   "cell_type": "code",
   "execution_count": 14,
   "metadata": {},
   "outputs": [
    {
     "data": {
      "text/latex": [
       "$132.20839 \\; \\mathrm{Glyr}$"
      ],
      "text/plain": [
       "<Quantity 132.20839401 Glyr>"
      ]
     },
     "execution_count": 14,
     "metadata": {},
     "output_type": "execute_result"
    }
   ],
   "source": [
    "DL_Glyr = DL_Mpc.to(u.Glyr)\n",
    "DL_Glyr"
   ]
  },
  {
   "cell_type": "markdown",
   "metadata": {},
   "source": [
    "### Planck15 Cosmology, same as ours"
   ]
  },
  {
   "cell_type": "code",
   "execution_count": 15,
   "metadata": {},
   "outputs": [],
   "source": [
    "from astropy.cosmology import Planck15"
   ]
  },
  {
   "cell_type": "code",
   "execution_count": 16,
   "metadata": {},
   "outputs": [
    {
     "data": {
      "text/plain": [
       "FlatLambdaCDM(name=\"Planck15\", H0=67.7 km / (Mpc s), Om0=0.307, Tcmb0=2.725 K, Neff=3.05, m_nu=[0.   0.   0.06] eV, Ob0=0.0486)"
      ]
     },
     "execution_count": 16,
     "metadata": {},
     "output_type": "execute_result"
    }
   ],
   "source": [
    "Planck15"
   ]
  },
  {
   "cell_type": "raw",
   "metadata": {},
   "source": [
    "Om0 - matter density\n",
    "Ob0 - baryonic matter density\n",
    "Oc0 - ordinary observable matter density\n",
    "Om0 = Ob0 + Oc0"
   ]
  },
  {
   "cell_type": "code",
   "execution_count": 17,
   "metadata": {},
   "outputs": [
    {
     "data": {
      "text/latex": [
       "$40522.299 \\; \\mathrm{Mpc}$"
      ],
      "text/plain": [
       "<Quantity 40522.29940496 Mpc>"
      ]
     },
     "execution_count": 17,
     "metadata": {},
     "output_type": "execute_result"
    }
   ],
   "source": [
    "Planck15.luminosity_distance(4.35)"
   ]
  },
  {
   "cell_type": "code",
   "execution_count": 18,
   "metadata": {},
   "outputs": [
    {
     "data": {
      "text/latex": [
       "$1.2503875 \\times 10^{29} \\; \\mathrm{cm}$"
      ],
      "text/plain": [
       "<Quantity 1.25038751e+29 cm>"
      ]
     },
     "execution_count": 18,
     "metadata": {},
     "output_type": "execute_result"
    }
   ],
   "source": [
    "Planck15.luminosity_distance(4.35).to(u.cm)"
   ]
  },
  {
   "cell_type": "markdown",
   "metadata": {},
   "source": [
    "### Lambda CDM (Cold Dark Matter) Cosmology"
   ]
  },
  {
   "cell_type": "code",
   "execution_count": 19,
   "metadata": {},
   "outputs": [
    {
     "data": {
      "text/plain": [
       "FlatLambdaCDM(H0=67.7 km / (Mpc s), Om0=0.307, Tcmb0=0 K, Neff=3.04, m_nu=None, Ob0=None)"
      ]
     },
     "execution_count": 19,
     "metadata": {},
     "output_type": "execute_result"
    }
   ],
   "source": [
    "from astropy.cosmology import FlatLambdaCDM\n",
    "\n",
    "cosmo = FlatLambdaCDM(H0=67.74, Om0=0.3075)\n",
    "cosmo"
   ]
  },
  {
   "cell_type": "code",
   "execution_count": 20,
   "metadata": {},
   "outputs": [
    {
     "data": {
      "text/latex": [
       "$40592.466 \\; \\mathrm{Mpc}$"
      ],
      "text/plain": [
       "<Quantity 40592.46635013 Mpc>"
      ]
     },
     "execution_count": 20,
     "metadata": {},
     "output_type": "execute_result"
    }
   ],
   "source": [
    "cosmo.luminosity_distance(4.35)"
   ]
  },
  {
   "cell_type": "code",
   "execution_count": 21,
   "metadata": {},
   "outputs": [
    {
     "data": {
      "text/latex": [
       "$1.2525526 \\times 10^{29} \\; \\mathrm{cm}$"
      ],
      "text/plain": [
       "<Quantity 1.25255263e+29 cm>"
      ]
     },
     "execution_count": 21,
     "metadata": {},
     "output_type": "execute_result"
    }
   ],
   "source": [
    "cosmo.luminosity_distance(4.35).to(u.cm)"
   ]
  },
  {
   "cell_type": "code",
   "execution_count": 22,
   "metadata": {},
   "outputs": [
    {
     "name": "stdout",
     "output_type": "stream",
     "text": [
      "39595.6704698203 Mpc\n",
      "1.2217947269188701e+29 cm\n"
     ]
    }
   ],
   "source": [
    "cosmo = FlatLambdaCDM(H0=70, Om0=0.3)\n",
    "\n",
    "print(cosmo.luminosity_distance(4.35))\n",
    "print(cosmo.luminosity_distance(4.35).to(u.cm))"
   ]
  },
  {
   "cell_type": "code",
   "execution_count": 23,
   "metadata": {},
   "outputs": [
    {
     "data": {
      "text/latex": [
       "$39595.67 \\; \\mathrm{Mpc}$"
      ],
      "text/plain": [
       "<Quantity 39595.67046982 Mpc>"
      ]
     },
     "execution_count": 23,
     "metadata": {},
     "output_type": "execute_result"
    }
   ],
   "source": [
    "cosmo.luminosity_distance(4.35)"
   ]
  },
  {
   "cell_type": "code",
   "execution_count": 24,
   "metadata": {},
   "outputs": [
    {
     "data": {
      "text/latex": [
       "$1.2217947 \\times 10^{29} \\; \\mathrm{cm}$"
      ],
      "text/plain": [
       "<Quantity 1.22179473e+29 cm>"
      ]
     },
     "execution_count": 24,
     "metadata": {},
     "output_type": "execute_result"
    }
   ],
   "source": [
    "cosmo.luminosity_distance(4.35).to(u.cm)"
   ]
  },
  {
   "cell_type": "markdown",
   "metadata": {},
   "source": [
    "### Calculate redshift, given a value and a function used to compute that value. It infers units. "
   ]
  },
  {
   "cell_type": "code",
   "execution_count": 25,
   "metadata": {},
   "outputs": [
    {
     "data": {
      "text/plain": [
       "4.3500000095772595"
      ]
     },
     "execution_count": 25,
     "metadata": {},
     "output_type": "execute_result"
    }
   ],
   "source": [
    "from astropy.cosmology.funcs import z_at_value\n",
    "\n",
    "z_at_value(func=LumDist, \n",
    "           fval=1.2507879819795935e+29, \n",
    "           zmin=1e-08, zmax=1000, \n",
    "           ztol=1e-08, maxfun=500)"
   ]
  },
  {
   "cell_type": "markdown",
   "metadata": {},
   "source": [
    "### Setting a default Cosmology"
   ]
  },
  {
   "cell_type": "code",
   "execution_count": 26,
   "metadata": {},
   "outputs": [],
   "source": [
    "from astropy.cosmology import default_cosmology"
   ]
  },
  {
   "cell_type": "code",
   "execution_count": 27,
   "metadata": {},
   "outputs": [
    {
     "data": {
      "text/plain": [
       "FlatLambdaCDM(name=\"WMAP9\", H0=69.3 km / (Mpc s), Om0=0.286, Tcmb0=2.725 K, Neff=3.04, m_nu=[0. 0. 0.] eV, Ob0=0.0463)"
      ]
     },
     "execution_count": 27,
     "metadata": {},
     "output_type": "execute_result"
    }
   ],
   "source": [
    "default_cosmology.get()"
   ]
  },
  {
   "cell_type": "code",
   "execution_count": 28,
   "metadata": {},
   "outputs": [
    {
     "data": {
      "text/plain": [
       "<ScienceState default_cosmology: FlatLambdaCDM(name=\"Planck15\", H0=67.7 km / (Mpc s), Om0=0.307, Tcmb0=2.725 K, Neff=3.05, m_nu=[0.   0.   0.06] eV, Ob0=0.0486)>"
      ]
     },
     "execution_count": 28,
     "metadata": {},
     "output_type": "execute_result"
    }
   ],
   "source": [
    "# Set a default cosmology\n",
    "#from astropy.cosmology import default_cosmology, Planck15\n",
    "default_cosmology.set(Planck15)"
   ]
  },
  {
   "cell_type": "code",
   "execution_count": 29,
   "metadata": {},
   "outputs": [],
   "source": [
    "from astropy.cosmology import WMAP5, WMAP7, WMAP9"
   ]
  },
  {
   "cell_type": "code",
   "execution_count": 30,
   "metadata": {},
   "outputs": [
    {
     "data": {
      "text/latex": [
       "$40566.429 \\; \\mathrm{Mpc}$"
      ],
      "text/plain": [
       "<Quantity 40566.42912018 Mpc>"
      ]
     },
     "execution_count": 30,
     "metadata": {},
     "output_type": "execute_result"
    }
   ],
   "source": [
    "WMAP9.luminosity_distance(4.35)"
   ]
  },
  {
   "cell_type": "code",
   "execution_count": 31,
   "metadata": {},
   "outputs": [
    {
     "data": {
      "text/latex": [
       "$40609.264 \\; \\mathrm{Mpc}$"
      ],
      "text/plain": [
       "<Quantity 40609.26375075 Mpc>"
      ]
     },
     "execution_count": 31,
     "metadata": {},
     "output_type": "execute_result"
    }
   ],
   "source": [
    "WMAP7.luminosity_distance(4.35)"
   ]
  },
  {
   "cell_type": "code",
   "execution_count": 32,
   "metadata": {},
   "outputs": [
    {
     "data": {
      "text/latex": [
       "$40490.422 \\; \\mathrm{Mpc}$"
      ],
      "text/plain": [
       "<Quantity 40490.42193198 Mpc>"
      ]
     },
     "execution_count": 32,
     "metadata": {},
     "output_type": "execute_result"
    }
   ],
   "source": [
    "WMAP5.luminosity_distance(4.35)"
   ]
  }
 ],
 "metadata": {
  "kernelspec": {
   "display_name": "Python 3",
   "language": "python",
   "name": "python3"
  },
  "language_info": {
   "codemirror_mode": {
    "name": "ipython",
    "version": 3
   },
   "file_extension": ".py",
   "mimetype": "text/x-python",
   "name": "python",
   "nbconvert_exporter": "python",
   "pygments_lexer": "ipython3",
   "version": "3.7.0"
  }
 },
 "nbformat": 4,
 "nbformat_minor": 2
}
