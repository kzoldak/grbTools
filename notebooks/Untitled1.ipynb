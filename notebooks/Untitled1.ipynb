{
 "cells": [
  {
   "cell_type": "code",
   "execution_count": 1,
   "metadata": {},
   "outputs": [],
   "source": [
    "import pandas as pd\n",
    "import numpy as np\n",
    "\n",
    "f = \"/Users/kimzoldak/GRBs/sample/Band_13_GBM+LAT__19_GBMconstrained.txt\"\n",
    "\n",
    "df = pd.read_csv(f)\n",
    "\n",
    "df.head()\n",
    "\n",
    "burst = 'bn080916009'\n",
    "\n",
    "values = []\n",
    "for par in 'alpha beta epeak norm'.split():\n",
    "    values.append(float(df[df.trigger == burst][par].values))\n",
    "    \n",
    "\n",
    "values"
   ]
  },
  {
   "cell_type": "code",
   "execution_count": null,
   "metadata": {},
   "outputs": [],
   "source": []
  }
 ],
 "metadata": {
  "kernelspec": {
   "display_name": "Python 3",
   "language": "python",
   "name": "python3"
  },
  "language_info": {
   "codemirror_mode": {
    "name": "ipython",
    "version": 3
   },
   "file_extension": ".py",
   "mimetype": "text/x-python",
   "name": "python",
   "nbconvert_exporter": "python",
   "pygments_lexer": "ipython3",
   "version": "3.7.0"
  }
 },
 "nbformat": 4,
 "nbformat_minor": 2
}
