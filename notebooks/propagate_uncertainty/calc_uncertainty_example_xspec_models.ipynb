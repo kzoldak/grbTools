{
 "cells": [
  {
   "cell_type": "markdown",
   "metadata": {},
   "source": [
    "In the old XSPEC fit files, the parameter names are not contained within the FITS files, so we have to read from the JSON files to get these. The FITS files simply have 'PARAM1', 'PARAM2', etc. The new XSPEC fitting files will have the parameter names in the header of the table that holds the parameters. \n",
    "\n",
    "In the old files, the parameter errors are confidence intervals and they are margins of error in the new files. "
   ]
  },
  {
   "cell_type": "code",
   "execution_count": 1,
   "metadata": {
    "collapsed": true
   },
   "outputs": [],
   "source": [
    "from __future__ import division\n",
    "from collections import OrderedDict\n",
    "import os\n",
    "import json\n",
    "\n",
    "import numpy as np\n",
    "from astropy.io import fits as pyfits\n",
    "\n",
    "from grbTools.XSPEC.uncertainty import Calc_Uncertainty\n",
    "\n",
    "from grbTools.XSPEC.uncertainty import Calc_Eiso_Uncertainty\n",
    "from grbTools.XSPEC.uncertainty import Calc_Fluence_Uncertainty \n",
    "from grbTools.XSPEC.uncertainty import Calc_Flux_Uncertainty"
   ]
  },
  {
   "cell_type": "markdown",
   "metadata": {},
   "source": [
    "## A single GRB's fit result. "
   ]
  },
  {
   "cell_type": "code",
   "execution_count": 2,
   "metadata": {
    "collapsed": false
   },
   "outputs": [
    {
     "name": "stdout",
     "output_type": "stream",
     "text": [
      "2.78623310577e-08\n",
      "4.60781658567e-06\n",
      "2.9982030925e+52\n"
     ]
    }
   ],
   "source": [
    "burst = 'bn100728095'  # just for a reminder\n",
    "\n",
    "model = 'grbm'\n",
    "det = 'L'\n",
    "version = '-01-'\n",
    "dur = 165.378\n",
    "z = 1.567\n",
    "energetic = 'flux'\n",
    "\n",
    "\n",
    "# *~*~*~ Find appropriate files. \n",
    "detDir = ('GBMwLAT' if 'L' in det else 'GBM')\n",
    "paramfile = ('/Users/KimiZ/GRBs2/analysis/LAT/%s/PYXSPEC/'\n",
    "             '%s/%s/xspec_fitresults_%s_%s_%s_.json'%(burst, detDir, model, model, \n",
    "                                                      version, det))\n",
    "covarfile = ('/Users/KimiZ/GRBs2/analysis/LAT/%s/PYXSPEC/'\n",
    "             '%s/%s/xspec_fitresults_%s_%s_%s_.fit'%(burst, detDir, model, model, \n",
    "                                                     version, det))\n",
    "# *~*~*~ Covaraince Matrix\n",
    "f1 = pyfits.open(covarfile)\n",
    "COVARMAT = np.asarray(f1[2].data['COVARMAT'][0])\n",
    "nPars = int(np.sqrt(len(COVARMAT)))\n",
    "COVARMAT = COVARMAT.reshape((nPars, nPars))\n",
    "#COVARMAT = np.asmatrix(COVARMAT)\n",
    "f1.close()\n",
    "del f1\n",
    "\n",
    "# *~*~*~ parameters dict -- object_pairs_hook=OrderedDict keeps it in order. \n",
    "parameters = json.load(open(paramfile, 'r'), \n",
    "                       object_pairs_hook=OrderedDict)[0] \n",
    "# Keep only the first value, which is param value\n",
    "for key in parameters.keys():\n",
    "    parameters[key] = parameters[key][0]\n",
    "\n",
    "# *~*~*~ Calculate Uncertainty\n",
    "unc = Calc_Uncertainty(model=model, \n",
    "                       parameters=parameters, \n",
    "                       emin=10., \n",
    "                       emax=10000., \n",
    "                       redshift=z, \n",
    "                       duration=dur,\n",
    "                       covarmat=COVARMAT, \n",
    "                       energetic=energetic)\n",
    "print(unc)\n",
    "\n",
    "\n",
    "# *~*~*~ Calculate Uncertainty\n",
    "unc = Calc_Uncertainty(model=model, \n",
    "                       parameters=parameters, \n",
    "                       emin=10., \n",
    "                       emax=10000., \n",
    "                       redshift=z, \n",
    "                       duration=dur,\n",
    "                       covarmat=COVARMAT, \n",
    "                       energetic='fluence')\n",
    "print(unc)\n",
    "\n",
    "# *~*~*~ Calculate Uncertainty\n",
    "unc = Calc_Uncertainty(model=model, \n",
    "                       parameters=parameters, \n",
    "                       emin=10., \n",
    "                       emax=10000., \n",
    "                       redshift=z, \n",
    "                       duration=dur,\n",
    "                       covarmat=COVARMAT, \n",
    "                       energetic='eiso')\n",
    "print(unc)"
   ]
  },
  {
   "cell_type": "markdown",
   "metadata": {},
   "source": [
    "### Using the Flux Specific Function:"
   ]
  },
  {
   "cell_type": "code",
   "execution_count": 3,
   "metadata": {
    "collapsed": false
   },
   "outputs": [
    {
     "name": "stdout",
     "output_type": "stream",
     "text": [
      "2.78623310577e-08\n"
     ]
    }
   ],
   "source": [
    "unc = Calc_Flux_Uncertainty(model=model, \n",
    "                       parameters=parameters, \n",
    "                       emin=10., \n",
    "                       emax=10000., \n",
    "                       redshift=z, \n",
    "                       duration=dur,\n",
    "                       covarmat=COVARMAT)\n",
    "print(unc)"
   ]
  },
  {
   "cell_type": "markdown",
   "metadata": {},
   "source": [
    "### Using the Fluence Specific Function:"
   ]
  },
  {
   "cell_type": "code",
   "execution_count": 4,
   "metadata": {
    "collapsed": false
   },
   "outputs": [
    {
     "name": "stdout",
     "output_type": "stream",
     "text": [
      "4.60781658567e-06\n"
     ]
    }
   ],
   "source": [
    "unc = Calc_Fluence_Uncertainty(model=model, \n",
    "                       parameters=parameters, \n",
    "                       emin=10., \n",
    "                       emax=10000., \n",
    "                       redshift=z, \n",
    "                       duration=dur,\n",
    "                       covarmat=COVARMAT)\n",
    "print(unc)"
   ]
  },
  {
   "cell_type": "markdown",
   "metadata": {},
   "source": [
    "### Using the Eiso Specific Function:"
   ]
  },
  {
   "cell_type": "code",
   "execution_count": 5,
   "metadata": {
    "collapsed": false
   },
   "outputs": [
    {
     "name": "stdout",
     "output_type": "stream",
     "text": [
      "2.9982030925e+52\n"
     ]
    }
   ],
   "source": [
    "unc = Calc_Eiso_Uncertainty(model=model, \n",
    "                       parameters=parameters, \n",
    "                       emin=10., \n",
    "                       emax=10000., \n",
    "                       redshift=z, \n",
    "                       duration=dur,\n",
    "                       covarmat=COVARMAT)\n",
    "print(unc)"
   ]
  },
  {
   "cell_type": "markdown",
   "metadata": {},
   "source": [
    "## Every model fit result for a single GRB."
   ]
  },
  {
   "cell_type": "code",
   "execution_count": 6,
   "metadata": {
    "collapsed": true
   },
   "outputs": [],
   "source": [
    "models = '''cutoffpl\n",
    "cutoffpl+bbody\n",
    "cutoffpl+bbody+lpow\n",
    "cutoffpl+lpow\n",
    "grbm\n",
    "grbm+bbody\n",
    "grbm+bbody+lpow\n",
    "grbm+lpow\n",
    "sbpl\n",
    "sbpl+bbody\n",
    "sbpl+bbody+lpow\n",
    "sbpl+lpow'''\n",
    "\n",
    "models = models.split('\\n')"
   ]
  },
  {
   "cell_type": "code",
   "execution_count": 7,
   "metadata": {
    "collapsed": true
   },
   "outputs": [],
   "source": [
    "burst = 'bn100728095'  # just for a reminder\n",
    "\n",
    "det = 'L'\n",
    "version = '-01-'\n",
    "dur = 165.378\n",
    "z = 1.567\n",
    "energetic = 'flux'"
   ]
  },
  {
   "cell_type": "code",
   "execution_count": 8,
   "metadata": {
    "collapsed": false
   },
   "outputs": [
    {
     "name": "stdout",
     "output_type": "stream",
     "text": [
      "cutoffpl\n",
      "1.32093907272e-08\n",
      "1.32093907272e-08\n",
      "1.32093907272e-08\n",
      "\n",
      "cutoffpl+bbody\n",
      "2.43832406702e-08\n",
      "2.43832406702e-08\n",
      "2.43832406702e-08\n",
      "\n",
      "cutoffpl+bbody+lpow\n",
      "2.43815558334e-08\n",
      "2.43815558334e-08\n",
      "2.43815558334e-08\n",
      "\n",
      "cutoffpl+lpow\n",
      "1.32079983975e-08\n",
      "1.32079983975e-08\n",
      "1.32079983975e-08\n",
      "\n",
      "grbm\n",
      "2.78623310575e-08\n",
      "2.78623310575e-08\n",
      "2.78623310577e-08\n",
      "\n",
      "grbm+bbody\n",
      "4.34433985589e-08\n",
      "4.34433985589e-08\n",
      "4.34433985744e-08\n",
      "\n",
      "grbm+bbody+lpow\n",
      "4.03312493129e-08\n",
      "4.03312493129e-08\n",
      "4.03312493103e-08\n",
      "\n",
      "grbm+lpow\n",
      "3.52274580545e-08\n",
      "3.52274580545e-08\n",
      "3.52274581254e-08\n",
      "\n",
      "sbpl\n",
      "2.40782499681e-08\n",
      "2.40782499681e-08\n",
      "2.40782499681e-08\n",
      "\n",
      "sbpl+bbody\n",
      "3.77873192884e-08\n",
      "3.77873192884e-08\n",
      "3.77873192884e-08\n",
      "\n",
      "sbpl+bbody+lpow\n",
      "4.1339318717e-08\n",
      "4.1339318717e-08\n",
      "4.1339318717e-08\n",
      "\n",
      "sbpl+lpow\n",
      "2.60522932102e-08\n",
      "2.60522932102e-08\n",
      "2.60522932102e-08\n",
      "\n"
     ]
    }
   ],
   "source": [
    "for model in models:\n",
    "    print(model)\n",
    "    \n",
    "    # *~*~*~ Find appropriate files.\n",
    "    detDir = ('GBMwLAT' if 'L' in det else 'GBM')\n",
    "    paramfile = ('/Users/KimiZ/GRBs2/analysis/LAT/%s/PYXSPEC/'\n",
    "                 '%s/%s/xspec_fitresults_%s_%s_%s_.json'%(burst, detDir, model, model, \n",
    "                                                          version, det))\n",
    "    fluxfile = ('/Users/KimiZ/GRBs2/analysis/LAT/%s/PYXSPEC/'\n",
    "                '%s/%s/%s_%s_%s_bestfit_Flux_PYXSPECFIT.json'%(burst, detDir, model, model,\n",
    "                                                               version, det))\n",
    "    covarfile = ('/Users/KimiZ/GRBs2/analysis/LAT/%s/PYXSPEC/'\n",
    "                 '%s/%s/xspec_fitresults_%s_%s_%s_.fit'%(burst, detDir, model, model, \n",
    "                                                         version, det))\n",
    "\n",
    "    if model == 'grbm+bbody':\n",
    "        # -01- versions have too low of kT. Math domain error. \n",
    "        paramfile = paramfile.replace('-01-','-02-')\n",
    "        fluxfile = fluxfile.replace('-01-','-02-')\n",
    "        covarfile = covarfile.replace('-01-','-02-')\n",
    "    \n",
    "    # *~*~*~ Covaraince Matrix\n",
    "    f1 = pyfits.open(covarfile)\n",
    "    COVARMAT = np.asarray(f1[2].data['COVARMAT'][0])\n",
    "    nPars = int(np.sqrt(len(COVARMAT)))\n",
    "    COVARMAT = COVARMAT.reshape((nPars, nPars))\n",
    "    #COVARMAT = np.asmatrix(COVARMAT)\n",
    "    f1.close()\n",
    "    del f1\n",
    "    \n",
    "    # *~*~*~ parameters dict -- object_pairs_hook=OrderedDict keeps it in order. \n",
    "    parameters = json.load(open(paramfile, 'r'), \n",
    "                           object_pairs_hook=OrderedDict)[0] \n",
    "    # Keep only the first value, which is param value\n",
    "    for key in parameters.keys():\n",
    "        parameters[key] = parameters[key][0]\n",
    "    \n",
    "    \n",
    "    # *~*~*~ fluxes, fluence, eiso from file. Compare this calc agains old. \n",
    "    #  WARNING: eisos won't match files since we updated cosmology since then. \n",
    "    energetics = json.load(open(fluxfile, 'r'), \n",
    "                           object_pairs_hook=OrderedDict)\n",
    "    if energetic == 'flux':\n",
    "        eng = energetics['Energy_Flux_K']\n",
    "    elif energetic == 'fluence':\n",
    "        eng = energetics['Fluence']\n",
    "    elif energetic == 'eiso':\n",
    "        eng = energetics['Eiso']\n",
    "    print(eng[0]-eng[1])  # old unc\n",
    "    print(eng[2]-eng[0])  # old unc\n",
    "    \n",
    "    # *~*~*~ Calculate Uncertainty\n",
    "    unc = Calc_Uncertainty(model=model, \n",
    "                           parameters=parameters, \n",
    "                           emin=10., \n",
    "                           emax=10000., \n",
    "                           redshift=z, \n",
    "                           duration=dur,\n",
    "                           covarmat=COVARMAT, \n",
    "                           energetic=energetic)\n",
    "    print(unc)  # print new unc\n",
    "    print('')"
   ]
  },
  {
   "cell_type": "markdown",
   "metadata": {},
   "source": [
    "# Same model, different GRBs"
   ]
  },
  {
   "cell_type": "code",
   "execution_count": 9,
   "metadata": {
    "collapsed": true
   },
   "outputs": [],
   "source": [
    "bursts = '''bn080916009\n",
    "bn090323002\n",
    "bn090328401\n",
    "bn090510016\n",
    "bn090902462\n",
    "bn090926181\n",
    "bn091003191\n",
    "bn091208410\n",
    "bn100728095\n",
    "bn110731465\n",
    "bn130518580\n",
    "bn131108862\n",
    "bn131231198'''\n",
    "bursts = bursts.split('\\n')"
   ]
  },
  {
   "cell_type": "markdown",
   "metadata": {},
   "source": [
    "#### Load burst data so that you have respective redshifts and durations. "
   ]
  },
  {
   "cell_type": "code",
   "execution_count": 10,
   "metadata": {
    "collapsed": false
   },
   "outputs": [
    {
     "data": {
      "text/html": [
       "<div>\n",
       "<table border=\"1\" class=\"dataframe\">\n",
       "  <thead>\n",
       "    <tr style=\"text-align: right;\">\n",
       "      <th></th>\n",
       "      <th>number</th>\n",
       "      <th>name</th>\n",
       "      <th>trigger</th>\n",
       "      <th>z</th>\n",
       "      <th>t90_start</th>\n",
       "      <th>t90_stop</th>\n",
       "      <th>duration</th>\n",
       "    </tr>\n",
       "  </thead>\n",
       "  <tbody>\n",
       "    <tr>\n",
       "      <th>0</th>\n",
       "      <td>1</td>\n",
       "      <td>GRB080804</td>\n",
       "      <td>bn080804972</td>\n",
       "      <td>2.2045</td>\n",
       "      <td>0.256</td>\n",
       "      <td>24.960</td>\n",
       "      <td>24.704</td>\n",
       "    </tr>\n",
       "    <tr>\n",
       "      <th>1</th>\n",
       "      <td>2</td>\n",
       "      <td>GRB080810</td>\n",
       "      <td>bn080810549</td>\n",
       "      <td>3.3604</td>\n",
       "      <td>-20.096</td>\n",
       "      <td>87.361</td>\n",
       "      <td>107.457</td>\n",
       "    </tr>\n",
       "    <tr>\n",
       "      <th>2</th>\n",
       "      <td>3</td>\n",
       "      <td>GRB080905A</td>\n",
       "      <td>bn080905499</td>\n",
       "      <td>0.1218</td>\n",
       "      <td>-0.064</td>\n",
       "      <td>0.896</td>\n",
       "      <td>0.960</td>\n",
       "    </tr>\n",
       "    <tr>\n",
       "      <th>3</th>\n",
       "      <td>4</td>\n",
       "      <td>GRB080905B</td>\n",
       "      <td>bn080905705</td>\n",
       "      <td>2.3739</td>\n",
       "      <td>-5.120</td>\n",
       "      <td>100.864</td>\n",
       "      <td>105.984</td>\n",
       "    </tr>\n",
       "    <tr>\n",
       "      <th>4</th>\n",
       "      <td>5</td>\n",
       "      <td>GRB080916A</td>\n",
       "      <td>bn080916406</td>\n",
       "      <td>0.6887</td>\n",
       "      <td>0.512</td>\n",
       "      <td>46.849</td>\n",
       "      <td>46.337</td>\n",
       "    </tr>\n",
       "  </tbody>\n",
       "</table>\n",
       "</div>"
      ],
      "text/plain": [
       "   number        name      trigger       z  t90_start  t90_stop  duration\n",
       "0       1   GRB080804  bn080804972  2.2045      0.256    24.960    24.704\n",
       "1       2   GRB080810  bn080810549  3.3604    -20.096    87.361   107.457\n",
       "2       3  GRB080905A  bn080905499  0.1218     -0.064     0.896     0.960\n",
       "3       4  GRB080905B  bn080905705  2.3739     -5.120   100.864   105.984\n",
       "4       5  GRB080916A  bn080916406  0.6887      0.512    46.849    46.337"
      ]
     },
     "execution_count": 10,
     "metadata": {},
     "output_type": "execute_result"
    }
   ],
   "source": [
    "import pandas as pd\n",
    "\n",
    "burst_data = pd.read_csv('/Users/KimiZ/GRBs2/Sample/bursts.txt', sep=' ', header=0)\n",
    "burst_data['duration'] = burst_data.t90_stop-burst_data.t90_start\n",
    "burst_data.head()"
   ]
  },
  {
   "cell_type": "code",
   "execution_count": 11,
   "metadata": {
    "collapsed": true
   },
   "outputs": [],
   "source": [
    "model = 'grbm'\n",
    "det = 'L'\n",
    "version = '-01-'\n",
    "energetic = 'flux'"
   ]
  },
  {
   "cell_type": "code",
   "execution_count": 12,
   "metadata": {
    "collapsed": false
   },
   "outputs": [
    {
     "name": "stdout",
     "output_type": "stream",
     "text": [
      "('bn080916009', 4.35, 62.977000000000004)\n",
      "3.04822964062e-08\n",
      "3.04822964062e-08\n",
      "3.04822964021e-08\n",
      "\n",
      "('bn090323002', 3.57, 135.17)\n",
      "2.49101855689e-08\n",
      "2.49101855689e-08\n",
      "2.49101855521e-08\n",
      "\n",
      "('bn090328401', 0.736, 61.69699999999999)\n",
      "3.68103966995e-08\n",
      "3.68103966995e-08\n",
      "3.68103966744e-08\n",
      "\n",
      "('bn090510016', 0.903, 0.9600000000000001)\n",
      "8.96090865252e-07\n",
      "8.96090865252e-07\n",
      "8.96090863562e-07\n",
      "\n",
      "('bn090902462', 1.8219999999999998, 19.328000000000003)\n",
      "1.58433915217e-07\n",
      "1.58433915217e-07\n",
      "1.58433915122e-07\n",
      "\n",
      "('bn090926181', 2.1062, 13.76)\n",
      "6.94019924592e-08\n",
      "6.94019924592e-08\n",
      "6.94019924502e-08\n",
      "\n",
      "('bn091003191', 0.8969, 20.223999999999997)\n",
      "5.748218709e-08\n",
      "5.748218709e-08\n",
      "5.74821871007e-08\n",
      "\n",
      "('bn091208410', 1.0633, 12.48)\n",
      "6.45414356206e-08\n",
      "6.45414356206e-08\n",
      "6.45414356222e-08\n",
      "\n",
      "('bn100728095', 1.567, 165.378)\n",
      "2.78623310575e-08\n",
      "2.78623310575e-08\n",
      "2.78623310577e-08\n",
      "\n",
      "('bn110731465', 2.83, 7.484999999999999)\n",
      "7.29703111307e-08\n",
      "7.29703111307e-08\n",
      "7.29703111492e-08\n",
      "\n",
      "('bn130518580', 2.49, 48.577)\n",
      "3.74941673071e-08\n",
      "3.74941673071e-08\n",
      "3.74941673099e-08\n",
      "\n",
      "('bn131108862', 2.4, 18.496000000000002)\n",
      "3.8066752797e-08\n",
      "3.8066752797e-08\n",
      "3.80667526538e-08\n",
      "\n",
      "('bn131231198', 0.642, 31.231999999999996)\n",
      "4.73931501564e-08\n",
      "4.73931501564e-08\n",
      "4.73931501562e-08\n",
      "\n"
     ]
    }
   ],
   "source": [
    "for burst in bursts:\n",
    "    z = float(burst_data.loc[burst_data['trigger'] == burst].z)\n",
    "    dur = float(burst_data.loc[burst_data['trigger'] == burst].duration)\n",
    "    print(burst, z, dur)\n",
    "    \n",
    "    \n",
    "    # *~*~*~ Find appropriate files.\n",
    "    detDir = ('GBMwLAT' if 'L' in det else 'GBM')\n",
    "    paramfile = ('/Users/KimiZ/GRBs2/analysis/LAT/%s/PYXSPEC/'\n",
    "                 '%s/%s/xspec_fitresults_%s_%s_%s_.json'%(burst, detDir, model, model, \n",
    "                                                          version, det))\n",
    "    fluxfile = ('/Users/KimiZ/GRBs2/analysis/LAT/%s/PYXSPEC/'\n",
    "                '%s/%s/%s_%s_%s_bestfit_Flux_PYXSPECFIT.json'%(burst, detDir, model, model,\n",
    "                                                               version, det))\n",
    "    covarfile = ('/Users/KimiZ/GRBs2/analysis/LAT/%s/PYXSPEC/'\n",
    "                 '%s/%s/xspec_fitresults_%s_%s_%s_.fit'%(burst, detDir, model, model, \n",
    "                                                         version, det))\n",
    "    \n",
    "    \n",
    "    # *~*~*~ Covaraince Matrix\n",
    "    f1 = pyfits.open(covarfile)\n",
    "    COVARMAT = np.asarray(f1[2].data['COVARMAT'][0])\n",
    "    nPars = int(np.sqrt(len(COVARMAT)))\n",
    "    COVARMAT = COVARMAT.reshape((nPars, nPars))\n",
    "    #COVARMAT = np.asmatrix(COVARMAT)\n",
    "    f1.close()\n",
    "    del f1\n",
    "    \n",
    "    # *~*~*~ parameters dict -- object_pairs_hook=OrderedDict keeps it in order. \n",
    "    parameters = json.load(open(paramfile, 'r'), \n",
    "                           object_pairs_hook=OrderedDict)[0] \n",
    "    # Keep only the first value, which is param value\n",
    "    for key in parameters.keys():\n",
    "        parameters[key] = parameters[key][0]\n",
    "    \n",
    "    \n",
    "    # *~*~*~ fluxes, fluence, eiso from file. Compare this calc agains old. \n",
    "    #  WARNING: eisos won't match files since we updated cosmology since then. \n",
    "    energetics = json.load(open(fluxfile, 'r'), \n",
    "                           object_pairs_hook=OrderedDict)\n",
    "    if energetic == 'flux':\n",
    "        eng = energetics['Energy_Flux_K']\n",
    "    elif energetic == 'fluence':\n",
    "        eng = energetics['Fluence']\n",
    "    elif energetic == 'eiso':\n",
    "        eng = energetics['Eiso']\n",
    "    print(eng[0]-eng[1])  # old unc\n",
    "    print(eng[2]-eng[0])  # old unc\n",
    "    \n",
    "    # *~*~*~ Calculate Uncertainty\n",
    "    unc = Calc_Uncertainty(model=model, \n",
    "                           parameters=parameters, \n",
    "                           emin=10., \n",
    "                           emax=10000., \n",
    "                           redshift=z, \n",
    "                           duration=dur,\n",
    "                           covarmat=COVARMAT, \n",
    "                           energetic=energetic)\n",
    "    print(unc)  # print new unc\n",
    "    print('')"
   ]
  },
  {
   "cell_type": "markdown",
   "metadata": {},
   "source": [
    "# Epeak Uncertainty"
   ]
  },
  {
   "cell_type": "code",
   "execution_count": 13,
   "metadata": {
    "collapsed": true
   },
   "outputs": [],
   "source": [
    "from grbTools.XSPEC.uncertainty import Calc_Epeak_Uncertainty"
   ]
  },
  {
   "cell_type": "code",
   "execution_count": 14,
   "metadata": {
    "collapsed": false
   },
   "outputs": [
    {
     "name": "stdout",
     "output_type": "stream",
     "text": [
      "bn080916009:   510.6 +-   34.3\n",
      "bn090323002:   702.3 +-   53.2\n",
      "bn090328401:   635.2 +-   51.8\n",
      "bn090510016:  2052.3 +-  331.1\n",
      "bn090902462:  1020.8 +-   18.4\n",
      "bn090926181:   302.7 +-    4.0\n",
      "bn091003191:   387.7 +-   23.4\n",
      "bn091208410:   104.3 +-   17.7\n",
      "bn100728095:   298.1 +-    9.8\n",
      "bn110731465:   256.5 +-   14.1\n",
      "bn130518580:   422.1 +-   14.7\n",
      "bn131108862:   330.4 +-   17.0\n",
      "bn131231198:   220.4 +-    3.4\n"
     ]
    }
   ],
   "source": [
    "model = 'grbm'\n",
    "\n",
    "\n",
    "\n",
    "\n",
    "for burst in bursts:\n",
    "    z = float(burst_data.loc[burst_data['trigger'] == burst].z)\n",
    "    dur = float(burst_data.loc[burst_data['trigger'] == burst].duration)\n",
    "    \n",
    "    # *~*~*~ Find appropriate files.\n",
    "    detDir = ('GBMwLAT' if 'L' in det else 'GBM')\n",
    "    paramfile = ('/Users/KimiZ/GRBs2/analysis/LAT/%s/PYXSPEC/'\n",
    "                 '%s/%s/xspec_fitresults_%s_%s_%s_.json'%(burst, detDir, model, model, \n",
    "                                                          version, det))\n",
    "    covarfile = ('/Users/KimiZ/GRBs2/analysis/LAT/%s/PYXSPEC/'\n",
    "                 '%s/%s/xspec_fitresults_%s_%s_%s_.fit'%(burst, detDir, model, model, \n",
    "                                                         version, det))\n",
    "    \n",
    "    \n",
    "    # *~*~*~ Covaraince Matrix\n",
    "    f1 = pyfits.open(covarfile)\n",
    "    COVARMAT = np.asarray(f1[2].data['COVARMAT'][0])\n",
    "    nPars = int(np.sqrt(len(COVARMAT)))\n",
    "    COVARMAT = COVARMAT.reshape((nPars, nPars))\n",
    "    #COVARMAT = np.asmatrix(COVARMAT)\n",
    "    f1.close()\n",
    "    del f1\n",
    "    \n",
    "    # *~*~*~ parameters dict -- object_pairs_hook=OrderedDict keeps it in order. \n",
    "    parameters = json.load(open(paramfile, 'r'), \n",
    "                           object_pairs_hook=OrderedDict)[0] \n",
    "    # Keep only the first value, which is param value\n",
    "    for key in parameters.keys():\n",
    "        parameters[key] = parameters[key][0]\n",
    "        \n",
    "    epeak, epeakUnc = Calc_Epeak_Uncertainty(model=model, \n",
    "                                             parameters=parameters, \n",
    "                                             covarmat=COVARMAT)\n",
    "    print('%s:  %6.1f +- %6.1f'%(burst, epeak, epeakUnc))\n",
    "    \n",
    "    \n",
    "    \n"
   ]
  },
  {
   "cell_type": "code",
   "execution_count": 15,
   "metadata": {
    "collapsed": false
   },
   "outputs": [
    {
     "name": "stdout",
     "output_type": "stream",
     "text": [
      "bn080916009:   456.2 +-   19.8\n",
      "bn090323002:   505.0 +-   27.6\n",
      "bn090328401:   536.8 +-   31.1\n",
      "bn090510016:  1866.2 +-  228.7\n",
      "bn090902462:   780.8 +-   11.0\n",
      "bn090926181:   288.7 +-    3.0\n",
      "bn091003191:   324.3 +-   15.6\n",
      "bn091208410:    85.8 +-   12.2\n",
      "bn100728095:   257.1 +-    6.2\n",
      "bn110731465:   248.3 +-   11.5\n",
      "bn130518580:   337.3 +-    8.9\n",
      "bn131108862:   335.0 +-   12.5\n",
      "bn131231198:   188.7 +-    2.5\n"
     ]
    }
   ],
   "source": [
    "model = 'sbpl'\n",
    "\n",
    "\n",
    "\n",
    "for burst in bursts:\n",
    "    z = float(burst_data.loc[burst_data['trigger'] == burst].z)\n",
    "    dur = float(burst_data.loc[burst_data['trigger'] == burst].duration)\n",
    "    \n",
    "    # *~*~*~ Find appropriate files.\n",
    "    detDir = ('GBMwLAT' if 'L' in det else 'GBM')\n",
    "    paramfile = ('/Users/KimiZ/GRBs2/analysis/LAT/%s/PYXSPEC/'\n",
    "                 '%s/%s/xspec_fitresults_%s_%s_%s_.json'%(burst, detDir, model, model, \n",
    "                                                          version, det))\n",
    "    covarfile = ('/Users/KimiZ/GRBs2/analysis/LAT/%s/PYXSPEC/'\n",
    "                 '%s/%s/xspec_fitresults_%s_%s_%s_.fit'%(burst, detDir, model, model, \n",
    "                                                         version, det))\n",
    "    \n",
    "    \n",
    "    # *~*~*~ Covaraince Matrix\n",
    "    f1 = pyfits.open(covarfile)\n",
    "    COVARMAT = np.asarray(f1[2].data['COVARMAT'][0])\n",
    "    nPars = int(np.sqrt(len(COVARMAT)))\n",
    "    COVARMAT = COVARMAT.reshape((nPars, nPars))\n",
    "    #COVARMAT = np.asmatrix(COVARMAT)\n",
    "    f1.close()\n",
    "    del f1\n",
    "    \n",
    "    # *~*~*~ parameters dict -- object_pairs_hook=OrderedDict keeps it in order. \n",
    "    parameters = json.load(open(paramfile, 'r'), \n",
    "                           object_pairs_hook=OrderedDict)[0] \n",
    "    # Keep only the first value, which is param value\n",
    "    for key in parameters.keys():\n",
    "        parameters[key] = parameters[key][0]\n",
    "        \n",
    "    epeak, epeakUnc = Calc_Epeak_Uncertainty(model=model, \n",
    "                                             parameters=parameters, \n",
    "                                             covarmat=COVARMAT)\n",
    "    print('%s:  %6.1f +- %6.1f'%(burst, epeak, epeakUnc))\n",
    "    \n"
   ]
  },
  {
   "cell_type": "markdown",
   "metadata": {},
   "source": [
    "# ASYMMETRIC ERRORS"
   ]
  },
  {
   "cell_type": "code",
   "execution_count": 16,
   "metadata": {
    "collapsed": false
   },
   "outputs": [],
   "source": [
    "from grbTools.XSPEC.uncertainty import Calc_Epeak_Uncertainty_Assym"
   ]
  },
  {
   "cell_type": "code",
   "execution_count": 17,
   "metadata": {
    "collapsed": false
   },
   "outputs": [
    {
     "name": "stdout",
     "output_type": "stream",
     "text": [
      "bn080916009:   510.6   -   31.9 +   38.0\n",
      "bn090323002:   702.3   -   46.5 +   54.4\n",
      "bn090328401:   635.2   -   47.2 +   58.7\n",
      "bn090510016:  2052.3   -  251.9 +  334.6\n",
      "bn090902462:  1020.8   -   14.9 +   14.5\n",
      "bn090926181:   302.7   -    3.6 +    4.0\n",
      "bn091003191:   387.7   -   20.7 +   25.3\n",
      "bn091208410:   104.3   -   17.1 +   33.0\n",
      "bn100728095:   298.1   -    9.5 +   11.1\n",
      "bn110731465:   256.5   -    8.8 +   11.8\n",
      "bn130518580:   422.1   -   15.0 +   17.0\n",
      "bn131108862:   330.4   -   13.8 +   17.4\n",
      "bn131231198:   220.4   -    3.7 +    3.9\n"
     ]
    }
   ],
   "source": [
    "model = 'grbm'\n",
    "\n",
    "\n",
    "\n",
    "for burst in bursts:\n",
    "    z = float(burst_data.loc[burst_data['trigger'] == burst].z)\n",
    "    dur = float(burst_data.loc[burst_data['trigger'] == burst].duration)\n",
    "    \n",
    "    # *~*~*~ Find appropriate files.\n",
    "    detDir = ('GBMwLAT' if 'L' in det else 'GBM')\n",
    "    paramfile = ('/Users/KimiZ/GRBs2/analysis/LAT/%s/PYXSPEC/'\n",
    "                 '%s/%s/xspec_fitresults_%s_%s_%s_.json'%(burst, detDir, model, model, \n",
    "                                                          version, det))\n",
    "    covarfile = ('/Users/KimiZ/GRBs2/analysis/LAT/%s/PYXSPEC/'\n",
    "                 '%s/%s/xspec_fitresults_%s_%s_%s_.fit'%(burst, detDir, model, model, \n",
    "                                                         version, det))\n",
    "    \n",
    "    \n",
    "    # *~*~*~ Covaraince Matrix\n",
    "    f1 = pyfits.open(covarfile)\n",
    "    COVARMAT = np.asarray(f1[2].data['COVARMAT'][0])\n",
    "    nPars = int(np.sqrt(len(COVARMAT)))\n",
    "    COVARMAT = COVARMAT.reshape((nPars, nPars))\n",
    "    f1.close()\n",
    "    #del f1\n",
    "    \n",
    "    # *~*~*~ parameters dict -- object_pairs_hook=OrderedDict keeps it in order. \n",
    "    parameters = json.load(open(paramfile, 'r'), \n",
    "                           object_pairs_hook=OrderedDict)[0] \n",
    "    values=[]\n",
    "    for col in f1[2].columns.names:\n",
    "        if 'PARAM' in col:\n",
    "            val,lo,up = f1[2].data[col][0][0:3]\n",
    "            values.append([val, val-lo, up-val])\n",
    "    for i,key in enumerate(parameters.keys()):\n",
    "        parameters[key] = values[i]\n",
    "    COVARMAT_LO = COVARMAT.copy()\n",
    "    COVARMAT_UP = COVARMAT.copy()\n",
    "\n",
    "    for i,key in enumerate(parameters.keys()):\n",
    "        COVARMAT_LO[i][i] = parameters[key][1]**2\n",
    "        COVARMAT_UP[i][i] = parameters[key][2]**2\n",
    "\n",
    "    epeak, epeakUnc_LO, epeakUnc_UP = Calc_Epeak_Uncertainty_Assym(model=model, \n",
    "                                             parameters=parameters, \n",
    "                                             covarmat_lo=COVARMAT_LO,\n",
    "                                             covarmat_up=COVARMAT_UP)\n",
    "    print('%s:  %6.1f   - %6.1f + %6.1f'%(burst, epeak, epeakUnc_LO, epeakUnc_UP))\n",
    "  "
   ]
  },
  {
   "cell_type": "code",
   "execution_count": 18,
   "metadata": {
    "collapsed": false
   },
   "outputs": [
    {
     "name": "stdout",
     "output_type": "stream",
     "text": [
      "bn080916009:   456.2   -   18.5 +   22.0\n",
      "bn090323002:   505.0   -   23.2 +   27.4\n",
      "bn090328401:   536.8   -   30.1 +   36.2\n",
      "bn090510016:  1866.2   -  218.5 +  278.3\n",
      "bn090902462:   780.8   -    9.9 +   10.7\n",
      "bn090926181:   288.7   -    3.1 +    3.1\n",
      "bn091003191:   324.3   -   17.9 +   19.5\n",
      "bn091208410:    85.8   -   40.4 +   55.4\n",
      "bn100728095:   257.1   -    1.5 +    nan\n",
      "bn110731465:   248.3   -    7.2 +    8.8\n",
      "bn130518580:   337.3   -   10.2 +   10.9\n",
      "bn131108862:   335.0   -   11.0 +   12.6\n",
      "bn131231198:   188.7   -    2.0 +    2.1\n"
     ]
    },
    {
     "name": "stderr",
     "output_type": "stream",
     "text": [
      "/Users/KimiZ/Python/My_Modules/grbTools/XSPEC/uncertainty.py:442: RuntimeWarning: invalid value encountered in sqrt\n",
      "  uncertainty_up = float(np.sqrt(variance_up))\n"
     ]
    }
   ],
   "source": [
    "model = 'sbpl'\n",
    "\n",
    "\n",
    "\n",
    "for burst in bursts:\n",
    "    z = float(burst_data.loc[burst_data['trigger'] == burst].z)\n",
    "    dur = float(burst_data.loc[burst_data['trigger'] == burst].duration)\n",
    "    \n",
    "    # *~*~*~ Find appropriate files.\n",
    "    detDir = ('GBMwLAT' if 'L' in det else 'GBM')\n",
    "    paramfile = ('/Users/KimiZ/GRBs2/analysis/LAT/%s/PYXSPEC/'\n",
    "                 '%s/%s/xspec_fitresults_%s_%s_%s_.json'%(burst, detDir, model, model, \n",
    "                                                          version, det))\n",
    "    covarfile = ('/Users/KimiZ/GRBs2/analysis/LAT/%s/PYXSPEC/'\n",
    "                 '%s/%s/xspec_fitresults_%s_%s_%s_.fit'%(burst, detDir, model, model, \n",
    "                                                         version, det))\n",
    "    \n",
    "    \n",
    "    # *~*~*~ Covaraince Matrix\n",
    "    f1 = pyfits.open(covarfile)\n",
    "    COVARMAT = np.asarray(f1[2].data['COVARMAT'][0])\n",
    "    nPars = int(np.sqrt(len(COVARMAT)))\n",
    "    COVARMAT = COVARMAT.reshape((nPars, nPars))\n",
    "    f1.close()\n",
    "    #del f1\n",
    "    \n",
    "    # *~*~*~ parameters dict -- object_pairs_hook=OrderedDict keeps it in order. \n",
    "    parameters = json.load(open(paramfile, 'r'), \n",
    "                           object_pairs_hook=OrderedDict)[0] \n",
    "    values=[]\n",
    "    for col in f1[2].columns.names:\n",
    "        if 'PARAM' in col:\n",
    "            val,lo,up = f1[2].data[col][0][0:3]\n",
    "            values.append([val, val-lo, up-val])\n",
    "    for i,key in enumerate(parameters.keys()):\n",
    "        parameters[key] = values[i]\n",
    "    COVARMAT_LO = COVARMAT.copy()\n",
    "    COVARMAT_UP = COVARMAT.copy()\n",
    "\n",
    "    for i,key in enumerate(parameters.keys()):\n",
    "        COVARMAT_LO[i][i] = parameters[key][1]**2\n",
    "        COVARMAT_UP[i][i] = parameters[key][2]**2\n",
    "\n",
    "    epeak, epeakUnc_LO, epeakUnc_UP = Calc_Epeak_Uncertainty_Assym(model=model, \n",
    "                                             parameters=parameters, \n",
    "                                             covarmat_lo=COVARMAT_LO,\n",
    "                                             covarmat_up=COVARMAT_UP)\n",
    "    print('%s:  %6.1f   - %6.1f + %6.1f'%(burst, epeak, epeakUnc_LO, epeakUnc_UP))\n",
    "  "
   ]
  },
  {
   "cell_type": "code",
   "execution_count": null,
   "metadata": {
    "collapsed": true
   },
   "outputs": [],
   "source": []
  }
 ],
 "metadata": {
  "kernelspec": {
   "display_name": "Python 2",
   "language": "python",
   "name": "python2"
  },
  "language_info": {
   "codemirror_mode": {
    "name": "ipython",
    "version": 2
   },
   "file_extension": ".py",
   "mimetype": "text/x-python",
   "name": "python",
   "nbconvert_exporter": "python",
   "pygments_lexer": "ipython2",
   "version": "2.7.11"
  }
 },
 "nbformat": 4,
 "nbformat_minor": 0
}
