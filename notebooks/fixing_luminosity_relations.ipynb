{
 "cells": [
  {
   "cell_type": "code",
   "execution_count": 1,
   "metadata": {},
   "outputs": [],
   "source": [
    "import numpy as np"
   ]
  },
  {
   "cell_type": "code",
   "execution_count": 2,
   "metadata": {},
   "outputs": [
    {
     "data": {
      "text/plain": [
       "8.511380382023759e+47"
      ]
     },
     "execution_count": 2,
     "metadata": {},
     "output_type": "execute_result"
    }
   ],
   "source": [
    "10**47.93"
   ]
  },
  {
   "cell_type": "code",
   "execution_count": 3,
   "metadata": {},
   "outputs": [
    {
     "data": {
      "text/plain": [
       "1.6806074289917878"
      ]
     },
     "execution_count": 3,
     "metadata": {},
     "output_type": "execute_result"
    }
   ],
   "source": [
    "np.log10(47.93)"
   ]
  },
  {
   "cell_type": "markdown",
   "metadata": {},
   "source": [
    "## There are several forms that each of the luminosity relations can be presented in, so we will show you how to convert between them in this notebook. We also wrote a function that does everything for you based on your input equation and two other function variables; it does the rearranging of the dependent and independent variables, correcting for shifted y-intercepts (or \"normalizations\" as I often call it), and switching between power and linearized form. \n",
    "\n",
    "## The examples in this notebook use the Amati relation, but this function can work for any of the luminosity relations because they all become linear relations on a log-log plot. Simply swap out variable names and values. \n",
    "\n",
    "\n",
    "```\n",
    "\n",
    "\n",
    "\n",
    "```"
   ]
  },
  {
   "cell_type": "markdown",
   "metadata": {},
   "source": [
    "## Shortcut to convert between power form and linearized form:\n",
    "\n",
    "$\\displaystyle{{ y = aX^c \\ \\ \\ \\leftrightarrow \\ \\ \\ \\log_{10}(y) = \\log_{10}(a) + c \\log_{10}(X) }}$\n",
    "\n",
    "https://mathbench.umd.edu/modules/misc_scaling/page11.htm\n",
    "\n",
    "```\n",
    "\n",
    "\n",
    "```\n",
    "#### Example:\n",
    "Start with:\n",
    "\n",
    "$\\displaystyle{{ \\log_{10}(E_{iso}) = 47.93 + 2.04 \\log_{10}(E_{pk}(1+z)) }}$\n",
    "```\n",
    "\n",
    "\n",
    "```\n",
    "\n",
    "$y = E_{iso}$\n",
    "\n",
    "$\\log_{10}(a) = 47.93, \\ \\ \\text{so} \\ \\ \\ a=10^{47.93} = 8.511\\times10^{47}$\n",
    "\n",
    "$c = 2.04$\n",
    "\n",
    "$X = E_{pk}(1+z)$\n",
    "\n",
    "```\n",
    "\n",
    "```\n",
    "Thus, \n",
    "\n",
    "$y = aX^c$\n",
    "\n",
    "is \n",
    "\n",
    "$E_{iso} = 8.511\\times10^{47} [E_{pk}(1+z)]^{2.04}$\n",
    "\n",
    "or \n",
    "\n",
    "$E_{iso} = A [E_{pk}(1+z)]^{2.04}$   where   $A=8.511\\times10^{47}$\n",
    "\n",
    "### *Important note*:  \n",
    "**the exponent of 2.04 is applied to both $E_{pk}$ and $(1+z)$ individually, so expanded out it becomes:  $E_{pk}^{2.04} (1+z)^{2.04}$ if you wanted to separate the observed $E_{pk}$ from its cosmological correction.**"
   ]
  },
  {
   "cell_type": "markdown",
   "metadata": {},
   "source": [
    "## Converting between shifted y-intercepts.\n",
    "\n",
    "Say you have:\n",
    "\n",
    "$\\displaystyle{{ \\log_{10}(E_{iso}) = 47.93 + 2.04 \\log_{10}(E_{pk}(1+z)) }}$ \n",
    "\n",
    "In this form the dependent variable is $\\log_{10}(E_{iso})$ (the y-axis variable), the independent variable is $\\log_{10}(E_{pk}(1+z))$ (the x-axis variable), the y-intercept is 47.93, and the slope is 2.04. "
   ]
  },
  {
   "cell_type": "markdown",
   "metadata": {},
   "source": [
    "#### What if we want to shift the y-intercept so that it reflects a new y-intercept value where $E_{pk}(1+z) = 300$ keV is at the origin.\n",
    "\n",
    "To do this we want to make sure $E_{pk}(1+z)$ is the dependent variable (on the right side as the x-axis variable, as it is) and then replace it with 300 keV and solve the equation.\n",
    "\n",
    "$47.93+2.04*\\log_{10}(300) = 52.98$\n",
    "\n",
    "The y-intercept will be $52.98$ when $E_{pk}(1+z) = 300$ keV, which is now at the origin. Slope remains unchanged. \n",
    "\n",
    "The new form of the equation should be written as:\n",
    "\n",
    "$\\displaystyle{{ \\log_{10}(E_{iso}) = 52.98 + 2.04 \\log_{10}\\left(\\frac{E_{pk}(1+z)}{300 \\ \\text{keV}}\\right) }}$ \n"
   ]
  },
  {
   "cell_type": "markdown",
   "metadata": {},
   "source": [
    "#### What if we want to shift the y-intercept so that it reflects a new y-intercept value where $E_{iso} = 10^{53}$ erg is at the origin.\n",
    "\n",
    "To do this we want to make sure $E_{iso}$ is the dependent variable (on the right side as the x-axis variable, which it is not currently) and then replace it with $10^{53}$ erg and solve the equation.\n",
    "\n",
    "*Rearrange the equation.*\n",
    "\n",
    "$\\displaystyle{{ \\log_{10}(E_{iso}) = 47.93 + 2.04 \\log_{10}(E_{pk}(1+z)) }}$ \n",
    "\n",
    "$\\displaystyle{{ \\log_{10}(E_{iso}) - 47.93 = 2.04 \\log_{10}(E_{pk}(1+z)) }}$ \n",
    "\n",
    "$\\displaystyle{{ \\frac{\\log_{10}(E_{iso}) - 47.93}{2.04} = \\frac{2.04 \\log_{10}(E_{pk}(1+z))}{2.04} }}$ \n",
    "\n",
    "$\\frac{-47.93}{2.04}=-23.50$\n",
    "\n",
    "$\\frac{1}{2.04}=0.49$"
   ]
  },
  {
   "cell_type": "markdown",
   "metadata": {},
   "source": [
    "Now the equation has the form of:\n",
    "\n",
    "$\\displaystyle{{ \\log_{10}(E_{pk}(1+z)) = -23.50 + 0.49\\log_{10}(E_{iso}) }}$ \n",
    "\n",
    "To shift the y-intercepts so that $E_{iso}=10^{52}$ erg at the origin, plug that in for $E_{iso}$ and solve:\n",
    "$\\displaystyle{{-23.50 + 0.49\\log_{10}(10^{52}) = 1.98 }}$\n",
    "\n",
    "\n",
    "$1.98$ is now the new  y-intercept when the $E_{iso}$ axis (currently the x-axis) is shifted so that $10^{52}$ erg is at the origin. Slope remains unchanged. \n",
    "\n",
    "The equation should be now be written as:\n",
    "\n",
    "$\\displaystyle{{ \\log_{10}(E_{pk}(1+z)) = 1.98 + 0.49\\log_{10}\\left(\\frac{E_{iso}}{10^{52} \\ \\text{erg}}\\right) }}$ \n",
    "\n",
    "This equation still has $E_{pk}(1+z)$ expressed as the dependent variable, unlike where we started. If we want $E_{iso}$ to be the dependent variable, simply rearrange the equation again. \n",
    "\n",
    "\n"
   ]
  },
  {
   "cell_type": "markdown",
   "metadata": {},
   "source": [
    "$\\displaystyle{{ \\log_{10}(E_{pk}(1+z)) - 1.98 = 0.49\\log_{10}\\left(\\frac{E_{iso}}{10^{52} \\ \\text{erg}}\\right) }}$ \n",
    "\n",
    "$\\displaystyle{{ \\frac{\\log_{10}(E_{pk}(1+z)) - 1.98}{0.49} = \\frac{0.49\\log_{10}\\left(\\frac{E_{iso}}{10^{52} \\ \\text{erg}}\\right)}{0.49} }}$ \n",
    "\n",
    "$\\frac{1}{0.49}=2.04$\n",
    "\n",
    "$\\frac{-1.98}{0.49}=-4.04$"
   ]
  },
  {
   "cell_type": "markdown",
   "metadata": {},
   "source": [
    "The equation should be written as:\n",
    "\n",
    "$\\displaystyle{{ \\log_{10}\\left(\\frac{E_{iso}}{10^{52} \\ \\text{erg}}\\right) = -4.04 + 2.04 \\log_{10}(E_{pk}(1+z))}}$ "
   ]
  },
  {
   "cell_type": "markdown",
   "metadata": {},
   "source": [
    "```\n",
    "\n",
    "\n",
    "```\n",
    "## If you wish to skip over all of the rearranging and still correct for the shifted y-intercept, do the following:\n",
    "```\n",
    "\n",
    "```\n",
    "\n",
    "**if the dependent variable is shifted; for example**\n",
    "\n",
    "$\\displaystyle{{ \\log_{10}\\left(\\frac{E_{iso}}{10^{52} \\ \\text{erg}}\\right) = -4.04 + 2.04 \\log_{10}(E_{pk}(1+z))}}$, \n",
    "\n",
    "then use \n",
    "`newyint = yint - slope*np.log10(1.) + np.log10(norm)`\n",
    "where norm will be the $10^{52}$, yint will be -4.04 and slope will be 2.04.\n",
    "\n",
    "```\n",
    "\n",
    "\n",
    "```\n",
    "**if the independent variable is shifted; for example**\n",
    "\n",
    "$\\displaystyle{{  \\log_{10}(E_{pk}(1+z)) = 1.98 + 0.49 \\log_{10}\\left(\\frac{E_{iso}}{10^{52} \\ \\text{erg}}\\right)}}$, \n",
    "\n",
    "then use \n",
    "`newyint = yint + slope*np.log10(1./norm)`\n",
    "where norm will be the $10^{52}$, yint will be 1.98 and slope will be 0.49.\n",
    "\n",
    "\n",
    "**This works the same exact way even for when $E_{pk}(1+z)$ is normalized. Simply change yint, slope, and norm to account for the those values.**\n"
   ]
  },
  {
   "cell_type": "markdown",
   "metadata": {},
   "source": [
    "```\n",
    "\n",
    "\n",
    "```\n",
    "# Function Below\n",
    "**The function below will correct any Amati or Ghirlanda Relation for you and return the form you desire. It will even fix shited y-intercepts (i.e., when $E_{iso}$ or $E_{pk}(1+z)$ are normalized to some energy).**\n",
    "\n",
    "### Directions\n",
    "The only function you should call is `fix_relation`. This function has three variables: `eqnStr`, `depVarOut`, and `formOut`.\n",
    "\n",
    "Here is an example of a call we would make to the function:\n",
    "\n",
    "`fix_relation(eqnStr = 'log10(Eiso) = 47.93 + 2.04*log10(EpkRest)', \n",
    "              depVarOut = 'EpkRest',\n",
    "              formOut='linear')`\n",
    "              \n",
    "- `eqnStr` is the equation in string format and we will come back to all of its details.\n",
    "- `depVarOut` is the string of the variable that you choose to be your dependent variable for the equation that is output (and printed to the screen) of the function. Options are: `EpkRest` or `Eiso`. `EpkRest` is the rest-frame peak energy ($E_{pk}(1+z)$, but it's simpler to work with this shorter string. We never have a need to separate $E_{pk}$ from $(1+z)$ in this function so this works. \n",
    "- `formOut` is the format you wish the output (as printed to the screen) to be in. Options are: `linear` for the linearized form and `power` for the power form."
   ]
  },
  {
   "cell_type": "markdown",
   "metadata": {},
   "source": [
    "### `eqnStr`\n",
    "**Rules:**\n",
    "- always use log10 with braces around the variable names. \n",
    "- always use a * between the slope and the log of the independent variable (linearized form). e.g., 'log10(Eiso) = 47.93 + 2.04*log10(EpkRest)' \n",
    "- always use a * between the $10^{yint}$ the independent variable (power form). e.g., 'Eiso = 10^(47.93) * EpkRest^(2.04)' \n",
    "- In power form, either forms is acceptable for the y-intercept term: '10^(47.93)' or '8.511e+47' or '8.511e47' or '8.511E47' or '8.511E+47'. The carrot is corrected before the code is evaluated, so it computes '10**47.93'. \n",
    "- Use `EpkRest`, NOT `Epk(1+z)` or `Epk*(1+z)`\n",
    "- Normalizations: Use `EpkRest/300` for $E_{pk}(1+z)/300 \\ \\text{keV}$ and `Eiso/1E52` for $E_{iso}/10^{53} \\ \\text{erg}$. The `/` will indicate there is a shift in the y-intercept and it will correct it. \n",
    "- NEVER USE `**` for raising any powers in your string format of the equation. Use the carrot `^` instead. \n",
    "- Parentheses `()` are not needed around any of the powers you raise a number to. You can use them or leave them off. e.g., `10^(47.93)` or `10^47.93` are read the same. \n",
    "\n",
    "              "
   ]
  },
  {
   "cell_type": "markdown",
   "metadata": {},
   "source": [
    "```\n",
    "\n",
    "```\n",
    "## Important Note:\n",
    "#### The results you get by using these functions will slighly vary due to rounding errors. The issue is in taking output from one run (that has been rounded) and using it as input into the next run. You will notice that if you do just this to test the function working backwards, you will not get the EXACT original equation but something close to it. That is due to the rounding error. If you want to limit rounding error, change the %.2f in the code that prints the output to %.3f or %.4f. "
   ]
  },
  {
   "cell_type": "code",
   "execution_count": 4,
   "metadata": {},
   "outputs": [],
   "source": [
    "import numpy as np\n",
    "\n",
    "def infer_relation(eqnStr):\n",
    "    \"\"\"\n",
    "    Returns the appropraite variables depending on the input relation equation. \n",
    "    \"\"\"\n",
    "    if 'log10' in eqnStr:\n",
    "        # equation is in linearized form.\n",
    "        leftSide = eqnStr.replace(' ','').split('=')[0]\n",
    "        depVar = leftSide.lstrip('log10(').rstrip(')')\n",
    "        rightSide = eqnStr.replace(' ','').split('=')[1]\n",
    "        # Make sure eqnStr has spaces before and after plus and minus signs. \n",
    "        sign = ('+' if '+' in rightSide else '-')\n",
    "        fac = (-1 if sign == '-' else 1)\n",
    "        yint = float(rightSide.split(sign)[0])\n",
    "        slope = fac*float(rightSide.split(sign)[1].split('*')[0])\n",
    "        indepVar = rightSide.split('*')[1].lstrip('log10(').rstrip(')')\n",
    "    else:\n",
    "        # equation is in power form. We want to work with linearized form so convert it.\n",
    "        leftSide = eqnStr.split('=')[0].replace(' ','')\n",
    "        depVar = leftSide\n",
    "        rightSide = eqnStr.split('=')[1].replace(' ','')\n",
    "        if '^' in rightSide.split('*')[0]:\n",
    "            yint = eval(rightSide.split('*')[0].replace('^','**'))\n",
    "        else:\n",
    "            yint = float(rightSide.split('*')[0])\n",
    "        yint = np.log10(yint)   # prepare it for linearization.\n",
    "        slope = float(rightSide.split('*')[1].split('^')[1].strip('(').strip(')'))\n",
    "        indepVar = rightSide.split('*')[1].split('^')[0]\n",
    "        sign = None \n",
    "        \n",
    "    # If y-intercept is normalized in eqn, fix it.\n",
    "    # Also fix the variable names then. \n",
    "    if '/' in indepVar:\n",
    "        norm = float(indepVar.split('/')[1].strip('(').strip(')'))\n",
    "        #fac = (-1 if sign == '-' else 1)  # takes care of the sign change.\n",
    "        #yint = yint + fac*slope*np.log10(1./norm)\n",
    "        yint = yint + slope*np.log10(1./norm)\n",
    "        indepVar = indepVar.split('/')[0]\n",
    "    elif '/' in depVar:\n",
    "        norm = float(depVar.split('/')[1].strip('(').strip(')'))\n",
    "        #fac = (-1 if sign == '-' else 1)  # takes care of the sign change.\n",
    "        #yint = yint - fac*slope*np.log10(1.) + np.log10(norm)\n",
    "        yint = yint - slope*np.log10(1.) + np.log10(norm)\n",
    "        depVar = depVar.split('/')[0]\n",
    "    else:\n",
    "        pass\n",
    "    return leftSide, rightSide, depVar, indepVar, yint, slope\n",
    "\n",
    "def rearrange_eqn(depVar, indepVar, yint, slope, depVarOut):\n",
    "    \"\"\"\n",
    "    Rearranges the equation so that the desired dependent variable is on the \n",
    "    left side of the = sign and the desired independent variable is on the right side. \n",
    "    \n",
    "    The eqn should still be in linearized form at this point. \n",
    "    \n",
    "    \"\"\"\n",
    "    if depVar != depVarOut:\n",
    "        # need to rearrange eqn so that the desired dependent variable \n",
    "        #   is on the left side.\n",
    "        # divide off slope \n",
    "        yint = -yint/slope # - sign accounts for moving from one side of eqn to the other. \n",
    "        slope = 1./slope # new slope is 1 over the old slope. \n",
    "        # independent variable out should be the dependent Varaible in. \n",
    "        indepVarOut = (depVar if depVar != depVarOut else indepVar)\n",
    "        return depVarOut, yint, slope, indepVarOut\n",
    "    else:\n",
    "        indepVarOut = indepVar\n",
    "        return depVarOut, yint, slope, indepVarOut\n",
    "\n",
    "def prepare_eqn_output(formOut, depVarOut, yint, slope, indepVarOut):\n",
    "    \"\"\"\n",
    "    formIn does not matter since we intentionally linearize all equations. \n",
    "    The form that the eqn will enter this function is linear. \n",
    "    If formOut = 'linear', do nothing. \n",
    "    If formOut = 'power', fix eqn and return power form. \n",
    "    \"\"\"\n",
    "    if formOut == 'linear':\n",
    "        sign = ('-' if slope < 0 else '+')\n",
    "        print('log10(%s) = %.2f %c %.2f*log10(%s)'%(depVarOut, \n",
    "                                                   yint, \n",
    "                                                   sign, \n",
    "                                                   abs(slope), # because we account for sign already\n",
    "                                                   indepVarOut))\n",
    "    else:\n",
    "        print('%s = 10^(%.2f) * %s^(%.2f)'%(depVarOut, yint, indepVarOut, slope))\n",
    "        print('%s = %.4E * %s^(%.2f)'%(depVarOut, 10**yint, indepVarOut, slope))\n",
    "    \n",
    "\n",
    "def fix_relation(eqnStr, depVarOut, formOut):\n",
    "    print(eqnStr)\n",
    "    leftSide, rightSide, depVar, indepVar, yint, slope = infer_relation(eqnStr)\n",
    "    depVarOut, yint, slope, indepVarOut = rearrange_eqn(depVar, \n",
    "                                                        indepVar, \n",
    "                                                        yint, \n",
    "                                                        slope, \n",
    "                                                        depVarOut)\n",
    "    eqnOut = prepare_eqn_output(formOut, depVarOut, yint, slope, indepVarOut)\n",
    "    "
   ]
  },
  {
   "cell_type": "markdown",
   "metadata": {},
   "source": [
    "### Input:\n",
    "\n",
    "$\\displaystyle{{ \\log_{10}(E_{iso}) = 47.93 + 2.04 \\log_{10}(E_{pk}(1+z)) }}$ \n"
   ]
  },
  {
   "cell_type": "raw",
   "metadata": {},
   "source": [
    "eqnStr = 'log10(Eiso) = 47.93 - 2.04*log10(EpkRest)'\n",
    "\n",
    "if 'log10' in eqnStr:\n",
    "    # equation is in linearized form.\n",
    "    leftSide = eqnStr.replace(' ','').split('=')[0]\n",
    "    depVar = leftSide.lstrip('log10(').rstrip(')')\n",
    "    rightSide = eqnStr.replace(' ','').split('=')[1]\n",
    "    # Make sure eqnStr has spaces before and after plus and minus signs. \n",
    "    sign = ('+' if '+' in rightSide else '-') \n",
    "    yint = float(rightSide.split(sign)[0])\n",
    "    slope = float(rightSide.split(sign)[1].split('*')[0])\n",
    "    indepVar = rightSide.split('*')[1].lstrip('log10(').rstrip(')')"
   ]
  },
  {
   "cell_type": "code",
   "execution_count": 5,
   "metadata": {},
   "outputs": [
    {
     "name": "stdout",
     "output_type": "stream",
     "text": [
      "log10(Eiso) = 47.93 + 2.04*log10(EpkRest)\n",
      "log10(Eiso) = 47.93 + 2.04*log10(EpkRest)\n"
     ]
    }
   ],
   "source": [
    "fix_relation(eqnStr = 'log10(Eiso) = 47.93 + 2.04*log10(EpkRest)', \n",
    "             depVarOut = 'Eiso',\n",
    "             formOut='linear')"
   ]
  },
  {
   "cell_type": "markdown",
   "metadata": {},
   "source": [
    "**Nothing should happen since the output we desire is the original input!**"
   ]
  },
  {
   "cell_type": "code",
   "execution_count": 6,
   "metadata": {},
   "outputs": [
    {
     "name": "stdout",
     "output_type": "stream",
     "text": [
      "log10(Eiso) = 47.93 + 2.04*log10(EpkRest)\n",
      "Eiso = 10^(47.93) * EpkRest^(2.04)\n",
      "Eiso = 8.5114E+47 * EpkRest^(2.04)\n"
     ]
    }
   ],
   "source": [
    "fix_relation(eqnStr = 'log10(Eiso) = 47.93 + 2.04*log10(EpkRest)', \n",
    "             depVarOut = 'Eiso',\n",
    "             formOut='power')"
   ]
  },
  {
   "cell_type": "code",
   "execution_count": 7,
   "metadata": {},
   "outputs": [
    {
     "name": "stdout",
     "output_type": "stream",
     "text": [
      "log10(Eiso) = 47.93 + 2.04*log10(EpkRest)\n",
      "log10(EpkRest) = -23.50 + 0.49*log10(Eiso)\n"
     ]
    }
   ],
   "source": [
    "fix_relation(eqnStr = 'log10(Eiso) = 47.93 + 2.04*log10(EpkRest)', \n",
    "             depVarOut = 'EpkRest',\n",
    "             formOut='linear')"
   ]
  },
  {
   "cell_type": "code",
   "execution_count": 8,
   "metadata": {},
   "outputs": [
    {
     "name": "stdout",
     "output_type": "stream",
     "text": [
      "log10(Eiso) = 47.93 + 2.04*log10(EpkRest)\n",
      "EpkRest = 10^(-23.50) * Eiso^(0.49)\n",
      "EpkRest = 3.1982E-24 * Eiso^(0.49)\n"
     ]
    }
   ],
   "source": [
    "fix_relation(eqnStr = 'log10(Eiso) = 47.93 + 2.04*log10(EpkRest)', \n",
    "             depVarOut = 'EpkRest',\n",
    "             formOut='power')"
   ]
  },
  {
   "cell_type": "markdown",
   "metadata": {},
   "source": [
    "### Input:\n",
    "\n",
    "$\\displaystyle{{ \\log_{10}(E_{pk}(1+z)) = -23.50 + 0.49 \\log_{10}(E_{iso}) }}$ \n"
   ]
  },
  {
   "cell_type": "code",
   "execution_count": 9,
   "metadata": {},
   "outputs": [
    {
     "name": "stdout",
     "output_type": "stream",
     "text": [
      "log10(EpkRest) = -23.50 + 0.49*log10(Eiso)\n",
      "log10(EpkRest) = -23.50 + 0.49*log10(Eiso)\n"
     ]
    }
   ],
   "source": [
    "fix_relation(eqnStr = 'log10(EpkRest) = -23.50 + 0.49*log10(Eiso)', \n",
    "            depVarOut = 'EpkRest',\n",
    "            formOut='linear')"
   ]
  },
  {
   "cell_type": "code",
   "execution_count": 10,
   "metadata": {},
   "outputs": [
    {
     "name": "stdout",
     "output_type": "stream",
     "text": [
      "log10(EpkRest) = -23.50 + 0.49*log10(Eiso)\n",
      "log10(Eiso) = 47.96 + 2.04*log10(EpkRest)\n"
     ]
    }
   ],
   "source": [
    "fix_relation(eqnStr = 'log10(EpkRest) = -23.50 + 0.49*log10(Eiso)', \n",
    "            depVarOut = 'Eiso',\n",
    "            formOut='linear')"
   ]
  },
  {
   "cell_type": "code",
   "execution_count": 11,
   "metadata": {},
   "outputs": [
    {
     "name": "stdout",
     "output_type": "stream",
     "text": [
      "log10(EpkRest) = -23.50 + 0.49*log10(Eiso)\n",
      "Eiso = 10^(47.96) * EpkRest^(2.04)\n",
      "Eiso = 9.1030E+47 * EpkRest^(2.04)\n"
     ]
    }
   ],
   "source": [
    "fix_relation(eqnStr = 'log10(EpkRest) = -23.50 + 0.49*log10(Eiso)', \n",
    "            depVarOut = 'Eiso',\n",
    "            formOut='power')"
   ]
  },
  {
   "cell_type": "markdown",
   "metadata": {},
   "source": [
    "### Input:\n",
    "\n",
    "$\\displaystyle{{ E_{iso} = 10^{47.93} [E_{pk}(1+z)]^{2.04} }}$ \n"
   ]
  },
  {
   "cell_type": "code",
   "execution_count": 12,
   "metadata": {},
   "outputs": [
    {
     "name": "stdout",
     "output_type": "stream",
     "text": [
      "Eiso = 10^47.93 * EpkRest^(2.04)\n",
      "Eiso = 10^(47.93) * EpkRest^(2.04)\n",
      "Eiso = 8.5114E+47 * EpkRest^(2.04)\n"
     ]
    }
   ],
   "source": [
    "fix_relation(eqnStr = 'Eiso = 10^47.93 * EpkRest^(2.04)', \n",
    "             depVarOut = 'Eiso',\n",
    "             formOut='power')"
   ]
  },
  {
   "cell_type": "code",
   "execution_count": 13,
   "metadata": {},
   "outputs": [
    {
     "name": "stdout",
     "output_type": "stream",
     "text": [
      "Eiso = 10^47.93 * EpkRest^2.04\n",
      "Eiso = 10^(47.93) * EpkRest^(2.04)\n",
      "Eiso = 8.5114E+47 * EpkRest^(2.04)\n"
     ]
    }
   ],
   "source": [
    "# Parentheses around the 2.04 are not necessary. \n",
    "# They aren't necessary around the 47.93 either. \n",
    "# You can use them or leave them off. \n",
    "fix_relation(eqnStr = 'Eiso = 10^47.93 * EpkRest^2.04', \n",
    "             depVarOut = 'Eiso',\n",
    "             formOut='power')"
   ]
  },
  {
   "cell_type": "code",
   "execution_count": 14,
   "metadata": {},
   "outputs": [
    {
     "name": "stdout",
     "output_type": "stream",
     "text": [
      "Eiso = 10^47.93 * EpkRest^2.04\n",
      "log10(Eiso) = 47.93 + 2.04*log10(EpkRest)\n"
     ]
    }
   ],
   "source": [
    "fix_relation(eqnStr = 'Eiso = 10^47.93 * EpkRest^2.04', \n",
    "             depVarOut = 'Eiso',\n",
    "             formOut='linear')"
   ]
  },
  {
   "cell_type": "code",
   "execution_count": 15,
   "metadata": {},
   "outputs": [
    {
     "name": "stdout",
     "output_type": "stream",
     "text": [
      "Eiso = 10^47.93 * EpkRest^2.04\n",
      "log10(EpkRest) = -23.50 + 0.49*log10(Eiso)\n"
     ]
    }
   ],
   "source": [
    "fix_relation(eqnStr = 'Eiso = 10^47.93 * EpkRest^2.04', \n",
    "             depVarOut = 'EpkRest',\n",
    "             formOut='linear')"
   ]
  },
  {
   "cell_type": "code",
   "execution_count": 16,
   "metadata": {},
   "outputs": [
    {
     "data": {
      "text/plain": [
       "0.9833273596281114"
      ]
     },
     "execution_count": 16,
     "metadata": {},
     "output_type": "execute_result"
    }
   ],
   "source": [
    "-4.07 + 2.04*np.log10(300)"
   ]
  },
  {
   "cell_type": "code",
   "execution_count": 17,
   "metadata": {},
   "outputs": [
    {
     "data": {
      "text/plain": [
       "6.033327359628112"
      ]
     },
     "execution_count": 17,
     "metadata": {},
     "output_type": "execute_result"
    }
   ],
   "source": [
    "0.98 + 2.04*np.log10(300)"
   ]
  },
  {
   "cell_type": "code",
   "execution_count": 18,
   "metadata": {},
   "outputs": [
    {
     "name": "stdout",
     "output_type": "stream",
     "text": [
      "log10(Eiso/1E52) = 0.98 + 2.04*log10(EpkRest)\n",
      "log10(Eiso) = 52.98 + 2.04*log10(EpkRest)\n"
     ]
    }
   ],
   "source": [
    "fix_relation(eqnStr = 'log10(Eiso/1E52) = 0.98 + 2.04*log10(EpkRest)', \n",
    "             depVarOut = 'Eiso',\n",
    "             formOut='linear')"
   ]
  },
  {
   "cell_type": "markdown",
   "metadata": {},
   "source": [
    "### Input:\n",
    "\n",
    "$\\displaystyle{{ \\log_{10}\\left(\\frac{E_{iso}}{10^{52}\\ \\text{erg}}\\right) = -4.07 + 2.04 \\log_{10}(E_{pk}(1+z)) }}$ \n"
   ]
  },
  {
   "cell_type": "code",
   "execution_count": 19,
   "metadata": {},
   "outputs": [
    {
     "name": "stdout",
     "output_type": "stream",
     "text": [
      "log10(Eiso/1E52) = -4.07 + 2.04*log10(EpkRest)\n",
      "log10(Eiso) = 47.93 + 2.04*log10(EpkRest)\n"
     ]
    }
   ],
   "source": [
    "fix_relation(eqnStr = 'log10(Eiso/1E52) = -4.07 + 2.04*log10(EpkRest)', \n",
    "             depVarOut = 'Eiso',\n",
    "             formOut='linear')"
   ]
  },
  {
   "cell_type": "markdown",
   "metadata": {},
   "source": [
    "**This time the output and input don't match because we always have the function correct the shift in the y-intercept.** "
   ]
  },
  {
   "cell_type": "code",
   "execution_count": 20,
   "metadata": {},
   "outputs": [
    {
     "name": "stdout",
     "output_type": "stream",
     "text": [
      "log10(Eiso/1E52) = -4.07 + 2.04*log10(EpkRest)\n",
      "Eiso = 10^(47.93) * EpkRest^(2.04)\n",
      "Eiso = 8.5114E+47 * EpkRest^(2.04)\n"
     ]
    }
   ],
   "source": [
    "fix_relation(eqnStr = 'log10(Eiso/1E52) = -4.07 + 2.04*log10(EpkRest)', \n",
    "             depVarOut = 'Eiso',\n",
    "             formOut='power')"
   ]
  },
  {
   "cell_type": "code",
   "execution_count": 21,
   "metadata": {},
   "outputs": [
    {
     "name": "stdout",
     "output_type": "stream",
     "text": [
      "log10(Eiso/1E52) = -4.07 + 2.04*log10(EpkRest)\n",
      "log10(EpkRest) = -23.50 + 0.49*log10(Eiso)\n"
     ]
    }
   ],
   "source": [
    "fix_relation(eqnStr = 'log10(Eiso/1E52) = -4.07 + 2.04*log10(EpkRest)', \n",
    "             depVarOut = 'EpkRest',\n",
    "             formOut='linear')"
   ]
  },
  {
   "cell_type": "code",
   "execution_count": 22,
   "metadata": {},
   "outputs": [
    {
     "name": "stdout",
     "output_type": "stream",
     "text": [
      "log10(Eiso/1E52) = -4.07 + 2.04*log10(EpkRest)\n",
      "EpkRest = 10^(-23.50) * Eiso^(0.49)\n",
      "EpkRest = 3.1982E-24 * Eiso^(0.49)\n"
     ]
    }
   ],
   "source": [
    "fix_relation(eqnStr = 'log10(Eiso/1E52) = -4.07 + 2.04*log10(EpkRest)', \n",
    "             depVarOut = 'EpkRest',\n",
    "             formOut='power')"
   ]
  },
  {
   "cell_type": "markdown",
   "metadata": {},
   "source": [
    "### Input:\n",
    "\n",
    "$\\displaystyle{{ \\log_{10}\\left(\\frac{E_{pk}(1+z)}{300\\ \\text{keV}}\\right) = -25.97 + 0.49 \\log_{10}(E_{iso}) }}$ "
   ]
  },
  {
   "cell_type": "code",
   "execution_count": 23,
   "metadata": {},
   "outputs": [
    {
     "name": "stdout",
     "output_type": "stream",
     "text": [
      "log10(EpkRest/300) = -25.97 + 0.49*log10(EpkRest)\n",
      "log10(EpkRest) = -23.49 + 0.49*log10(EpkRest)\n"
     ]
    }
   ],
   "source": [
    "fix_relation(eqnStr = 'log10(EpkRest/300) = -25.97 + 0.49*log10(EpkRest)', \n",
    "             depVarOut = 'EpkRest',\n",
    "             formOut='linear')"
   ]
  },
  {
   "cell_type": "code",
   "execution_count": 24,
   "metadata": {},
   "outputs": [
    {
     "name": "stdout",
     "output_type": "stream",
     "text": [
      "log10(EpkRest/300) = -25.97 + 0.49*log10(EpkRest)\n",
      "EpkRest = 10^(-23.49) * EpkRest^(0.49)\n",
      "EpkRest = 3.2146E-24 * EpkRest^(0.49)\n"
     ]
    }
   ],
   "source": [
    "fix_relation(eqnStr = 'log10(EpkRest/300) = -25.97 + 0.49*log10(EpkRest)', \n",
    "             depVarOut = 'EpkRest',\n",
    "             formOut='power')"
   ]
  },
  {
   "cell_type": "code",
   "execution_count": 25,
   "metadata": {},
   "outputs": [
    {
     "name": "stdout",
     "output_type": "stream",
     "text": [
      "log10(EpkRest/300) = -25.97 + 0.49*log10(EpkRest)\n",
      "log10(Eiso) = 47.94 + 2.04*log10(EpkRest)\n"
     ]
    }
   ],
   "source": [
    "fix_relation(eqnStr = 'log10(EpkRest/300) = -25.97 + 0.49*log10(EpkRest)', \n",
    "             depVarOut = 'Eiso',\n",
    "             formOut='linear')"
   ]
  },
  {
   "cell_type": "code",
   "execution_count": 26,
   "metadata": {},
   "outputs": [
    {
     "name": "stdout",
     "output_type": "stream",
     "text": [
      "log10(EpkRest/300) = -25.97 + 0.49*log10(EpkRest)\n",
      "Eiso = 10^(47.94) * EpkRest^(2.04)\n",
      "Eiso = 8.8034E+47 * EpkRest^(2.04)\n"
     ]
    }
   ],
   "source": [
    "fix_relation(eqnStr = 'log10(EpkRest/300) = -25.97 + 0.49*log10(EpkRest)', \n",
    "             depVarOut = 'Eiso',\n",
    "             formOut='power')"
   ]
  },
  {
   "cell_type": "markdown",
   "metadata": {},
   "source": [
    "### Input:\n",
    "\n",
    "$\\displaystyle{{ \\log_{10}(E_{iso}) = 53.0 + 2.04 \\log_{10}\\left(\\frac{E_{pk}(1+z)}{300\\ \\text{keV}}\\right)}}$ \n",
    "\n",
    "**The normalizations can be on the independent variables (the right side) too.**"
   ]
  },
  {
   "cell_type": "code",
   "execution_count": 27,
   "metadata": {},
   "outputs": [
    {
     "name": "stdout",
     "output_type": "stream",
     "text": [
      "log10(Eiso) = 53.0 + 2.04*log10(EpkRest/300)\n",
      "Eiso = 10^(47.95) * EpkRest^(2.04)\n",
      "Eiso = 8.8445E+47 * EpkRest^(2.04)\n"
     ]
    }
   ],
   "source": [
    "fix_relation(eqnStr = 'log10(Eiso) = 53.0 + 2.04*log10(EpkRest/300)', \n",
    "             depVarOut = 'Eiso',\n",
    "             formOut='power')"
   ]
  },
  {
   "cell_type": "markdown",
   "metadata": {},
   "source": [
    "### Input:\n",
    "\n",
    "$\\displaystyle{{ E_{iso} = 10^{53.0} \\left(\\frac{E_{pk}(1+z)}{300\\ \\text{keV}}\\right)^{2.04} }}$ "
   ]
  },
  {
   "cell_type": "code",
   "execution_count": 28,
   "metadata": {},
   "outputs": [
    {
     "name": "stdout",
     "output_type": "stream",
     "text": [
      "Eiso = 10^53.0 * (EpkRest/300)^2.04\n",
      "log10(Eiso) = 47.95 + 2.04*log10((EpkRest)\n"
     ]
    }
   ],
   "source": [
    "fix_relation(eqnStr = 'Eiso = 10^53.0 * (EpkRest/300)^2.04', \n",
    "             depVarOut = 'Eiso',\n",
    "             formOut='linear')"
   ]
  },
  {
   "cell_type": "code",
   "execution_count": 29,
   "metadata": {},
   "outputs": [
    {
     "name": "stdout",
     "output_type": "stream",
     "text": [
      "Eiso = 1E53 * (EpkRest/300)^2.04\n",
      "log10(Eiso) = 47.95 + 2.04*log10((EpkRest)\n"
     ]
    }
   ],
   "source": [
    "fix_relation(eqnStr = 'Eiso = 1E53 * (EpkRest/300)^2.04', \n",
    "             depVarOut = 'Eiso',\n",
    "             formOut='linear')"
   ]
  },
  {
   "cell_type": "markdown",
   "metadata": {},
   "source": [
    "### Input:\n",
    "\n",
    "$\\displaystyle{{ \\frac{E_{iso}}{10^{52} \\ \\text{erg}} = 10^{53.0} \\left(\\frac{E_{pk}(1+z)}{300\\ \\text{keV}}\\right)^{2.04} }}$ "
   ]
  },
  {
   "cell_type": "code",
   "execution_count": 30,
   "metadata": {},
   "outputs": [
    {
     "name": "stdout",
     "output_type": "stream",
     "text": [
      "Eiso/1E52 =  10^-4.07 * EpkRest^2.04\n",
      "log10(Eiso) = 47.93 + 2.04*log10(EpkRest)\n"
     ]
    }
   ],
   "source": [
    "fix_relation(eqnStr = 'Eiso/1E52 =  10^-4.07 * EpkRest^2.04', \n",
    "             depVarOut = 'Eiso',\n",
    "             formOut='linear')"
   ]
  },
  {
   "cell_type": "code",
   "execution_count": 31,
   "metadata": {},
   "outputs": [
    {
     "name": "stdout",
     "output_type": "stream",
     "text": [
      "Eiso/1E52 =  10^-4.07 * EpkRest^2.04\n",
      "log10(EpkRest) = -23.50 + 0.49*log10(Eiso)\n"
     ]
    }
   ],
   "source": [
    "fix_relation(eqnStr = 'Eiso/1E52 =  10^-4.07 * EpkRest^2.04', \n",
    "             depVarOut = 'EpkRest',\n",
    "             formOut='linear')"
   ]
  },
  {
   "cell_type": "markdown",
   "metadata": {},
   "source": [
    "# Showing how it ignores prentices"
   ]
  },
  {
   "cell_type": "markdown",
   "metadata": {},
   "source": [
    "**In the linearized form there is never a reason to add additional parentices into the equation, so we don't bother showing examples in linearized form. In power form it is more common to use additional parentices, so we show those instead.**"
   ]
  },
  {
   "cell_type": "code",
   "execution_count": 32,
   "metadata": {},
   "outputs": [
    {
     "name": "stdout",
     "output_type": "stream",
     "text": [
      "Eiso/1E52 =  10^-4.07 * (EpkRest)^2.04\n",
      "log10(EpkRest) = -23.50 + 0.49*log10(Eiso)\n"
     ]
    }
   ],
   "source": [
    "fix_relation(eqnStr = 'Eiso/1E52 =  10^-4.07 * (EpkRest)^2.04', \n",
    "             depVarOut = 'EpkRest',\n",
    "             formOut='linear')"
   ]
  },
  {
   "cell_type": "code",
   "execution_count": 33,
   "metadata": {},
   "outputs": [
    {
     "name": "stdout",
     "output_type": "stream",
     "text": [
      "Eiso/1E52 =  10^-4.07 * EpkRest^(2.04)\n",
      "log10(EpkRest) = -23.50 + 0.49*log10(Eiso)\n"
     ]
    }
   ],
   "source": [
    "fix_relation(eqnStr = 'Eiso/1E52 =  10^-4.07 * EpkRest^(2.04)', \n",
    "             depVarOut = 'EpkRest',\n",
    "             formOut='linear')"
   ]
  },
  {
   "cell_type": "code",
   "execution_count": 34,
   "metadata": {},
   "outputs": [
    {
     "name": "stdout",
     "output_type": "stream",
     "text": [
      "(Eiso/1E52) =  10^-4.07 * EpkRest^2.04\n",
      "log10(EpkRest) = -23.50 + 0.49*log10((Eiso)\n"
     ]
    }
   ],
   "source": [
    "fix_relation(eqnStr = '(Eiso/1E52) =  10^-4.07 * EpkRest^2.04', \n",
    "             depVarOut = 'EpkRest',\n",
    "             formOut='linear')"
   ]
  },
  {
   "cell_type": "code",
   "execution_count": 35,
   "metadata": {},
   "outputs": [
    {
     "name": "stdout",
     "output_type": "stream",
     "text": [
      "Eiso/1E52 =  10^-4.07 * (EpkRest^2.04)\n",
      "log10(EpkRest) = -23.50 + 0.49*log10(Eiso)\n"
     ]
    }
   ],
   "source": [
    "fix_relation(eqnStr = 'Eiso/1E52 =  10^-4.07 * (EpkRest^2.04)', \n",
    "             depVarOut = 'EpkRest',\n",
    "             formOut='linear')"
   ]
  },
  {
   "cell_type": "code",
   "execution_count": 36,
   "metadata": {},
   "outputs": [
    {
     "name": "stdout",
     "output_type": "stream",
     "text": [
      "Eiso/1E52 =  (10^-4.07) * EpkRest^2.04\n",
      "log10(EpkRest) = -23.50 + 0.49*log10(Eiso)\n"
     ]
    }
   ],
   "source": [
    "fix_relation(eqnStr = 'Eiso/1E52 =  (10^-4.07) * EpkRest^2.04', \n",
    "             depVarOut = 'EpkRest',\n",
    "             formOut='linear')"
   ]
  },
  {
   "cell_type": "code",
   "execution_count": 44,
   "metadata": {},
   "outputs": [
    {
     "name": "stdout",
     "output_type": "stream",
     "text": [
      "Eiso/1E52 =  10^(-4.07) * EpkRest^2.04\n",
      "log10(EpkRest) = -23.50 + 0.49*log10(Eiso)\n"
     ]
    }
   ],
   "source": [
    "fix_relation(eqnStr = 'Eiso/1E52 =  10^(-4.07) * EpkRest^2.04', \n",
    "             depVarOut = 'EpkRest',\n",
    "             formOut='linear')"
   ]
  },
  {
   "cell_type": "code",
   "execution_count": 49,
   "metadata": {},
   "outputs": [
    {
     "name": "stdout",
     "output_type": "stream",
     "text": [
      "Eiso/1E52 =  10^(-4.07) * EpkRest/300^2.04\n",
      "log10(EpkRest) = 4.47 + 0.49*log10(Eiso/1E52)\n"
     ]
    }
   ],
   "source": [
    "fix_relation(eqnStr = 'Eiso/1E52 =  10^(-4.07) * EpkRest/300^2.04', \n",
    "             depVarOut = 'EpkRest',\n",
    "             formOut='linear')"
   ]
  },
  {
   "cell_type": "markdown",
   "metadata": {},
   "source": [
    "**These examples are all for the Amati Relation, however these functions work for ALL of the luminosity relations. SEE BELOW.**"
   ]
  },
  {
   "cell_type": "markdown",
   "metadata": {},
   "source": [
    "```\n",
    "\n",
    "\n",
    "```\n",
    "# Examples with Other Luminosity Relations"
   ]
  },
  {
   "cell_type": "markdown",
   "metadata": {},
   "source": [
    "## *$E_{pk}-L_{iso}$ Relation*\n",
    "\n",
    "### Input:\n",
    "\n",
    "$\\displaystyle{{ \\log_{10}(L_{iso}) = 52.21 + 1.68 \\log_{10}\\left(\\frac{E_{pk}(1+z)}{300 \\ \\text{keV}}\\right) }}$ \n",
    "\n",
    "\n",
    "Equation 16 in Schaefer 2007 (The Hubble Diagram to redshift >6 from 69 Gamma-ray Bursts) is normalized to 300 keV and give a y-intercept of 52.21, but Schaefer and Collazzi 2007 paper Table 1 (Generalized tests for eight GRB luminosity relations) has the relation with a y-intercept of 48.04; log10(1.1E48)=48.04."
   ]
  },
  {
   "cell_type": "code",
   "execution_count": 38,
   "metadata": {},
   "outputs": [
    {
     "name": "stdout",
     "output_type": "stream",
     "text": [
      "log10(Liso) = 52.21 + 1.68*log10(EpkRest/300)\n",
      "log10(Liso) = 48.05 + 1.68*log10(EpkRest)\n"
     ]
    }
   ],
   "source": [
    "fix_relation(eqnStr = 'log10(Liso) = 52.21 + 1.68*log10(EpkRest/300)', \n",
    "             depVarOut = 'Liso',\n",
    "             formOut='linear')"
   ]
  },
  {
   "cell_type": "markdown",
   "metadata": {},
   "source": [
    "## *$E_{pk}-E_{\\gamma}$ Relation (Ghirlanda's)*\n",
    "\n",
    "### Input:\n",
    "\n",
    "\n",
    "$\\displaystyle{{ \\log_{10}(E_{\\gamma}) = 50.57 + 1.63 \\log_{10}\\left(\\frac{E_{pk}(1+z)}{300 \\ \\text{keV}}\\right) }}$ \n",
    "\n",
    "\n",
    "Equation 18 in Schaefer 2007 (The Hubble Diagram to redshift >6 from 69 Gamma-ray Bursts) is normalized to 300 keV and give a y-intercept of 50.57, but Schaefer and Collazzi 2007 paper Table 1 (Generalized tests for eight GRB luminosity relations) has the relation with a y-intercept of 46.65; log10(4.5E46)=46.65."
   ]
  },
  {
   "cell_type": "code",
   "execution_count": 39,
   "metadata": {},
   "outputs": [
    {
     "name": "stdout",
     "output_type": "stream",
     "text": [
      "log10(Egamma) = 50.57 + 1.63*log10(EpkRest/300)\n",
      "log10(Egamma) = 46.53 + 1.63*log10(EpkRest)\n"
     ]
    }
   ],
   "source": [
    "fix_relation(eqnStr = 'log10(Egamma) = 50.57 + 1.63*log10(EpkRest/300)', \n",
    "             depVarOut = 'Egamma',\n",
    "             formOut='linear')"
   ]
  },
  {
   "cell_type": "markdown",
   "metadata": {},
   "source": [
    "## *$V-L_{iso}$ Relation*\n",
    "\n",
    "### Input:\n",
    "\n",
    "$\\displaystyle{{ \\log_{10}(L_{iso}) = 52.49 + 1.77 \\log_{10}\\left(\\frac{V(1+z)}{0.02}\\right) }}$ \n",
    "\n",
    "\n",
    "Equation 14 in Schaefer 2007 (The Hubble Diagram to redshift >6 from 69 Gamma-ray Bursts) is normalized to 0.02 and give a y-intercept of 52.49, but Schaefer and Collazzi 2007 paper Table 1 (Generalized tests for eight GRB luminosity relations) has the relation with a y-intercept of 55.50; log10(3.2E55)=55.50."
   ]
  },
  {
   "cell_type": "code",
   "execution_count": 40,
   "metadata": {},
   "outputs": [
    {
     "name": "stdout",
     "output_type": "stream",
     "text": [
      "log10(Liso) = 52.49 + 1.77*log10(VRest/0.02)\n",
      "log10(Liso) = 55.50 + 1.77*log10(VRest)\n"
     ]
    }
   ],
   "source": [
    "fix_relation(eqnStr = 'log10(Liso) = 52.49 + 1.77*log10(VRest/0.02)', \n",
    "             depVarOut = 'Liso',\n",
    "             formOut='linear')"
   ]
  },
  {
   "cell_type": "markdown",
   "metadata": {},
   "source": [
    "## *$\\tau_{lag}-L$ Relation*\n",
    "\n",
    "### Input:\n",
    "\n",
    "$\\displaystyle{{ \\log_{10}(L) = 52.26 - 1.01 \\log_{10}\\left(\\frac{\\tau(1+z)^{-1}}{0.1 \\ \\text{sec}}\\right) }}$ \n",
    "\n",
    "\n",
    "Equation 14 in Schaefer 2007 (The Hubble Diagram to redshift >6 from 69 Gamma-ray Bursts) is normalized to 0.02 and give a y-intercept of 52.49, but Schaefer and Collazzi 2007 paper Table 1 (Generalized tests for eight GRB luminosity relations) has the relation with a y-intercept of 55.50; log10(3.2E55)=55.50."
   ]
  },
  {
   "cell_type": "code",
   "execution_count": 41,
   "metadata": {},
   "outputs": [
    {
     "name": "stdout",
     "output_type": "stream",
     "text": [
      "log10(Lum) = 52.26 - 1.01*log10(tau/0.1)\n",
      "log10(Lum) = 51.25 - 1.01*log10(tau)\n"
     ]
    }
   ],
   "source": [
    "fix_relation(eqnStr = 'log10(Lum) = 52.26 - 1.01*log10(tau/0.1)', \n",
    "             depVarOut = 'Lum',\n",
    "             formOut='linear')"
   ]
  },
  {
   "cell_type": "code",
   "execution_count": 42,
   "metadata": {},
   "outputs": [
    {
     "name": "stdout",
     "output_type": "stream",
     "text": [
      "log10(Lum) = 51.25 - 1.01*log10(tau)\n",
      "Lum = 10^(51.25) * tau^(-1.01)\n",
      "Lum = 1.7783E+51 * tau^(-1.01)\n"
     ]
    }
   ],
   "source": [
    "fix_relation(eqnStr = 'log10(Lum) = 51.25 - 1.01*log10(tau)', \n",
    "             depVarOut = 'Lum',\n",
    "             formOut='power')"
   ]
  },
  {
   "cell_type": "code",
   "execution_count": 43,
   "metadata": {},
   "outputs": [
    {
     "name": "stdout",
     "output_type": "stream",
     "text": [
      "log10(Lum) = 52.26 - 1.01*log10(tau/0.1)\n",
      "Lum = 10^(51.25) * tau^(-1.01)\n",
      "Lum = 1.7783E+51 * tau^(-1.01)\n"
     ]
    }
   ],
   "source": [
    "fix_relation(eqnStr = 'log10(Lum) = 52.26 - 1.01*log10(tau/0.1)', \n",
    "             depVarOut = 'Lum',\n",
    "             formOut='power')"
   ]
  }
 ],
 "metadata": {
  "kernelspec": {
   "display_name": "Python 3",
   "language": "python",
   "name": "python3"
  },
  "language_info": {
   "codemirror_mode": {
    "name": "ipython",
    "version": 3
   },
   "file_extension": ".py",
   "mimetype": "text/x-python",
   "name": "python",
   "nbconvert_exporter": "python",
   "pygments_lexer": "ipython3",
   "version": "3.7.0"
  }
 },
 "nbformat": 4,
 "nbformat_minor": 2
}
