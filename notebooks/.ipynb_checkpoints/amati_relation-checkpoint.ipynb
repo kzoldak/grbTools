{
 "cells": [
  {
   "cell_type": "markdown",
   "metadata": {},
   "source": [
    "# Amati Relation Equation:\n",
    "```\n",
    "\n",
    "\n",
    "```\n",
    "\n",
    "### Linearized form:\n",
    "\n",
    "\\begin{equation}\n",
    "\\begin{split}\n",
    "\\log_{10}(E_{iso}) &= 47.93 + 2.04 \\log_{10}(E^*_{pk}) \\\\\n",
    "& \\text{OR} \\\\\n",
    "\\log_{10}(E^*_{pk}) &= -23.495 + 0.49 \\log_{10}(E_{iso})\n",
    "\\end{split}\n",
    "\\end{equation}\n",
    "where $E^*_{pk} = E_{pk}(1+z)$.\n",
    "\n",
    "\n",
    "The top version is where $E_{iso}$ is the dependent variable and on the y-axis. \n",
    "\n",
    "The bottom version is where $E^*_{pk}$ is the dependent variable and on the y-axis. We simply rearranged the top version to get the bottom version. \n",
    "\n",
    "Now, we want to normalize the equation to an $E_{iso} \\sim 1\\times10^{52}$ erg. To do that we take the bottom version and plug in $1\\times10^{52}$ for $E_{iso}$. Solving this gives $\\log_{10}(E^*_{pk}) = 1.985$. To have an equation normalized to this energy, take the $-23.495$ and simply replace it with $1.985$. \n",
    "\n",
    "Then you can also rearrange the equation to place $\\log_{10}(E_{iso})$ back on the left side. This gives the following two versions of Amati's equation that is scalled to $1\\times10^{52}$ erg:\n",
    "\n",
    "\\begin{equation}\n",
    "\\begin{split}\n",
    "\\log_{10}(E_{iso}) &= -4.05 + 2.04 \\log_{10}(E^*_{pk}) \\\\\n",
    "& \\text{OR} \\\\\n",
    "\\log_{10}(E^*_{pk}) &= 1.985 + 0.49 \\log_{10}(E_{iso})\n",
    "\\end{split}\n",
    "\\end{equation}\n",
    "\n",
    "When solving for $E_{pk}$, \n",
    "\\begin{equation}\n",
    "\\begin{split}\n",
    "E^*_{pk} &= 10^{\\left[1.985 \\ + \\ 0.49 \\log_{10}(E_{iso})\\right]} \\\\\n",
    "& \\text{OR} \\\\\n",
    "E^*_{pk} &= 10^{1.985} \\ E_{iso}^{0.49}\n",
    "\\end{split}\n",
    "\\end{equation}\n",
    "The second version here is where we used logarithmic rules of $c \\log(a) = \\log(a^c)$ and $10^{\\log(a^c)} = a^c$ to simplify the second half. \n",
    "\n",
    "\n",
    "\n",
    "Solving the linearized from of the equation actually led us to one of the Amati equation versions in the Power form; i.e., $E^*_{pk} = 10^{1.985} E_{iso}^{0.49}$ is the power form of $\\log_{10}(E^*_{pk}) = 1.985 + 0.49 \\log_{10}(E_{iso})$. "
   ]
  },
  {
   "cell_type": "markdown",
   "metadata": {},
   "source": [
    "```\n",
    "\n",
    "\n",
    "```\n",
    "## Converting between Linearized and Power forms of the equation.\n",
    "\n",
    "#### Order of steps with the Logarithmic rules used:\n",
    "Start with the power version:  $y = aX^c$\n",
    "1. Log both sides. \n",
    " $\\log(y) = \\log(aX^c)$\n",
    "2. Use rule #1 from https://mathbench.umd.edu/modules/misc_scaling/page11.htm \n",
    "$\\log(y) = \\log(aX^c) = \\log(a) + \\log(X^c)$\n",
    "3. Use rule #2 from https://mathbench.umd.edu/modules/misc_scaling/page11.htm \n",
    "$\\log(y) = \\log(a) + \\log(X^c) = \\log(a) + c\\log(X) $\n",
    "4. Rearrange and compare this to the equation of a line.\n",
    "$\\log(y) = c\\log(X) + \\log(a) \\ \\ $ or $ \\ \\ y=mx+b$. \n",
    "\n",
    "Where $c$ would be the slope and $\\log(a)$ the y-intercept. \n",
    "\n",
    "```\n",
    "\n",
    "```\n",
    "\n",
    "To skip the logarithmic rules, you can use the following shortcut:\n",
    "\\begin{equation}\n",
    "\\log(y) = c \\log(x) + \\log(a) \\ \\ \\  \\Leftrightarrow \\ \\ \\ y=aX^c\n",
    "\\end{equation}\n",
    "\n",
    "Using this equation, we can easily convert between the linearized form to the power form. \n",
    "\n",
    "\n",
    "### Amati Relation in Power form:\n",
    "\\begin{equation}\n",
    "\\begin{split}\n",
    "\\log_{10}(E_{iso}) &= 47.93 + 2.04 \\log_{10}(E^*_{pk}) \\\\\n",
    "& \\text{Becomes} \\\\\n",
    "E_{iso} &= 10^{47.93} E^{* \\ 2.04}_{pk}  \\ \\ = 10^{47.93} \\ E^{2.04}_{pk} (1+z)^{2.04}\n",
    "\\end{split}\n",
    "\\end{equation}\n",
    "```\n",
    "\n",
    "\n",
    "```\n",
    "\\begin{equation}\n",
    "\\begin{split}\n",
    "\\log_{10}(E^*_{pk}) &= -23.495 + 0.49 \\log_{10}(E_{iso}) \\\\\n",
    "& \\text{Becomes} \\\\\n",
    "E^*_{pk} &= 10^{-23.495} \\ E_{iso}^{0.49} \\ \\ = E_{pk} (1+z)\n",
    "\\end{split}\n",
    "\\end{equation}\n",
    "\n",
    "#### When $E_{iso}$ is normalized to $1\\times10^{52}$ erg, these equations are:\n",
    "\n",
    "\\begin{equation}\n",
    "\\begin{split}\n",
    "\\log_{10}(E_{iso}) &= -4.05 + 2.04 \\log_{10}(E^*_{pk}) \\\\\n",
    "& \\text{Becomes} \\\\\n",
    "E_{iso} &= 10^{-4.05} E^{* \\ 2.04}_{pk}  \\ \\ = 10^{-4.05} \\ E^{2.04}_{pk} (1+z)^{2.04}\n",
    "\\end{split}\n",
    "\\end{equation}\n",
    "```\n",
    "\n",
    "\n",
    "```\n",
    "\\begin{equation}\n",
    "\\begin{split}\n",
    "\\log_{10}(E^*_{pk}) &= 1.985 + 0.49 \\log_{10}(E_{iso}) \\\\\n",
    "& \\text{Becomes} \\\\\n",
    "E^*_{pk} &= 10^{1.985} \\ E_{iso}^{0.49} \\ \\ = E_{pk} (1+z)\n",
    "\\end{split}\n",
    "\\end{equation}"
   ]
  },
  {
   "cell_type": "code",
   "execution_count": null,
   "metadata": {},
   "outputs": [],
   "source": []
  },
  {
   "cell_type": "code",
   "execution_count": null,
   "metadata": {},
   "outputs": [],
   "source": []
  },
  {
   "cell_type": "code",
   "execution_count": null,
   "metadata": {},
   "outputs": [],
   "source": []
  },
  {
   "cell_type": "markdown",
   "metadata": {},
   "source": [
    "All of these forms have used actual numbers. Lets replace them with variables instead so they can be used universally. "
   ]
  },
  {
   "cell_type": "code",
   "execution_count": null,
   "metadata": {},
   "outputs": [],
   "source": []
  },
  {
   "cell_type": "code",
   "execution_count": null,
   "metadata": {},
   "outputs": [],
   "source": []
  },
  {
   "cell_type": "markdown",
   "metadata": {},
   "source": [
    "\\begin{equation}\n",
    "\\begin{split}\n",
    "\\log_{10}(E_{pk}(1+z)) &= b + m \\log_{10}(E_{iso}) \\\\\n",
    "\\log_{10}(E^*_{pk}) &= b + m \\log_{10}(E_{iso})\n",
    "\\end{split}\n",
    "\\end{equation}\n",
    "\n",
    "\n",
    "### Power form:\n",
    "\\begin{equation}\n",
    "\\begin{split}\n",
    "E_{iso} &= A \\ E^p_{pk}(1+z)^p \\\\\n",
    "E_{iso} &= A \\ E^{* \\ p}_{pk}\n",
    "\\end{split}\n",
    "\\end{equation}"
   ]
  },
  {
   "cell_type": "code",
   "execution_count": null,
   "metadata": {},
   "outputs": [],
   "source": []
  },
  {
   "cell_type": "code",
   "execution_count": null,
   "metadata": {},
   "outputs": [],
   "source": []
  },
  {
   "cell_type": "markdown",
   "metadata": {},
   "source": [
    "# Not certain the stuff above is correct. But the A value is. Just not sure how it was derived. "
   ]
  },
  {
   "cell_type": "markdown",
   "metadata": {},
   "source": [
    "```\n",
    "\n",
    "\n",
    "\n",
    "\n",
    "```"
   ]
  },
  {
   "cell_type": "markdown",
   "metadata": {},
   "source": [
    "## $A = 8.5 \\times 10^{47}$  or $A=10^{47.93}$"
   ]
  },
  {
   "cell_type": "code",
   "execution_count": 1,
   "metadata": {},
   "outputs": [],
   "source": [
    "import sys\n",
    "import numpy as np\n",
    "import pandas as pd\n",
    "\n",
    "import matplotlib.pyplot as plt\n",
    "%matplotlib inline\n",
    "\n",
    "sys.path.insert(1, '/Users/kimzoldak/Github/')  # import at runtime\n",
    "from grbTools.cosmo.lumdist import LumDist"
   ]
  },
  {
   "cell_type": "code",
   "execution_count": 7,
   "metadata": {},
   "outputs": [],
   "source": [
    "amati = lambda x: 10**(-23.495+0.49*np.log10(x))"
   ]
  },
  {
   "cell_type": "code",
   "execution_count": 8,
   "metadata": {},
   "outputs": [],
   "source": [
    "xdata = np.logspace(48, 55, 100)\n",
    "ydata = amati(xdata)"
   ]
  },
  {
   "cell_type": "code",
   "execution_count": 19,
   "metadata": {},
   "outputs": [],
   "source": [
    "xdata = np.logspace(-10, 1, 100)\n",
    "ydata = amati(xdata)"
   ]
  },
  {
   "cell_type": "code",
   "execution_count": 20,
   "metadata": {},
   "outputs": [
    {
     "data": {
      "text/plain": [
       "[]"
      ]
     },
     "execution_count": 20,
     "metadata": {},
     "output_type": "execute_result"
    },
    {
     "data": {
      "image/png": "[encoded data removed]",
      "text/plain": [
       "<Figure size 432x288 with 1 Axes>"
      ]
     },
     "metadata": {
      "needs_background": "light"
     },
     "output_type": "display_data"
    }
   ],
   "source": [
    "plt.plot(xdata, ydata)\n",
    "plt.loglog()"
   ]
  },
  {
   "cell_type": "markdown",
   "metadata": {},
   "source": [
    "## Amati Equation, solving for Epeak by passing Eiso."
   ]
  },
  {
   "cell_type": "code",
   "execution_count": 140,
   "metadata": {},
   "outputs": [
    {
     "data": {
      "text/plain": [
       "(675.9198116813623, 675.9198116813654, 675.9198116813677, 675.9198116813677)"
      ]
     },
     "execution_count": 140,
     "metadata": {},
     "output_type": "execute_result"
    }
   ],
   "source": [
    "# Amati Equation solving for Epeak\n",
    "amati1 = lambda x: 10**(-23.495 + 0.49*np.log10(x))    # x is Eiso\n",
    "amati2 = lambda x: (10**-23.495) * (x**0.49)           # x is Eiso\n",
    "\n",
    "# In these versions, Eiso is normalized to 1E52 erg.\n",
    "amati3 = lambda x: 10**(1.985 + 0.49*np.log10(x))      # x is Eiso\n",
    "amati4 = lambda x: (10**1.985) * (x**0.49)             # x is Eiso\n",
    "\n",
    "\n",
    "eng = 5.3E53\n",
    "\n",
    "amati1(eng), amati2(eng), amati3(eng/1E52), amati4(eng/1E52)"
   ]
  },
  {
   "cell_type": "markdown",
   "metadata": {},
   "source": [
    "Notice how the $E_{iso}$ energy that we pass to versions 3 and 4 are divided by $1E52$. We could incorporate this into the equation itself by dividing x by the normalization."
   ]
  },
  {
   "cell_type": "code",
   "execution_count": 141,
   "metadata": {},
   "outputs": [
    {
     "data": {
      "text/plain": [
       "(675.9198116813623, 675.9198116813654, 675.9198116813677, 675.9198116813677)"
      ]
     },
     "execution_count": 141,
     "metadata": {},
     "output_type": "execute_result"
    }
   ],
   "source": [
    "# In these versions, Eiso is normalized to 1E52 erg.\n",
    "amati5 = lambda x: 10**(1.985 + 0.49*np.log10(x/1E52))      # x is Eiso\n",
    "amati6 = lambda x: (10**1.985) * ((x/1E52)**0.49)             # x is Eiso\n",
    "\n",
    "amati1(eng), amati2(eng), amati5(eng), amati6(eng)"
   ]
  },
  {
   "cell_type": "markdown",
   "metadata": {},
   "source": [
    "Or I could just put it into the function as a variable, incase someone normalizes it differently. "
   ]
  },
  {
   "cell_type": "code",
   "execution_count": 142,
   "metadata": {},
   "outputs": [
    {
     "data": {
      "text/plain": [
       "(675.9198116813623, 675.9198116813654, 675.9198116813677, 675.9198116813677)"
      ]
     },
     "execution_count": 142,
     "metadata": {},
     "output_type": "execute_result"
    }
   ],
   "source": [
    "amati7 = lambda x,N: 10**(1.985 + 0.49*np.log10(x/N))      # x is Eiso\n",
    "amati8 = lambda x,N: (10**1.985) * ((x/N)**0.49)             # x is Eiso\n",
    "\n",
    "\n",
    "amati1(eng), amati2(eng), amati7(eng, 1E52), amati8(eng, 1E52)"
   ]
  },
  {
   "cell_type": "markdown",
   "metadata": {},
   "source": [
    "## What about forms where we solve for Eiso instead of Epeak?"
   ]
  },
  {
   "cell_type": "code",
   "execution_count": 157,
   "metadata": {},
   "outputs": [],
   "source": [
    "# Amati Equation solving for Epeak\n",
    "amati__1 = lambda x: 10**(47.93 + 2.04*np.log10(x))    # x is Epeak\n",
    "amati__2 = lambda x: (10**47.93) * (x**2.04)         # x is Epeak\n",
    "\n",
    "# In these versions, Eiso is normalized to 1E52 erg.\n",
    "amati__3 = lambda x: (10**(-(1.985/0.49) + 2.04*np.log10(x))) * 1.E52      # x is Epeak\n",
    "amati__4 = lambda x: ((10**-(1.985/0.49)) * (x**2.04))* 1.E52            # x is Epeak\n"
   ]
  },
  {
   "cell_type": "code",
   "execution_count": 158,
   "metadata": {},
   "outputs": [
    {
     "data": {
      "text/plain": [
       "(1.0232929922807494e+52,\n",
       " 1.0232929922807536e+52,\n",
       " 1.0690046438758733e+52,\n",
       " 1.0690046438758733e+52)"
      ]
     },
     "execution_count": 158,
     "metadata": {},
     "output_type": "execute_result"
    }
   ],
   "source": [
    "epk = 100.\n",
    "amati__1(epk), amati__2(epk), amati__3(epk), amati__4(epk)\n",
    "#amati__1(epk), amati__2(epk), amati__3(epk)*(1E52), amati__4(epk)*(1E52)"
   ]
  },
  {
   "cell_type": "code",
   "execution_count": null,
   "metadata": {},
   "outputs": [],
   "source": []
  },
  {
   "cell_type": "code",
   "execution_count": 146,
   "metadata": {},
   "outputs": [
    {
     "data": {
      "text/plain": [
       "0.9572390523680258"
      ]
     },
     "execution_count": 146,
     "metadata": {},
     "output_type": "execute_result"
    }
   ],
   "source": [
    "amati__1(epk)/(amati__3(epk)*(1E52))"
   ]
  },
  {
   "cell_type": "code",
   "execution_count": 154,
   "metadata": {},
   "outputs": [
    {
     "data": {
      "text/plain": [
       "0.9730392156862745"
      ]
     },
     "execution_count": 154,
     "metadata": {},
     "output_type": "execute_result"
    }
   ],
   "source": [
    "1.985/2.04"
   ]
  },
  {
   "cell_type": "code",
   "execution_count": null,
   "metadata": {},
   "outputs": [],
   "source": []
  },
  {
   "cell_type": "code",
   "execution_count": null,
   "metadata": {},
   "outputs": [],
   "source": []
  },
  {
   "cell_type": "code",
   "execution_count": 84,
   "metadata": {},
   "outputs": [
    {
     "data": {
      "text/plain": [
       "54.34018084410367"
      ]
     },
     "execution_count": 84,
     "metadata": {},
     "output_type": "execute_result"
    }
   ],
   "source": [
    "47.93 + 2.04*np.log10(epk)  # output is equal to np.log10(Eiso), Eiso = 10^output"
   ]
  },
  {
   "cell_type": "code",
   "execution_count": 83,
   "metadata": {},
   "outputs": [
    {
     "data": {
      "text/plain": [
       "2.1886728171437054e+54"
      ]
     },
     "execution_count": 83,
     "metadata": {},
     "output_type": "execute_result"
    }
   ],
   "source": [
    "10**54.34018084410367"
   ]
  },
  {
   "cell_type": "code",
   "execution_count": 87,
   "metadata": {},
   "outputs": [
    {
     "data": {
      "text/plain": [
       "2.3591604359404075"
      ]
     },
     "execution_count": 87,
     "metadata": {},
     "output_type": "execute_result"
    }
   ],
   "source": [
    "(-(1.985/0.49)) + 2.04*np.log10(epk)  # output is equal to np.log10(Eiso/1E52), Eiso/1E52 = 10^output\n",
    "# thus, (10^output) * 1E52 should be Eiso."
   ]
  },
  {
   "cell_type": "code",
   "execution_count": 88,
   "metadata": {},
   "outputs": [
    {
     "data": {
      "text/plain": [
       "2.28644329932985e+54"
      ]
     },
     "execution_count": 88,
     "metadata": {},
     "output_type": "execute_result"
    }
   ],
   "source": [
    "(10**2.3591604359404075)*1E52"
   ]
  },
  {
   "cell_type": "code",
   "execution_count": 126,
   "metadata": {},
   "outputs": [
    {
     "data": {
      "text/plain": [
       "2.1886181678225504e+54"
      ]
     },
     "execution_count": 126,
     "metadata": {},
     "output_type": "execute_result"
    }
   ],
   "source": [
    "(10**2.34017)*1E52"
   ]
  },
  {
   "cell_type": "code",
   "execution_count": 127,
   "metadata": {},
   "outputs": [
    {
     "data": {
      "text/plain": [
       "1.0081149813647758"
      ]
     },
     "execution_count": 127,
     "metadata": {},
     "output_type": "execute_result"
    }
   ],
   "source": [
    "2.3591604359404075/2.34017"
   ]
  },
  {
   "cell_type": "code",
   "execution_count": 128,
   "metadata": {},
   "outputs": [
    {
     "data": {
      "text/plain": [
       "0.9919503414642348"
      ]
     },
     "execution_count": 128,
     "metadata": {},
     "output_type": "execute_result"
    }
   ],
   "source": [
    "2.34017/2.3591604359404075"
   ]
  },
  {
   "cell_type": "code",
   "execution_count": null,
   "metadata": {},
   "outputs": [],
   "source": []
  },
  {
   "cell_type": "code",
   "execution_count": 10,
   "metadata": {},
   "outputs": [
    {
     "data": {
      "text/plain": [
       "<Figure size 432x288 with 0 Axes>"
      ]
     },
     "metadata": {},
     "output_type": "display_data"
    },
    {
     "data": {
      "image/png": "[encoded data removed]",
      "text/plain": [
       "<Figure size 432x288 with 1 Axes>"
      ]
     },
     "metadata": {
      "needs_background": "light"
     },
     "output_type": "display_data"
    }
   ],
   "source": [
    "plt.clf()\n",
    "\n",
    "plt.figure(figsize=(6,4))\n",
    "plt.grid(alpha=0.3)\n",
    "plt.plot(redshifts, out/max(out))\n",
    "plt.xlim(0, 20)\n",
    "plt.ylim(0, 1.1)\n",
    "plt.minorticks_on()\n",
    "plt.axvline(redshiftMax, 0, 1, color='red', alpha=0.4)\n",
    "plt.show()"
   ]
  },
  {
   "cell_type": "code",
   "execution_count": null,
   "metadata": {},
   "outputs": [],
   "source": [
    "xdata = np.logspace(52, 56, 100)\n",
    "amati = lambda x: -26.62 + 0.551*np.log10(x)\n",
    "ydata = amati(xdata)\n",
    "\n",
    "plt.clf()\n",
    "\n",
    "plt.figure(figsize=(6,4))\n",
    "plt.grid(alpha=0.3)\n",
    "plt.plot(xdata, ydata)\n",
    "plt.xscale('log')\n",
    "plt.xlim(1E52, 1E56)\n",
    "plt.show()"
   ]
  },
  {
   "cell_type": "code",
   "execution_count": null,
   "metadata": {},
   "outputs": [],
   "source": []
  },
  {
   "cell_type": "code",
   "execution_count": 56,
   "metadata": {},
   "outputs": [
    {
     "data": {
      "text/plain": [
       "<Figure size 432x288 with 0 Axes>"
      ]
     },
     "metadata": {},
     "output_type": "display_data"
    },
    {
     "data": {
      "image/png": "[encoded data removed]",
      "text/plain": [
       "<Figure size 432x288 with 1 Axes>"
      ]
     },
     "metadata": {
      "needs_background": "light"
     },
     "output_type": "display_data"
    }
   ],
   "source": [
    "xdata = np.linspace(45, 56, 100)\n",
    "amati = lambda x: 1.98 + 0.49*x\n",
    "ydata = amati(xdata)\n",
    "\n",
    "plt.clf()\n",
    "\n",
    "plt.figure(figsize=(6,4))\n",
    "plt.grid(alpha=0.3)\n",
    "plt.plot(xdata, ydata)\n",
    "#plt.xlim(50, 55)\n",
    "plt.show()"
   ]
  },
  {
   "cell_type": "code",
   "execution_count": null,
   "metadata": {},
   "outputs": [],
   "source": []
  }
 ],
 "metadata": {
  "kernelspec": {
   "display_name": "Python 3",
   "language": "python",
   "name": "python3"
  },
  "language_info": {
   "codemirror_mode": {
    "name": "ipython",
    "version": 3
   },
   "file_extension": ".py",
   "mimetype": "text/x-python",
   "name": "python",
   "nbconvert_exporter": "python",
   "pygments_lexer": "ipython3",
   "version": "3.7.0"
  }
 },
 "nbformat": 4,
 "nbformat_minor": 2
}
