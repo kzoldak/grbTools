{
 "cells": [
  {
   "cell_type": "code",
   "execution_count": 8,
   "metadata": {},
   "outputs": [],
   "source": [
    "from astropy.io import fits as pyfits\n",
    "import pandas as pd\n",
    "import numpy as np"
   ]
  },
  {
   "cell_type": "code",
   "execution_count": 1,
   "metadata": {},
   "outputs": [],
   "source": [
    "f = '/Users/kimzoldak/Github/grbTools/xspec/data/xspec_fitresults_grbm+bbody+lpow_-01-_L_.fit'"
   ]
  },
  {
   "cell_type": "code",
   "execution_count": 3,
   "metadata": {},
   "outputs": [],
   "source": [
    "f = pyfits.open(f)"
   ]
  },
  {
   "cell_type": "code",
   "execution_count": 9,
   "metadata": {},
   "outputs": [],
   "source": [
    "df = pd.DataFrame(f[2].data)"
   ]
  },
  {
   "cell_type": "code",
   "execution_count": 10,
   "metadata": {},
   "outputs": [
    {
     "data": {
      "text/html": [
       "<div>\n",
       "<style scoped>\n",
       "    .dataframe tbody tr th:only-of-type {\n",
       "        vertical-align: middle;\n",
       "    }\n",
       "\n",
       "    .dataframe tbody tr th {\n",
       "        vertical-align: top;\n",
       "    }\n",
       "\n",
       "    .dataframe thead th {\n",
       "        text-align: right;\n",
       "    }\n",
       "</style>\n",
       "<table border=\"1\" class=\"dataframe\">\n",
       "  <thead>\n",
       "    <tr style=\"text-align: right;\">\n",
       "      <th></th>\n",
       "      <th>PARAM1</th>\n",
       "      <th>PARAM2</th>\n",
       "      <th>PARAM3</th>\n",
       "      <th>PARAM4</th>\n",
       "      <th>PARAM5</th>\n",
       "      <th>PARAM6</th>\n",
       "      <th>PARAM7</th>\n",
       "      <th>PARAM8</th>\n",
       "      <th>NDATA</th>\n",
       "      <th>DOF</th>\n",
       "      <th>CSTAT</th>\n",
       "      <th>LOGLIKE</th>\n",
       "      <th>AIC</th>\n",
       "      <th>BIC</th>\n",
       "      <th>COVARMAT</th>\n",
       "    </tr>\n",
       "  </thead>\n",
       "  <tbody>\n",
       "    <tr>\n",
       "      <th>0</th>\n",
       "      <td>[-1.1347480355649138, nan, nan, nan, nan]</td>\n",
       "      <td>[-2.635717664572395, nan, nan, nan, nan]</td>\n",
       "      <td>[246.829922465641, nan, nan, nan, nan]</td>\n",
       "      <td>[0.11761749651701606, nan, nan, nan, nan]</td>\n",
       "      <td>[6.190054429862882, nan, nan, nan, nan]</td>\n",
       "      <td>[1.1294063614298953, nan, nan, nan, nan]</td>\n",
       "      <td>[-1.3425973910815174, nan, nan, nan, nan]</td>\n",
       "      <td>[1.886321554340399e-09, nan, nan, nan, nan]</td>\n",
       "      <td>480</td>\n",
       "      <td>472</td>\n",
       "      <td>670.600497</td>\n",
       "      <td>-335.300248</td>\n",
       "      <td>686.600497</td>\n",
       "      <td>719.990786</td>\n",
       "      <td>[0.016982, -0.00152939, -4.44931, -0.000437453...</td>\n",
       "    </tr>\n",
       "  </tbody>\n",
       "</table>\n",
       "</div>"
      ],
      "text/plain": [
       "                                      PARAM1  \\\n",
       "0  [-1.1347480355649138, nan, nan, nan, nan]   \n",
       "\n",
       "                                     PARAM2  \\\n",
       "0  [-2.635717664572395, nan, nan, nan, nan]   \n",
       "\n",
       "                                   PARAM3  \\\n",
       "0  [246.829922465641, nan, nan, nan, nan]   \n",
       "\n",
       "                                      PARAM4  \\\n",
       "0  [0.11761749651701606, nan, nan, nan, nan]   \n",
       "\n",
       "                                    PARAM5  \\\n",
       "0  [6.190054429862882, nan, nan, nan, nan]   \n",
       "\n",
       "                                     PARAM6  \\\n",
       "0  [1.1294063614298953, nan, nan, nan, nan]   \n",
       "\n",
       "                                      PARAM7  \\\n",
       "0  [-1.3425973910815174, nan, nan, nan, nan]   \n",
       "\n",
       "                                        PARAM8  NDATA  DOF       CSTAT  \\\n",
       "0  [1.886321554340399e-09, nan, nan, nan, nan]    480  472  670.600497   \n",
       "\n",
       "      LOGLIKE         AIC         BIC  \\\n",
       "0 -335.300248  686.600497  719.990786   \n",
       "\n",
       "                                            COVARMAT  \n",
       "0  [0.016982, -0.00152939, -4.44931, -0.000437453...  "
      ]
     },
     "execution_count": 10,
     "metadata": {},
     "output_type": "execute_result"
    }
   ],
   "source": [
    "df"
   ]
  },
  {
   "cell_type": "code",
   "execution_count": 5,
   "metadata": {},
   "outputs": [
    {
     "data": {
      "text/plain": [
       "ColDefs(\n",
       "    name = 'PARAM1'; format = '1PD(5)'\n",
       "    name = 'PARAM2'; format = '1PD(5)'\n",
       "    name = 'PARAM3'; format = '1PD(5)'\n",
       "    name = 'PARAM4'; format = '1PD(5)'\n",
       "    name = 'PARAM5'; format = '1PD(5)'\n",
       "    name = 'PARAM6'; format = '1PD(5)'\n",
       "    name = 'PARAM7'; format = '1PD(5)'\n",
       "    name = 'PARAM8'; format = '1PD(5)'\n",
       "    name = 'NDATA'; format = '1I'\n",
       "    name = 'DOF'; format = '1I'\n",
       "    name = 'CSTAT'; format = '1D'\n",
       "    name = 'LOGLIKE'; format = '1D'\n",
       "    name = 'AIC'; format = '1D'\n",
       "    name = 'BIC'; format = '1D'\n",
       "    name = 'COVARMAT'; format = '1PD(64)'\n",
       ")"
      ]
     },
     "execution_count": 5,
     "metadata": {},
     "output_type": "execute_result"
    }
   ],
   "source": [
    "f[2].columns"
   ]
  },
  {
   "cell_type": "code",
   "execution_count": null,
   "metadata": {},
   "outputs": [],
   "source": []
  },
  {
   "cell_type": "code",
   "execution_count": 7,
   "metadata": {},
   "outputs": [
    {
     "data": {
      "text/plain": [
       "XTENSION= 'BINTABLE'           / binary table extension                         \n",
       "BITPIX  =                    8 / array data type                                \n",
       "NAXIS   =                    2 / number of array dimensions                     \n",
       "NAXIS1  =                  108 / length of dimension 1                          \n",
       "NAXIS2  =                    1 / length of dimension 2                          \n",
       "PCOUNT  =                  832 / number of group parameters                     \n",
       "GCOUNT  =                    1 / number of groups                               \n",
       "TFIELDS =                   15 / number of table fields                         \n",
       "TTYPE1  = 'PARAM1  '                                                            \n",
       "TFORM1  = '1PD(5)  '                                                            \n",
       "TTYPE2  = 'PARAM2  '                                                            \n",
       "TFORM2  = '1PD(5)  '                                                            \n",
       "TTYPE3  = 'PARAM3  '                                                            \n",
       "TFORM3  = '1PD(5)  '                                                            \n",
       "TTYPE4  = 'PARAM4  '                                                            \n",
       "TFORM4  = '1PD(5)  '                                                            \n",
       "TTYPE5  = 'PARAM5  '                                                            \n",
       "TFORM5  = '1PD(5)  '                                                            \n",
       "TTYPE6  = 'PARAM6  '                                                            \n",
       "TFORM6  = '1PD(5)  '                                                            \n",
       "TTYPE7  = 'PARAM7  '                                                            \n",
       "TFORM7  = '1PD(5)  '                                                            \n",
       "TTYPE8  = 'PARAM8  '                                                            \n",
       "TFORM8  = '1PD(5)  '                                                            \n",
       "TTYPE9  = 'NDATA   '                                                            \n",
       "TFORM9  = '1I      '                                                            \n",
       "TTYPE10 = 'DOF     '                                                            \n",
       "TFORM10 = '1I      '                                                            \n",
       "TTYPE11 = 'CSTAT   '                                                            \n",
       "TFORM11 = '1D      '                                                            \n",
       "TTYPE12 = 'LOGLIKE '                                                            \n",
       "TFORM12 = '1D      '                                                            \n",
       "TTYPE13 = 'AIC     '                                                            \n",
       "TFORM13 = '1D      '                                                            \n",
       "TTYPE14 = 'BIC     '                                                            \n",
       "TFORM14 = '1D      '                                                            \n",
       "TTYPE15 = 'COVARMAT'                                                            \n",
       "TFORM15 = '1PD(64) '                                                            \n",
       "EXTNAME = 'PARAMS  '                                                            \n",
       "HDUCLASS= 'OGIP    '                                                            \n",
       "HDUCLAS1= 'TYPE:II '                                                            \n",
       "HDUVERS = '1.2.0   '                                                            "
      ]
     },
     "execution_count": 7,
     "metadata": {},
     "output_type": "execute_result"
    }
   ],
   "source": [
    "f[2].header"
   ]
  },
  {
   "cell_type": "code",
   "execution_count": null,
   "metadata": {},
   "outputs": [],
   "source": []
  },
  {
   "cell_type": "code",
   "execution_count": null,
   "metadata": {},
   "outputs": [],
   "source": [
    "paramDict = dict({'grbm':{'alpha':-1.2, 'beta': -2.8, 'enterm':502., 'norm':0.01, 'entype':'epeak'}})\n"
   ]
  }
 ],
 "metadata": {
  "kernelspec": {
   "display_name": "Python 3",
   "language": "python",
   "name": "python3"
  },
  "language_info": {
   "codemirror_mode": {
    "name": "ipython",
    "version": 3
   },
   "file_extension": ".py",
   "mimetype": "text/x-python",
   "name": "python",
   "nbconvert_exporter": "python",
   "pygments_lexer": "ipython3",
   "version": "3.7.0"
  }
 },
 "nbformat": 4,
 "nbformat_minor": 2
}
