{
 "cells": [
  {
   "cell_type": "code",
   "execution_count": 1,
   "metadata": {},
   "outputs": [],
   "source": [
    "import numpy as np\n",
    "\n",
    "import pandas as pd\n",
    "\n",
    "import astropy\n",
    "from astropy import units as u\n",
    "\n",
    "import matplotlib.pyplot as plt\n",
    "%matplotlib inline\n",
    "\n"
   ]
  },
  {
   "cell_type": "code",
   "execution_count": 2,
   "metadata": {},
   "outputs": [],
   "source": [
    "df1 = pd.read_csv('eisoenergies_diff_cosmo.txt', sep=',', skiprows=1)\n",
    "df2 = pd.read_csv('eisoenergies_diff_H0.txt', sep=',', skiprows=1)\n",
    "\n",
    "# remove duplicate to eiso1 in our other dataframe.\n",
    "[df2.pop(col) for col in df2.columns if 'eiso1' in col];\n",
    "df2.pop('DL1');\n",
    "\n",
    "# rename columns \n",
    "colnames = df2.columns\n",
    "colnames = colnames.str.replace('eiso2', 'eiso4')\n",
    "colnames = colnames.str.replace('eiso3', 'eiso5')\n",
    "colnames = colnames.str.replace('DL2', 'DL4')\n",
    "colnames = colnames.str.replace('DL3', 'DL5')\n",
    "df2.columns = colnames"
   ]
  },
  {
   "cell_type": "code",
   "execution_count": 3,
   "metadata": {},
   "outputs": [],
   "source": [
    "# merge dataframes and keep only unique columns. The rest are repeats,\n",
    "# hence our need to rename the cols we wanted to keep. \n",
    "df = pd.merge(df1, df2)"
   ]
  },
  {
   "cell_type": "code",
   "execution_count": 4,
   "metadata": {},
   "outputs": [],
   "source": [
    "H0 = 67.8\n",
    "Om = 0.308"
   ]
  },
  {
   "cell_type": "markdown",
   "metadata": {},
   "source": [
    "```\n",
    "Subscripts:\n",
    "1) LCDM:          H0 = 67.8, Om = 0.308\n",
    "2) Riess:         H0 = 67.8, Om = 0.308\n",
    "3) Weyl Gravity:  H0 = 67.8\n",
    "4) LCDM:          H0 = 65.0, Om = 0.308\n",
    "5) LCDM:          H0 = 75.0, Om = 0.308\n",
    "```"
   ]
  },
  {
   "cell_type": "code",
   "execution_count": 5,
   "metadata": {},
   "outputs": [],
   "source": [
    "from luminositydistance import Cosmology"
   ]
  },
  {
   "cell_type": "code",
   "execution_count": 6,
   "metadata": {},
   "outputs": [],
   "source": [
    "redshifts = df.z"
   ]
  },
  {
   "cell_type": "code",
   "execution_count": 7,
   "metadata": {},
   "outputs": [],
   "source": [
    "kim = Cosmology()\n",
    "DLs = kim.luminosity_distance(redshifts=redshifts, model='w', **{'H0':H0, 'Om':Om})\n",
    "\n",
    "# DL units are in pc, apply astropy pc units\n",
    "DLs = DLs * u.pc\n",
    "\n",
    "# convert to cm\n",
    "DLs = np.asarray(DLs.to(u.cm))"
   ]
  },
  {
   "cell_type": "code",
   "execution_count": 8,
   "metadata": {},
   "outputs": [
    {
     "data": {
      "text/plain": [
       "array([2.09166145e+29, 1.50325938e+29, 1.47111229e+28, 1.92741718e+28,\n",
       "       5.21338311e+28, 6.49233226e+28, 1.90997855e+28, 2.40651783e+28,\n",
       "       4.17115460e+28, 1.03068615e+29, 8.41543595e+28, 7.94428557e+28,\n",
       "       1.23366030e+28, 8.53248625e+28, 7.23596369e+28, 9.96026968e+28,\n",
       "       1.00112579e+28, 9.91962533e+27, 2.98093108e+28, 8.79605353e+27,\n",
       "       3.53545278e+28, 6.49138879e+28, 3.68933380e+28, 1.65161318e+28,\n",
       "       4.81344525e+28, 3.76356513e+28, 1.41941535e+28, 4.81758308e+28,\n",
       "       5.11104050e+28, 3.56091093e+28, 1.95119516e+29, 6.94156067e+28,\n",
       "       5.80798017e+27, 9.78903223e+28, 2.87198372e+28])"
      ]
     },
     "execution_count": 8,
     "metadata": {},
     "output_type": "execute_result"
    }
   ],
   "source": [
    "DLs"
   ]
  },
  {
   "cell_type": "code",
   "execution_count": 9,
   "metadata": {},
   "outputs": [
    {
     "data": {
      "text/plain": [
       "array([2.09166145e+29, 1.50325938e+29, 1.47111229e+28, 1.92741718e+28,\n",
       "       5.21338311e+28, 6.49233226e+28, 1.90997854e+28, 2.40651783e+28,\n",
       "       4.17115460e+28, 1.03068615e+29, 8.41543595e+28, 7.94428557e+28,\n",
       "       1.23366030e+28, 8.53248625e+28, 7.23596368e+28, 9.96026968e+28,\n",
       "       1.00112579e+28, 9.91962532e+27, 2.98093108e+28, 8.79605353e+27,\n",
       "       3.53545278e+28, 6.49138879e+28, 3.68933380e+28, 1.65161318e+28,\n",
       "       4.81344525e+28, 3.76356513e+28, 1.41941535e+28, 4.81758308e+28,\n",
       "       5.11104050e+28, 3.56091093e+28, 1.95119516e+29, 6.94156067e+28,\n",
       "       5.80798017e+27, 9.78903223e+28, 2.87198371e+28])"
      ]
     },
     "execution_count": 9,
     "metadata": {},
     "output_type": "execute_result"
    }
   ],
   "source": [
    "np.asarray(df.DL3)"
   ]
  },
  {
   "cell_type": "code",
   "execution_count": 10,
   "metadata": {},
   "outputs": [],
   "source": [
    "from astropy.cosmology import Planck13 #as Planck13\n",
    "from astropy.cosmology import Planck15 #as Planck15\n",
    "from astropy.cosmology import FlatLambdaCDM #as FlatLambdaCDM\n",
    "from astropy.cosmology import LambdaCDM \n",
    "\n",
    "from astropy.cosmology import w0wzCDM  # simple expansion: w(z) = w0 + w'z\n",
    "from astropy.cosmology import w0waCDM"
   ]
  },
  {
   "cell_type": "code",
   "execution_count": 12,
   "metadata": {},
   "outputs": [
    {
     "data": {
      "text/plain": [
       "array([1.25078798e+29, 9.89527618e+28, 1.43755448e+28, 1.84765862e+28,\n",
       "       4.38716035e+28, 5.23749609e+28, 1.83230853e+28, 2.25996127e+28,\n",
       "       3.64578400e+28, 7.49189573e+28, 6.41893614e+28, 6.13884639e+28,\n",
       "       1.21693290e+28, 6.48766609e+28, 5.70675356e+28, 7.30094503e+28,\n",
       "       9.95948135e+27, 9.87140177e+27, 2.73216516e+28, 8.78533137e+27,\n",
       "       3.16779007e+28, 5.23688978e+28, 3.28548467e+28, 1.60191348e+28,\n",
       "       4.10836010e+28, 3.34179222e+28, 1.38995190e+28, 4.11127938e+28,\n",
       "       4.31645096e+28, 3.18735317e+28, 1.19140035e+29, 5.52298634e+28,\n",
       "       5.84505772e+27, 7.20571745e+28, 2.64432612e+28])"
      ]
     },
     "execution_count": 12,
     "metadata": {},
     "output_type": "execute_result"
    }
   ],
   "source": [
    "cosmo = FlatLambdaCDM(H0=H0, Om0=Om)\n",
    "cosmo.luminosity_distance(redshifts).to(u.cm)\n",
    "np.asarray(cosmo.luminosity_distance(redshifts).to(u.cm))"
   ]
  },
  {
   "cell_type": "code",
   "execution_count": 13,
   "metadata": {},
   "outputs": [
    {
     "data": {
      "text/plain": [
       "array([1.25078798e+29, 9.89527617e+28, 1.43755448e+28, 1.84765862e+28,\n",
       "       4.38716035e+28, 5.23749609e+28, 1.83230853e+28, 2.25996127e+28,\n",
       "       3.64578400e+28, 7.49189573e+28, 6.41893613e+28, 6.13884638e+28,\n",
       "       1.21693289e+28, 6.48766609e+28, 5.70675356e+28, 7.30094502e+28,\n",
       "       9.95948134e+27, 9.87140177e+27, 2.73216516e+28, 8.78533136e+27,\n",
       "       3.16779007e+28, 5.23688978e+28, 3.28548467e+28, 1.60191348e+28,\n",
       "       4.10836010e+28, 3.34179222e+28, 1.38995190e+28, 4.11127938e+28,\n",
       "       4.31645096e+28, 3.18735316e+28, 1.19140035e+29, 5.52298634e+28,\n",
       "       5.84505771e+27, 7.20571744e+28, 2.64432612e+28])"
      ]
     },
     "execution_count": 13,
     "metadata": {},
     "output_type": "execute_result"
    }
   ],
   "source": [
    "df.DL1.values"
   ]
  },
  {
   "cell_type": "markdown",
   "metadata": {},
   "source": [
    "w0wzCDM\n",
    "---"
   ]
  },
  {
   "cell_type": "code",
   "execution_count": 14,
   "metadata": {},
   "outputs": [
    {
     "data": {
      "text/plain": [
       "array([9.22985650e+28, 7.81445840e+28, 1.44188644e+28, 1.83483104e+28,\n",
       "       4.08775877e+28, 4.76648764e+28, 1.82027297e+28, 2.22166082e+28,\n",
       "       3.46313026e+28, 6.36510407e+28, 5.63942756e+28, 5.43979350e+28,\n",
       "       1.22692313e+28, 5.68774050e+28, 5.12296802e+28, 6.24022682e+28,\n",
       "       1.00895252e+28, 1.00020816e+28, 2.65492251e+28, 8.92024473e+27,\n",
       "       3.04534321e+28, 4.76601865e+28, 3.14926249e+28, 1.60037957e+28,\n",
       "       3.85632136e+28, 3.19873997e+28, 1.39572274e+28, 3.85876669e+28,\n",
       "       4.02946624e+28, 3.06266329e+28, 8.91706136e+28, 4.98491178e+28,\n",
       "       5.95835300e+27, 6.17729201e+28, 2.57511361e+28])"
      ]
     },
     "execution_count": 14,
     "metadata": {},
     "output_type": "execute_result"
    }
   ],
   "source": [
    "cosmo = w0wzCDM(H0=H0, Om0=Om, Ode0=1-Om, w0=-1.31, wz=1.48)\n",
    "cosmo.luminosity_distance(redshifts).to(u.cm)\n",
    "np.asarray(cosmo.luminosity_distance(redshifts).to(u.cm))"
   ]
  },
  {
   "cell_type": "code",
   "execution_count": 15,
   "metadata": {},
   "outputs": [
    {
     "data": {
      "text/plain": [
       "array([9.22985650e+28, 7.81445840e+28, 1.44188644e+28, 1.83483104e+28,\n",
       "       4.08775877e+28, 4.76648764e+28, 1.82027297e+28, 2.22166082e+28,\n",
       "       3.46313026e+28, 6.36510407e+28, 5.63942756e+28, 5.43979350e+28,\n",
       "       1.22692313e+28, 5.68774050e+28, 5.12296802e+28, 6.24022682e+28,\n",
       "       1.00895252e+28, 1.00020816e+28, 2.65492251e+28, 8.92024473e+27,\n",
       "       3.04534321e+28, 4.76601865e+28, 3.14926249e+28, 1.60037957e+28,\n",
       "       3.85632136e+28, 3.19873997e+28, 1.39572274e+28, 3.85876669e+28,\n",
       "       4.02946624e+28, 3.06266329e+28, 8.91706136e+28, 4.98491178e+28,\n",
       "       5.95835300e+27, 6.17729201e+28, 2.57511361e+28])"
      ]
     },
     "execution_count": 15,
     "metadata": {},
     "output_type": "execute_result"
    }
   ],
   "source": [
    "kim = Cosmology()\n",
    "DLs = kim.luminosity_distance(redshifts=redshifts, model='r', **{'H0':H0, 'Om':Om})\n",
    "# DL units are in pc, apply astropy pc units\n",
    "DLs = DLs * u.pc\n",
    "# convert to cm\n",
    "DLs = np.asarray(DLs.to(u.cm))\n",
    "DLs"
   ]
  },
  {
   "cell_type": "code",
   "execution_count": null,
   "metadata": {},
   "outputs": [],
   "source": [
    "df.DL2.values"
   ]
  },
  {
   "cell_type": "code",
   "execution_count": null,
   "metadata": {},
   "outputs": [],
   "source": []
  },
  {
   "cell_type": "code",
   "execution_count": null,
   "metadata": {},
   "outputs": [],
   "source": []
  },
  {
   "cell_type": "code",
   "execution_count": null,
   "metadata": {},
   "outputs": [],
   "source": [
    "df.DL3"
   ]
  },
  {
   "cell_type": "code",
   "execution_count": null,
   "metadata": {},
   "outputs": [],
   "source": [
    "np.asarray(Planck15.luminosity_distance(redshifts).to(u.cm))"
   ]
  },
  {
   "cell_type": "code",
   "execution_count": null,
   "metadata": {},
   "outputs": [],
   "source": [
    "FlatLambdaCDM.H0 = 67.8\n",
    "FlatLambdaCDM.Om = 0.308"
   ]
  },
  {
   "cell_type": "code",
   "execution_count": null,
   "metadata": {},
   "outputs": [],
   "source": [
    "np.asarray(FlatLambdaCDM.luminosity_distance(redshifts).to(u.cm))"
   ]
  },
  {
   "cell_type": "code",
   "execution_count": null,
   "metadata": {},
   "outputs": [],
   "source": []
  },
  {
   "cell_type": "code",
   "execution_count": null,
   "metadata": {},
   "outputs": [],
   "source": [
    "w0wzCDM.luminosity_distance(z=redshifs.values[0])"
   ]
  },
  {
   "cell_type": "code",
   "execution_count": null,
   "metadata": {},
   "outputs": [],
   "source": [
    "redshifs.values"
   ]
  },
  {
   "cell_type": "code",
   "execution_count": null,
   "metadata": {},
   "outputs": [],
   "source": []
  }
 ],
 "metadata": {
  "kernelspec": {
   "display_name": "Python 3",
   "language": "python",
   "name": "python3"
  },
  "language_info": {
   "codemirror_mode": {
    "name": "ipython",
    "version": 3
   },
   "file_extension": ".py",
   "mimetype": "text/x-python",
   "name": "python",
   "nbconvert_exporter": "python",
   "pygments_lexer": "ipython3",
   "version": "3.7.0"
  }
 },
 "nbformat": 4,
 "nbformat_minor": 2
}
