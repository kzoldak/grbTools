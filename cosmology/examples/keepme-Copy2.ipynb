{
 "cells": [
  {
   "cell_type": "code",
   "execution_count": 1,
   "metadata": {},
   "outputs": [],
   "source": [
    "import numpy as np\n",
    "\n",
    "import pandas as pd\n",
    "\n",
    "import astropy\n",
    "from astropy import units as u\n",
    "\n",
    "import matplotlib.pyplot as plt\n",
    "%matplotlib inline\n"
   ]
  },
  {
   "cell_type": "code",
   "execution_count": 2,
   "metadata": {},
   "outputs": [],
   "source": [
    "from luminositydistance import Cosmology as Cosmo1\n",
    "\n",
    "from lumdist import Cosmology as Cosmo2"
   ]
  },
  {
   "cell_type": "code",
   "execution_count": 3,
   "metadata": {},
   "outputs": [],
   "source": [
    "H0 = 67.8\n",
    "Om = 0.308"
   ]
  },
  {
   "cell_type": "code",
   "execution_count": 4,
   "metadata": {},
   "outputs": [],
   "source": [
    "redshifts = np.linspace(0.1, 8, 10)"
   ]
  },
  {
   "cell_type": "markdown",
   "metadata": {},
   "source": [
    "Lambda CDM \n",
    "---"
   ]
  },
  {
   "cell_type": "code",
   "execution_count": 5,
   "metadata": {},
   "outputs": [
    {
     "name": "stdout",
     "output_type": "stream",
     "text": [
      "[4.74952390e+08 6.60443067e+09 1.45391915e+10 2.32836333e+10\n",
      " 3.25086998e+10 4.20657131e+10 5.18716953e+10 6.18741527e+10\n",
      " 7.20371267e+10 8.23346014e+10]\n",
      "\n",
      "[4.74952390e+08 6.60443067e+09 1.45391915e+10 2.32836333e+10\n",
      " 3.25086998e+10 4.20657131e+10 5.18716953e+10 6.18741527e+10\n",
      " 7.20371267e+10 8.23346014e+10]\n",
      "\n",
      "[ True  True  True  True  True  True  True  True  True  True]\n"
     ]
    }
   ],
   "source": [
    "cosmo1 = Cosmo1()\n",
    "DL1 = cosmo1.luminosity_distance(redshifts=redshifts, model='c', **{'H0':H0, 'Om':Om})\n",
    "\n",
    "\n",
    "cosmo2 = Cosmo2()\n",
    "DL2 = cosmo2.luminosity_distance(redshifts=redshifts, \n",
    "                                 model='FlatLambdaCDM', \n",
    "                                 **{'H0':H0, 'Om':Om})\n",
    "\n",
    "\n",
    "print(DL1)\n",
    "print()\n",
    "print(DL2)\n",
    "print()\n",
    "print(DL1 == DL2)"
   ]
  },
  {
   "cell_type": "code",
   "execution_count": 6,
   "metadata": {},
   "outputs": [
    {
     "data": {
      "text/plain": [
       "['FlatLambdaCDM', 'w0wpCDM', 'w0wpCDM_error', 'w0waCDM', 'weylgravity']"
      ]
     },
     "execution_count": 6,
     "metadata": {},
     "output_type": "execute_result"
    }
   ],
   "source": [
    "cosmo2.models"
   ]
  },
  {
   "cell_type": "markdown",
   "metadata": {},
   "source": [
    "w(z) simpler expansion\n",
    "---"
   ]
  },
  {
   "cell_type": "code",
   "execution_count": 7,
   "metadata": {},
   "outputs": [
    {
     "name": "stdout",
     "output_type": "stream",
     "text": [
      "-1.31\n",
      "1.48\n",
      "-1.31\n",
      "1.48\n",
      "-1.31\n",
      "1.48\n",
      "-1.31\n",
      "1.48\n",
      "-1.31\n",
      "1.48\n",
      "-1.31\n",
      "1.48\n",
      "-1.31\n",
      "1.48\n",
      "-1.31\n",
      "1.48\n",
      "-1.31\n",
      "1.48\n",
      "-1.31\n",
      "1.48\n",
      "[4.80772141e+08 6.52800438e+09 1.35109414e+10 1.99737683e+10\n",
      " 2.55733966e+10 3.07092555e+10 3.56891756e+10 4.06259822e+10\n",
      " 4.55520838e+10 5.04757184e+10]\n",
      "\n",
      "[4.80772141e+08 6.52800438e+09 1.35109414e+10 1.99737683e+10\n",
      " 2.55733966e+10 3.07092555e+10 3.56891756e+10 4.06259822e+10\n",
      " 4.55520838e+10 5.04757184e+10]\n",
      "\n",
      "[ True  True  True  True  True  True  True  True  True  True]\n"
     ]
    }
   ],
   "source": [
    "cosmo1 = Cosmo1()\n",
    "DL1 = cosmo1.luminosity_distance(redshifts=redshifts, model='r', **{'H0':H0, 'Om':Om})\n",
    "\n",
    "\n",
    "cosmo2 = Cosmo2()\n",
    "DL2 = cosmo2.luminosity_distance(redshifts=redshifts, \n",
    "                                 model='w0wpCDM', \n",
    "                                 **{'H0':H0, 'Om':Om})\n",
    "\n",
    "\n",
    "print(DL1)\n",
    "print()\n",
    "print(DL2)\n",
    "print()\n",
    "print(DL1 == DL2)"
   ]
  },
  {
   "cell_type": "code",
   "execution_count": null,
   "metadata": {},
   "outputs": [],
   "source": [
    "from astropy.cosmology import w0wzCDM  # simple expansion: w(z) = w0 + w'z"
   ]
  },
  {
   "cell_type": "code",
   "execution_count": null,
   "metadata": {},
   "outputs": [],
   "source": [
    "redshifts = np.linspace(0.01, 1.0, 10)\n",
    "#redshifts = np.linspace(0.5, 8, 10)\n",
    "\n",
    "cosmo1 = Cosmo1()\n",
    "DL1 = cosmo1.luminosity_distance(redshifts=redshifts, model='r', **{'H0':H0, 'Om':Om})\n",
    "\n",
    "cosmo2 = Cosmo2()\n",
    "DL2 = cosmo2.luminosity_distance(redshifts=redshifts, \n",
    "                                 model='w0wpCDM', \n",
    "                                 **{'H0':H0, 'Om':Om})\n",
    "\n",
    "cosmo = w0wzCDM(H0=H0, Om0=Om, Ode0=1-Om, w0=-1.31, wz=1.48)\n",
    "\n",
    "DL3 = np.asarray(cosmo.luminosity_distance(redshifts).to(u.pc))\n",
    "print(DL1)\n",
    "print(DL2)\n",
    "print(DL3)\n",
    "print(DL2 == DL3)"
   ]
  },
  {
   "cell_type": "code",
   "execution_count": null,
   "metadata": {},
   "outputs": [],
   "source": [
    "redshifts = np.linspace(0.1, 8, 10)\n",
    "\n",
    "cosmo2 = Cosmo2()\n",
    "DL2 = cosmo2.luminosity_distance(redshifts=redshifts, \n",
    "                                 model='w0wpCDM', \n",
    "                                 **{'H0':H0, 'Om':Om})\n",
    "\n",
    "cosmo = w0wzCDM(H0=H0, Om0=Om, Ode0=1-Om, w0=-1.31, wz=1.48)\n",
    "\n",
    "DL3 = np.asarray(cosmo.luminosity_distance(redshifts).to(u.pc))\n",
    "print(DL2)\n",
    "print(DL3)\n",
    "print(DL2 == DL3)"
   ]
  },
  {
   "cell_type": "markdown",
   "metadata": {},
   "source": [
    "its error\n",
    "---"
   ]
  },
  {
   "cell_type": "code",
   "execution_count": null,
   "metadata": {},
   "outputs": [],
   "source": [
    "cosmo1 = Cosmo1()\n",
    "DL1 = cosmo1.luminosity_distance(redshifts=redshifts, model='rerr', **{'H0':H0, 'Om':Om})\n",
    "\n",
    "\n",
    "cosmo2 = Cosmo2()\n",
    "DL2 = cosmo2.luminosity_distance(redshifts=redshifts, \n",
    "                                 model='w0wpCDM_error', \n",
    "                                 **{'H0':H0, 'Om':Om})\n",
    "\n",
    "print(DL1)\n",
    "print(DL2)\n",
    "print(DL1 == DL2)"
   ]
  },
  {
   "cell_type": "markdown",
   "metadata": {},
   "source": [
    "w(2) expansion 2\n",
    "---"
   ]
  },
  {
   "cell_type": "code",
   "execution_count": null,
   "metadata": {},
   "outputs": [],
   "source": [
    "from astropy.cosmology import w0waCDM"
   ]
  },
  {
   "cell_type": "raw",
   "metadata": {},
   "source": [
    "        w0 = -0.9\n",
    "        wa = 0.2"
   ]
  },
  {
   "cell_type": "code",
   "execution_count": null,
   "metadata": {},
   "outputs": [],
   "source": [
    "redshifts = np.linspace(0.1, 8, 10)\n",
    "\n",
    "cosmo2 = Cosmo2()\n",
    "DL2 = cosmo2.luminosity_distance(redshifts=redshifts, \n",
    "                                 model='w0waCDM', \n",
    "                                 **{'H0':H0, 'Om':Om})\n",
    "\n",
    "cosmo = w0waCDM(H0=H0, Om0=Om, Ode0=1-Om, w0=-0.9, wa=0.2)\n",
    "DL3 = np.asarray(cosmo.luminosity_distance(redshifts).to(u.pc))\n",
    "\n",
    "print(DL2)\n",
    "print()\n",
    "print(DL3)\n",
    "print()\n",
    "print(DL2 == DL3)"
   ]
  },
  {
   "cell_type": "markdown",
   "metadata": {},
   "source": [
    "Weyl Gravity\n",
    "---"
   ]
  },
  {
   "cell_type": "code",
   "execution_count": null,
   "metadata": {},
   "outputs": [],
   "source": [
    "cosmo1 = Cosmo1()\n",
    "DL1 = cosmo1.luminosity_distance(redshifts=redshifts, model='w', **{'H0':H0})\n",
    "\n",
    "\n",
    "cosmo2 = Cosmo2()\n",
    "DL2 = cosmo2.luminosity_distance(redshifts=redshifts, \n",
    "                                 model='weylgravity', \n",
    "                                 **{'H0':H0})\n",
    "\n",
    "print(DL1)\n",
    "print(DL2)\n",
    "print(DL1 == DL2)"
   ]
  },
  {
   "cell_type": "code",
   "execution_count": null,
   "metadata": {},
   "outputs": [],
   "source": []
  },
  {
   "cell_type": "code",
   "execution_count": null,
   "metadata": {},
   "outputs": [],
   "source": [
    "# from astropy.cosmology import Planck13 #as Planck13\n",
    "# from astropy.cosmology import Planck15 #as Planck15\n",
    "# from astropy.cosmology import FlatLambdaCDM #as FlatLambdaCDM\n",
    "# from astropy.cosmology import LambdaCDM \n",
    "\n",
    "from astropy.cosmology import w0wzCDM  # simple expansion: w(z) = w0 + w'z\n",
    "from astropy.cosmology import w0waCDM"
   ]
  },
  {
   "cell_type": "code",
   "execution_count": null,
   "metadata": {},
   "outputs": [],
   "source": [
    "cosmo = w0wzCDM(H0=H0, Om0=Om, Ode0=1-Om, w0=-1.31, wz=1.48)\n",
    "cosmo.luminosity_distance(redshifts).to(u.cm)\n",
    "np.asarray(cosmo.luminosity_distance(redshifts).to(u.cm))"
   ]
  },
  {
   "cell_type": "code",
   "execution_count": null,
   "metadata": {},
   "outputs": [],
   "source": []
  },
  {
   "cell_type": "code",
   "execution_count": null,
   "metadata": {},
   "outputs": [],
   "source": []
  },
  {
   "cell_type": "code",
   "execution_count": null,
   "metadata": {},
   "outputs": [],
   "source": []
  },
  {
   "cell_type": "code",
   "execution_count": null,
   "metadata": {},
   "outputs": [],
   "source": []
  },
  {
   "cell_type": "code",
   "execution_count": null,
   "metadata": {},
   "outputs": [],
   "source": [
    "kim = Cosmology()\n",
    "DLs = kim.luminosity_distance(redshifts=redshifts, model='w', **{'H0':H0, 'Om':Om})\n",
    "\n",
    "# DL units are in pc, apply astropy pc units\n",
    "DLs = DLs * u.pc\n",
    "\n",
    "# convert to cm\n",
    "DLs = np.asarray(DLs.to(u.cm))"
   ]
  },
  {
   "cell_type": "code",
   "execution_count": null,
   "metadata": {},
   "outputs": [],
   "source": [
    "DLs"
   ]
  },
  {
   "cell_type": "code",
   "execution_count": null,
   "metadata": {},
   "outputs": [],
   "source": [
    "np.asarray(df.DL3)"
   ]
  },
  {
   "cell_type": "code",
   "execution_count": null,
   "metadata": {},
   "outputs": [],
   "source": [
    "from astropy.cosmology import Planck13 #as Planck13\n",
    "from astropy.cosmology import Planck15 #as Planck15\n",
    "from astropy.cosmology import FlatLambdaCDM #as FlatLambdaCDM\n",
    "from astropy.cosmology import LambdaCDM \n",
    "\n",
    "from astropy.cosmology import w0wzCDM  # simple expansion: w(z) = w0 + w'z\n",
    "from astropy.cosmology import w0waCDM"
   ]
  },
  {
   "cell_type": "code",
   "execution_count": null,
   "metadata": {},
   "outputs": [],
   "source": [
    "cosmo = FlatLambdaCDM(H0=H0, Om0=Om)\n",
    "cosmo.luminosity_distance(redshifts).to(u.cm)\n",
    "np.asarray(cosmo.luminosity_distance(redshifts).to(u.cm))"
   ]
  },
  {
   "cell_type": "code",
   "execution_count": null,
   "metadata": {},
   "outputs": [],
   "source": [
    "df.DL1.values"
   ]
  },
  {
   "cell_type": "markdown",
   "metadata": {},
   "source": [
    "w0wzCDM\n",
    "---"
   ]
  },
  {
   "cell_type": "code",
   "execution_count": null,
   "metadata": {},
   "outputs": [],
   "source": [
    "cosmo = w0wzCDM(H0=H0, Om0=Om, Ode0=1-Om, w0=-1.31, wz=1.48)\n",
    "cosmo.luminosity_distance(redshifts).to(u.cm)\n",
    "np.asarray(cosmo.luminosity_distance(redshifts).to(u.cm))"
   ]
  },
  {
   "cell_type": "code",
   "execution_count": null,
   "metadata": {},
   "outputs": [],
   "source": [
    "kim = Cosmology()\n",
    "DLs = kim.luminosity_distance(redshifts=redshifts, model='r', **{'H0':H0, 'Om':Om})\n",
    "# DL units are in pc, apply astropy pc units\n",
    "DLs = DLs * u.pc\n",
    "# convert to cm\n",
    "DLs = np.asarray(DLs.to(u.cm))\n",
    "DLs"
   ]
  },
  {
   "cell_type": "code",
   "execution_count": null,
   "metadata": {},
   "outputs": [],
   "source": [
    "df.DL2.values"
   ]
  },
  {
   "cell_type": "code",
   "execution_count": null,
   "metadata": {},
   "outputs": [],
   "source": []
  },
  {
   "cell_type": "code",
   "execution_count": null,
   "metadata": {},
   "outputs": [],
   "source": []
  },
  {
   "cell_type": "code",
   "execution_count": null,
   "metadata": {},
   "outputs": [],
   "source": [
    "df.DL3"
   ]
  },
  {
   "cell_type": "code",
   "execution_count": null,
   "metadata": {},
   "outputs": [],
   "source": [
    "np.asarray(Planck15.luminosity_distance(redshifts).to(u.cm))"
   ]
  },
  {
   "cell_type": "code",
   "execution_count": null,
   "metadata": {},
   "outputs": [],
   "source": [
    "FlatLambdaCDM.H0 = 67.8\n",
    "FlatLambdaCDM.Om = 0.308"
   ]
  },
  {
   "cell_type": "code",
   "execution_count": null,
   "metadata": {},
   "outputs": [],
   "source": [
    "np.asarray(FlatLambdaCDM.luminosity_distance(redshifts).to(u.cm))"
   ]
  },
  {
   "cell_type": "code",
   "execution_count": null,
   "metadata": {},
   "outputs": [],
   "source": []
  },
  {
   "cell_type": "code",
   "execution_count": null,
   "metadata": {},
   "outputs": [],
   "source": [
    "w0wzCDM.luminosity_distance(z=redshifs.values[0])"
   ]
  },
  {
   "cell_type": "code",
   "execution_count": null,
   "metadata": {},
   "outputs": [],
   "source": [
    "redshifs.values"
   ]
  },
  {
   "cell_type": "code",
   "execution_count": null,
   "metadata": {},
   "outputs": [],
   "source": []
  }
 ],
 "metadata": {
  "kernelspec": {
   "display_name": "Python 3",
   "language": "python",
   "name": "python3"
  },
  "language_info": {
   "codemirror_mode": {
    "name": "ipython",
    "version": 3
   },
   "file_extension": ".py",
   "mimetype": "text/x-python",
   "name": "python",
   "nbconvert_exporter": "python",
   "pygments_lexer": "ipython3",
   "version": "3.7.0"
  }
 },
 "nbformat": 4,
 "nbformat_minor": 2
}
